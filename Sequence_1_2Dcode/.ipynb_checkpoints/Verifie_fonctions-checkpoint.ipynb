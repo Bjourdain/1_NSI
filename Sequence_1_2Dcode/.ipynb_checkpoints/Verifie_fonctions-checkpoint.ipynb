{
 "cells": [
  {
   "cell_type": "markdown",
   "metadata": {},
   "source": [
    "# <center><font face=\"arial\" size=\"5\" color=#0101DF>NUMERIQUE ET SCIENCES INFORMATIQUES 1ère NSI</font></center>"
   ]
  },
  {
   "cell_type": "markdown",
   "metadata": {},
   "source": [
    "## <font color=#013ADF>Vérifions nos fonctions</font>"
   ]
  },
  {
   "cell_type": "markdown",
   "metadata": {},
   "source": [
    "Vous venez de prendre du temps pour développer une fonction. Est-elle correcte ? Vous avez fait des essais, mais y a t-il un cas où la fonction va retourner un résultat faux ?"
   ]
  },
  {
   "cell_type": "markdown",
   "metadata": {},
   "source": [
    ">Après avoir consulté la fonction ci-dessous, exécutez la."
   ]
  },
  {
   "cell_type": "code",
   "execution_count": null,
   "metadata": {},
   "outputs": [],
   "source": [
    "def test_parite(nb:int)-> bool:\n",
    "    \"\"\"\n",
    "    Cette fonction reçoit en entrée un nombre entier.\n",
    "    Elle teste si ce nombre est pair\n",
    "    puis renvoit en sortie 1 ou 0.\n",
    "    Précondition : Le nombre doit être entier.\n",
    "    Postcondition : 0 si pair, 1 si impair\n",
    "    Tests :\n",
    "    >>> test_parite(8)\n",
    "    0\n",
    "    >>> test_parite(7)\n",
    "    1\n",
    "    \"\"\"\n",
    "    assert type(nb)==int,'Le nombre doit être un entier'\n",
    "    return nb%2"
   ]
  },
  {
   "cell_type": "markdown",
   "metadata": {},
   "source": [
    "Exécutez maintenant, les 3 cellules de code ci-dessous."
   ]
  },
  {
   "cell_type": "code",
   "execution_count": null,
   "metadata": {},
   "outputs": [],
   "source": [
    "import doctest\n",
    "doctest.testmod()"
   ]
  },
  {
   "cell_type": "code",
   "execution_count": null,
   "metadata": {},
   "outputs": [],
   "source": [
    "import doctest\n",
    "doctest.testmod(verbose = True)"
   ]
  },
  {
   "cell_type": "code",
   "execution_count": null,
   "metadata": {},
   "outputs": [],
   "source": [
    "help(test_parite)"
   ]
  },
  {
   "cell_type": "markdown",
   "metadata": {},
   "source": [
    "Modifier maintenant le second test de parité : remplacez 1 par 0 et relancez les tests !"
   ]
  },
  {
   "cell_type": "markdown",
   "metadata": {},
   "source": [
    "Pratique pour valider ses fonctions. Vous voyez que le docstring en plus de renseigner l'utilisateur sur le mode d'emploi de la fonction, va permettre de faire des tests."
   ]
  }
 ],
 "metadata": {
  "kernelspec": {
   "display_name": "Python 3",
   "language": "python",
   "name": "python3"
  },
  "language_info": {
   "codemirror_mode": {
    "name": "ipython",
    "version": 3
   },
   "file_extension": ".py",
   "mimetype": "text/x-python",
   "name": "python",
   "nbconvert_exporter": "python",
   "pygments_lexer": "ipython3",
   "version": "3.7.7"
  },
  "varInspector": {
   "cols": {
    "lenName": 16,
    "lenType": 16,
    "lenVar": 40
   },
   "kernels_config": {
    "python": {
     "delete_cmd_postfix": "",
     "delete_cmd_prefix": "del ",
     "library": "var_list.py",
     "varRefreshCmd": "print(var_dic_list())"
    },
    "r": {
     "delete_cmd_postfix": ") ",
     "delete_cmd_prefix": "rm(",
     "library": "var_list.r",
     "varRefreshCmd": "cat(var_dic_list()) "
    }
   },
   "types_to_exclude": [
    "module",
    "function",
    "builtin_function_or_method",
    "instance",
    "_Feature"
   ],
   "window_display": false
  }
 },
 "nbformat": 4,
 "nbformat_minor": 2
}
