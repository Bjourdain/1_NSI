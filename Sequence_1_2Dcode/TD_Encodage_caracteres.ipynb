{
 "cells": [
  {
   "cell_type": "markdown",
   "metadata": {},
   "source": [
    "# <center><font face=\"arial\" size=\"5\" color=#0101DF>NUMERIQUE ET SCIENCES INFORMATIQUES 1ère NSI</font></center>"
   ]
  },
  {
   "cell_type": "markdown",
   "metadata": {},
   "source": [
    "## <font color=#013ADF>TD encodage des caractères</font>"
   ]
  },
  {
   "cell_type": "markdown",
   "metadata": {},
   "source": [
    "### Défi 1 :"
   ]
  },
  {
   "cell_type": "markdown",
   "metadata": {},
   "source": [
    "Représenter en binaire le point de code des caractères \"a, à, α et ☯\" encodé en UTF-8."
   ]
  },
  {
   "cell_type": "markdown",
   "metadata": {},
   "source": [
    "<div class=\"alert alert-warning\">\n",
    "<img src=\"Images/CR.png\" alt=\"logo CR\" width=5% align=right>\n",
    "\n",
    "| Caractère| Point de code (hexa) | Codage binaire UTF-8  |\n",
    "| :--- |---:| ---:|\n",
    "|a| 0x61  |                |\n",
    "|à| 0xE0       |                |\n",
    "|α| 0x03B1       |                      |\n",
    "|☯| 0x262F       |                    |\n",
    "<div>"
   ]
  },
  {
   "cell_type": "markdown",
   "metadata": {},
   "source": [
    "<div class=\"alert alert-success\" role=\"alert\">\n",
    "    \n",
    "Pour vérifier et/ou s'entraîner: <http://hapax.qc.ca/conversion.fr.html>\n",
    "<div>"
   ]
  },
  {
   "cell_type": "markdown",
   "metadata": {},
   "source": [
    "###  Défi 2 :"
   ]
  },
  {
   "cell_type": "markdown",
   "metadata": {},
   "source": [
    "<div class=\"alert alert-warning\">\n",
    "<img src=\"Images/CR.png\" alt=\"logo CR\" width=5% align=right>\n",
    "\n",
    "Écrire dans un fichier texte, la phrase suivante :  Depuis le passage à l'Euro (€), le coût de la vie a augmenté.\n",
    "\n",
    "Nous allons faire une radioscopie de ce fichier. Ouvrir le fichier sauvegardé précédemment avec un éditeur hexadécimal (<https://hexed.it/>) et visualiser l’encodage des caractères.\n",
    "\n",
    "- Quel est le point de code du caractère € ?\n",
    "- Comment est décodé le fichier si l'on choisit l'encodage ISO8859-1 ?\n",
    "<div>"
   ]
  },
  {
   "cell_type": "markdown",
   "metadata": {},
   "source": [
    "### **3-3)** Défi 3 :"
   ]
  },
  {
   "cell_type": "markdown",
   "metadata": {},
   "source": [
    "<div class=\"alert alert-warning\">\n",
    "<img src=\"Images/CR.png\" alt=\"logo CR\" width=5% align=right>\n",
    "\n",
    "Concevez un éditeur hexadécimal qui affiche les valeurs hexadécimales des caractères contenus dans une variable de type \"String\" par ligne de 10 octets.On donne ci-dessous la chaine de caractères.\n",
    "<div>"
   ]
  },
  {
   "cell_type": "code",
   "execution_count": null,
   "metadata": {},
   "outputs": [],
   "source": [
    "#!/usr/bin/env python3\n",
    "# -*- coding: utf-8 -*-\n",
    "\"\"\"\n",
    "Created on Mon Apr 29 15:08:18 2019\n",
    "\n",
    "\"\"\"\n",
    "\n",
    "texte=\"Depuis le passage à l'euro (€), le coût de La vie a augmenté.\""
   ]
  },
  {
   "cell_type": "markdown",
   "metadata": {},
   "source": [
    "### **3-4)** Défi 4 :"
   ]
  },
  {
   "cell_type": "markdown",
   "metadata": {},
   "source": [
    "<div class=\"alert alert-warning\">\n",
    "<img src=\"Images/CR.png\" alt=\"logo CR\" width=5% align=right>\n",
    "\n",
    "Concevez un éditeur de texte qui interprète un fichier hexadécimal représentant un texte encodé en UTF-8. On fournit ci-dessous le contenu de la variable \"memoire\".\n",
    "<div>"
   ]
  },
  {
   "cell_type": "code",
   "execution_count": null,
   "metadata": {},
   "outputs": [],
   "source": [
    "#!/usr/bin/env python3\n",
    "# -*- coding: utf-8 -*-\n",
    "\"\"\"\n",
    "Created on Mon Apr 29 15:13:12 2019\n",
    "\n",
    "\"\"\"\n",
    "\n",
    "memoire= 0x44,0x65,0x70,0x75,0x69,0x73,0x20,0x6c,0x65,0x20,0x70,0x61,0x73,0x73,0x61,0x67,0x65,0x20,0xe0,0x20,0x6c,0x27,0x65,0x75,0x72,0x6f,0x20,0x28,0x20ac,0x29,0x2c,0x20,0x6c,0x65,0x20,0x63,0x6f,0xfb,0x74,0x20,0x64,0x65,0x20,0x6c,0x61,0x20,0x76,0x69,0x65,0x20,0x61,0x20,0x61,0x75,0x67,0x6d,0x65,0x6e,0x74,0xe9,0x2e"
   ]
  }
 ],
 "metadata": {
  "kernelspec": {
   "display_name": "Python 3",
   "language": "python",
   "name": "python3"
  },
  "language_info": {
   "codemirror_mode": {
    "name": "ipython",
    "version": 3
   },
   "file_extension": ".py",
   "mimetype": "text/x-python",
   "name": "python",
   "nbconvert_exporter": "python",
   "pygments_lexer": "ipython3",
   "version": "3.7.7"
  },
  "varInspector": {
   "cols": {
    "lenName": 16,
    "lenType": 16,
    "lenVar": 40
   },
   "kernels_config": {
    "python": {
     "delete_cmd_postfix": "",
     "delete_cmd_prefix": "del ",
     "library": "var_list.py",
     "varRefreshCmd": "print(var_dic_list())"
    },
    "r": {
     "delete_cmd_postfix": ") ",
     "delete_cmd_prefix": "rm(",
     "library": "var_list.r",
     "varRefreshCmd": "cat(var_dic_list()) "
    }
   },
   "types_to_exclude": [
    "module",
    "function",
    "builtin_function_or_method",
    "instance",
    "_Feature"
   ],
   "window_display": false
  }
 },
 "nbformat": 4,
 "nbformat_minor": 2
}
