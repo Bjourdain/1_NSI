{
 "cells": [
  {
   "cell_type": "markdown",
   "metadata": {},
   "source": [
    "# <center><font face=\"arial\" size=\"5\" color=#0101DF>NUMERIQUE ET SCIENCES INFORMATIQUES 1ère NSI</font></center>"
   ]
  },
  {
   "cell_type": "markdown",
   "metadata": {},
   "source": [
    "\n",
    "## <font color=#013ADF>PRISE EN MAIN D'UN SYSTÈME GNU/LINUX : partie 1/2</font>"
   ]
  },
  {
   "cell_type": "markdown",
   "metadata": {},
   "source": [
    "## 1-Historique GNU/LINUX\n",
    "\n",
    "\n",
    "**1964** : MIT (Massachusetts Institute of Technology, Bell Labs de AT&T, General Electric → Développement du projet MULTICS (MULTiplexed Information and Computing Service) qui devra permettre de :\n",
    "\n",
    "\t- Pouvoir être utilisé par plusieurs personnes à la fois ;\n",
    "\t- Pouvoir lancer des traitements en tâche de fond ;\n",
    "\t- Accroitre la sécurité.\n",
    "\n",
    "**1969** : Résultats du projet décevant → retrait de AT&T\n",
    "\n",
    "- Poursuite du projet par Ken THOMPSON, Dennis RITCHIE, Rudd CANADAY du laboratoire Bell Labs sans soutien financier : renommage du projet UNICS (Uniplexed Information and Computing Service), puis UNIX.\n",
    "- Retour de AT&T pour le financement\n",
    "\n",
    "<img src=\"Images/Ritchie_thompson.png\" alt=\"Ritchie Thompson\" style=\"zoom:50%;\" />\n",
    "\n",
    "**1970** : Première utilisation officielle de la dénomination UNIX OS (Operating System).\n",
    "\n",
    "**1973** : Réécriture d'UNIX en langage C pour améliorer sa portablilité.\n",
    "\n",
    "**1974** : Diffusion sous license peu restrictive. Les universités américaines contribuent fortement à la diffusion et son amélioration.\n",
    "\n",
    "**1978** : \n",
    "\n",
    "- UNIX V7\n",
    "- AT&T rend la licence d'UNIX plus restrictive.\n",
    "- Les universités dont celle de Californie BERKELEY poursuivent leurs développements avec des versions antérieures → (BSD : Berkley Software Distribution) et publie sous licence Open Source.\n",
    "\n",
    "**1980-1994** : C'est la guerre ... des versions d'UNIX (commerciale AT&T, Open Source BSD)\n",
    "\n",
    "**1983** : Création du projet GNU (GNU is Not Unix) par Richard STALLMAN\n",
    "\n",
    "**1985** : Création de la Free Software Foundation par Richard STALLMAN\n",
    "\n",
    "<img src=\"Images/Stallman.png\" alt=\"Stallman\" style=\"zoom:50%;\" />\n",
    "Un logiciel est libre si et seulement si sa licence garantit les quatre libertés fondamentales :\n",
    "\n",
    "- la liberté d'utiliser le logiciel\n",
    "- la liberté de copier le logiciel\n",
    "- la liberté d'étudier le logiciel\n",
    "- la liberté de modifier le logiciel et de redistribuer les versions modifiées\n",
    "\n",
    "**1988** : \n",
    "\n",
    "- Standardisation de UNIX (tout ce que UNIX doit contenir : commandes de base, interpréteur de commandes, interfaces utilisateur, ...).\n",
    "- Norme IEEE 1003 aussi appelée POSIX (Portable Operating System Interface et le X ... pour UNIX !) .\n",
    "- Tout éditeur de système UNIX (commercial ou gratuit) désirant assurer une compatibilité avec l'ensemble des UNIX doit implémenter ce standart (la programmation restant libre)\n",
    "\n",
    "**1991** : Création du noyau LINUX par Linus TORVALDS. Les autres outils nécessaires ont déjà été développés par le projet GNU\n",
    "\n",
    "<img src=\"Images/Torvalds.png\" alt=\"Torvalds\" style=\"zoom:50%;\" />\n",
    "\n",
    "**1992** : Fonctionnement de l'interface graphique X11\n",
    "\n",
    "**1994-1997** : Apparition  des grandes distributions de LINUX (Red Hat, Debian, SuSE ...)\n",
    "\n",
    "**1996** : Création de la mascotte Tux <img src=\"Images/tux.png\" alt=\"Tux\" style=\"zoom:50%;\" />\n",
    "\n",
    "**2011** : noyau 3.0. Linux à 20 ans\n"
   ]
  },
  {
   "cell_type": "markdown",
   "metadata": {},
   "source": [
    "## 2- Arborescence du système (exemple)\n",
    "\n",
    "![TREE](Images/arborescence.png)\n",
    "\n",
    "*Quelles remarques sur l'image ci-dessus :*\n",
    "\n",
    "- */ désigne le répertoire racine*\n",
    "- */home/user est le répertoire personnel de l'utilisateur \"user\" : \"user\" n'a pas accès à \"alix\"*\n",
    "- *Les fichiers n'ont pas forcement une extension (biberon)*\n",
    "- *Les fichiers commençant par un . sont des fichiers cachés*\n",
    "\n",
    "Le nom d'un chemin (path) d'un fichier est la concaténation depuis la racine de tous les répertoires qu'il est nécessaire de travaerser pour y accéder, chacun étant séparé par le caractère /. C'est un `chemin absolu`.\n",
    "\n",
    "Exemple de chemin absolu au fichier \"cours.pdf\" : /home/alix/Documents/cours.pdf\n",
    "\n",
    "Un chemin absolu :\n",
    "\n",
    "- démarre à la racine → commence par /\n",
    "- ne contient pas de . ni de ..\n",
    "\n",
    "Le nom de chemin peut aussi être `relatif` à sa position courante dans un répertoire. Vous pouvez accéder à un autre répertoire en spécifiant le chemin le plus court relatif à à la situation actuelle de l'arborescence. On utilise souvent 2 entrées particulières de répertoire :\n",
    "\n",
    "- . qui désigne le répertoire courant (actuel)\n",
    "- .. qui désigne le répertoire parent au répertoire actuel\n",
    "\n",
    "Exemple de chemin relatif  au fichier \"cours.pdf\" : \n",
    "\n",
    "- si le répertoire courant est **alix** : \n",
    "\n",
    "  - ./Documents/cours.pdf\n",
    "\n",
    "    ou\n",
    "    \n",
    "\n",
    "  - Documents/cours.pdf *(Documents étant considéré existant dans le répertoire courant)*\n",
    "\n",
    "- si le répertoire courant est **Musique** : \n",
    "\n",
    "  - ../Documents/cours.pdf"
   ]
  },
  {
   "cell_type": "markdown",
   "metadata": {},
   "source": [
    "<div class=\"alert alert-warning\">\n",
    "<img src=\"Images/CR.png\" alt=\"logo CR\" width=5% align=right>\n",
    "\n",
    "**Exercices**\n",
    "\n",
    "- Quel est le chemin absolu pour référencer le fichier `« girafe.png »` ?\n",
    "\n",
    "  \n",
    "\n",
    "- Si le répertoire courant est `/home/user` quel est le chemin relatif vers « index.html » ?\n",
    "\n",
    "  \n",
    "\n",
    "- Si le répertoire courant est ` /home/user/Images`, quel est le chemin relatif vers « Jjkel.mp4 »?\n",
    "\n",
    "  \n",
    "\n",
    "- Si le répertoire courant est `/home/user/Images/Vacances`, quel est le chemin relatif vers «rapport.pdf » ?\n",
    "\n",
    "  \n"
   ]
  },
  {
   "cell_type": "markdown",
   "metadata": {},
   "source": [
    "## 3- La console ou terminal\n",
    "\n",
    "![console](Images/console.png)\n",
    "\n",
    "- Le nom de l'utilisateur : user\n",
    "- Le nom de la machine : debian\n",
    "- Le nom du répertoire courant : ~ (tilde équivalent ici à /home/user)\n",
    "- L'invite de commande : $\n",
    "\n",
    "Certaines commandes sont fastidieuses à taper, il faut bien le reconnaître. Pour vous aider :\n",
    "\n",
    "- La touche`Tab`active l'autocomplétion\n",
    "- Les flèches `↑ ` et `↓ ` rappellent les commandes précédentes qui sont mémorisées (même après arrêt de la machine)\n",
    "\n",
    "## 4- Les commandes de base\n",
    "\n",
    "**Objectif** : Créer l'arborescence décrite par l'image ci-dessous en ligne de commande. On va plus ou moins volontairement commettre quelques erreurs pour apprendre comment les rectifier ...\n",
    "\n",
    "![travail_demande](Images/travail_demande.png)\n",
    "\n",
    "*Remarques  :*\n",
    "\n",
    "- *Les répertoires en noir ont déjà été créés à l'installation du système ou par vous.*\n",
    "\n",
    "- *Seules sont décrites ici les commandes les plus courantes*\n",
    "- *Les commandes peuvent recevoir des options (-a, l, ...). Pour avoir la documentation complète, tapez en ligne de commande : man commande. Exemple : man ls*\n",
    "- (*) est un caractère joker (wildcard). Il représente n'importe quel nombre de caractère y compris 0 caractère.\n",
    "\n",
    "**Si vous lisez ceci c'est que vous êtes loggé sur le serveur JUPYTER.**\n",
    "\n",
    "### 4-1 Ouvrir un terminal (Nouveau, Terminal) et vérifions où nous sommes.\n",
    "\n",
    "- Tapez la commande `pwd ` "
   ]
  },
  {
   "cell_type": "markdown",
   "metadata": {},
   "source": [
    "<div class=\"alert alert-warning\">\n",
    "<img src=\"Images/CR.png\" alt=\"logo CR\" width=5% align=right>\n",
    "\n",
    "Réponse du système :"
   ]
  },
  {
   "cell_type": "markdown",
   "metadata": {},
   "source": [
    "### 4-2 Que contient ce répertoire ?\n",
    "\n",
    "- Tapez la commande `ls ` "
   ]
  },
  {
   "cell_type": "markdown",
   "metadata": {},
   "source": [
    "<div class=\"alert alert-warning\">\n",
    "<img src=\"Images/CR.png\" alt=\"logo CR\" width=5% align=right>\n",
    "\n",
    "Réponse du système :"
   ]
  },
  {
   "cell_type": "markdown",
   "metadata": {},
   "source": [
    "- N'y aurait-il pas des fichiers câchés ? Tapez la commande `ls -a` "
   ]
  },
  {
   "cell_type": "markdown",
   "metadata": {},
   "source": [
    "<div class=\"alert alert-warning\">\n",
    "<img src=\"Images/CR.png\" alt=\"logo CR\" width=5% align=right>\n",
    "\n",
    "Réponse du système :"
   ]
  },
  {
   "cell_type": "markdown",
   "metadata": {},
   "source": [
    "- Tous ces répertoires et fichiers ont-ils le même statut ? Tapez la commande `ls -al` "
   ]
  },
  {
   "cell_type": "markdown",
   "metadata": {},
   "source": [
    "<div class=\"alert alert-warning\">\n",
    "<img src=\"Images/CR.png\" alt=\"logo CR\" width=5% align=right>\n",
    "\n",
    "Réponse du système "
   ]
  },
  {
   "cell_type": "markdown",
   "metadata": {},
   "source": [
    "On arrête là avec les options !"
   ]
  },
  {
   "cell_type": "markdown",
   "metadata": {},
   "source": [
    "### 4-3 Changer de répertoire courant\n",
    "\n",
    "Pour ce déplacer dans une répertoire particulier, il faut taper la commande `cd ` suivie du chemin absolu ou relatif du répertoire où l'on veut aller.\n",
    "\n",
    "- Déplacez vous dans le répertoire Documents\n",
    "\n",
    "- À tester :\n",
    "\n",
    "  cd ~  ou cd : allez au répertoire home de l'utilisateur\n",
    "\n",
    "  cd - : retourne au répertoire précédent\n",
    "\n",
    "  cd .. : retourne au répertoire parent du répertoire courant\n",
    "  \n",
    "  cd / : retour au répertoire racine"
   ]
  },
  {
   "cell_type": "markdown",
   "metadata": {},
   "source": [
    "### 4-4 Créer un répertoire\n",
    "\n",
    "Pour créer un répertoire, on utilise la commande `mkdir ` suivi du chemin absolu ou relatif du répertoire que l'on veut créer."
   ]
  },
  {
   "cell_type": "markdown",
   "metadata": {},
   "source": [
    "<div class=\"alert alert-warning\">\n",
    "<img src=\"Images/CR.png\" alt=\"logo CR\" width=5% align=right>\n",
    "\n",
    "- Créez **à partir du répertoire courant** (/home/jupyter-votre_username/Documents), les répertoires Doc_prof, Doc_élèves, Exercices, Cours.\n",
    "\n",
    "(souvenez vous des flèches `↑ ` et `↓ `)\n",
    "\n",
    "Quelles sont les syntaxes possibles ?\n",
    "\n"
   ]
  },
  {
   "cell_type": "markdown",
   "metadata": {},
   "source": [
    "J'aurais souhaité ne pas mettre l'underscore dans le nom du répertoire Doc_prof, mais plutôt l'écrire sous la forme Doc prof."
   ]
  },
  {
   "cell_type": "markdown",
   "metadata": {},
   "source": [
    "<div class=\"alert alert-warning\">\n",
    "<img src=\"Images/CR.png\" alt=\"logo CR\" width=5% align=right>\n",
    "\n",
    "- Créez ce répertoire. Que constatez-vous ?\n"
   ]
  },
  {
   "cell_type": "markdown",
   "metadata": {},
   "source": [
    "Nous ferons le ménage plus tard !"
   ]
  },
  {
   "cell_type": "markdown",
   "metadata": {},
   "source": [
    "### 4-5 Créer des fichiers\n",
    "\n",
    "On va créer les fichiers \"exercices 1 et 2\" avec l'extension \".txt\"\n",
    "\n",
    "- Placez vous dans le répertoire `Exercices`\n",
    "\n",
    "- Tapez la commande `touch exercice1.txt`\n",
    "\n",
    "- Vérifiez la création\n",
    "\n",
    "  Le fichier est vide. Nous allons écrire dans le fichier le message suivant : exercice sur Linux\n",
    "\n",
    "- Tapez la commande `echo \"exercice sur Linux\" > exercice1.txt`\n",
    "\n",
    "- Éditez son contenu avec la commande `cat exercice1.txt`\n",
    "\n",
    "- Faites de même pour le fichier \"exercice2.txt\" avec un message quelconque\n",
    "\n",
    "On va utiliser un éditeur de texte disponible dans la distribution \"nano\" pour créer \"cours1.txt\"\n",
    "\n",
    "- Placez vous dans le répertoire `Cours`\n",
    "- Tapez la commande `nano cours1.txt`, écrire un message quelconque et sauvegardez"
   ]
  },
  {
   "cell_type": "markdown",
   "metadata": {},
   "source": [
    "### 4-6 Copier répertoire et fichier\n",
    "\n",
    "Compte tenu de la qualité du contenu des cours et exercices que vous venez de produire, on va se contenter de copier les fichiers en les renommant éventuellement.\n",
    "\n",
    "Nous allons faire une copie du fichier \"cours1.txt\" en le renommant \"cours2.txt\"\n",
    "\n",
    "- Tapez la commande `cp cours1.txt cours2.txt`\n",
    "- Vérifiez le contenu du répertoire\n",
    "\n",
    "La syntaxe globale de cp est la suivante : cp option chemin origine chemin destination\n",
    "\n",
    "options :\n",
    "\n",
    "-i : contrôle de la copie (pas d'écrasement si existence du même fichier)\n",
    "\n",
    "-r : récursif (répertoire et fichier)\n",
    "\n",
    "On veut copier tous les documents produits dans le répertoire Doc_élèves\n",
    "\n",
    "- Imaginez une commande en une seule ligne pour faire toutes les copies et indiquez dans quel répertoire elle est lancée (pas de nécéssité d'option)"
   ]
  },
  {
   "cell_type": "markdown",
   "metadata": {},
   "source": [
    "<div class=\"alert alert-warning\">\n",
    "<img src=\"Images/CR.png\" alt=\"logo CR\" width=5% align=right>\n",
    "\n",
    "Répertoire :\n",
    "\n",
    "Commande :\n",
    "\n",
    "Répertoire :\n",
    "\n",
    "Commande :"
   ]
  },
  {
   "cell_type": "markdown",
   "metadata": {},
   "source": [
    "- Après vous êtes assuré que la copie a bien eu lieu, relancer la commande en rajoutant l'option -i\n",
    "\n",
    "On va maintenant procéder à un archivage de vos documents (création du répertoire \"Archives\", de son arborescence et copie de tous les documents.\n",
    "\n",
    "- Faites au mieux, c'est à dire au plus rapide !"
   ]
  },
  {
   "cell_type": "markdown",
   "metadata": {},
   "source": [
    "<div class=\"alert alert-warning\">\n",
    "<img src=\"Images/CR.png\" alt=\"logo CR\" width=5% align=right>\n",
    "\n",
    "Répertoire :\n",
    "\n",
    "Commande(s) :"
   ]
  },
  {
   "cell_type": "markdown",
   "metadata": {},
   "source": [
    "Hélas, on a copié également les répertoires \"Doc\" et \"prof\". On va s'en servir pour quelques expériences.\n"
   ]
  },
  {
   "cell_type": "markdown",
   "metadata": {},
   "source": [
    "### 4-7 Renommer et/ou déplacer répertoire et fichier\n",
    "\n",
    "La commande `mv` permet de faire les 2 traitements. La structure de la commande est similiaire à cp\n",
    "\n",
    "Dans le répertoire Archives, renommer le répertoire \"Doc\" en \"document\"\n",
    "\n",
    "- Tapez la commande `mv Doc document`\n",
    "- Déplacez maintenant document dans prof"
   ]
  },
  {
   "cell_type": "markdown",
   "metadata": {},
   "source": [
    "<div class=\"alert alert-warning\">\n",
    "<img src=\"Images/CR.png\" alt=\"logo CR\" width=5% align=right>\n",
    "\n",
    "Répertoire : Archives\n",
    "\n",
    "Commande :"
   ]
  },
  {
   "cell_type": "markdown",
   "metadata": {},
   "source": [
    "- Créez un fichier dans le répertoire `prof` que vous appelerez \"essai\"\n",
    "\n",
    "- Renommez le fichier \"essai\" en \"test\" et le déplacez dans \"Archives\""
   ]
  },
  {
   "cell_type": "markdown",
   "metadata": {},
   "source": [
    "<div class=\"alert alert-warning\">\n",
    "<img src=\"Images/CR.png\" alt=\"logo CR\" width=5% align=right>\n",
    "\n",
    "Répertoire : Archives\n",
    "\n",
    "Commande :"
   ]
  },
  {
   "cell_type": "markdown",
   "metadata": {},
   "source": [
    "### 4-8 Supprimer répertoire et fichier\n",
    "\n",
    "On peut supprimer un répertoire vide avec la commande `rmdir` suivie du nom du répertoire\n",
    "\n",
    "- Supprimez les répertoires Doc et prof présents dans le répertoire \"Documents\""
   ]
  },
  {
   "cell_type": "markdown",
   "metadata": {},
   "source": [
    "<div class=\"alert alert-warning\">\n",
    "<img src=\"Images/CR.png\" alt=\"logo CR\" width=5% align=right>\n",
    "\n",
    "Répertoire : Archives\n",
    "\n",
    "Commande :"
   ]
  },
  {
   "cell_type": "markdown",
   "metadata": {},
   "source": [
    "On peut supprimer un fichier ou un répertoire avec la commande `rm ` suivie du nom du répertoire ou fichier\n",
    "\n",
    "- Supprimez le fichier \"test\" présent dans le répertoire \"Archives\""
   ]
  },
  {
   "cell_type": "markdown",
   "metadata": {},
   "source": [
    "<div class=\"alert alert-warning\">\n",
    "<img src=\"Images/CR.png\" alt=\"logo CR\" width=5% align=right>\n",
    "\n",
    "Répertoire : Archives\n",
    "\n",
    "Commande :"
   ]
  },
  {
   "cell_type": "markdown",
   "metadata": {},
   "source": [
    "- Tentons de supprimer le répertoire \"prof\", mais il n'est pas vide"
   ]
  },
  {
   "cell_type": "markdown",
   "metadata": {},
   "source": [
    "<div class=\"alert alert-warning\">\n",
    "<img src=\"Images/CR.png\" alt=\"logo CR\" width=5% align=right>\n",
    "\n",
    "Répertoire : Archives\n",
    "\n",
    "Commande :\n",
    "\n",
    "Réponse du système :"
   ]
  },
  {
   "cell_type": "markdown",
   "metadata": {},
   "source": [
    "- Utilisez l'arme de destruction massive : `rm -r prof` (r pour récursif)\n",
    "\n",
    "Encore mieux : `rm -fr prof`(suppression sans confirmation des fichiers protégés en écriture)"
   ]
  }
 ],
 "metadata": {
  "kernelspec": {
   "display_name": "Python 3",
   "language": "python",
   "name": "python3"
  },
  "language_info": {
   "codemirror_mode": {
    "name": "ipython",
    "version": 3
   },
   "file_extension": ".py",
   "mimetype": "text/x-python",
   "name": "python",
   "nbconvert_exporter": "python",
   "pygments_lexer": "ipython3",
   "version": "3.8.3"
  },
  "varInspector": {
   "cols": {
    "lenName": 16,
    "lenType": 16,
    "lenVar": 40
   },
   "kernels_config": {
    "python": {
     "delete_cmd_postfix": "",
     "delete_cmd_prefix": "del ",
     "library": "var_list.py",
     "varRefreshCmd": "print(var_dic_list())"
    },
    "r": {
     "delete_cmd_postfix": ") ",
     "delete_cmd_prefix": "rm(",
     "library": "var_list.r",
     "varRefreshCmd": "cat(var_dic_list()) "
    }
   },
   "types_to_exclude": [
    "module",
    "function",
    "builtin_function_or_method",
    "instance",
    "_Feature"
   ],
   "window_display": false
  }
 },
 "nbformat": 4,
 "nbformat_minor": 2
}
