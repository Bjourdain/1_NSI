{
 "cells": [
  {
   "cell_type": "markdown",
   "metadata": {},
   "source": [
    "# <center><font face=\"arial\" size=\"5\" color=#0101DF>NUMERIQUE ET SCIENCES INFORMATIQUES 1ère NSI</font></center>"
   ]
  },
  {
   "cell_type": "markdown",
   "metadata": {},
   "source": [
    "## <font color=#013ADF>TD structure séquentielle, variables numériques et opérations de base</font>"
   ]
  },
  {
   "cell_type": "markdown",
   "metadata": {},
   "source": [
    ">**Avertissement : le code ci-dessous, permet la visualisation de l'évolution des variables, chaque fois que dans une cellule de code la commande magique %%tutor est présente.**"
   ]
  },
  {
   "cell_type": "code",
   "execution_count": null,
   "metadata": {},
   "outputs": [],
   "source": [
    "from metakernel import register_ipython_magics\n",
    "register_ipython_magics()"
   ]
  },
  {
   "cell_type": "markdown",
   "metadata": {},
   "source": [
    "**1)** Afficher un message avec la fonction \"print()\""
   ]
  },
  {
   "cell_type": "code",
   "execution_count": null,
   "metadata": {},
   "outputs": [],
   "source": [
    "%%tutor\n",
    "# -*- coding: utf-8 -*-\n",
    "\"\"\"\n",
    "La fonction print()\n",
    "\"\"\"\n",
    "print(\"bonjour !\")\n",
    "Nom = \"Dupond\"\n",
    "print(\"Comment vas-tu\", Nom, \"?\")"
   ]
  },
  {
   "cell_type": "markdown",
   "metadata": {},
   "source": [
    ">**Et son algorithme**"
   ]
  },
  {
   "cell_type": "markdown",
   "metadata": {},
   "source": [
    "<img src=\"Images/print.png\" alt=\"algorithme\" width=\"300\"/>"
   ]
  },
  {
   "cell_type": "markdown",
   "metadata": {},
   "source": [
    "* « Nom » est une **variable**.\n",
    "* Elle prend à la ligne 9, la valeur Dupond. Cette variable est une **chaîne de caractères**.\n",
    "* La structure algorithmique utilisée est une **structure séquentielle**."
   ]
  },
  {
   "cell_type": "markdown",
   "metadata": {},
   "source": [
    "**2)** Questionner l’utilisateur : La fonction input()"
   ]
  },
  {
   "cell_type": "code",
   "execution_count": null,
   "metadata": {},
   "outputs": [],
   "source": [
    "# -*- coding: utf-8 -*-\n",
    "\"\"\"\n",
    "La fonction input()\n",
    "\"\"\"\n",
    "prénom=input(\"Quel est ton prénom ? \")\n",
    "print(\"Bonjour\", prénom)\n",
    "print(prénom, \"est un joli prénom !\")\n",
    "print(\"Passe une bonne journée Thérèse\")"
   ]
  },
  {
   "cell_type": "markdown",
   "metadata": {},
   "source": [
    ">**Et son algorithme**"
   ]
  },
  {
   "cell_type": "markdown",
   "metadata": {},
   "source": [
    "<img src=\"Images/input.png\" alt=\"algorithme\" width=\"300\"/>"
   ]
  },
  {
   "cell_type": "markdown",
   "metadata": {},
   "source": [
    ">* Exécutez ce programme, changez de prénom ;\n",
    "* À quoi sert la fonction input ?\n",
    "* Le résultat de l’exécution du programme ne s’adapte que partiellement à l’utilisateur. Corrigez-le."
   ]
  },
  {
   "cell_type": "markdown",
   "metadata": {},
   "source": [
    "**3)** Guillemet simple ou double ? Formatage de l’affichage"
   ]
  },
  {
   "cell_type": "code",
   "execution_count": null,
   "metadata": {},
   "outputs": [],
   "source": [
    "%%tutor\n",
    "# -*- coding: utf-8 -*-\n",
    "\"\"\"\n",
    "Formatage de l'affichage\n",
    "\"\"\"\n",
    "\n",
    "print(\"Un retour à la ligne\\n puis une tabulation\\t, puis un guillement\\\"\")\n",
    "print('J\\'imprime un guillement simple', end=' : ')\n",
    "print(\"Un peu d'eau\")\n",
    "print('C\\' est un \"super\" programme')\n",
    "a=4\n",
    "print(a,end=\" \")\n",
    "b=5\n",
    "print(b)"
   ]
  },
  {
   "cell_type": "markdown",
   "metadata": {},
   "source": [
    ">* Expliquez le rôle des « \\ » (anti-slashes), des codes « \\n » et « \\t » dans le programme précédent."
   ]
  },
  {
   "cell_type": "markdown",
   "metadata": {},
   "source": [
    "**4)** Opérations élémentaires"
   ]
  },
  {
   "cell_type": "code",
   "execution_count": null,
   "metadata": {},
   "outputs": [],
   "source": [
    "%%tutor\n",
    "# -*- coding: utf-8 -*-\n",
    "\"\"\"\n",
    "Opérations élémentaires\n",
    "\"\"\"\n",
    "a=5\n",
    "b=2\n",
    "\n",
    "print(f\"Regardez les résultats suivants :{a+b*2}-{a/b}-{a//b}-{a%b}-{a**b}\")"
   ]
  },
  {
   "cell_type": "code",
   "execution_count": null,
   "metadata": {},
   "outputs": [],
   "source": [
    "type(a+b*2)"
   ]
  },
  {
   "cell_type": "markdown",
   "metadata": {},
   "source": [
    ">* Changez les nombres a et b et essayez de comprendre les opérations ;\n",
    "* Définissez le type des variables et des résultats.\n",
    "* Le langage Python respecte-t-il les priorités ?\n",
    "* Que font les opérations : /, //, % et ** ?\n",
    "* Ecrivez l’algorithme de ce programme."
   ]
  },
  {
   "cell_type": "markdown",
   "metadata": {},
   "source": [
    "**5)** Les variables numériques"
   ]
  },
  {
   "cell_type": "code",
   "execution_count": null,
   "metadata": {},
   "outputs": [],
   "source": [
    "%%tutor\n",
    "# -*- coding: utf-8 -*-\n",
    "\"\"\"\n",
    "Variables numériques\n",
    "\"\"\"\n",
    "\n",
    "a=input(\"Donnez un premier nombre : \")\n",
    "b=input(\"Donnez un autre nombre : \")\n",
    "print(\"La somme de\",a,\"et de\",b,\"est : \",a+b)"
   ]
  },
  {
   "cell_type": "markdown",
   "metadata": {},
   "source": [
    ">* Exécutez ce programme. Changez les nombres. Changez l’opération. Dans une console, tapez la commande : type(a), puis type (b). Quel est le problème ?\n",
    "* Donnez des mots à la place des nombres lors de l’exécution. Avez-vous une explication ?"
   ]
  },
  {
   "cell_type": "code",
   "execution_count": null,
   "metadata": {},
   "outputs": [],
   "source": [
    "type(a), type(b)"
   ]
  },
  {
   "cell_type": "markdown",
   "metadata": {},
   "source": [
    "* Les variables peuvent avoir des types différents (des nombres, des chaînes de caractères...).\n",
    "* La fonction input() renvoie des chaînes de caractères : ’String’.\n",
    "* Pour transformer une chaîne de caractères en nombre entier on utilise la fonction int() comme ’Integer’."
   ]
  },
  {
   "cell_type": "markdown",
   "metadata": {},
   "source": [
    ">* Modifiez le code précédent pour obtenir le comportement souhaité et retentez la commande : type(a), type(b)."
   ]
  },
  {
   "cell_type": "markdown",
   "metadata": {},
   "source": [
    "***\n",
    "Vous avez acquis quelques bases de programmation, il est tant de les mettre en pratique. Voici votre premier défi !"
   ]
  },
  {
   "cell_type": "markdown",
   "metadata": {},
   "source": [
    "**Défi**\n",
    "\n",
    "Vous avez gagné une somme à la loterie. Vous devez partager cette somme équitablement entre les élèves du groupe. Le reste sera pour le professeur. Écrivez l’algorithme puis le programme qui calcule le montant que chaque élève va recevoir ainsi que la part du professeur à partir d’une somme saisie au clavier.\n",
    "* Le montant du gain sera saisi au clavier ;\n",
    "* La présentation des résultats doit être explicite ;\n",
    "* On commentera son code.\n",
    "\n",
    "*Remarque : Vous avez tous les éléments pour réaliser ce programme dans les pages précédentes.Ne perdez pas votre temps sur Internet !*"
   ]
  },
  {
   "cell_type": "code",
   "execution_count": null,
   "metadata": {},
   "outputs": [],
   "source": [
    "#Votre solution ici !"
   ]
  }
 ],
 "metadata": {
  "celltoolbar": "Visualize",
  "kernelspec": {
   "display_name": "Python 3",
   "language": "python",
   "name": "python3"
  },
  "language_info": {
   "codemirror_mode": {
    "name": "ipython",
    "version": 3
   },
   "file_extension": ".py",
   "mimetype": "text/x-python",
   "name": "python",
   "nbconvert_exporter": "python",
   "pygments_lexer": "ipython3",
   "version": "3.7.7"
  },
  "varInspector": {
   "cols": {
    "lenName": 16,
    "lenType": 16,
    "lenVar": 40
   },
   "kernels_config": {
    "python": {
     "delete_cmd_postfix": "",
     "delete_cmd_prefix": "del ",
     "library": "var_list.py",
     "varRefreshCmd": "print(var_dic_list())"
    },
    "r": {
     "delete_cmd_postfix": ") ",
     "delete_cmd_prefix": "rm(",
     "library": "var_list.r",
     "varRefreshCmd": "cat(var_dic_list()) "
    }
   },
   "types_to_exclude": [
    "module",
    "function",
    "builtin_function_or_method",
    "instance",
    "_Feature"
   ],
   "window_display": false
  }
 },
 "nbformat": 4,
 "nbformat_minor": 2
}
