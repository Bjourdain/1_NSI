{
 "cells": [
  {
   "cell_type": "markdown",
   "metadata": {},
   "source": [
    "# <center><font face=\"arial\" size=\"5\" color=#0101DF>NUMERIQUE ET SCIENCES INFORMATIQUES 1ère NSI</font></center>"
   ]
  },
  {
   "cell_type": "markdown",
   "metadata": {},
   "source": [
    "## <font color=#013ADF>TD de renforcement sur les conversions de bases 2 et 10 et les fonctions</font>"
   ]
  },
  {
   "cell_type": "markdown",
   "metadata": {},
   "source": [
    "**Problème 1 :** On vous demande de réaliser une fonction qui permette la conversion d'un mot **binaire en décimal**."
   ]
  },
  {
   "cell_type": "markdown",
   "metadata": {},
   "source": [
    "Avant de réaliser cette fonction, voici quelques instructions à analyser. La manipulation sur la variable s'appelle du \"slicing\"."
   ]
  },
  {
   "cell_type": "code",
   "execution_count": 7,
   "metadata": {},
   "outputs": [
    {
     "name": "stdout",
     "output_type": "stream",
     "text": [
      "hello\n"
     ]
    }
   ],
   "source": [
    "chaine=\"olleh\"\n",
    "chaine = chaine[::-1]\n",
    "print(chaine)"
   ]
  },
  {
   "cell_type": "code",
   "execution_count": 8,
   "metadata": {},
   "outputs": [
    {
     "name": "stdout",
     "output_type": "stream",
     "text": [
      "Entrez le nombre binaire à convertir :13\n",
      "Le mot binaire 13 vaut en décimal None.\n"
     ]
    }
   ],
   "source": [
    "# Fonction de conversion binaire -> decimal\n",
    "def binaire_vers_decimal(mot):\n",
    "    \"\"\"\n",
    "    Fonction recevant en entrée une chaine de caractère représentant\n",
    "    un mot binaire de longueur quelconque et retournant le nombre décimal\n",
    "    équivalent.\n",
    "    Exemple :\n",
    "        Entrée : 1101\n",
    "        Sortie : 13\n",
    "    \"\"\"\n",
    "    #votre code ici\n",
    "\n",
    "# Programme principal\n",
    "nbr_binaire = input(\"Entrez le nombre binaire à convertir :\")\n",
    "nbr_decimal=binaire_vers_decimal(nbr_binaire)\n",
    "print(f'Le mot binaire {nbr_binaire} vaut en décimal {nbr_decimal}.')"
   ]
  },
  {
   "cell_type": "markdown",
   "metadata": {},
   "source": [
    "**Problème 2 :** On vous demande de réaliser une fonction qui permette la conversion d'un mot **decimal en binaire**, sans utiliser la fonction bin()."
   ]
  },
  {
   "cell_type": "code",
   "execution_count": null,
   "metadata": {},
   "outputs": [],
   "source": [
    "#Fonction de conversion decimal -> binaire\n",
    "def decimal_vers_binaire(nombre):\n",
    "    \"\"\"\n",
    "    Fonction recevant en entrée un entier décimal et retournant la représentation de\n",
    "    ce nombre en binaire sous la forme d'une chaine de caractère.\n",
    "    équivalent.\n",
    "    Exemple :\n",
    "        Entrée : 13\n",
    "        Sortie : 1101\n",
    "    \"\"\"\n",
    "    #votre code ici\n",
    "\n",
    "#Programme principal\n",
    "# Demande à l'utilisateur d'entrer un nombre\n",
    "nbr_decimal = int(input(\"Entrez un nombre decimal: \"))\n",
    "#test=bin(nbr_decimal)\n",
    "nbr_binaire=decimal_vers_binaire(nbr_decimal)\n",
    "print(f'Le nombre décimal {nbr_decimal} vaut en binaire {nbr_binaire}.')"
   ]
  }
 ],
 "metadata": {
  "kernelspec": {
   "display_name": "Python 3",
   "language": "python",
   "name": "python3"
  },
  "language_info": {
   "codemirror_mode": {
    "name": "ipython",
    "version": 3
   },
   "file_extension": ".py",
   "mimetype": "text/x-python",
   "name": "python",
   "nbconvert_exporter": "python",
   "pygments_lexer": "ipython3",
   "version": "3.6.7"
  },
  "varInspector": {
   "cols": {
    "lenName": 16,
    "lenType": 16,
    "lenVar": 40
   },
   "kernels_config": {
    "python": {
     "delete_cmd_postfix": "",
     "delete_cmd_prefix": "del ",
     "library": "var_list.py",
     "varRefreshCmd": "print(var_dic_list())"
    },
    "r": {
     "delete_cmd_postfix": ") ",
     "delete_cmd_prefix": "rm(",
     "library": "var_list.r",
     "varRefreshCmd": "cat(var_dic_list()) "
    }
   },
   "types_to_exclude": [
    "module",
    "function",
    "builtin_function_or_method",
    "instance",
    "_Feature"
   ],
   "window_display": false
  }
 },
 "nbformat": 4,
 "nbformat_minor": 2
}
