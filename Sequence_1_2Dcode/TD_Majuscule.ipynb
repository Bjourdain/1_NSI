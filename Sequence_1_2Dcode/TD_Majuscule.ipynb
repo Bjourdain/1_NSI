{
 "cells": [
  {
   "cell_type": "markdown",
   "metadata": {},
   "source": [
    "# <center><font face=\"arial\" size=\"5\" color=#0101DF>NUMERIQUE ET SCIENCES INFORMATIQUES 1ère NSI</font></center>"
   ]
  },
  {
   "cell_type": "markdown",
   "metadata": {},
   "source": [
    "## <font color=#013ADF>TD Majuscule</font>"
   ]
  },
  {
   "cell_type": "markdown",
   "metadata": {},
   "source": [
    "Bien que l'on ait stipulé dans le cahier des charges de l'application 2Dcode, que le nom et prénom doivent commencer par une majuscule, il peut y avoir des erreurs de saisie et le format ne sera pas respecté."
   ]
  },
  {
   "cell_type": "markdown",
   "metadata": {},
   "source": [
    "- Tracer l'algorithme du programme principal fourni ci-dessous.\n",
    "\n",
    "- Compléter la fonction permettant de mettre en majuscule, la première lettre de chaque mot de la chaîne de caractères.\n",
    "\n",
    "- Rechercher la signification de l'instruction \"assert\". Justifier les assertions réalisées dans la fonction.\n",
    "\n",
    "Remarques :\n",
    "- On suggère d'étudier la table des codes ASCII pour les caractères utiles ;\n",
    "- L'utilisation des méthodes chr() et ord()."
   ]
  },
  {
   "cell_type": "code",
   "execution_count": null,
   "metadata": {},
   "outputs": [],
   "source": [
    "help(chr)"
   ]
  },
  {
   "cell_type": "code",
   "execution_count": null,
   "metadata": {},
   "outputs": [],
   "source": [
    "help(ord)"
   ]
  },
  {
   "cell_type": "code",
   "execution_count": null,
   "metadata": {},
   "outputs": [],
   "source": [
    "# -*- coding: utf-8 -*-\n",
    "\"\"\"\n",
    "Programme de formattage du texte\n",
    "saisi au clavier pour le 2D code\n",
    "\"\"\"\n",
    "\n",
    "def Majuscule(caractere):\n",
    "    \"\"\"\n",
    "    Description\n",
    "    prend un caractere en entree et le renvoie en majuscule\n",
    "    si c'est déjà une majuscule, il n'y a pas de traitement.\n",
    "    Exemple :\n",
    "    >>> print(Majuscule(p))\n",
    "    >>> P\n",
    "    Précondition : le caractère est une majuscule ou une minuscule codée en ASCII\n",
    "    Postcondition : la majuscule du caractère est renvoyée\n",
    "    \"\"\"\n",
    "    assert ord(caractere) <=122,\"Caractère non traité\"\n",
    "    assert ord(caractere) >= 65,\"Caractère non traité\"\n",
    "    # Votre code ici : \n",
    "\n",
    "\n",
    "# Programme principal\n",
    "\n",
    "texte=input(\"Saisir votre nom et prénom : \")    \n",
    "texte_modifie=\"\"\n",
    "longueur =len(texte)\n",
    "\n",
    "texte_modifie=Majuscule(texte[0])\n",
    "for i in range(1, longueur):\n",
    "    # Si le caractère qui suit un espace est une minuscule\n",
    "    if  texte[i-1]==\" \":\n",
    "            texte_modifie=texte_modifie+Majuscule(texte[i])\n",
    "    else:\n",
    "        texte_modifie=texte_modifie+texte[i]\n",
    "\n",
    "print(texte_modifie)"
   ]
  }
 ],
 "metadata": {
  "kernelspec": {
   "display_name": "Python 3",
   "language": "python",
   "name": "python3"
  },
  "language_info": {
   "codemirror_mode": {
    "name": "ipython",
    "version": 3
   },
   "file_extension": ".py",
   "mimetype": "text/x-python",
   "name": "python",
   "nbconvert_exporter": "python",
   "pygments_lexer": "ipython3",
   "version": "3.7.7"
  },
  "varInspector": {
   "cols": {
    "lenName": 16,
    "lenType": 16,
    "lenVar": 40
   },
   "kernels_config": {
    "python": {
     "delete_cmd_postfix": "",
     "delete_cmd_prefix": "del ",
     "library": "var_list.py",
     "varRefreshCmd": "print(var_dic_list())"
    },
    "r": {
     "delete_cmd_postfix": ") ",
     "delete_cmd_prefix": "rm(",
     "library": "var_list.r",
     "varRefreshCmd": "cat(var_dic_list()) "
    }
   },
   "position": {
    "height": "272.85px",
    "left": "1062.5px",
    "right": "32px",
    "top": "104px",
    "width": "345.5px"
   },
   "types_to_exclude": [
    "module",
    "function",
    "builtin_function_or_method",
    "instance",
    "_Feature"
   ],
   "window_display": false
  }
 },
 "nbformat": 4,
 "nbformat_minor": 2
}
