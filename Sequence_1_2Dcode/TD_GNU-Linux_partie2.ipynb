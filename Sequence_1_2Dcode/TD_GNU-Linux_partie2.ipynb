{
 "cells": [
  {
   "cell_type": "markdown",
   "metadata": {},
   "source": [
    "# <center><font face=\"arial\" size=\"5\" color=#0101DF>NUMERIQUE ET SCIENCES INFORMATIQUES 1ère NSI</font></center>"
   ]
  },
  {
   "cell_type": "markdown",
   "metadata": {},
   "source": [
    "\n",
    "## <font color=#013ADF>PRISE EN MAIN D'UN SYSTÈME GNU/LINUX : partie 2/2</font>"
   ]
  },
  {
   "cell_type": "markdown",
   "metadata": {},
   "source": [
    "Pour ne pas avoir à reconstruire l'arborescence réalisée sur le serveur, vous allez executer le fichier **create.moi** sur l'ordinateur portable.\n",
    "\n",
    "Voici son contenu :\n",
    "\n",
    "#! /bin/bash\n",
    "\n",
    "mkdir -p /home/user/Documents/Doc_prof/Cours\n",
    "mkdir -p /home/user/Documents/Doc_prof/Exercices\n",
    "mkdir -p /home/user/Documents/Doc_élèves\n",
    "\n",
    "echo \"exercice sur Linux\" > /home/user/Documents/Doc_prof/Exercices/exercice1.txt\n",
    "\n",
    "cp /home/bruno/Documents/Doc_prof/Exercices/exercice1.txt /home/user/Documents/Doc_prof/Exercices/exercice2.txt\n",
    "\n",
    "cp /home/user/Documents/Doc_prof/Exercices/exercice1.txt /home/user/Documents/Doc_prof/Cours/cours1.txt\n",
    "cp /home/user/Documents/Doc_prof/Exercices/exercice2.txt /home/user/Documents/Doc_prof/Cours/cours2.txt\n",
    "\n",
    "cp /home/user/Documents/Doc_prof/Exercices/* /home/user/Documents/Doc_prof/Cours/* /home/user/Documents/Doc_élèves\n",
    "\n",
    "cp -r /home/user/Documents /home/user/Archives\n"
   ]
  },
  {
   "cell_type": "markdown",
   "metadata": {},
   "source": [
    "## 5- Gestion des droits des utilisateurs\n",
    "\n",
    "Le rôle d'un système d'exploitation est aussi d'assurer la sécurité et l'accès aux données, ce qui est possible avec le mécanisme de droits.\n",
    "\n",
    "Voilà ce que l'on peut apercevoir lors que l'on tape la commande `ls -al`\n",
    "\n",
    "![droits](Images/droits.png)\n",
    "\n",
    "Linux est un système d'exploitation multi-utilisateurs où le propriétaire d'un fichier peut partager \n",
    "l'accès à son fichier avec d'autre utilisateurs, membres d'un groupe, et en définir les types d'accès possibles.\n",
    "Lors de la création d'un compte utilisateur, un groupe du même nom est créé, et l'utilisateur créé fait partie de la liste des utilisateurs de ce groupe. Sur un système debian, chaque utilisateur appartient au moins à un groupe. Quand un utilisateur créé un fichier, il a tous les droits sur ce fichier.\n",
    "Afin de permettre le partage de fichiers et faciliter le travail en équipe, Linux définit la notion de\n",
    "groupe d'utilisateurs.\n",
    "Le propriétaire d'un fichier pourra définir les différents types d'accès à son fichier pour lui même, et/ou les utilisateurs membres d'un groupe et/ou tous les autres utilisateurs (other).\n",
    "\n",
    "Les différents **types de fichiers** sont définis en fonction des méthodes d'accès possibles pour les\n",
    "utiliser :\n",
    "\n",
    "(-) fichier ordinaire\n",
    "\n",
    "(d) répertoire (directory)\n",
    "\n",
    "...\n",
    "\n",
    "**Il existe trois types d'utilisateurs** :\n",
    "u : user Le propriétaire du fichier\n",
    "g : group les membres du groupe propriétaire du fichier\n",
    "o : other les autres utilisateurs du système\n",
    "\n",
    "Pour chaque fichier et pour chaque type d'utilisateur **il y a trois autorisations d'accès** :\n",
    "r : Autorisation de lecture (read)\n",
    "w : Autorisation d'écriture (write)\n",
    "x : Autorisation d'exécution (execute)\n",
    "\n",
    "**Analyse de la liste des fichiers de la figure ci-dessus**\n",
    "\n",
    "Pour les 2 premières lignes, il s'agit de répertoires, les autres lignes des fichiers.\n",
    "\n",
    "En ce qui concerne le fichier \"exercice2.txt\" :\n",
    "\n",
    "- Le propriétaire (user) a les droits de lecture et d'écriture (pas d'exécution, mais ce n'est pas une fichier exécutable)\n",
    "\n",
    "- Les membres du groupe (user) ont le droit de lecture\n",
    "\n",
    "- Les autres utilisateurs ont le droit de lecture\n",
    "\n",
    "| Correspondances de représentation des droits     |                       |               |\n",
    "| ------------------------------------------------ | --------------------- | ------------- |\n",
    "| Droit                                            | Valeur alphanumérique | Valeur octale |\n",
    "| aucun droit                                      | ---                   | 0             |\n",
    "| exécution seulement                              | --x                   | 1             |\n",
    "| écriture seulement                               | -w-                   | 2             |\n",
    "| ecriture et exécution                            | -wx                   | 3             |\n",
    "| lecture seulement                                | r--                   | 4             |\n",
    "| lecture et exécution                             | r-x                   | 5             |\n",
    "| lecture et écriture                              | rw-                   | 6             |\n",
    "| tous les droits (lecture, écriture et exécution) | rwx                   | 7             |\n",
    "\n",
    "Exemples de commande\n",
    "\n",
    "`chmod u+w fichier` Ajouter les droits d'écriture au propriétaire (user, write)\n",
    "\n",
    "`chmod g+r fichier` Ajouter les droits de lecture au groupe du fichier (group, read)\n",
    "\n",
    "`chmod o-x fichier` Supprimer les droits d'exécution aux autres utilisateurs (other, execution)\n",
    "\n",
    "`chmod a+rw dossier` Ajouter les droits de lecture / écriture à tous (all)\n",
    "\n",
    "`chmod -R a+rx dossier` Ajouter les droits de lecture et d'exécution à tout ce que contient le repertoire dossier (récursif).\n",
    "\n",
    "`chmod 764 dossier` Tous les droits pour le  propriétaire (7xx), lecture et ecriture pour le groupe (x6x) et lecture  uniquement pour les autres (xx4).\n",
    "\n",
    "`chmod -R 755 dossier` Donner au propriétaire tous les droits (7xx), alors que seuls les droits de lecture et d'accès seront  donnés aux autres (x55). Grace à l'option -R ces droits seront appliqués à tous les fichiers et dossiers contenus dans ce répertoire.\n",
    "\n",
    "\n",
    "**Problématique** : toto et user travaillent ensemble. Alice ne veut pas se joindre à eux. On va créer un répertoire où toto et user vont déposer leurs contributions. Ils pourront ajouter et supprimer des documents, ainsi que les modifier. Alice ne doit avoir accès à ce dossier.\n",
    "\n",
    "Pour pouvoir être accessible par 2 utilisateurs différents, le répertoire ne peut pas se trouver dans le `home ` de l'un d'entre-eux . Il doit se situer plus haut dans l'arborescence.\n",
    "\n",
    "Nous allons créer :\n",
    "\n",
    "- un groupe constitué de toto et user appelé `boulot`\n",
    "- 2 nouveaux utilisateurs toto et alice\n",
    "- un répertoire que nous nommerons `Documents_partagés` à la racine du sytème\n",
    "- des droits d'utilisation du répertoire `Documents_partagés`au groupe\n",
    "\n",
    "Tout ce que nous voulons faire nécessite d'être le super-utilisateur. Il faut \"passer\" en `root`\n",
    "\n",
    "**Vous allez posseder les pleins pouvoirs sur la machine, une erreur peut être problématique pour l'intégrité du système. Donc, retour dès que possible au mode utilisateur \"basique\" en tapant exit.**\n",
    "\n",
    "- Tapez la commande `su`, puis `Valider` et enfin donnez le mot de passe du super-utilisateur.\n",
    "\n",
    "*Notez que le mot de passe ne s'affiche pas !*\n",
    "\n",
    "Commençons par créer le groupe de travail \"boulot\"\n",
    "\n",
    "- Tapez la commande `addgroup boulot`\n",
    "\n",
    "- Les commandes addgroup et adduser se trouve dans le répertoire /usr/sbin. Pour afficher les chemins de recherche, tapez la commande ` echo $PATH`\n",
    "\n",
    "- Si le chemin n'est pas présent dans le PATH, on va le rajouter : (à vous de choisir l'une des 2 solutions ci-dessous)\n",
    "\n",
    "- Si vous tapez la commande `export PATH=$PATH:/usr/sbin` : le chemin sera mémorisé pour la session du terminal\n",
    "\n",
    "- Si vous tapez la commande `echo 'export PATH=$PATH:/usr/sbin' >> /home/user/.bashrc` : vous modifiez en l'écrasant le fichier .bashrc, la modification est alors permanente.\n",
    "\n",
    "- Créez le groupe, cela devrait fonctionner à présent !\n",
    "- Visualiser les groupes avec la commande : `cat /etc/group | awk -F:  '{print $1}'`\n",
    "- Créez l'utilisateur `toto ` avec un mot de passe `toto` en tapant la commande `adduser toto` (remplir ou non le pédigrée de toto), faire de même pour `alice`\n",
    "\n",
    "- Visualiser les groupes avec la commande : `cat /etc/passwd | awk -F:  '{print $1}'`\n",
    "\n",
    "Le symbole | (pipe) permet de rediriger le résultat d'une première commande vers une seconde. `awk ` est un utilitaire qui permet d'extraire des informations d'un fichier, ici la première colonne c'est à dire le nom\n",
    "\n",
    "Comme \"toto\" et \"user\" travaillent ensemble, on va les mettre dans le groupe \"boulot\" !\n",
    "\n",
    "- Tapez la commande : `adduser toto boulot`, idem pour user\n",
    "\n",
    "- Vérifiez les membres du groupe en tapant : `cat /etc/group` ou plus sélectif : `cat /etc/group | grep boulot`\n",
    "\n",
    "La commande `grep` permet de rechercher une chaîne de caractères dans un fichier\n",
    "\n",
    "Pour créer le nouveau répertoire, on ne va pas s'embêter. On va copier le répertoire Documents de l'utilisateur \"user\" ainsi que son contenu, en le renommant `Documents_partagés` :"
   ]
  },
  {
   "cell_type": "markdown",
   "metadata": {},
   "source": [
    "<div class=\"alert alert-warning\">\n",
    "<img src=\"Images/CR.png\" alt=\"logo CR\" width=5% align=right>\n",
    "\n",
    "Répertoire : Documents de l'utilisateur\n",
    "\n",
    "Commande :"
   ]
  },
  {
   "cell_type": "markdown",
   "metadata": {},
   "source": [
    "Comme nous sommes en mode administrateur, la copie à attribuée aux répertoires et fichiers la propriété à `root`\n",
    "\n",
    "Nous allons rendre à \"user\" la paternité de ses oeuvres mais avant pour appréhender la commande, nous allons réaliser ces 2 manipulations :\n",
    "\n",
    "La commande `chown` permet de changer le propriétaire d'un fichier ou d'un répertoire.\n",
    "\n",
    "Changez le propriétaire du fichier \"cours1.txt\" (user) pour l'attribuer à toto. Pour cela, à partir du répertoire `Documents` de \"user\":\n",
    "\n",
    "- Tapez la commande : `chown toto ./Doc_prof/Cours/cours1.txt` \n",
    "\n",
    "Attribuer l’utilisateur toto et le groupe boulot au fichier exercice1.txt\n",
    "\n",
    "- Tapez la commande : `chown toto:boulot ./Doc_prof/Exercices/exercice1.txt` \n",
    "\n",
    "Attribuer à user la paternité de ses oeuvres qui se trouvent dans le répertoire `Documents_partagés`"
   ]
  },
  {
   "cell_type": "markdown",
   "metadata": {},
   "source": [
    "<div class=\"alert alert-warning\">\n",
    "<img src=\"Images/CR.png\" alt=\"logo CR\" width=5% align=right>\n",
    "\n",
    "Répertoire : /\n",
    "\n",
    "Commande :"
   ]
  },
  {
   "cell_type": "markdown",
   "metadata": {},
   "source": [
    "Attibuer l'accès au répertoire `Documents_partagés`au groupe `boulot`"
   ]
  },
  {
   "cell_type": "markdown",
   "metadata": {},
   "source": [
    "<div class=\"alert alert-warning\">\n",
    "<img src=\"Images/CR.png\" alt=\"logo CR\" width=5% align=right>\n",
    "\n",
    "Répertoire : /\n",
    "\n",
    "Commande :\n"
   ]
  },
  {
   "cell_type": "markdown",
   "metadata": {},
   "source": [
    "Afin changeons les droits sur tous les fichiers et répertoires du répertoire `Documents_partagés`pour que tous les membres du groupe puissent lire et écrire.\n",
    "\n",
    "- Inspirez vous des exemples cités plus haut pour résoudre le problème"
   ]
  },
  {
   "cell_type": "markdown",
   "metadata": {},
   "source": [
    "<div class=\"alert alert-warning\">\n",
    "<img src=\"Images/CR.png\" alt=\"logo CR\" width=5% align=right>\n",
    "\n",
    "Répertoire : /\n",
    "\n",
    "Commande :"
   ]
  },
  {
   "cell_type": "markdown",
   "metadata": {},
   "source": [
    "<div class=\"alert alert-warning\">\n",
    "<img src=\"Images/CR.png\" alt=\"logo CR\" width=5% align=right>\n",
    "\n",
    "Testez les droits en changeant d'utilisateur (user, toto, alice) : su alice (par exemple).\n",
    "L'accès au répertoire partagé est-il possible quel que soit l'utilisateur ?\n"
   ]
  },
  {
   "cell_type": "markdown",
   "metadata": {},
   "source": [
    "Il est temps de faire le ménage. Comme pour la création d'arborescence en début de travail, on va \"automatiser\" sa suppression. Exécuter le fichier **destroy.moi**.\n",
    "\n",
    "Voici son contenu :\n",
    "\n",
    "#! /bin/bash\n",
    "\n",
    "rm -fr /home/user/Documents/Doc_prof /home/user/Documents/Doc_élèves\n",
    "\n",
    "rm -fr /home/user/Archives"
   ]
  },
  {
   "cell_type": "markdown",
   "metadata": {},
   "source": [
    "## 6- Installer/désinstaller une application\n",
    "\n",
    "### 6-1 Les sources de logiciels\n",
    "\n",
    "Debian GNU/Linux utilise le principe des dépôts en ligne pour fournir les applications. Ce principe permet de centraliser les logiciels et vous permet d'utiliser des interfaces simples pour administrer et/ou faire évoluer votre système : vous n'avez pas besoin de visiter les sites de logiciels.\n",
    "\n",
    "**Le fichier sources.list**\n",
    "\n",
    "Les adresses internet des dépôts Debian sont inscrites dans le fichier **/etc/apt/sources.list** et les fichiers du type **/etc/apt/sources.list.d/xxx.list**.\n",
    "\n",
    "- Allons jeter un coup d'oeil au fichier\n",
    "\n",
    "### 6-2 Apt dans un terminal\n",
    "\n",
    " Le logiciel de gestion de paquets **APT** (**A**dvanced **P**ackage **T**ool) est disponible directement depuis la ligne de commande, vous permettant l'administration fine de votre système.\n",
    "\n",
    "**Les commandes 'utilisateur' de recherche et d'information**\n",
    "\n",
    "Ces commandes peuvent être lancées en tant que simple utilisateur car elles n'affectent pas votre système.\n",
    "\n",
    "| **commande**            | **description**                                   |\n",
    "| ----------------------- | ------------------------------------------------- |\n",
    "| apt show *toto*         | Afficher les informations du paquet *toto*        |\n",
    "| apt search *toto*       | Rechercher les paquets qui correspondent à *toto* |\n",
    "| apt-cache policy *toto* | Affiche les versions disponibles de *toto*        |\n",
    "\n",
    "**Les commandes 'administrateur' de maintenance**\n",
    "\n",
    "Ces commandes nécessitent les droits de l'administrateur \"root\" car elles affectent votre système.\n",
    "\n",
    "| **commande**       | **description**                                              |\n",
    "| ------------------ | :----------------------------------------------------------- |\n",
    "| apt update         | Mise à jour des métadonnées des dépôts.                      |\n",
    "| apt install *toto* | Installation du paquet *toto* avec ses dépendances.          |\n",
    "| apt upgrade        | Mise à jour sécurisée des paquets installés.                 |\n",
    "| apt dist-upgrade   | Mise à jour des paquets installés en installant ou supprimant d'autres paquets sinécessaire. |\n",
    "| apt remove *toto*  | Supprimer le paquet *toto* en laissant ses fichiers de configuration. |\n",
    "| apt autoremove     | Supprimer les paquets installés automatiquement lorsqu'ils ne sont plus nécessaires. |\n",
    "| apt purge *toto*   | Purger le paquet *toto* ainsi que ses fichiers de configuration. |\n",
    "| apt clean          | Nettoyer le cache local des paquets installés.               |\n",
    "| apt autoclean      | Nettoyer le cache des fichiers des paquets périmés.          |"
   ]
  },
  {
   "cell_type": "markdown",
   "metadata": {},
   "source": [
    "<div class=\"alert alert-warning\">\n",
    "<img src=\"Images/CR.png\" alt=\"logo CR\" width=5% align=right>\n",
    "\n",
    "- Installez le paquet ? (demander au professeur)\n",
    "\n"
   ]
  },
  {
   "cell_type": "markdown",
   "metadata": {},
   "source": [
    "Vous remarquerez que le gestionnaire propose d'installer d'autre paquets nécessaires à celui que vous souhaitez.\n",
    "\n",
    "### 6-3 Les packages DEB\n",
    "\n",
    "La distribution Debian propose un outil de gestion de package permettant d'automatiser l'installation, la configuration et la mise à jour des logiciels installés par ce biais. Les packages Debian sont ainsi des fichiers portant l'extension *.deb* et pouvant être installés manuellement grâce à la commande suivante : \n",
    "\n",
    "```\n",
    "dpkg -i nom_du_package.deb\n",
    "```\n",
    "\n",
    "Pour désinstaller\n",
    "\n",
    "```\n",
    "dpkg -r nom_du_package.deb\n",
    "```\n",
    "\n",
    "Une commande pour supprimer aussi les fichiers de configuration du logiciel :\n",
    "\n",
    "```\n",
    "dpkg -P nom_du_package.deb\n",
    "```"
   ]
  }
 ],
 "metadata": {
  "kernelspec": {
   "display_name": "Python 3",
   "language": "python",
   "name": "python3"
  },
  "language_info": {
   "codemirror_mode": {
    "name": "ipython",
    "version": 3
   },
   "file_extension": ".py",
   "mimetype": "text/x-python",
   "name": "python",
   "nbconvert_exporter": "python",
   "pygments_lexer": "ipython3",
   "version": "3.7.7"
  },
  "varInspector": {
   "cols": {
    "lenName": 16,
    "lenType": 16,
    "lenVar": 40
   },
   "kernels_config": {
    "python": {
     "delete_cmd_postfix": "",
     "delete_cmd_prefix": "del ",
     "library": "var_list.py",
     "varRefreshCmd": "print(var_dic_list())"
    },
    "r": {
     "delete_cmd_postfix": ") ",
     "delete_cmd_prefix": "rm(",
     "library": "var_list.r",
     "varRefreshCmd": "cat(var_dic_list()) "
    }
   },
   "types_to_exclude": [
    "module",
    "function",
    "builtin_function_or_method",
    "instance",
    "_Feature"
   ],
   "window_display": false
  }
 },
 "nbformat": 4,
 "nbformat_minor": 2
}
