{
 "cells": [
  {
   "cell_type": "markdown",
   "metadata": {},
   "source": [
    "# <center><font face=\"arial\" size=\"5\" color=#0101DF>NUMERIQUE ET SCIENCES INFORMATIQUES 1ère NSI</font></center>"
   ]
  },
  {
   "cell_type": "markdown",
   "metadata": {},
   "source": [
    "## <font color=#013ADF>TD les fonctions</font>"
   ]
  },
  {
   "cell_type": "code",
   "execution_count": null,
   "metadata": {},
   "outputs": [],
   "source": [
    "from metakernel import register_ipython_magics\n",
    "register_ipython_magics()"
   ]
  },
  {
   "cell_type": "markdown",
   "metadata": {},
   "source": [
    "> Une fonction va permettre de compacter le code car elle pourra être utilisée de nombreuses fois en l'appelant. Si la fonction ne renvoie aucun résultat, on l'appelle une procédure."
   ]
  },
  {
   "cell_type": "markdown",
   "metadata": {},
   "source": [
    ">* Exécutez ce programme et observez les résultats obtenus."
   ]
  },
  {
   "cell_type": "code",
   "execution_count": null,
   "metadata": {},
   "outputs": [],
   "source": [
    "%%tutor\n",
    "# -*- coding: utf-8 -*-\n",
    "\"\"\"\n",
    "Addition\n",
    "\"\"\"\n",
    "\n",
    "def addition(x:int,y:int=2)->int: # annotations de typage attendu (non traité en l'état par l'interpréteur python)\n",
    "    \"\"\"\n",
    "    Additionne les 2 nombres\n",
    "    passés en arguments\n",
    "    \"\"\"\n",
    "    return x+y # renvoie la somme de x et y\n",
    "\n",
    "print(addition(10,5)) # appel de la fonction 'addition' et affichage de la somme\n",
    "resultat=addition(7,3) # appel de la fonction 'addition' et stockage dans une variable 'resultat'\n",
    "print(resultat) # affichage de la variable 'resultat'\n",
    "print(addition(5)) # appel de la fonction 'addition' avec un seul argument, la fonction utilise la valeur de y par défaut"
   ]
  },
  {
   "cell_type": "markdown",
   "metadata": {},
   "source": [
    ">* Exécutez ce programme et observez les résultats obtenus."
   ]
  },
  {
   "cell_type": "code",
   "execution_count": null,
   "metadata": {},
   "outputs": [],
   "source": [
    "%%tutor\n",
    "# -*- coding: utf-8 -*-\n",
    "\"\"\"\n",
    "Calcul de volumes\n",
    "\"\"\"\n",
    "\n",
    "from math import pi\n",
    "\n",
    "#voici une fonction\n",
    "def cube(x:float)->float:\n",
    "    \"\"\"\n",
    "    Reçoit en entrée une valeur réelle positive\n",
    "    Retourne cette valeur à la puissance 3.\n",
    "    Exemple : x = 3 , la valeur retournée est 9.\n",
    "    \"\"\"\n",
    "    assert x>0,'La valeur doit être supérieure à 0'\n",
    "    return x**3\n",
    "       \n",
    "#voici une autre fonction \n",
    "def volume_sphere(r:float)->float:\n",
    "    \"\"\"\n",
    "    Reçoit en entrée une valeur réelle positive\n",
    "    Retourne le volume d'une spère de rayon égal à la valeur saisie\n",
    "    \"\"\"\n",
    "    assert r>0,'La valeur doit être supérieure à 0'\n",
    "    return 4.0 / 3.0 * pi * cube(r)\n",
    "\n",
    "#Ici débute le programme principal\n",
    "rayon = float(input(\"Entrez la valeur du rayon de la sphère en mm : \"))\n",
    "print(f\"Le volume de cette sphère vaut : {volume_sphere(rayon):.2f} mm3\")\n",
    "cote = float(input(\"Entrez la valeur du côté d'un cube en mm : \"))\n",
    "print(f\"Le volume du cube vaut : {cube(cote):.2f} mm3\")"
   ]
  },
  {
   "cell_type": "markdown",
   "metadata": {},
   "source": [
    ">* Que font ces deux fonctions ?\n",
    "* Dans quel ordre et par qui sont appelées les fonctions ?\n",
    "* Quel est le nom de la variable qui contient le rayon de la sphère dans le programme principal, les fonctions ?\n",
    "* Quelle est l’instruction qui renvoie la valeur calculée dans la fonction ?\n",
    "* Quel est l’intérêt de définir et d’appeler des fonctions ?\n",
    "* Que se passe-t-il si en fin de programme, on ajoute l’instruction : print(x) ou print(r) ? Justifiez\n",
    "* Que se passe-t-il si vous saisissez une valeur négative ou nulle ?\n",
    "* Tapez ci-dessous l'instruction help(cube), help(volume_sphere)"
   ]
  },
  {
   "cell_type": "code",
   "execution_count": null,
   "metadata": {},
   "outputs": [],
   "source": []
  },
  {
   "cell_type": "markdown",
   "metadata": {},
   "source": [
    "***\n",
    "Voici l'heure du défi !"
   ]
  },
  {
   "cell_type": "markdown",
   "metadata": {},
   "source": [
    "**Défi**\n",
    "\n",
    "* Écrivez une fonction qui teste si le **nombre** passé en argument de la fonction est **pair**.\n",
    "* Commentez votre code et la fonction (**docstrings**).\n",
    "* Testez votre programme en saisissant quelques valeurs.\n",
    "\n",
    "*Remarque :*"
   ]
  },
  {
   "cell_type": "code",
   "execution_count": null,
   "metadata": {},
   "outputs": [],
   "source": [
    "#Votre solution ici !"
   ]
  },
  {
   "cell_type": "markdown",
   "metadata": {},
   "source": [
    "Vous venez de prendre du temps pour développer une fonction. Est-elle correcte ? Vous avez fait des essais, mais y a t-il un cas où la fonction va retourner un résultat faux ?"
   ]
  },
  {
   "cell_type": "markdown",
   "metadata": {},
   "source": [
    ">Après avoir consulté la fonction ci-dessous, exécutez la."
   ]
  },
  {
   "cell_type": "code",
   "execution_count": null,
   "metadata": {},
   "outputs": [],
   "source": [
    "def test_parite(nb:int)-> bool:\n",
    "    \"\"\"\n",
    "    Cette fonction reçoit en entrée un nombre entier.\n",
    "    Elle teste si ce nombre est pair\n",
    "    puis renvoit en sortie 1 ou 0.\n",
    "    Précondition : Le nombre doit être entier.\n",
    "    Postcondition : 0 si pair, 1 si impair\n",
    "    Tests :\n",
    "    >>> test_parite(8)\n",
    "    0\n",
    "    >>> test_parite(7)\n",
    "    1\n",
    "    \"\"\"\n",
    "    assert type(nb)==int,'Le nombre doit être un entier'\n",
    "    return nb%2"
   ]
  },
  {
   "cell_type": "markdown",
   "metadata": {},
   "source": [
    "Exécutez maintenant, les 3 cellules de code ci-dessous."
   ]
  },
  {
   "cell_type": "code",
   "execution_count": null,
   "metadata": {},
   "outputs": [],
   "source": [
    "import doctest\n",
    "doctest.testmod()"
   ]
  },
  {
   "cell_type": "code",
   "execution_count": null,
   "metadata": {},
   "outputs": [],
   "source": [
    "import doctest\n",
    "doctest.testmod(verbose = True)"
   ]
  },
  {
   "cell_type": "code",
   "execution_count": null,
   "metadata": {},
   "outputs": [],
   "source": [
    "help(test_parite)"
   ]
  },
  {
   "cell_type": "markdown",
   "metadata": {},
   "source": [
    "Modifier maintenant le second test de parité : remplacez 1 par 0 et relancez les tests !"
   ]
  },
  {
   "cell_type": "markdown",
   "metadata": {},
   "source": [
    "Pratique pour valider ses fonctions. Vous voyez que le docstring en plus de renseigner l'utilisateur sur le mode d'emploi de la fonction, va permettre de faire des tests."
   ]
  }
 ],
 "metadata": {
  "kernelspec": {
   "display_name": "Python 3",
   "language": "python",
   "name": "python3"
  },
  "language_info": {
   "codemirror_mode": {
    "name": "ipython",
    "version": 3
   },
   "file_extension": ".py",
   "mimetype": "text/x-python",
   "name": "python",
   "nbconvert_exporter": "python",
   "pygments_lexer": "ipython3",
   "version": "3.7.7"
  },
  "varInspector": {
   "cols": {
    "lenName": 16,
    "lenType": 16,
    "lenVar": 40
   },
   "kernels_config": {
    "python": {
     "delete_cmd_postfix": "",
     "delete_cmd_prefix": "del ",
     "library": "var_list.py",
     "varRefreshCmd": "print(var_dic_list())"
    },
    "r": {
     "delete_cmd_postfix": ") ",
     "delete_cmd_prefix": "rm(",
     "library": "var_list.r",
     "varRefreshCmd": "cat(var_dic_list()) "
    }
   },
   "types_to_exclude": [
    "module",
    "function",
    "builtin_function_or_method",
    "instance",
    "_Feature"
   ],
   "window_display": false
  }
 },
 "nbformat": 4,
 "nbformat_minor": 2
}
