{
 "cells": [
  {
   "cell_type": "markdown",
   "metadata": {},
   "source": [
    "# <center><font face=\"arial\" size=\"5\" color=#0101DF>NUMERIQUE ET SCIENCES INFORMATIQUES 1ère NSI</font></center>"
   ]
  },
  {
   "cell_type": "markdown",
   "metadata": {},
   "source": [
    "## <font color=#013ADF>TD structures itératives</font>"
   ]
  },
  {
   "cell_type": "code",
   "execution_count": null,
   "metadata": {},
   "outputs": [],
   "source": [
    "from metakernel import register_ipython_magics\n",
    "register_ipython_magics()"
   ]
  },
  {
   "cell_type": "markdown",
   "metadata": {},
   "source": [
    "**1)** Boucle while"
   ]
  },
  {
   "cell_type": "markdown",
   "metadata": {},
   "source": [
    "**Un problème**"
   ]
  },
  {
   "cell_type": "code",
   "execution_count": null,
   "metadata": {},
   "outputs": [],
   "source": [
    "%%tutor\n",
    "# -*- coding: utf-8 -*-\n",
    "\"\"\"\n",
    "Un problème : c'est long !\n",
    "\"\"\"\n",
    "\n",
    "i=0\n",
    "print(i)\n",
    "i=i+1\n",
    "print(i)\n",
    "i=i+1\n",
    "print(i)\n",
    "i=i+1\n",
    "print(i)\n",
    "i=i+1\n",
    "print(i)"
   ]
  },
  {
   "cell_type": "markdown",
   "metadata": {},
   "source": [
    ">* Que fait ce programme ?\n",
    "* Que veut dire la ligne i=i+1 ?\n",
    "* Remplacez les lignes i=i+1 par i+=1, puis testez.\n",
    "* Modifiez le code afin d’afficher les 10 premiers nombres entiers.\n",
    "* Affichez les 100 ? les 1000 premiers nombres ? Non, je plaisante."
   ]
  },
  {
   "cell_type": "markdown",
   "metadata": {},
   "source": [
    "**Une solution : la boucle while**"
   ]
  },
  {
   "cell_type": "code",
   "execution_count": null,
   "metadata": {},
   "outputs": [],
   "source": [
    "%%tutor\n",
    "# -*- coding: utf-8 -*-\n",
    "\"\"\"\n",
    "Boucle while\n",
    "\"\"\"\n",
    "\n",
    "i=0\n",
    "while i<=5:\n",
    "    print(i)\n",
    "    i=i+1"
   ]
  },
  {
   "cell_type": "markdown",
   "metadata": {},
   "source": [
    ">**Et son algorithme**"
   ]
  },
  {
   "cell_type": "markdown",
   "metadata": {},
   "source": [
    "<img src=\"Images/tantque.png\" alt=\"algorithme\" width=\"300\"/>"
   ]
  },
  {
   "cell_type": "markdown",
   "metadata": {},
   "source": [
    ">* Exécutez ce programme. Quelle est la traduction de while ?\n",
    "* Quelle est la valeur de i à la fin de l’exécution ?\n",
    "* Modifiez le code afin d’afficher les 100 premiers nombres entiers. Et ce n’est pas une plaisanterie !"
   ]
  },
  {
   "cell_type": "markdown",
   "metadata": {},
   "source": [
    "* Dans une boucle while, il ne faut pas oublier d’initialiser la variable utilisée (ici i=0).\n",
    "* La variable doit être incrémentée pour avancer dans la boucle (ici i=i+1).\n",
    "* Le contenu de la boucle doit être décalé d’une tabulation vers la droite.\n",
    "* La structure algorithmique utilisée est une **structure itérative**."
   ]
  },
  {
   "cell_type": "markdown",
   "metadata": {},
   "source": [
    "**Un autre exemple**"
   ]
  },
  {
   "cell_type": "code",
   "execution_count": null,
   "metadata": {},
   "outputs": [],
   "source": [
    "%%tutor\n",
    "# -*- coding: utf-8 -*-\n",
    "\"\"\"\n",
    "Programme de calcul dont la fonction\n",
    "est à définir ;-)\n",
    "\"\"\"\n",
    "\n",
    "from math import pi\n",
    "#import math\n",
    "\n",
    "perimetre=0\n",
    "rayon=1\n",
    "while rayon < 300:\n",
    "    perimetre=2*pi*rayon\n",
    "    #perimetre=2*math.pi*rayon\n",
    "    arrondi=round(perimetre,2)\n",
    "    print('Le périmetre du disque est de : ',perimetre,' mm\\t',arrondi)\n",
    "    rayon*=10"
   ]
  },
  {
   "cell_type": "code",
   "execution_count": null,
   "metadata": {},
   "outputs": [],
   "source": [
    "import math\n",
    "help(math)\n",
    "dir(math)"
   ]
  },
  {
   "cell_type": "markdown",
   "metadata": {},
   "source": [
    ">* Que fait ce programme ? Détaillez.\n",
    "* 2 instructions sont mises en commentaire (lignes 9 et 15). Basculez en commentaires les lignes 8 et 14 et validez les lignes 9 et 15. Le programme fonctionne-t-il toujours de la même manière ? Que se passe-t-il si l’on met en commentaire, les lignes 8 et 9 ? Que provoquent les instructions des lignes 8 ou 9 ?\n",
    "* Quelles informations fournit la commande help(math) ?\n",
    "* Quelles informations fournit dir(math) ? Quel est l’intérêt de ces instructions ?\n",
    "* De quel type est la variable « perimetre » ?\n",
    "* Écrivez l’algorithme de ce programme."
   ]
  },
  {
   "cell_type": "markdown",
   "metadata": {},
   "source": [
    "**2)** Boucle for"
   ]
  },
  {
   "cell_type": "code",
   "execution_count": null,
   "metadata": {},
   "outputs": [],
   "source": [
    "%%tutor\n",
    "# -*- coding: utf-8 -*-\n",
    "\"\"\"\n",
    "Boucle for\n",
    "\"\"\"\n",
    "\n",
    "for i in range(0,8):\n",
    "    print(i**2)"
   ]
  },
  {
   "cell_type": "markdown",
   "metadata": {},
   "source": [
    ">**Et son algorithme**"
   ]
  },
  {
   "cell_type": "markdown",
   "metadata": {},
   "source": [
    "<img src=\"Images/pour.png\" alt=\"algorithme\" width=\"300\"/>"
   ]
  },
  {
   "cell_type": "markdown",
   "metadata": {},
   "source": [
    ">* Exécutez ce programme. Que pouvez-vous observer ?\n",
    "* Comment évolue le résultat ?"
   ]
  },
  {
   "cell_type": "markdown",
   "metadata": {},
   "source": [
    "**Un autre exemple**"
   ]
  },
  {
   "cell_type": "code",
   "execution_count": null,
   "metadata": {},
   "outputs": [],
   "source": [
    "%%tutor\n",
    "# -*- coding: utf-8 -*-\n",
    "\"\"\"\n",
    "Itération sur une\n",
    "chaîne de caractères\n",
    "\"\"\"\n",
    "Mot=\"Bonjour !\"\n",
    "for c in Mot:\n",
    "    print(c)"
   ]
  },
  {
   "cell_type": "markdown",
   "metadata": {},
   "source": [
    ">* Exécutez ce programme. Que pouvez-vous observer ?\n",
    "* Changez le mot et testez ce programme."
   ]
  },
  {
   "cell_type": "markdown",
   "metadata": {},
   "source": [
    "* La structure algorithmique utilisée est une **structure itérative**."
   ]
  },
  {
   "cell_type": "markdown",
   "metadata": {},
   "source": [
    "***\n",
    "Voici l'heure du défi !"
   ]
  },
  {
   "cell_type": "markdown",
   "metadata": {},
   "source": [
    "**Défi**\n",
    "\n",
    "Soit la séquence nucléique ATATACGGATCGGCTGTTGCCTGCGTAGTAGCGT.\n",
    "* Écrivez l’algorithme puis le programme permettant de calculer la fréquence de chaque base dans cette séquence. \n",
    "* La séquence nucléique est une chaîne de caractère ;\n",
    "* La présentation des résultats doit être explicite ;\n",
    "* On commentera son code.\n",
    "\n",
    "*Remarque : Vous avez tous les éléments pour réaliser ce programme dans les pages précédentes.Ne perdez pas votre temps sur Internet !*"
   ]
  },
  {
   "cell_type": "code",
   "execution_count": null,
   "metadata": {},
   "outputs": [],
   "source": [
    "#Votre solution ici !"
   ]
  }
 ],
 "metadata": {
  "celltoolbar": "Visualize",
  "kernelspec": {
   "display_name": "Python 3",
   "language": "python",
   "name": "python3"
  },
  "language_info": {
   "codemirror_mode": {
    "name": "ipython",
    "version": 3
   },
   "file_extension": ".py",
   "mimetype": "text/x-python",
   "name": "python",
   "nbconvert_exporter": "python",
   "pygments_lexer": "ipython3",
   "version": "3.7.3"
  },
  "varInspector": {
   "cols": {
    "lenName": 16,
    "lenType": 16,
    "lenVar": 40
   },
   "kernels_config": {
    "python": {
     "delete_cmd_postfix": "",
     "delete_cmd_prefix": "del ",
     "library": "var_list.py",
     "varRefreshCmd": "print(var_dic_list())"
    },
    "r": {
     "delete_cmd_postfix": ") ",
     "delete_cmd_prefix": "rm(",
     "library": "var_list.r",
     "varRefreshCmd": "cat(var_dic_list()) "
    }
   },
   "types_to_exclude": [
    "module",
    "function",
    "builtin_function_or_method",
    "instance",
    "_Feature"
   ],
   "window_display": false
  }
 },
 "nbformat": 4,
 "nbformat_minor": 2
}
