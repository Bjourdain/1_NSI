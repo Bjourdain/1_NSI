{
 "cells": [
  {
   "cell_type": "markdown",
   "metadata": {},
   "source": [
    "# <center><font face=\"arial\" size=\"5\" color=#0101DF>NUMERIQUE ET SCIENCES INFORMATIQUES 1ère NSI</font></center>"
   ]
  },
  {
   "cell_type": "markdown",
   "metadata": {},
   "source": [
    "## <font color=#013ADF>TD représentation graphique</font>"
   ]
  },
  {
   "cell_type": "markdown",
   "metadata": {},
   "source": [
    "Pour dessiner notre 2D code, nous allons utiliser la bibliothèque `PILLOW`. Ce module permet de faire du traitement d'image, de dessiner ...\n",
    "Découvrons les modules Image et ImageDraw (je vous ai mis la documentation de la bibliothèque au format pdf);\n",
    "*Vous constaterez que je n'ai fait que suivre la documentation ...*"
   ]
  },
  {
   "cell_type": "markdown",
   "metadata": {},
   "source": [
    "- Exécutez le programme ci-dessous ;\n",
    "- Recherchez et ouvrez l'image générée dans le répertoire courant ;\n",
    "- Modifiez des paramètres et constatez les effets : inspirez-vous de la documentation."
   ]
  },
  {
   "cell_type": "code",
   "execution_count": null,
   "metadata": {},
   "outputs": [],
   "source": [
    "#!/usr/bin/env python3\n",
    "# -*- coding: utf-8 -*-\n",
    "\"\"\"\n",
    "Programme génial qui fait un\n",
    "joli dessin avec les modules Image\n",
    "et ImageDraw de la bibliothèque PIL\n",
    "\"\"\"\n",
    "# Import des modules\n",
    "from PIL import Image, ImageDraw\n",
    "\n",
    "# choix des dimensions de la future image\n",
    "largeur, hauteur = 120, 90\n",
    "# Définition des dimensions d'un cadre\n",
    "cadre = [(10, 10), (largeur- 10, hauteur - 10)]\n",
    "# Création de l'image des dimensions voulues dans le mode Red, Green, Blue\n",
    "# et coloriage de celle-ci avec du bleu cyan approximativement\n",
    "mon_image = Image.new(\"RGB\", (largeur, hauteur), \"#3DE3DD\")\n",
    "# Création d'un objet qui permet de dessiner sur l'image\n",
    "draw = ImageDraw.Draw(mon_image)\n",
    "# Tracé de 2 diagonales noires\n",
    "draw.line((0, 0) + mon_image.size, fill=\"black\")\n",
    "draw.line((0, mon_image.size[1], mon_image.size[0], 0), fill=\"black\")\n",
    "# Tracé d'un rectangle de couleur blanche entouré d'une line bleue\n",
    "draw.rectangle(cadre, fill=\"#FFFFFF\", outline=\"blue\")\n",
    "# Écriture d'un texte à partir du point de coordonnées x=30, y=60\n",
    "# en rouge\n",
    "draw.text((30,60), \"Bonjour !\", fill=(255,0,0))\n",
    "# Destruction de l'objet draw devenu inutile\n",
    "del draw\n",
    "# sauvegarde de l'image\n",
    "mon_image.save(\"ma_belle_image.jpg\")"
   ]
  }
 ],
 "metadata": {
  "kernelspec": {
   "display_name": "Python 3",
   "language": "python",
   "name": "python3"
  },
  "language_info": {
   "codemirror_mode": {
    "name": "ipython",
    "version": 3
   },
   "file_extension": ".py",
   "mimetype": "text/x-python",
   "name": "python",
   "nbconvert_exporter": "python",
   "pygments_lexer": "ipython3",
   "version": "3.7.7"
  },
  "varInspector": {
   "cols": {
    "lenName": 16,
    "lenType": 16,
    "lenVar": 40
   },
   "kernels_config": {
    "python": {
     "delete_cmd_postfix": "",
     "delete_cmd_prefix": "del ",
     "library": "var_list.py",
     "varRefreshCmd": "print(var_dic_list())"
    },
    "r": {
     "delete_cmd_postfix": ") ",
     "delete_cmd_prefix": "rm(",
     "library": "var_list.r",
     "varRefreshCmd": "cat(var_dic_list()) "
    }
   },
   "position": {
    "height": "272.85px",
    "left": "1062.5px",
    "right": "32px",
    "top": "104px",
    "width": "345.5px"
   },
   "types_to_exclude": [
    "module",
    "function",
    "builtin_function_or_method",
    "instance",
    "_Feature"
   ],
   "window_display": false
  }
 },
 "nbformat": 4,
 "nbformat_minor": 2
}
