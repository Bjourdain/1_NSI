{
 "cells": [
  {
   "cell_type": "markdown",
   "metadata": {},
   "source": [
    "# <center><font face=\"arial\" size=\"5\" color=#0101DF>NUMERIQUE ET SCIENCES INFORMATIQUES 1ère NSI</font></center>"
   ]
  },
  {
   "cell_type": "markdown",
   "metadata": {},
   "source": [
    "## <font color=#013ADF>Séquence N° 9 : Algorithme des k plus proches voisins (KPPV ou KNN en Anglais)</font>"
   ]
  },
  {
   "cell_type": "markdown",
   "metadata": {},
   "source": [
    "<div class=\"alert alert-danger\" role=\"alert\">\n",
    "    \n",
    "Les objectifs de cette séquence sont :\n",
    "- Écrire un algorithme qui prédit la classe d'un élément en fonction de la calsse majoritaire de ses k plus proches voisins.\n"
   ]
  },
  {
   "cell_type": "markdown",
   "metadata": {},
   "source": [
    "### 1- L'intelligence artificielle"
   ]
  },
  {
   "cell_type": "markdown",
   "metadata": {},
   "source": [
    "<div class=\"alert alert-success\">\n",
    "<img src=\"Images/warning.png\" alt=\"logo CR\" width=5% align=left>\n",
    "\n",
    "L'intelligence artificielle  a trouvé son nom à la conférence de Dartmouth en 1956. Mais elle a débuté dès le début des années 1950 avec, notamment, les travaux d'*[Alan Turing](https://fr.wikipedia.org/wiki/Alan_Turing)* qui s'est posé la question de savoir si l'on pouvait faire penser un ordinateur.  \n",
    "\n",
    "Il proposa pour cela un test, dit, *test de Turing*, dans  lequel une personne discute au travers d'un ordinateur et doit deviner  si son interlocuteur est une machine ou un être humain. Si elle n'y arrive pas, l'on pourra conclure qu'il est possible de  faire fonctionner un ordinateur avec des algorithmes de logique  semblables à notre manière de penser.\n",
    "\n",
    "S'il y a encore quelques années il était très facile de deviner  qu'une machine nous parlait, aujourd'hui  dans des activités  nécessitant beaucoup de réflexion, l'ordinateur s'est montré plus fort que l'être humain, comme avec :\n",
    "\n",
    "- La victoire en 1997 aux échecs du programme [Deep Blue d’IBM contre le champion du monde Garry Kasparov](https://fr.wikipedia.org/wiki/Deep_Blue_-_Kasparov_(1997,_partie_6))\n",
    "- Le jeu de Go, où le programme [AlphaGo de Google a battu le champion du monde Lee SeDol](http://www.lemonde.fr/pixels/article/2016/03/09/comment-savoir-si-les-programmes-d-intelligence-artificielle-sont-vraiment-intelligents_4879177_4408996.html) en 2016\n",
    "- La conduite automobile où les voitures sans chauffeur semblent plus sûres que celles conduites par des humains\n",
    "- ...\n",
    "\n",
    "L'intelligence artificielle a suscité et continue toujours de  susciter de nombreux espoirs pour l'amélioration de notre condition  humaine, mais le fait qu'elle arrive aujourd'hui dans certains domaines à nous égaler, voire à nous dépasser, suscite des inquiétudes.\n",
    "    \n",
    "Pour avoir une bonne notion de ce que l'on entend par IA, machine learning et deep learning, voici les liens vers des vidéos qu'il est préférable de visionner dans l'ordre :\n",
    "    \n",
    "https://www.youtube.com/watch?v=P-z3eAuV1kc\n",
    "\n",
    "https://www.youtube.com/watch?v=trWrEWfhTVg"
   ]
  },
  {
   "cell_type": "markdown",
   "metadata": {},
   "source": [
    "### 2- L'algorithme des k plus proches voisins (kppv) ou (k-nearest neighbors knn)"
   ]
  },
  {
   "cell_type": "markdown",
   "metadata": {},
   "source": [
    "<div class=\"alert alert-success\">\n",
    "<img src=\"Images/warning.png\" alt=\"logo CR\" width=5% align=left>\n",
    "\n",
    "\"Dis-moi qui tu fréquentes, je te dirais qui tu es.\"\n",
    "\n",
    "Le principe de l’algorithme des k plus proches voisins est basé le  fait que les objets d’un même type sont “proches” entre eux. Pour  quantifier la distance entre les objets, la grandeur couramment utilisée est la distance euclidienne.\n",
    "\n",
    "L’algorithme permet ainsi de prédire l’appartenance d’un nouvel objet à une classe en fonction de ses distances avec ses voisins : elle  appartiendra à la classe majoritaire de ses voisins. Il s'agit donc d'un apprentissage supervisé.\n",
    "\n",
    "Il s’agit d’un algorithme simple mais très efficace pour **classifier des données labellisées**.\n",
    "\n",
    "</div>\n",
    "<div class=\"alert alert-danger\" role=\"alert\">\n",
    "    \n",
    "Distance euclidienne ?\n",
    "\n",
    "Soit 2 points du plan P : p<sub>1</sub>(x<sub>1</sub>,y<sub>1</sub>) et p<sub>2</sub>(x<sub>2</sub>,y<sub>2</sub>)\n",
    "$$\n",
    "D(p_1,p_2)=\\sqrt{(x_1-x_2)² + (y_1-y_2)²}\n",
    "$$\n",
    "</div>"
   ]
  },
  {
   "cell_type": "markdown",
   "metadata": {},
   "source": [
    "<div class=\"alert alert-warning\">\n",
    "<img src=\"Images/CR.png\" alt=\"logo CR\" width=5% align=right>\n",
    "\n",
    "**Travail à faire** :\n",
    "\n",
    " Vous êtes banquier. Vous avez à décider si vous accordez ou non un prêt de 142 000 € à un client. Pour vous aidez dans votre choix, vous disposez d'un jeu de données concernant des clients qui ont remboursé leur prêt et d'autres qui ont eu des défauts de paiement (Voir fichier clients.csv).\n",
    " \n",
    " | ID client | Age  | Age normalisé | Montant prêt | Montant normalisé | Défaillance | Distance | Plus proche |\n",
    "| :-------: | :--: | :-----------: | :----------: | :---------------: | :---------: | :------: | :---------: |\n",
    "|     1     |  25  |     0,13      |   40 000 €   |       0,11        |      N      |   0,77   |   **10**    |\n",
    "|     2     |  35  |     0,38      |   60 000 €   |       0,21        |      N      |   0,52   |    **7**    |\n",
    "|     3     |  45  |     0,63      |   80 000 €   |       0,31        |      N      |   0,32   |    **1**    |\n",
    "|     4     |  20  |     0,00      |   20 000 €   |       0,01        |      N      |   0,92   |   **11**    |\n",
    "|     5     |  35  |     0,38      |  120 000 €   |       0,50        |      N      |   0,34   |    **2**    |\n",
    "|     6     |  52  |     0,80      |   18 000 €   |       0,00        |      N      |   0,62   |    **8**    |\n",
    "|     7     |  23  |     0,08      |   95 000 €   |       0,38        |      Y      |   0,67   |    **9**    |\n",
    "|     8     |  40  |     0,50      |   62 000 €   |       0,22        |      Y      |   0,44   |    **6**    |\n",
    "|     9     |  60  |     1,00      |  100 000 €   |       0,41        |      Y      |   0,37   |    **3**    |\n",
    "|    10     |  48  |     0,70      |  220 000 €   |       1,00        |      Y      |   0,39   |    **5**    |\n",
    "|    11     |  33  |     0,33      |  150 000 €   |       0,65        |      Y      |   0,38   |    **4**    |\n",
    "|           |      |               |              |                   |             |          |             |\n",
    "|           |      |               |              |                   |             |          |             |\n",
    "|    12     |  48  |     0,70      |  142 000 €   |       0,61        |      ?      |          |             |\n",
    " \n",
    "\n",
    "<img src=\"Images/pret.png\" alt=\"pret\" width=50% align=center>\n",
    "\n",
    "\n",
    "1. Déterminer la distance normalisée entre tous les clients et le nouveau client.\n",
    "On normalise les distances pour éviter l'influence d'un paramètre sur un autre.\n",
    "    \n",
    "Pour une valeur V :\n",
    "$$V_{norm}=\\frac{V -V_{min}}{V_{max}-V_{min}}$$\n",
    "\n",
    "*Il s'agit une transformation linéaire qui permet de ramener la valeur normalisée entre 0 et 1, tout en gardant une relation avec les valeurs originales.*\n",
    "\n",
    "2. Déterminer \"k\", le nombre de voisins à prendre en considération : prendre la valeur la plus proche de : $$\\sqrt{nb client}$$\n",
    "\n",
    "Nécessite d'importer le module math.sqrt de python qui était également nécessaire pour le calcul de la distance euclidienne.\n",
    "    \n",
    "3. Déterminer les clients k clients les plus proche\n",
    "4. Décider si vous accordez le prêt ou non, en le justifiant\n",
    "</div>"
   ]
  },
  {
   "cell_type": "markdown",
   "metadata": {},
   "source": [
    "<div class=\"alert alert-warning\">\n",
    "<img src=\"Images/CR.png\" alt=\"logo CR\" width=5% align=right>\n",
    "\n",
    "**Travail à faire** :\n",
    "\n",
    "- Après ce travail manuel, nécessaire pour comprendre l'algorithme, vous allez réaliser un programme en python qui réalise le même travail.\n",
    "- Pour les plus rapides, utiliser la feuille ressource sur \"Matplotlib_scatter\" pour afficher sur un graphe les points en 3 séries : O, N et ?.\n",
    "\n",
    "</div>"
   ]
  },
  {
   "cell_type": "markdown",
   "metadata": {},
   "source": [
    "<img src=\"Images/Résultats.png\" alt=\"graphe de points\" align=center>"
   ]
  },
  {
   "cell_type": "markdown",
   "metadata": {},
   "source": [
    "<div class=\"alert alert-success\" role=\"alert\">\n",
    "\n",
    "**Pour aller plus loin ...**\n",
    "\n",
    "- La **bibliothèque** Python **Scikit Learn** propose un grand nombre d'algorithmes lié au machine learning (c'est sans aucun doute la bibliothèque la plus utilisée en machine learning). Parmi tous ces algorithmes, Scikit Learn propose l'algorithme des k plus proches voisins.\n",
    "\n",
    "- Une seconde **bibliothèque** est couramment utilisée pour lire les données, il s'agit de **pandas**. Pandas fournit des structures de données puissantes et simples à utiliser, ainsi que les moyens d'opérer rapidement des opérations sur ces structures.\n",
    "</div>"
   ]
  }
 ],
 "metadata": {
  "kernelspec": {
   "display_name": "Python 3",
   "language": "python",
   "name": "python3"
  },
  "language_info": {
   "codemirror_mode": {
    "name": "ipython",
    "version": 3
   },
   "file_extension": ".py",
   "mimetype": "text/x-python",
   "name": "python",
   "nbconvert_exporter": "python",
   "pygments_lexer": "ipython3",
   "version": "3.8.3"
  },
  "varInspector": {
   "cols": {
    "lenName": 16,
    "lenType": 16,
    "lenVar": 40
   },
   "kernels_config": {
    "python": {
     "delete_cmd_postfix": "",
     "delete_cmd_prefix": "del ",
     "library": "var_list.py",
     "varRefreshCmd": "print(var_dic_list())"
    },
    "r": {
     "delete_cmd_postfix": ") ",
     "delete_cmd_prefix": "rm(",
     "library": "var_list.r",
     "varRefreshCmd": "cat(var_dic_list()) "
    }
   },
   "types_to_exclude": [
    "module",
    "function",
    "builtin_function_or_method",
    "instance",
    "_Feature"
   ],
   "window_display": false
  }
 },
 "nbformat": 4,
 "nbformat_minor": 2
}
