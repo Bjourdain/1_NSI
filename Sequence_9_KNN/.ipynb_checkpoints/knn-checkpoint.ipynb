{
 "cells": [
  {
   "cell_type": "markdown",
   "metadata": {},
   "source": [
    "# <center><font face=\"arial\" size=\"5\" color=#0101DF>NUMERIQUE ET SCIENCES INFORMATIQUES 1ère NSI</font></center>"
   ]
  },
  {
   "cell_type": "markdown",
   "metadata": {},
   "source": [
    "## <font color=#013ADF>Séquence N° 9 : Algorithme des k plus proches voisins (KNN)</font>"
   ]
  },
  {
   "cell_type": "markdown",
   "metadata": {},
   "source": [
    "<div class=\"alert alert-danger\" role=\"alert\">\n",
    "    \n",
    "Les objectifs de cette séquence sont :\n",
    "- Écrire un algorithme qui prédit la classe d'un élément en fonction de la calsse majoritaire de ses k plus proches voisins.\n"
   ]
  },
  {
   "cell_type": "markdown",
   "metadata": {},
   "source": [
    "### 1- L'intelligence artificielle"
   ]
  },
  {
   "cell_type": "markdown",
   "metadata": {},
   "source": [
    "<div class=\"alert alert-success\">\n",
    "<img src=\"Images/warning.png\" alt=\"logo CR\" width=5% align=left>\n",
    "\n",
    "L'intelligence artificielle  a trouvé son nom à la conférence de Dartmouth en 1956. Mais elle a débuté dès le début des années 1950 avec, notamment, les travaux d'*[Alan Turing](https://fr.wikipedia.org/wiki/Alan_Turing)* qui s'est posé la question de savoir si l'on pouvait faire penser un ordinateur.  \n",
    "\n",
    "Il proposa pour cela un test, dit, *test de Turing*, dans  lequel une personne discute au travers d'un ordinateur et doit deviner  si son interlocuteur est une machine ou un être humain. Si elle n'y arrive pas, l'on pourra conclure qu'il est possible de  faire fonctionner un ordinateur avec des algorithmes de logique  semblables à notre manière de penser.\n",
    "\n",
    "S'il y a encore quelques années il était très facile de deviner  qu'une machine nous parlait, aujourd'hui  dans des activités  nécessitant beaucoup de réflexion, l'ordinateur s'est montré plus fort que l'être humain, comme avec :\n",
    "\n",
    "- La victoire en 1997 aux échecs du programme [Deep Blue d’IBM contre le champion du monde Garry Kasparov](https://fr.wikipedia.org/wiki/Deep_Blue_-_Kasparov_(1997,_partie_6))\n",
    "- Le jeu de Go, où le programme [AlphaGo de Google a battu le champion du monde Lee SeDol](http://www.lemonde.fr/pixels/article/2016/03/09/comment-savoir-si-les-programmes-d-intelligence-artificielle-sont-vraiment-intelligents_4879177_4408996.html) en 2016\n",
    "- La conduite automobile où les voitures sans chauffeur semblent plus sûres que celles conduites par des humains\n",
    "- ...\n",
    "\n",
    "L'intelligence artificielle a suscité et continue toujours de  susciter de nombreux espoirs pour l'amélioration de notre condition  humaine, mais le fait qu'elle arrive aujourd'hui dans certains domaines à nous égaler, voire à nous dépasser, suscite des inquiétudes."
   ]
  },
  {
   "cell_type": "markdown",
   "metadata": {},
   "source": [
    "### 2- L' Apprentissage Automatique ou *Machine Learning*"
   ]
  },
  {
   "cell_type": "markdown",
   "metadata": {},
   "source": [
    "L'apprentissage automatique peut-être vu comme l’ensemble des  techniques permettant à une machine d’apprendre à réaliser une tâche  sans avoir à la programmer explicitement pour cela. [Arthur Samuel](https://fr.wikipedia.org/wiki/Arthur_Samuel)\n",
    "\n",
    "Le type de tâches traitées consiste en des problèmes de **classification de données**.\n",
    "\n",
    "Il existe dans ce domaine, différentes approches :\n",
    "\n",
    "- **Apprentissage supervisé** : on a des exemples que l'on sait classer et qui sont classés. L'ordinateur apprend avec les exemples et leur réponse, puis teste. Par exemple pour distinguer si l'on a une photo de chat ou de chien, l'ordinateur va analyser des centaines de photos dont il a la réponse.\n",
    "- **Apprentissage non supervisé** : l'ordinateur a des exemples mais ne connait pas la réponse. \n",
    "- **Apprentissage par renforcement** : l'algorithme apprend en observant ce qu'il essaye. Un système de récompense/punition lui permet d'améliorer ses choix. L'ordinateur joue au hasard au début et plus il apprend moins il joue au hasard et utilise ce qu'il a trouvé comme 'bonne méthode'.\n",
    "- **Apprentissage par transfert** : utiliser des comptétences déjà apprises sur des nouvelles taches qui ont des points communs."
   ]
  },
  {
   "cell_type": "markdown",
   "metadata": {},
   "source": [
    "### 3- L'algorithme des k plus proches voisins (kppv) ou (k-nearest neighbors knn)"
   ]
  },
  {
   "cell_type": "markdown",
   "metadata": {},
   "source": [
    "<div class=\"alert alert-success\">\n",
    "<img src=\"Images/warning.png\" alt=\"logo CR\" width=5% align=left>\n",
    "\n",
    "\"Dis-moi qui tu fréquentes, je te dirais qui tu es.\"\n",
    "\n",
    "Le principe de l’algorithme des k plus proches voisins est basé le  fait que les objets d’un même type sont “proches” entre eux. Pour  quantifier la distance entre les objets, la grandeur couramment utilisée est la distance euclidienne.\n",
    "\n",
    "L’algorithme permet ainsi de prédire l’appartenance d’un nouvel objet à une classe en fonction de ses distances avec ses voisins : elle  appartiendra à la classe majoritaire de ses voisins.\n",
    "\n",
    "Il s’agit d’un algorithme simple mais très efficace pour classifier des données labellisées.\n",
    "\n",
    "</div>\n",
    "<div class=\"alert alert-danger\" role=\"alert\">\n",
    "    \n",
    "Distance euclidienne ?\n",
    "\n",
    "Soit 2 points p<sub>1</sub>(x<sub>1</sub>,y<sub>1</sub>) et p<sub>2</sub>(x<sub>2</sub>,y<sub>2</sub>)\n",
    "$$\n",
    "D(p_1,p_2)=\\sqrt{(x_1-x_2)² + (y_1-y_2)²}\n",
    "$$\n",
    "</div>"
   ]
  },
  {
   "cell_type": "markdown",
   "metadata": {},
   "source": [
    "<div class=\"alert alert-warning\">\n",
    "<img src=\"Images/CR.png\" alt=\"logo CR\" width=5% align=right>\n",
    "\n",
    "**Travail à faire** :\n",
    "\n",
    " Vous êtes banquier. Vous avez à décider si vous accordez ou non un prêt de 142 000 € à un client. Pour vous aidez dans votre choix, vous disposez d'un jeu de données concernant des clients qui ont remboursé leur prêt et d'autres qui ont eu des défauts de paiement (Voir fichier clients.csv).\n",
    " \n",
    "| ID client | Age  | Montant prêt | Défaillance | Distance | Plus proche |\n",
    "| :-------: | :--: | -----------: | :---------: | -------: | :---------: |\n",
    "|     1     |  25  |     40 000 € |      Non    |    |       |\n",
    "|     2     |  35  |     60 000 € |      Non    |    |        |\n",
    "|     3     |  45  |     80 000 € |      Non    |     |        |\n",
    "|     4     |  20  |     20 000 € |      Non    |    |      |\n",
    "|     5     |  35  |    120 000 € |      Non    |     |        |\n",
    "|     6     |  52  |     18 000 € |      Non    |   |       |\n",
    "|     7     |  23  |     95 000 € |      Oui    |     |        |\n",
    "|     8     |  40  |     62 000 € |      Oui    |     |      |\n",
    "|     9     |  60  |    100 000 € |      Oui    |     |      |\n",
    "|    10     |  48  |    220 000 € |      Oui    |     |        |\n",
    "|    11     |  33  |    150 000 € |      Oui    |      |       |\n",
    "|           |      |              |             |          |             |\n",
    "|           |      |              |             |          |             |\n",
    "|    12     |  48  |    142 000 € |      ?      |          |             |\n",
    " \n",
    "\n",
    "<img src=\"Images/pret.png\" alt=\"pret\" width=50% align=center>\n",
    "\n",
    "\n",
    "1. Déterminer la distance entre tous les clients et le nouveau client\n",
    "2. Déterminer \"k\", le nombre de voisins à prendre en considération : prendre la valeur la plus proche de : $$\\sqrt{nb client}$$\n",
    "3. Déterminer les clients k clients les plus proche\n",
    "4. Décider si vous accordez le prêt ou non, en le justifiant\n",
    "</div>"
   ]
  },
  {
   "cell_type": "markdown",
   "metadata": {},
   "source": []
  },
  {
   "cell_type": "markdown",
   "metadata": {},
   "source": [
    "<div class=\"alert alert-warning\">\n",
    "<img src=\"Images/CR.png\" alt=\"logo CR\" width=5% align=right>\n",
    "\n",
    "Après ce travail manuel, nécessaire pour comprendre l'algorithme, vous allez réaliser un programme en python qui réalise le même travail. Cela vous permettra de plus, de travailler sur une collection de données très importante et ainsi affiner votre décision.\n",
    "\n",
    "**Travail à faire** :\n",
    "\n",
    "1. Écrire une fonction qui lit le fichier CSV et renvoie une liste de listes contenant les informations des clients. On pensera à convertir les valeurs nécessaires en entier.\n",
    "\n",
    "Entrée : le fichier clients.csv\n",
    "\n",
    "Sortie : une liste de liste\n",
    "\n",
    "2. Écrire une fonction qui calcule la distance entre le demandeur du prêt et les autres clients.\n",
    "\n",
    "Entrée : un client et le demandeur du prêt\n",
    "\n",
    "Sortie : un réel \"distance\", ajouté aux listes des informations des clients\n",
    "\n",
    "3. Écrire une fonction qui détermine \"k\".\n",
    "\n",
    "Entrée : le nombre de clients\n",
    "\n",
    "Sortie : un nombre\n",
    "\n",
    "4. Écrire une fonction qui détermine qui sont les k plus proches voisins du demandeur du prêt.\n",
    "5. Écrire une fonction qui prédit la décision du banquier.\n",
    "</div>"
   ]
  }
 ],
 "metadata": {
  "kernelspec": {
   "display_name": "Python 3",
   "language": "python",
   "name": "python3"
  },
  "language_info": {
   "codemirror_mode": {
    "name": "ipython",
    "version": 3
   },
   "file_extension": ".py",
   "mimetype": "text/x-python",
   "name": "python",
   "nbconvert_exporter": "python",
   "pygments_lexer": "ipython3",
   "version": "3.7.3"
  },
  "varInspector": {
   "cols": {
    "lenName": 16,
    "lenType": 16,
    "lenVar": 40
   },
   "kernels_config": {
    "python": {
     "delete_cmd_postfix": "",
     "delete_cmd_prefix": "del ",
     "library": "var_list.py",
     "varRefreshCmd": "print(var_dic_list())"
    },
    "r": {
     "delete_cmd_postfix": ") ",
     "delete_cmd_prefix": "rm(",
     "library": "var_list.r",
     "varRefreshCmd": "cat(var_dic_list()) "
    }
   },
   "types_to_exclude": [
    "module",
    "function",
    "builtin_function_or_method",
    "instance",
    "_Feature"
   ],
   "window_display": false
  }
 },
 "nbformat": 4,
 "nbformat_minor": 2
}
