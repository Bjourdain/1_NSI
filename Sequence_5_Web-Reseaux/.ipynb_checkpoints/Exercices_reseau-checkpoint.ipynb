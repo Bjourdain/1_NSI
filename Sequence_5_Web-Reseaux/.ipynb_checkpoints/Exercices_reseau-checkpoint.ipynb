{
 "cells": [
  {
   "cell_type": "markdown",
   "metadata": {},
   "source": [
    "# <center><font face=\"arial\" size=\"5\" color=#0101DF>NUMERIQUE ET SCIENCES INFORMATIQUES 1ère NSI</font></center>"
   ]
  },
  {
   "cell_type": "markdown",
   "metadata": {},
   "source": [
    "## <font color=#013ADF>Séquence N° 5 : Réseaux WEB - Exercices</font>"
   ]
  },
  {
   "cell_type": "markdown",
   "metadata": {},
   "source": [
    "## Exercice 1 : \n",
    "\n",
    "Soit les 3 machines suivantes :\n",
    "\n",
    "- machine 1 : 192.168.129.10/21\n",
    "- machine 2 : 192.168.135.200/21\n",
    "- machine 3 : 192.168.145.1/21\n",
    "\n",
    "Écrire en notation décimale pointée, le masque de sous -réseau.\n",
    "\n",
    "\n",
    "Ces machines sont-elles sur le même sous-réseau ? Justifier\n"
   ]
  },
  {
   "cell_type": "markdown",
   "metadata": {},
   "source": [
    "## Exercice 2 :\n",
    "\n",
    "Je veux réaliser 2 réseaux de 30 machines en gaspillant le moins possible d'adresses IPV4. J'ai à ma disposition une adresse réseau 192.168.1.0 (ex classe C).\n",
    "\n",
    "Si j'utilise un masque de la forme 255.255.255.0 :\n",
    "\n",
    "- Combien de machine (host) je peux mettre sur ce réseau ? \n",
    "- Donnez la plage d'adresses IP des machines : \n",
    "- Donner l'adresse de diffusion générale (broadcast) : \n",
    "- Compte tenu du problème à résoudre, comment d'adresses IP ne seront jamais utilisées ? \n",
    "\n",
    "Si j'utilise un masque de la forme 255.255.255.224\n",
    "\n",
    "- Combien de sous-réseau puis-je faire ? \n",
    "\n",
    "- Combien de machine (host) je peux mettre sur chaque sous-réseau  ? \n",
    "\n",
    "- Donnez la plage d'adresses IP  de chaque sous-réseau dans l'ordre croissant, les adresses des machines, ainsi que l'adresse de diffusion génrérale (broadcast) : \n",
    "\n"
   ]
  },
  {
   "cell_type": "markdown",
   "metadata": {},
   "source": [
    "## Exercice 3 :\n",
    "\n",
    "On dispose d'un bloc d'adresses 172.16.1.0/24. On veut créer des sous-réseaux de tailles différentes comportant:\n",
    "\n",
    "- sous-réseau 1 : 100 machines\n",
    "\n",
    "- sous-réseau 2 : au maximum 55 machines\n",
    "\n",
    "- sous-réseau 3 : 2  sous-réseaux au précédent (sous-réseaux 3 et 4) d'un maximum de 12 machines chacun\n",
    "\n",
    "\n",
    "- Pour pouvoir disposer d'un sous-réseau de 100 machines, quel masque doit-on utiliser ?\n",
    "\n",
    "- Quelles sont les adresses de 2 sous-réseaux par ordre croissant ?\n",
    "\n",
    "\n",
    "\n",
    "On va utiliser le premier sous-réseau pour accueillir les 100 machines et le second pour le reste.\n",
    "\n",
    "- Pour pouvoir disposer d'un sous-réseau d'au maximum 55 machines, quel masque doit-on utiliser ?\n",
    "\n",
    "\n",
    "\n",
    "- Quelles sont les adresses de 2 sous sous-réseaux par ordre croissant ?\n",
    "\n",
    "\n",
    "\n",
    "On va utiliser le premier sous sous-réseau pour accueillir les 55 machines et le second pour le reste.\n",
    "\n",
    "- Pour pouvoir disposer de 2 sous sous-réseau d'au maximum 12 machines, quel masque doit-on utiliser ?\n",
    "\n",
    "\n",
    "\n",
    "- Quelles sont les adresses des sous sous-réseaux par ordre croissant ?\n",
    "\n",
    "\n",
    "\n"
   ]
  },
  {
   "cell_type": "markdown",
   "metadata": {},
   "source": [
    "## Exercice 4 :\n",
    "\n",
    "On souhaite pouvoir raccorder 1200 machines sur le même sous-réseau IP. Donnez le plus petit masque permettant de définir un tel sous-réseau.\n",
    "\n"
   ]
  },
  {
   "cell_type": "markdown",
   "metadata": {},
   "source": [
    "## Exercice 5 :\n",
    "\n",
    "On considère le masque 255.255.252.0. Parmi les adresses suivantes, indiquez lesquelles dénotent des machines du même sous-réseau.\n",
    "\n",
    "machine 1 : 129.175.127.1\n",
    "\n",
    "machine 2 : 129.175.130.10\n",
    "\n",
    "machine 3 : 129.175.128.17\n",
    "\n",
    "machine 4 : 129.175.131.110\n",
    "\n",
    "machine 5 : 129.175.132.8"
   ]
  },
  {
   "cell_type": "markdown",
   "metadata": {},
   "source": [
    "## Exercice 6 :\n",
    "\n",
    "<img src=\"Images/exercice_8.png\"/>\n",
    "\n",
    "|       Interface       |  Adresse IPV4  |\n",
    "| :-------------------: | :------------: |\n",
    "|          A.1          | 129.175.31.32  |\n",
    "|          B.1          | 129.175.31.37  |\n",
    "|          B.2          | 129.175.24.10  |\n",
    "|          B.3          | 129.175.34.10  |\n",
    "|          C.1          | 129.175.35.22  |\n",
    "|          C.2          | 129.175.33.12  |\n",
    "|          C.3          | 129.175.32.200 |\n",
    "|          D.1          | 129.175.29.148 |\n",
    "|          E.1          | 129.175.39.18  |\n",
    "|          E.2          |  129.175.41.2  |\n",
    "|          F.1          | 129.175.40.33  |\n",
    "|          F.2          | 129.175.32.12  |\n",
    "|          G.1          | 129.175.32.78  |\n",
    "|          G.2          | 129.175.33.51  |\n",
    "| MASQUE DE SOUS-RÉSEAU | 255.255.248.0  |\n",
    "\n",
    "\n",
    "\n",
    "Le réseau décrit est constitué de 7 machines (A,B, C, D, E, F et G) possédant chacune de 1 à 3 interfaces réseau (1, 2 ou 3). Le plan IP est fourni ci-dessus.\n",
    "\n",
    "- Combien y-a-t-il de sous-réseaux ?\n",
    "\n",
    "\n",
    "\n",
    "On suppose que la machine D fait office de serveur DNS et que l'adresse IP associée au nom X est celle de l'interface X.1 (i.e l'adresse IP que le serveur DNS renvoi pour le nom B est 129.175.31.37).\n",
    "\n",
    "On effectue depuis la machine A, la commande ping. Dans chacun des cas suivants, indiquez si la commande est un succès ou un echec en justifiant.\n",
    "\n",
    "- ping F avec le lien B-D coupé\n",
    "- ping F avec le lien B-C coupé\n",
    "- ping 129.175.40.33 avec le lien B-D coupé\n",
    "- ping 129.175.29.148 avec le lien B-D coupé\n",
    "- ping F avec un TTL initial de 2\n",
    "\n",
    "\n",
    "\n",
    "On considère les tables de routage des machines C, E, F et G. On suppose qu'elles sont configurées de manière erronée de sorte que sur C, la route menant de A passe par l'interface 3, sur E et G, elle passe par l'interface 2, et sur F elle passe par l'interface 1.\n",
    "\n",
    "- Que se passe-t-il lorsque sur C on envoie un paquet IP à destination de A ?\n",
    "\n",
    "*Indication* : On peut supposer une valeur de départ pour le champ TTL du paquet IP, par exemple 9, et simuler le trajet selon la route.\n",
    "\n"
   ]
  }
 ],
 "metadata": {
  "kernelspec": {
   "display_name": "Python 3",
   "language": "python",
   "name": "python3"
  },
  "language_info": {
   "codemirror_mode": {
    "name": "ipython",
    "version": 3
   },
   "file_extension": ".py",
   "mimetype": "text/x-python",
   "name": "python",
   "nbconvert_exporter": "python",
   "pygments_lexer": "ipython3",
   "version": "3.8.3"
  },
  "varInspector": {
   "cols": {
    "lenName": 16,
    "lenType": 16,
    "lenVar": 40
   },
   "kernels_config": {
    "python": {
     "delete_cmd_postfix": "",
     "delete_cmd_prefix": "del ",
     "library": "var_list.py",
     "varRefreshCmd": "print(var_dic_list())"
    },
    "r": {
     "delete_cmd_postfix": ") ",
     "delete_cmd_prefix": "rm(",
     "library": "var_list.r",
     "varRefreshCmd": "cat(var_dic_list()) "
    }
   },
   "types_to_exclude": [
    "module",
    "function",
    "builtin_function_or_method",
    "instance",
    "_Feature"
   ],
   "window_display": false
  }
 },
 "nbformat": 4,
 "nbformat_minor": 2
}
