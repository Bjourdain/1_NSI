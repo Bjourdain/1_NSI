{
 "cells": [
  {
   "cell_type": "markdown",
   "metadata": {},
   "source": [
    "# <center><font face=\"arial\" size=\"5\" color=#0101DF>NUMERIQUE ET SCIENCES INFORMATIQUES 1ère NSI</font></center>"
   ]
  },
  {
   "cell_type": "markdown",
   "metadata": {},
   "source": [
    "## <font color=#013ADF>Séquence N° 7 : Parcours séquentiel d'un tableau - Recherche dichotomique</font>"
   ]
  },
  {
   "cell_type": "markdown",
   "metadata": {},
   "source": [
    "<div class=\"alert alert-danger\" role=\"alert\">\n",
    "    \n",
    "Les objectifs de cette séquence sont :\n",
    "- Écrire un algorithme de recherche d'une occurrence sur des valeurs de type quelconque.\n",
    "- Écrire un algorithme de recherche d'un extremum, de calcul d'une moyenne.\n",
    "- Évaluer la complexité temporelle d'une solution.\n"
   ]
  },
  {
   "cell_type": "markdown",
   "metadata": {},
   "source": [
    "### 1- Recherche d'une occurrence"
   ]
  },
  {
   "cell_type": "markdown",
   "metadata": {},
   "source": [
    "Nous allons dans un premier temps travailler avec des valeurs entières. Pour cela, on va générer aléatoirement une liste d'entiers grâce au code ci-dessous. Ce code nous permettra de faire varier facilement, la gamme et le nombre d'éléments de la liste (tableau)."
   ]
  },
  {
   "cell_type": "code",
   "execution_count": null,
   "metadata": {},
   "outputs": [],
   "source": [
    "from random import randint\n",
    "liste_nombres = [randint(1, 10) for i in range(10)]"
   ]
  },
  {
   "cell_type": "markdown",
   "metadata": {},
   "source": [
    "<div class=\"alert alert-warning\">\n",
    "<img src=\"Images/CR.png\" alt=\"logo CR\" width=5% align=right>\n",
    "\n",
    "\n",
    "Il s’agit de déterminer la position (l’index) du premier élément \"nb\" suceptible d'être présent dans la liste \"liste_nombres\".\n",
    "\n",
    "En python, une méthode de liste permet de faire cela : liste_nombres.index(nb) - (voir script ci-dessous)\n",
    "\n",
    "Travail à faire\n",
    "- Imaginer une fonction réalisant le même travail que la méthode \"index\".\n",
    "- Écrire l'algorithme, puis la fonction que nous nommerons \"position\". Celle-ci prend :\n",
    "    - En entrée : l'occurrence recherchée et la liste\n",
    "    - En sortie : la position de la première occurence \"nb\" dans la liste ou \"inconnu\" si elle n'existe pas\n",
    "- Évaluer la complexité temporelle de votre solution."
   ]
  },
  {
   "cell_type": "code",
   "execution_count": null,
   "metadata": {},
   "outputs": [],
   "source": [
    "from random import randint\n",
    "liste_nombres = [randint(1, 10) for i in range(10)]\n",
    "indice=liste_nombres.index(3)\n",
    "print(f'liste nombres : {liste_nombres} indice : {indice}')"
   ]
  },
  {
   "cell_type": "code",
   "execution_count": null,
   "metadata": {},
   "outputs": [],
   "source": [
    "from random import randint\n",
    "\n",
    "# votre solution ici\n",
    "\n",
    "\n",
    "\n",
    "\n",
    "# Création d'une liste de 10 valeurs comprises entre 1 et 10\n",
    "liste_nombres = [randint(1, 10) for i in range(10)]\n",
    "index=position(3,liste_nombres)\n",
    "print(f'liste nombres : {liste_nombres} indice : {index}')"
   ]
  },
  {
   "cell_type": "markdown",
   "metadata": {},
   "source": [
    "### 2- Recherche d'extremums"
   ]
  },
  {
   "cell_type": "markdown",
   "metadata": {},
   "source": [
    "<div class=\"alert alert-warning\">\n",
    "<img src=\"Images/CR.png\" alt=\"logo CR\" width=5% align=right>\n",
    "\n",
    "\n",
    "Il s’agit de déterminer la valeur maximale, puis minimale présentes dans la liste \"liste_nombres\".\n",
    "\n",
    "En python, 2 fonctions permettent de faire cela : max(liste_nombres) et min(liste_nombres) - (voir script ci-dessous)\n",
    "\n",
    "Travail à faire\n",
    "- Imaginer 2 fonctions réalisant le même travail que les fonctions \"max\" et \"min\".\n",
    "- Écrire l'algorithme, puis les fonctions que nous nommerons \"maximum\" et \"minimum\". Celles-ci prennent :\n",
    "    - En entrée : la liste\n",
    "    - En sortie : la valeur maximale (ou minimale)\n",
    "- Évaluer la complexité temporelle de votre solution."
   ]
  },
  {
   "cell_type": "code",
   "execution_count": null,
   "metadata": {},
   "outputs": [],
   "source": [
    "# Création d'une liste de 10 valeurs comprises entre 1 et 10\n",
    "liste_nombres = [randint(1, 10) for i in range(10)]\n",
    "print(f'liste nombres : {liste_nombres} valeur maximale : {max(liste_nombres)} valeur minimale : {min(liste_nombres)}')"
   ]
  },
  {
   "cell_type": "code",
   "execution_count": null,
   "metadata": {},
   "outputs": [],
   "source": [
    "def maximum(liste_nombres):\n",
    "    # votre solution ici\n",
    "    \n",
    "\n",
    "def minimum(liste_nombres):\n",
    "    # votre solution ici\n",
    "\n",
    "# Création d'une liste de 10 valeurs comprises entre 1 et 10\n",
    "liste_nombres = [randint(1, 100) for i in range(10)]\n",
    "maxi=maximum(liste_nombres)\n",
    "mini=minimum(liste_nombres)\n",
    "print(f'liste nombres : {liste_nombres} valeur maximale : {maxi} valeur minimale : {mini}')"
   ]
  },
  {
   "cell_type": "markdown",
   "metadata": {},
   "source": [
    "### 3- Calcul d'une moyenne"
   ]
  },
  {
   "cell_type": "markdown",
   "metadata": {},
   "source": [
    "<div class=\"alert alert-warning\">\n",
    "<img src=\"Images/CR.png\" alt=\"logo CR\" width=5% align=right>\n",
    "\n",
    "\n",
    "Il s’agit de déterminer la somme et la moyenne des valeurs présentes dans la liste \"liste_nombres\".\n",
    "\n",
    "En python, une fonction permet de faire la somme : sum(liste_nombres), une seconde de déterminer la longueur de la liste : len(liste_nombres)  - (voir script ci-dessous)\n",
    "\n",
    "Travail à faire\n",
    "- Imaginer une fonction réalisant le même travail que la fonction \"sum\".\n",
    "- Imaginer une fonction réalisant le même travail que la fonction \"len\".\n",
    "- Imaginer une fonction réalisant la moyenne des valeurs de la liste et qui utilise vos  2 fonctions précédentes \n",
    "- Écrire l'algorithme, puis les fonctions que nous nommerons \"somme\", \"longueur\" et \"moyenne\".\n",
    "- Évaluer la complexité temporelle de votre solution."
   ]
  },
  {
   "cell_type": "code",
   "execution_count": null,
   "metadata": {},
   "outputs": [],
   "source": [
    "# Création d'une liste de 10 valeurs comprises entre 1 et 10\n",
    "liste_nombres = [randint(1, 10) for i in range(10)]\n",
    "total=sum(liste_nombres)\n",
    "long=len(liste_nombres)\n",
    "moy=total/long\n",
    "print(f'liste nombres : {liste_nombres} somme : {total} longueur : {long} moyenne : {moy}')"
   ]
  },
  {
   "cell_type": "code",
   "execution_count": null,
   "metadata": {},
   "outputs": [],
   "source": [
    "def somme(liste_nombres):\n",
    "    # votre solution ici\n",
    "\n",
    "def longueur(liste_nombres):\n",
    "    # votre solution ici\n",
    "\n",
    "def moyenne(total,long):\n",
    "    # votre solution ici\n",
    "    \n",
    "\n",
    "# Création d'une liste de 10 valeurs comprises entre 1 et 10\n",
    "liste_nombres = [randint(1, 10) for i in range(10)]\n",
    "total=somme(liste_nombres)\n",
    "long=longueur(liste_nombres)\n",
    "moy=moyenne(total,long)\n",
    "print(f'liste nombres : {liste_nombres} somme : {total} longueur : {long} moyenne : {moy}')"
   ]
  },
  {
   "cell_type": "markdown",
   "metadata": {},
   "source": [
    "### 4- Recherche dichotomique"
   ]
  },
  {
   "cell_type": "markdown",
   "metadata": {},
   "source": [
    "Revenons sur la recherche d'une occurrence dans une liste. Comment améliorer la compléxité temporelle de la recherche ?"
   ]
  },
  {
   "cell_type": "markdown",
   "metadata": {},
   "source": [
    "<div class=\"alert alert-success\">\n",
    "<img src=\"Images/warning.png\" alt=\"logo CR\" width=5% align=left>\n",
    "\n",
    "Méthode dichotomique : le mot dichotomie provient du grec ancien dikhotomia qui signifie \"couper en deux\".\n",
    "\n",
    "Faire une recherche dichotomique, c'est chercher une valeur dans un tableau en prennant le milieu de l'ensemble des solutions possibles (qui sont donc rangées) pour éliminer la moitié des possibilités à chaque étape.\n",
    "\n",
    "La recherche dichotomique est assez simple : on part d’une liste triée et on cherche l’élément (on suppose qu’il s’y trouve). On procède comme suit :\n",
    "\n",
    "1. On compare l'élément à l’élément du milieu de la liste.\n",
    "2. S’il est égal à l'élément, on a fini.\n",
    "3. Sinon, s’il est inférieur, il faut chercher dans la première moitié de la liste. On retourne à l’étape 1 avec la liste réduite.\n",
    "4. S’il est supérieur, il faut chercher dans la seconde moitié de la liste. On retourne à l’étape 1 avec la liste réduite."
   ]
  },
  {
   "cell_type": "markdown",
   "metadata": {},
   "source": [
    "<div class=\"alert alert-warning\">\n",
    "<img src=\"Images/CR.png\" alt=\"logo CR\" width=5% align=right>\n",
    "\n",
    "On fournit ci-dessous l'algorithme d'une fonction de recherche dichtomique et un schéma décrivant la méthode dichotomique :\n",
    "- Écrire en python cette fonction.\n",
    "- Tenter d'évaluer la complexité temporelle de la solution."
   ]
  },
  {
   "cell_type": "raw",
   "metadata": {},
   "source": [
    "Entrée : valeur recherchée nb et la liste\n",
    "Sortie : la position de la première occurence de nb\n",
    "\n",
    "debut   \n",
    "    indice_debut ← 0\n",
    "    indice_fin ← taille du tableau - 1\n",
    "    trouve ← faux\n",
    "    tant que trouve = faux et indice_debut < = indice_fin\n",
    "        indice_milieu ← partie entière de (debut+fin)/2\n",
    "        si liste[indice_milieu] == nb\n",
    "            alors trouve ← vrai\n",
    "            sinon si nb > liste[indice_milieu]\n",
    "                        alors indice_debut ← indice_milieu+1\n",
    "                        sinon indice_fin ← indice_milieu-1\n",
    "    fin tant que\n",
    "    si trouve\n",
    "        alors affiche indice_milieu\n",
    "        sinon affiche 'valeur non trouvée'\n",
    "fin"
   ]
  },
  {
   "cell_type": "markdown",
   "metadata": {},
   "source": [
    "<img src=\"Images/dichotomie.png\" alt=\"dichotomie\" width=50% align=center>"
   ]
  },
  {
   "cell_type": "code",
   "execution_count": null,
   "metadata": {},
   "outputs": [],
   "source": [
    "def recherche_dichotomique(nb, liste_nombres):\n",
    "    # votre solution ici\n",
    "\n",
    "# Création d'une liste de 10 valeurs comprises entre 1 et 10\n",
    "liste_nombres = [randint(1, 100) for i in range(8)]\n",
    "liste_nombres.sort()\n",
    "valeur, coups=recherche_dichotomique(35,liste_nombres)\n",
    "print(f'liste nombres : {liste_nombres} valeur : {valeur}')"
   ]
  },
  {
   "cell_type": "markdown",
   "metadata": {},
   "source": [
    "Peut-on faire de même sur une liste de chaîne de caractères ? Cherchons CHARLY !\n",
    "\n",
    "On notera que la recherche n'est réalisée que si le prénom est dans la liste."
   ]
  },
  {
   "cell_type": "code",
   "execution_count": null,
   "metadata": {},
   "outputs": [],
   "source": [
    "# -*- coding: utf-8 -*-\n",
    "\"\"\"\n",
    "Éditeur de Spyder\n",
    "\n",
    "Ceci est un script temporaire.\n",
    "\"\"\"\n",
    "\n",
    "#Tableau de valeurs\n",
    "Liste_valeurs=['Jean','Henri', 'Lea', 'Joe','Charly','Thierry','Max','Jenny','Alain','Oscar']\n",
    "Liste_triee=sorted(Liste_valeurs)\n",
    "Taille=len(Liste_triee)\n",
    "print(Liste_triee)\n",
    "\n",
    "#Valeur recherchée\n",
    "Prenom='Charly'\n",
    "\n",
    "Index_Min=0\n",
    "Index_Max=Taille-1\n",
    "Index_Medium=0\n",
    "Compteur=0\n",
    "\n",
    "while Liste_triee[Index_Medium]!=Prenom and Prenom in Liste_triee:\n",
    "    Compteur+=1\n",
    "    print('Valeur mini du tableau {} Valeur maxi du tableau {}'.format(Index_Min, Index_Max))\n",
    "    Index_Medium=(Index_Min+Index_Max)//2\n",
    "    print('Medium : ',Index_Medium)\n",
    "    if Liste_triee[Index_Min]!=Liste_triee[Index_Max]:\n",
    "        if Liste_triee[Index_Medium]>Prenom:\n",
    "            Index_Max=Index_Medium-1\n",
    "        else:\n",
    "            Index_Min=Index_Medium+1\n",
    "print('La valeur recherchée est :',Liste_triee[Index_Medium])\n",
    "print('Trouvée en : ',Compteur,' coup(s)')\n",
    "\n",
    "if Prenom not in Liste_triee:\n",
    "    print('La valeur recherchée n\\'est pas dans la liste !')"
   ]
  }
 ],
 "metadata": {
  "kernelspec": {
   "display_name": "Python 3",
   "language": "python",
   "name": "python3"
  },
  "language_info": {
   "codemirror_mode": {
    "name": "ipython",
    "version": 3
   },
   "file_extension": ".py",
   "mimetype": "text/x-python",
   "name": "python",
   "nbconvert_exporter": "python",
   "pygments_lexer": "ipython3",
   "version": "3.6.10"
  },
  "varInspector": {
   "cols": {
    "lenName": 16,
    "lenType": 16,
    "lenVar": 40
   },
   "kernels_config": {
    "python": {
     "delete_cmd_postfix": "",
     "delete_cmd_prefix": "del ",
     "library": "var_list.py",
     "varRefreshCmd": "print(var_dic_list())"
    },
    "r": {
     "delete_cmd_postfix": ") ",
     "delete_cmd_prefix": "rm(",
     "library": "var_list.r",
     "varRefreshCmd": "cat(var_dic_list()) "
    }
   },
   "types_to_exclude": [
    "module",
    "function",
    "builtin_function_or_method",
    "instance",
    "_Feature"
   ],
   "window_display": false
  }
 },
 "nbformat": 4,
 "nbformat_minor": 2
}
