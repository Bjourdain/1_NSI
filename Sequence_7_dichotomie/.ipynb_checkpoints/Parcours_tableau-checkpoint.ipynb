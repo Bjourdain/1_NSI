{
 "cells": [
  {
   "cell_type": "markdown",
   "metadata": {},
   "source": [
    "# <center><font face=\"arial\" size=\"5\" color=#0101DF>NUMERIQUE ET SCIENCES INFORMATIQUES 1ère NSI</font></center>"
   ]
  },
  {
   "cell_type": "markdown",
   "metadata": {},
   "source": [
    "## <font color=#013ADF>Séquence N° 7 : Parcours séquentiel d'un tableau - Recherche dichotomique</font>"
   ]
  },
  {
   "cell_type": "markdown",
   "metadata": {},
   "source": [
    "<div class=\"alert alert-danger\" role=\"alert\">\n",
    "    \n",
    "Les objectifs de cette séquence sont :\n",
    "- Écrire un algorithme de recherche d'une occurence sur des valeurs de type quelconque.\n",
    "- Écrire un algorithme de recherche d'un extremum, de calcul d'une moyenne.\n",
    "- Évaluer la complexité temporelle d'une solution.\n"
   ]
  },
  {
   "cell_type": "markdown",
   "metadata": {},
   "source": [
    "### 1- Recherche d'une occurence"
   ]
  },
  {
   "cell_type": "markdown",
   "metadata": {},
   "source": [
    "Nous allons dans un premier temps travailler avec des valeurs entières. Pour cela, on va générer aléatoirement une liste d'entiers grâce au code ci-dessous. Ce code nous permettra de faire varier facilement, la gamme et le nombre d'éléments de la liste (tableau)."
   ]
  },
  {
   "cell_type": "code",
   "execution_count": 11,
   "metadata": {},
   "outputs": [],
   "source": [
    "from random import randint\n",
    "liste_nombres = [randint(1, 10) for i in range(10)]"
   ]
  },
  {
   "cell_type": "markdown",
   "metadata": {},
   "source": [
    "<div class=\"alert alert-warning\">\n",
    "<img src=\"Images/CR.png\" alt=\"logo CR\" width=5% align=right>\n",
    "\n",
    "\n",
    "Il s’agit de déterminer la position (l’index) du premier élément \"nb\" suceptible d'être présent dans la liste \"liste_nombres\".\n",
    "\n",
    "En python, une méthode de liste permet de faire cela : liste_nombres.index(nb)\n",
    "\n",
    "Travail à faire\n",
    "- Imaginer une fonction réalisant le même travail que la méthode \"index\".\n",
    "- Écrire l'algorithme, puis la fonction que nous nommerons \"position\". Celle-ci prend :\n",
    "    - En entrée : l'occurence recherchée et la liste\n",
    "    - En sortie : la position de la première occurence \"nb\" dans la liste ou \"inconnu\" si elle n'existe pas\n"
   ]
  },
  {
   "cell_type": "code",
   "execution_count": null,
   "metadata": {},
   "outputs": [],
   "source": []
  },
  {
   "cell_type": "code",
   "execution_count": null,
   "metadata": {},
   "outputs": [],
   "source": [
    "from random import randint\n",
    "\n",
    "# proposition de solution\n",
    "def position(nb, liste_nombres):\n",
    "    for i,nombre in enumerate(liste_nombres):\n",
    "      if nombre == nb:\n",
    "          indice=i\n",
    "          return indice\n",
    "    return 'inconnu'\n",
    "\n",
    "liste_nombres = [randint(1, 10) for i in range(10)]\n",
    "print(liste_nombres)\n",
    "index=position(3,liste_nombres)\n",
    "bis=liste_nombres.index(3)"
   ]
  },
  {
   "cell_type": "markdown",
   "metadata": {},
   "source": [
    "### 2- Titre de la partie"
   ]
  },
  {
   "cell_type": "code",
   "execution_count": null,
   "metadata": {},
   "outputs": [],
   "source": []
  },
  {
   "cell_type": "code",
   "execution_count": null,
   "metadata": {},
   "outputs": [],
   "source": []
  }
 ],
 "metadata": {
  "kernelspec": {
   "display_name": "Python 3",
   "language": "python",
   "name": "python3"
  },
  "language_info": {
   "codemirror_mode": {
    "name": "ipython",
    "version": 3
   },
   "file_extension": ".py",
   "mimetype": "text/x-python",
   "name": "python",
   "nbconvert_exporter": "python",
   "pygments_lexer": "ipython3",
   "version": "3.7.3"
  },
  "varInspector": {
   "cols": {
    "lenName": 16,
    "lenType": 16,
    "lenVar": 40
   },
   "kernels_config": {
    "python": {
     "delete_cmd_postfix": "",
     "delete_cmd_prefix": "del ",
     "library": "var_list.py",
     "varRefreshCmd": "print(var_dic_list())"
    },
    "r": {
     "delete_cmd_postfix": ") ",
     "delete_cmd_prefix": "rm(",
     "library": "var_list.r",
     "varRefreshCmd": "cat(var_dic_list()) "
    }
   },
   "types_to_exclude": [
    "module",
    "function",
    "builtin_function_or_method",
    "instance",
    "_Feature"
   ],
   "window_display": false
  }
 },
 "nbformat": 4,
 "nbformat_minor": 2
}
