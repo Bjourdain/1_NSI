{
 "cells": [
  {
   "cell_type": "markdown",
   "metadata": {},
   "source": [
    "# <center><font face=\"arial\" size=\"5\" color=#0101DF>NUMERIQUE ET SCIENCES INFORMATIQUES 1ère NSI</font></center>"
   ]
  },
  {
   "cell_type": "markdown",
   "metadata": {},
   "source": [
    "## <font color=#013ADF>Séquence N° 4 : Approfondissement sur les listes et les dictionnaires</font>"
   ]
  },
  {
   "cell_type": "markdown",
   "metadata": {},
   "source": [
    "**Vous devez réaliser un compte rendu sous la forme d'un NOUVEAU notebook.**\n",
    "<div class=\"alert alert-danger\" role=\"alert\">\n",
    "<img src=\"Images/CR.png\" alt=\"logo CR\" width=5% align=middle>\n",
    "\n",
    "Chaque fois que vous voyez ce logo, la question et votre réponse doit apparaître dans votre compte-rendu."
   ]
  },
  {
   "cell_type": "markdown",
   "metadata": {},
   "source": [
    "## 1) Compréhension de liste"
   ]
  },
  {
   "cell_type": "markdown",
   "metadata": {},
   "source": [
    "<div class=\"alert alert-success\" \n",
    "\n",
    "1. Un premier exemple pour mettre en évidence l'intérêt :\n",
    "\n",
    "On veut construire un tableau \"T\" de 100 éléments (nombres) contenant l'entier \"3 x index + 2\" dans sa case d'indice \"index\".\n",
    "\n",
    "On pourrait écrire :\n",
    "\n",
    "- T=[2,5,8,11, ....] mais bon ... Je laisse les courageux (ou kamikases) continuer\n",
    "- Je n'ai pas de doute que vous feriez quelque chose qui ressemblerait à cela :"
   ]
  },
  {
   "cell_type": "code",
   "execution_count": null,
   "metadata": {},
   "outputs": [],
   "source": [
    "T=[0]*100 # Même si tout le monde n'y avait pas pensé !\n",
    "for index in range (100):\n",
    "    T[index]=3*index+2\n",
    "print(T) # Pour s'en convaincre"
   ]
  },
  {
   "cell_type": "markdown",
   "metadata": {},
   "source": [
    "<div class=\"alert alert-success\" \n",
    "\n",
    "Reprenons ce qu'il y a à faire :\n",
    "- En sortie, je veux une **liste**. Je vais mettre **T=[ ... ]** pour représenter la liste\n",
    "- Quel est le traitement à réaliser ? **3 x index + 2**. Je vais mettre dans mes crochets, le traitement à réaliser en premier : T=[**3*index+2** ...]\n",
    "- Dans quel gamme de valeurs, ce traitement doit-il est réalisé ? Pour toutes les **valeurs de 0 à 99**.\n",
    "\n",
    "Je vais mettre après le traitement, la gamme de valeurs. Ce qui devient :"
   ]
  },
  {
   "cell_type": "code",
   "execution_count": null,
   "metadata": {},
   "outputs": [],
   "source": [
    "T=[3*index+2 for index in range(100)]\n",
    "print(T)"
   ]
  },
  {
   "cell_type": "markdown",
   "metadata": {},
   "source": [
    "<div class=\"alert alert-success\"\n",
    "\n",
    "En insérant le print !"
   ]
  },
  {
   "cell_type": "code",
   "execution_count": null,
   "metadata": {},
   "outputs": [],
   "source": [
    "T=[print(3*index+2, end=\" \") for index in range(100)]"
   ]
  },
  {
   "cell_type": "markdown",
   "metadata": {},
   "source": [
    "<div class=\"alert alert-success\" \n",
    "\n",
    "Laissons de côté le nombre d'éléments. Je souhaite faire un filtrage et mettre dans mon tableau \"T\", uniquement les nombres **pairs** répondant à l'équation \" 3 x index + 2\".\n",
    "- Ajoutons entre les crochets à la fin, la condition. Le nombre est pair si le restant de la division euclidienne est nul que nous pouvons écrire : (3*index+2)%2==0"
   ]
  },
  {
   "cell_type": "code",
   "execution_count": null,
   "metadata": {},
   "outputs": [],
   "source": [
    "T=[print(3*index+2, end=\" \") for index in range(100) if (3*index+2)%2==0]"
   ]
  },
  {
   "cell_type": "markdown",
   "metadata": {},
   "source": [
    "<div class=\"alert alert-warning\">\n",
    "<img src=\"Images/CR.png\" alt=\"logo CR\" width=5% align=right>\n",
    "\n",
    "## Exercices d'application\n",
    "\n",
    "**1. Convertir une liste de caractères en une liste d'entiers.**\n",
    "\n",
    "En entrée :\n",
    "\n",
    "liste_caracteres = ['0','1','2','3','4','5']\n",
    "\n",
    "En sortie :\n",
    "\n",
    "liste_entiers = [0,1,2,3,4,5]\n",
    "\n",
    "**2. Création de tuples à partir de 2 listes :**\n",
    "\n",
    "En entrée :\n",
    "\n",
    "ma_liste1 =[0,1]\n",
    "\n",
    "ma_liste2 =['zero','un']\n",
    "                \n",
    "En sortie : [(0, 'zero'), (0, 'un'), (1, 'zero'), (1, 'un')]\n",
    "\n",
    "\n",
    "**3. Que construit l'expression [i%3 for i in range(100)] ?**\n",
    "\n",
    "Tentez une réponse avant de tester l'expression."
   ]
  },
  {
   "cell_type": "markdown",
   "metadata": {},
   "source": [
    "<div class=\"alert alert-danger\" role=\"alert\">\n",
    "    \n",
    "## Correction##"
   ]
  },
  {
   "cell_type": "code",
   "execution_count": null,
   "metadata": {},
   "outputs": [],
   "source": [
    "ma_liste = ['0','1','2','3','4','5']\n",
    "[int(x) for x in ma_liste]"
   ]
  },
  {
   "cell_type": "code",
   "execution_count": null,
   "metadata": {},
   "outputs": [],
   "source": [
    "ma_liste1 =[0,1]\n",
    "ma_liste2 =['zero','un']\n",
    "[(x,y) for x in ma_liste1 for y in ma_liste2]"
   ]
  },
  {
   "cell_type": "code",
   "execution_count": null,
   "metadata": {},
   "outputs": [],
   "source": [
    "[i%3 for i in range(100)] "
   ]
  },
  {
   "cell_type": "code",
   "execution_count": 19,
   "metadata": {},
   "outputs": [
    {
     "name": "stdout",
     "output_type": "stream",
     "text": [
      "[0, 1, 1, 0, 1, 1, 0, 1, 0, 1, 1, 0, 0, 1, 0, 1, 0, 1, 1, 1, 0, 0, 1, 1, 0, 1, 1, 1, 0, 0, 1, 1, 0, 1, 1, 0, 0, 0, 0, 1, 0, 1, 1, 0, 0, 1, 1, 1, 0, 1, 1, 0, 0, 1, 0, 1]\n"
     ]
    }
   ],
   "source": [
    "liste_bit=[]\n",
    "mot_binaire=\"\"\n",
    "texte=\"message\"\n",
    "for caractere in texte:\n",
    "   mot_binaire=bin(ord(caractere))[2:].zfill(8)\n",
    "   for bit in mot_binaire:\n",
    "        liste_bit.append(int(bit))# int() : inutile si l'on préfère des chaines de caractères\n",
    "print(liste_bit)"
   ]
  },
  {
   "cell_type": "code",
   "execution_count": 18,
   "metadata": {},
   "outputs": [
    {
     "name": "stdout",
     "output_type": "stream",
     "text": [
      "['01101101', '01100101', '01110011', '01110011', '01100001', '01100111', '01100101']\n",
      "[None, None, None, None, None, None, None, None, None, None, None, None, None, None, None, None, None, None, None, None, None, None, None, None, None, None, None, None, None, None, None, None, None, None, None, None, None, None, None, None, None, None, None, None, None, None, None, None, None, None, None, None, None, None, None, None]\n"
     ]
    }
   ],
   "source": [
    "texte=\"message\"\n",
    "liste_mot=[bin(ord(caractere))[2:].zfill(8) for caractere in texte]\n",
    "print(liste_mot)\n",
    "liste_bit=[liste_bit.append(int(bit)) for bit in mot_binaire]\n",
    "print(liste_bit)"
   ]
  },
  {
   "cell_type": "markdown",
   "metadata": {},
   "source": [
    "## 2) Tableaux à plusieurs dimensions"
   ]
  },
  {
   "cell_type": "markdown",
   "metadata": {},
   "source": []
  },
  {
   "cell_type": "code",
   "execution_count": null,
   "metadata": {},
   "outputs": [],
   "source": []
  },
  {
   "cell_type": "markdown",
   "metadata": {},
   "source": [
    "## 3) Dictionnaires en compréhension"
   ]
  },
  {
   "cell_type": "code",
   "execution_count": null,
   "metadata": {},
   "outputs": [],
   "source": []
  }
 ],
 "metadata": {
  "kernelspec": {
   "display_name": "Python 3",
   "language": "python",
   "name": "python3"
  },
  "language_info": {
   "codemirror_mode": {
    "name": "ipython",
    "version": 3
   },
   "file_extension": ".py",
   "mimetype": "text/x-python",
   "name": "python",
   "nbconvert_exporter": "python",
   "pygments_lexer": "ipython3",
   "version": "3.7.3"
  },
  "varInspector": {
   "cols": {
    "lenName": 16,
    "lenType": 16,
    "lenVar": 40
   },
   "kernels_config": {
    "python": {
     "delete_cmd_postfix": "",
     "delete_cmd_prefix": "del ",
     "library": "var_list.py",
     "varRefreshCmd": "print(var_dic_list())"
    },
    "r": {
     "delete_cmd_postfix": ") ",
     "delete_cmd_prefix": "rm(",
     "library": "var_list.r",
     "varRefreshCmd": "cat(var_dic_list()) "
    }
   },
   "types_to_exclude": [
    "module",
    "function",
    "builtin_function_or_method",
    "instance",
    "_Feature"
   ],
   "window_display": false
  }
 },
 "nbformat": 4,
 "nbformat_minor": 2
}
