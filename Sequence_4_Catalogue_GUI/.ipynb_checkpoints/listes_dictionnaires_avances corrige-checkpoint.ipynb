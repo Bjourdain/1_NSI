{
 "cells": [
  {
   "cell_type": "markdown",
   "metadata": {},
   "source": [
    "# <center><font face=\"arial\" size=\"5\" color=#0101DF>NUMERIQUE ET SCIENCES INFORMATIQUES 1ère NSI</font></center>"
   ]
  },
  {
   "cell_type": "markdown",
   "metadata": {},
   "source": [
    "## <font color=#013ADF>Séquence N° 4 : Approfondissement sur les listes et les dictionnaires</font>"
   ]
  },
  {
   "cell_type": "markdown",
   "metadata": {},
   "source": [
    "**Vous devez réaliser un compte rendu sous la forme d'un NOUVEAU notebook.**\n",
    "<div class=\"alert alert-danger\" role=\"alert\">\n",
    "<img src=\"Images/CR.png\" alt=\"logo CR\" width=5% align=middle>\n",
    "\n",
    "Chaque fois que vous voyez ce logo, la question et votre réponse doit apparaître dans votre compte-rendu."
   ]
  },
  {
   "cell_type": "markdown",
   "metadata": {},
   "source": [
    "## 1) Compréhension de liste"
   ]
  },
  {
   "cell_type": "markdown",
   "metadata": {},
   "source": [
    "<div class=\"alert alert-success\" \n",
    "\n",
    "Un premier exemple pour mettre en évidence l'intérêt :\n",
    "\n",
    "On veut construire une liste (tableau) \"t\" de 100 éléments (nombres) contenant l'entier \"3 x index + 2\" dans sa case d'indice \"index\".\n",
    "\n",
    "On pourrait écrire :\n",
    "\n",
    "- t=[2,5,8,11, ....] mais bon ... Je laisse les courageux (ou kamikases) continuer\n",
    "- Je n'ai pas de doute que vous feriez quelque chose qui ressemblerait à cela :"
   ]
  },
  {
   "cell_type": "code",
   "execution_count": null,
   "metadata": {},
   "outputs": [],
   "source": [
    "t=[0]*100 # Même si tout le monde n'y avait pas pensé !\n",
    "# print(t)# Pour les méfiants\n",
    "for index in range (100):\n",
    "    t[index]=3*index+2\n",
    "print(t) # Pour s'en convaincre"
   ]
  },
  {
   "cell_type": "markdown",
   "metadata": {},
   "source": [
    "<div class=\"alert alert-success\" \n",
    "\n",
    "Reprenons ce qu'il y a à faire :\n",
    "- En sortie, je veux une **liste**. Je vais mettre **t=[ ... ]** pour représenter la liste\n",
    "- Quel est le traitement à réaliser ? **3 x index + 2**. Je vais mettre dans mes crochets, le traitement à réaliser en premier : t=[**3*index+2** ...]\n",
    "- Dans quelle gamme de valeurs, ce traitement doit-il est réalisé ? Pour toutes les **valeurs de 0 à 99**.\n",
    "\n",
    "Je vais mettre après le traitement, la gamme de valeurs. Ce qui devient :"
   ]
  },
  {
   "cell_type": "code",
   "execution_count": null,
   "metadata": {},
   "outputs": [],
   "source": [
    "t=[3*index+2 for index in range(100)]\n",
    "print(t)"
   ]
  },
  {
   "cell_type": "markdown",
   "metadata": {},
   "source": [
    "<div class=\"alert alert-success\"\n",
    "\n",
    "En insérant le print !"
   ]
  },
  {
   "cell_type": "code",
   "execution_count": null,
   "metadata": {},
   "outputs": [],
   "source": [
    "t=[print(3*index+2, end=\" \") for index in range(100)]"
   ]
  },
  {
   "cell_type": "markdown",
   "metadata": {},
   "source": [
    "<div class=\"alert alert-success\" \n",
    "\n",
    "Laissons de côté le nombre d'éléments. Je souhaite faire un filtrage et mettre dans mon tableau \"t\", uniquement les nombres **pairs** répondant à l'équation \" 3 x index + 2\".\n",
    "- Ajoutons entre les crochets à la fin, la condition. Le nombre est pair si le restant de la division euclidienne est nul que nous pouvons écrire : (3*index+2)%2==0"
   ]
  },
  {
   "cell_type": "code",
   "execution_count": null,
   "metadata": {},
   "outputs": [],
   "source": [
    "t=[print(3*index+2, end=\" \") for index in range(100) if (3*index+2)%2==0]"
   ]
  },
  {
   "cell_type": "markdown",
   "metadata": {},
   "source": [
    "<div class=\"alert alert-success\" \n",
    "\n",
    "Et **Else** ?\n",
    "\n",
    "Dans une gamme de 0 à 99, les nombres pairs sont élevés au carré, les nombres impairs au cube.\n",
    "\n",
    "Notez l'inversion condition gamme !"
   ]
  },
  {
   "cell_type": "code",
   "execution_count": null,
   "metadata": {},
   "outputs": [],
   "source": [
    "carres_cubes = [n**2 if n%2 == 0 else n**3 for n in range(0,100)]\n",
    "print(carres_cubes)"
   ]
  },
  {
   "cell_type": "markdown",
   "metadata": {},
   "source": [
    "<div class=\"alert alert-success\"\n",
    "\n",
    "Et peut-on faire un compréhension de liste pour un cas comme celui-ci (2 boucles imbriquées)?"
   ]
  },
  {
   "cell_type": "code",
   "execution_count": null,
   "metadata": {},
   "outputs": [],
   "source": [
    "tables_multiplication = []\n",
    " \n",
    "for i in range(1, 10):\n",
    "    for j in range(1, 10):\n",
    "        tables_multiplication.append(i*j)\n",
    "print(tables_multiplication)"
   ]
  },
  {
   "cell_type": "code",
   "execution_count": null,
   "metadata": {},
   "outputs": [],
   "source": [
    "tables_multiplication = [print(i*j, end=\" \") for i in range(1,10) for j in range(1,10)]"
   ]
  },
  {
   "cell_type": "markdown",
   "metadata": {},
   "source": [
    "<div class=\"alert alert-warning\">\n",
    "<img src=\"Images/CR.png\" alt=\"logo CR\" width=5% align=right>\n",
    "\n",
    "## Exercices d'application\n",
    "\n",
    "**1. Convertir une liste de caractères en une liste d'entiers.**\n",
    "\n",
    "En entrée :\n",
    "\n",
    "liste_caracteres = ['0','1','2','3','4','5']\n",
    "\n",
    "En sortie :\n",
    "\n",
    "liste_entiers = [0,1,2,3,4,5]\n",
    "\n",
    "**2. Création de tuples à partir de 2 listes :**\n",
    "\n",
    "En entrée :\n",
    "\n",
    "ma_liste1 =[0,1]\n",
    "\n",
    "ma_liste2 =['zero','un']\n",
    "                \n",
    "En sortie : [(0, 'zero'), (0, 'un'), (1, 'zero'), (1, 'un')]\n",
    "\n",
    "\n",
    "**3. Que construit l'expression [i%3 for i in range(100)] ?**\n",
    "\n",
    "Tentez une réponse avant de tester l'expression."
   ]
  },
  {
   "cell_type": "markdown",
   "metadata": {},
   "source": [
    "<div class=\"alert alert-danger\" role=\"alert\">\n",
    "    \n",
    "## Correction##"
   ]
  },
  {
   "cell_type": "code",
   "execution_count": null,
   "metadata": {},
   "outputs": [],
   "source": [
    "ma_liste = ['0','1','2','3','4','5']\n",
    "[int(x) for x in ma_liste]"
   ]
  },
  {
   "cell_type": "code",
   "execution_count": null,
   "metadata": {},
   "outputs": [],
   "source": [
    "ma_liste1 =[0,1]\n",
    "ma_liste2 =['zero','un']\n",
    "[(x,y) for x in ma_liste1 for y in ma_liste2]"
   ]
  },
  {
   "cell_type": "code",
   "execution_count": null,
   "metadata": {},
   "outputs": [],
   "source": [
    "[i%3 for i in range(100)] "
   ]
  },
  {
   "cell_type": "markdown",
   "metadata": {},
   "source": [
    "## 2) Tableaux (liste) à plusieurs dimensions"
   ]
  },
  {
   "cell_type": "markdown",
   "metadata": {},
   "source": [
    "Je voudrais réaliser un tableau qui aurait cette allure : Ce pourrait être pour un jeu de morpion où le dernier joueur vient de placer son signe :\n",
    "\n",
    "0 pour O et 1 pour X\n",
    "\n",
    "Notre problématique ici n'est pas de réaliser le jeu, mais de :\n",
    "\n",
    "- Réaliser le tableau ;\n",
    "- Lire le contenu d'une case du tableau.\n",
    "\n",
    "|   |  0  | 1  |  2  |\n",
    "|:---:|:---:|:---:|:---:|\n",
    "|  0  |  0  |  0   |0\n",
    "|  1  |  1  |   1  |0\n",
    "|  2  |  0  |    0 |1\n"
   ]
  },
  {
   "cell_type": "markdown",
   "metadata": {},
   "source": [
    "<div class=\"alert alert-danger\" role=\"alert\">\n",
    "\n",
    "Le tableau souhaité est un tableau à plusieurs dimensions (ici 3). La première est le nombre de lignes (3), la seconde le nombre de colonnes (3). Sa taille est de 3 x 3. Comme nous avons autant de lignes que de colonnes, en mathématiques, on appelle cela une **matrice**.\n",
    "\n",
    "Les indices de la première dimension sont indiqués verticalement (à gauche sur le tableau ci-dessus) et les indices de la seconde dimension horizontalement (en haut)."
   ]
  },
  {
   "cell_type": "markdown",
   "metadata": {},
   "source": [
    "<div class=\"alert alert-warning\">\n",
    "    \n",
    "Pour réaliser le tableau de départ du jeu (initialisation avec des \"2\", je propose plusieurs solutions, lesquelles sont correctes ?"
   ]
  },
  {
   "cell_type": "code",
   "execution_count": null,
   "metadata": {},
   "outputs": [],
   "source": [
    "t1=[[2,2,2],[2,2,2],[2,2,2]]\n",
    "print(t1)\n",
    "t2=[[2]*3,[2]*3,[2]*3]\n",
    "print(t2)\n",
    "t3=[[2,2,2]]*3\n",
    "print(t3)\n",
    "t4=[[2]*3 for i in range(3)]\n",
    "print(t4)\n",
    "t5=[[2 for j in range(3)] for i in range(3)]\n",
    "print(t5)"
   ]
  },
  {
   "cell_type": "markdown",
   "metadata": {},
   "source": [
    "**Méfiez vous des apparences !**\n",
    "\n",
    "Lors du jeu, un joueur vient placer un \"O\" au milieu de la ligne du bas du tableau. Pour accéder à un élément du tableau, on va affecter \"O\" au tableau d'indice 2 (verticalement) et d'indice 1 (horizontalement)."
   ]
  },
  {
   "cell_type": "code",
   "execution_count": null,
   "metadata": {},
   "outputs": [],
   "source": [
    "t1[2][1]=0\n",
    "t2[2][1]=0\n",
    "t3[2][1]=0\n",
    "t4[2][1]=0\n",
    "t5[2][1]=0\n",
    "print(t1)\n",
    "print(t2)\n",
    "print(t3)\n",
    "print(t4)\n",
    "print(t5)"
   ]
  },
  {
   "cell_type": "markdown",
   "metadata": {},
   "source": [
    "<div class=\"alert alert-warning\">\n",
    "<img src=\"Images/CR.png\" alt=\"logo CR\" width=5% align=right>\n",
    "\n",
    "Votre réponse définitive, justifiez !"
   ]
  },
  {
   "cell_type": "markdown",
   "metadata": {},
   "source": [
    "<div class=\"alert alert-danger\" role=\"alert\">\n",
    "\n",
    "Le tableau t3 n'est pas ce que l'on voulait faire. On a fait 3 sous-tableaux identiques. Lorsque l'on modifie quelque chose dans une cellule d'un sous-tableau, les autres sous-tableaux de même indice sont modifiés."
   ]
  },
  {
   "cell_type": "markdown",
   "metadata": {},
   "source": [
    "<div class=\"alert alert-success\"\n",
    "\n",
    "Pour conclure, avant quelques exercices, il faut noter qu'il est tout à fait possible de réaliser des sous-tableaux de tailles différentes.\n",
    "\n",
    "Ex. : t=[[12,14,16],[22,26], [34,31,37,38]]\n"
   ]
  },
  {
   "cell_type": "markdown",
   "metadata": {},
   "source": [
    "<div class=\"alert alert-warning\">\n",
    "<img src=\"Images/CR.png\" alt=\"logo CR\" width=5% align=right>\n",
    "\n",
    "## Exercices d'application\n",
    "\n",
    "### Tous ces exercices nécessitent de poser d'abord le problème (algorithme) pour n'avoir qu'un seul soucis lors de la programmation, celui de la syntaxe python.###\n",
    "\n",
    "*Remarque : les fonctions built-in de python (sum, max, min ...) ne seront pas utilisées.*\n",
    "\n",
    "**1. Créer en compréhension, un tableau \"groupe\" de 2 x 5, initialisé à 0.**\n",
    "\n",
    "prenom=[\"Alain\",\"Julie\",\"Alice\",\"Bob\",\"Gwendal\"]\n",
    "\n",
    "age=[16,17,18,16,17]\n",
    "\n",
    "**2. Itérez sur les éléments du tableau pour le remplir avec les données précédentes.**\n",
    "\n",
    "**3. Recherchez le nombre de personnes ayant 17 ans.**\n",
    "\n",
    "**3. Recherchez et nommez la personne la plus jeune, la plus agée ?**\n",
    "\n",
    "**4. Calculez l'âge moyen du groupe de personnes.**\n"
   ]
  },
  {
   "cell_type": "markdown",
   "metadata": {},
   "source": [
    "<div class=\"alert alert-danger\" role=\"alert\">\n",
    "    \n",
    "## Correction##"
   ]
  },
  {
   "cell_type": "code",
   "execution_count": null,
   "metadata": {},
   "outputs": [],
   "source": [
    "groupe=[[0]*5 for i in range(2)]"
   ]
  },
  {
   "cell_type": "code",
   "execution_count": 43,
   "metadata": {},
   "outputs": [
    {
     "name": "stdout",
     "output_type": "stream",
     "text": [
      "[['Alain', 'Julie', 'Alice', 'Bob', 'Gwendal'], [16, 17, 18, 15, 17]]\n"
     ]
    }
   ],
   "source": [
    "groupe=[[0]*5 for i in range(2)]\n",
    "prenom=[\"Alain\",\"Julie\",\"Alice\",\"Bob\",\"Gwendal\"]\n",
    "age=[16,17,18,15,17]\n",
    "i=0\n",
    "for j in range(len(prenom)):\n",
    "    groupe[i][j]=prenom[j]\n",
    "    groupe[i+1][j]=age[j]\n",
    "print(groupe)"
   ]
  },
  {
   "cell_type": "code",
   "execution_count": 44,
   "metadata": {},
   "outputs": [
    {
     "name": "stdout",
     "output_type": "stream",
     "text": [
      "Le nombre de personnes ayant 17 ans est : 2\n"
     ]
    }
   ],
   "source": [
    "i=1\n",
    "nb_17=0\n",
    "for j in range(len(age)):\n",
    "    if groupe[i][j]==17:\n",
    "        nb_17+=1\n",
    "print(f'Le nombre de personnes ayant 17 ans est : {nb_17}')"
   ]
  },
  {
   "cell_type": "code",
   "execution_count": 45,
   "metadata": {},
   "outputs": [
    {
     "name": "stdout",
     "output_type": "stream",
     "text": [
      "La personne la plus jeune est : Bob\n"
     ]
    }
   ],
   "source": [
    "i=1\n",
    "plus_jeune=0\n",
    "for j in range(len(age)):\n",
    "    if groupe[i][j]< groupe[i][plus_jeune]:\n",
    "        plus_jeune=j\n",
    "print(f'La personne la plus jeune est : {groupe[0][plus_jeune]}')"
   ]
  },
  {
   "cell_type": "code",
   "execution_count": 46,
   "metadata": {},
   "outputs": [
    {
     "name": "stdout",
     "output_type": "stream",
     "text": [
      "La personne la plus agée est : Alice\n"
     ]
    }
   ],
   "source": [
    "i=1\n",
    "plus_age=0\n",
    "for j in range(len(age)):\n",
    "    if groupe[i][j]> groupe[i][plus_age]:\n",
    "        plus_age=j\n",
    "print(f'La personne la plus agée est : {groupe[0][plus_age]}')"
   ]
  },
  {
   "cell_type": "code",
   "execution_count": 5,
   "metadata": {},
   "outputs": [
    {
     "name": "stdout",
     "output_type": "stream",
     "text": [
      "[['Alain', 'Julie', 'Alice', 'Bob', 'Gwendal'], [16, 17, 18, 15, 17]]\n",
      "Le nombre de personnes ayant 17 ans est : 2\n",
      "La personne la plus jeune est : Bob\n",
      "La personne la plus agée est : Alice\n",
      "L'âge moyen du groupe est : 16.6\n"
     ]
    }
   ],
   "source": [
    "# Version 1\n",
    "groupe=[[0]*5 for i in range(2)]\n",
    "prenom=[\"Alain\",\"Julie\",\"Alice\",\"Bob\",\"Gwendal\"]\n",
    "age=[16,17,18,15,17]\n",
    "somme=0\n",
    "moyenne=0\n",
    "i=0\n",
    "for j in range(len(prenom)):\n",
    "    groupe[i][j]=prenom[j]\n",
    "    groupe[i+1][j]=age[j]\n",
    "    somme+=age[j]\n",
    "moyenne=somme/len(age)\n",
    "i=1\n",
    "nb_17=0\n",
    "plus_jeune=0\n",
    "plus_age=0\n",
    "for j in range(len(age)):\n",
    "    if groupe[i][j]==17:\n",
    "        nb_17+=1\n",
    "    if groupe[i][j]< groupe[i][plus_jeune]:\n",
    "        plus_jeune=j\n",
    "    if groupe[i][j]> groupe[i][plus_age]:\n",
    "        plus_age=j\n",
    "\n",
    "print(groupe)\n",
    "print(f'Le nombre de personnes ayant 17 ans est : {nb_17}')\n",
    "print(f'La personne la plus jeune est : {groupe[0][plus_jeune]}')\n",
    "print(f'La personne la plus agée est : {groupe[0][plus_age]}')\n",
    "print(f'L\\'âge moyen du groupe est : {moyenne}')"
   ]
  },
  {
   "cell_type": "markdown",
   "metadata": {},
   "source": [
    "## 3) Dictionnaires en compréhension"
   ]
  },
  {
   "cell_type": "markdown",
   "metadata": {},
   "source": [
    "<div class=\"alert alert-success\"\n",
    "\n",
    "La méthode utilisée précédmment pour les listes en compréhension, est-elle utilisable pour les dictionnaires ? Essayons.\n",
    "\n",
    "Créons un dictionnaire ayant pour clé un caractère codé entre 0 et 5 et pour valeur l'entier correspondant :"
   ]
  },
  {
   "cell_type": "code",
   "execution_count": null,
   "metadata": {},
   "outputs": [],
   "source": [
    "{str(i):i for i in [0,1,2,3,4,5]}"
   ]
  },
  {
   "cell_type": "markdown",
   "metadata": {},
   "source": [
    "<div class=\"alert alert-success\"\n",
    "\n",
    "Petite variante :"
   ]
  },
  {
   "cell_type": "code",
   "execution_count": null,
   "metadata": {},
   "outputs": [],
   "source": [
    "{str(i):i for i in range(6) if i%2==0}"
   ]
  },
  {
   "cell_type": "markdown",
   "metadata": {},
   "source": [
    "<div class=\"alert alert-success\"\n",
    "\n",
    "Syntaxe : \n",
    "\n",
    "Création d'un dictionnaire : { ... }\n",
    "\n",
    "Traitement sur la clé : traitement sur la valeur\n",
    "\n",
    "Dans quelle gamme\n",
    "\n",
    "Dans quelle condition\n",
    "\n",
    "**Soyez attentif à l'énoncé !**\n",
    "\n",
    "Création d'un dictionnaire ayant pour clé le fruit d'une liste \"fruits\" et pour valeur le nombre de caractères du mot du fruit (pomme : 5 caractères) :"
   ]
  },
  {
   "cell_type": "code",
   "execution_count": null,
   "metadata": {},
   "outputs": [],
   "source": [
    "fruits = ['pomme', 'mangue', 'banane','cerise']\n",
    "dico_fruits={cle:len(cle) for cle in fruits}\n",
    "print(dico_fruits)"
   ]
  },
  {
   "cell_type": "markdown",
   "metadata": {},
   "source": [
    "<div class=\"alert alert-success\"\n",
    "\n",
    "Quelques variations sur le thème :\n",
    "1. Mettre la majuscule aux clés\n",
    "2. Inverser clé, valeur"
   ]
  },
  {
   "cell_type": "code",
   "execution_count": null,
   "metadata": {},
   "outputs": [],
   "source": [
    "{cle.capitalize():len(cle) for cle in fruits}"
   ]
  },
  {
   "cell_type": "code",
   "execution_count": null,
   "metadata": {},
   "outputs": [],
   "source": [
    "fruits = ['pomme', 'mangue', 'banane','cerise']\n",
    "dico_fruits={cle:len(cle) for cle in fruits}\n",
    "print(dico_fruits)\n",
    "{valeur:cle for cle,valeur in dico_fruits.items()}"
   ]
  },
  {
   "cell_type": "markdown",
   "metadata": {},
   "source": [
    "<div class=\"alert alert-danger\" role=\"alert\">\n",
    "    \n",
    "Le résultat du programme ci-dessus est-il conforme aux attentes ? Le programme comporte-il une erreur ou avons-nous omis quelque chose ?\n",
    "\n",
    "**L'utilisation d'un débugger serait bien utile !**\n",
    "\n",
    "Une clé est unique !"
   ]
  },
  {
   "cell_type": "markdown",
   "metadata": {},
   "source": [
    "<div class=\"alert alert-warning\">\n",
    "<img src=\"Images/CR.png\" alt=\"logo CR\" width=5% align=right>\n",
    "\n",
    "## Exercices d'application\n",
    "\n",
    "### Les problèmes a résoudre sont identiques aux précédents. Seule la structure de données (dictionnaire) change.###\n",
    "\n",
    "*Remarque : les fonctions built-in de python (sum, max, min ...) ne seront pas utilisées.*\n",
    "\n",
    "prenom=[\"Alain\",\"Julie\",\"Alice\",\"Bob\",\"Gwendal\"]\n",
    "\n",
    "age=[16,17,18,15,17]\n",
    "\n",
    "**1. Créer en compréhension, un dictionnaire qui prendra pour clés, le prénom des personnes de la liste \"prenom\", et pour valeurs l'âge pris dans la liste \"age\". (Les listes sont ordonnées de la même manière)**\n",
    "\n",
    "**2. Recherchez le nombre de personnes ayant 17 ans.**\n",
    "\n",
    "**3. Recherchez qui est la personne la plus jeune, la plus agée ?**\n",
    "\n",
    "**4. Calculez l'âge moyen du groupe de personnes.**\n"
   ]
  },
  {
   "cell_type": "markdown",
   "metadata": {},
   "source": [
    "<div class=\"alert alert-danger\" role=\"alert\">\n",
    "    \n",
    "## Correction##"
   ]
  },
  {
   "cell_type": "code",
   "execution_count": 42,
   "metadata": {},
   "outputs": [
    {
     "name": "stdout",
     "output_type": "stream",
     "text": [
      "{'Alain': 16, 'Julie': 17, 'Alice': 18, 'Bob': 15, 'Gwendal': 17}\n"
     ]
    }
   ],
   "source": [
    "prenom=[\"Alain\",\"Julie\",\"Alice\",\"Bob\",\"Gwendal\"]\n",
    "age=[16,17,18,15,17]\n",
    "groupe={prenom[i]:age[i] for i in range(len(prenom))}\n",
    "print(groupe)"
   ]
  },
  {
   "cell_type": "code",
   "execution_count": 33,
   "metadata": {},
   "outputs": [
    {
     "name": "stdout",
     "output_type": "stream",
     "text": [
      "Le nombre de personnes ayant 17 ans est : 2\n"
     ]
    }
   ],
   "source": [
    "nb_17=0\n",
    "for valeur in groupe.values():\n",
    "    if valeur==17:\n",
    "        nb_17+=1\n",
    "print(f'Le nombre de personnes ayant 17 ans est : {nb_17}')"
   ]
  },
  {
   "cell_type": "code",
   "execution_count": 8,
   "metadata": {},
   "outputs": [
    {
     "name": "stdout",
     "output_type": "stream",
     "text": [
      "Le nombre de personnes ayant 17 ans est : 2\n",
      "La personne la plus jeune est : Bob\n",
      "La personne la plus agée est : Gwendal\n",
      "L'âge moyen du groupe est : 16.6\n"
     ]
    }
   ],
   "source": [
    "prenom=[\"Alain\",\"Julie\",\"Alice\",\"Bob\",\"Gwendal\"]\n",
    "age=[16,17,18,15,17]\n",
    "groupe={prenom[i]:age[i] for i in range(len(prenom))}\n",
    "age_plus_jeune=groupe['Alain']\n",
    "age_plus_age=groupe.get('Alain')\n",
    "plus_age=\"Alain\"\n",
    "plus_jeune=\"Alain\"\n",
    "somme=0\n",
    "moyenne=0\n",
    "nb_17=0\n",
    "for cle,valeur in groupe.items():\n",
    "    if valeur==17:\n",
    "        nb_17+=1\n",
    "    if valeur < age_plus_jeune:\n",
    "        plus_jeune=cle\n",
    "    if valeur > age_plus_age:\n",
    "        plus_age=cle\n",
    "    somme+=valeur\n",
    "moyenne=somme/len(groupe)\n",
    "print(f'Le nombre de personnes ayant 17 ans est : {nb_17}')\n",
    "print(f'La personne la plus jeune est : {plus_jeune}')\n",
    "print(f'La personne la plus agée est : {plus_age}')\n",
    "print(f'L\\'âge moyen du groupe est : {moyenne}')"
   ]
  }
 ],
 "metadata": {
  "kernelspec": {
   "display_name": "Python 3",
   "language": "python",
   "name": "python3"
  },
  "language_info": {
   "codemirror_mode": {
    "name": "ipython",
    "version": 3
   },
   "file_extension": ".py",
   "mimetype": "text/x-python",
   "name": "python",
   "nbconvert_exporter": "python",
   "pygments_lexer": "ipython3",
   "version": "3.7.3"
  },
  "varInspector": {
   "cols": {
    "lenName": 16,
    "lenType": 16,
    "lenVar": 40
   },
   "kernels_config": {
    "python": {
     "delete_cmd_postfix": "",
     "delete_cmd_prefix": "del ",
     "library": "var_list.py",
     "varRefreshCmd": "print(var_dic_list())"
    },
    "r": {
     "delete_cmd_postfix": ") ",
     "delete_cmd_prefix": "rm(",
     "library": "var_list.r",
     "varRefreshCmd": "cat(var_dic_list()) "
    }
   },
   "types_to_exclude": [
    "module",
    "function",
    "builtin_function_or_method",
    "instance",
    "_Feature"
   ],
   "window_display": false
  }
 },
 "nbformat": 4,
 "nbformat_minor": 2
}
