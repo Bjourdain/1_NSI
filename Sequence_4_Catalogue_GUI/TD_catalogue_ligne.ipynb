{
 "cells": [
  {
   "cell_type": "markdown",
   "metadata": {},
   "source": [
    "# <center><font face=\"arial\" size=\"5\" color=#0101DF>NUMERIQUE ET SCIENCES INFORMATIQUES 1ère NSI</font></center>"
   ]
  },
  {
   "cell_type": "markdown",
   "metadata": {},
   "source": [
    "## <font color=#013ADF>Séquence N° 4 : document de formation pour le TD : CATALOGUE NUMÉRIQUE</font>"
   ]
  },
  {
   "cell_type": "markdown",
   "metadata": {},
   "source": [
    "<div class=\"alert alert-danger\" role=\"alert\">\n",
    "    \n",
    "Les objectifs de cette séquence sont :\n",
    "- d'aborder un nouveau type de données : les dictionnaires;\n",
    "- de lire et écrire dans des fichiers de type CSV (Comma Separeted Value) ;\n",
    "- de créer votre première interface graphique avec le module tkinter.\n",
    "</div>"
   ]
  },
  {
   "cell_type": "markdown",
   "metadata": {},
   "source": [
    "<div class=\"alert alert-success\">\n",
    "    \n",
    "En cas de difficulté de compréhension ,n'hésitez pas à utiliser **pythontutor** en ligne !\n",
    "</div>"
   ]
  },
  {
   "cell_type": "markdown",
   "metadata": {},
   "source": [
    "### 1- Les dictionnaires (ou tableau associatif ou encore p-uplet nommés)"
   ]
  },
  {
   "cell_type": "markdown",
   "metadata": {},
   "source": [
    "<div class=\"alert alert-success\">\n",
    "    \n",
    "Les dictionnaires sont optimisés pour le test d'appartenance. Un dictionnaire :\n",
    "* Est une collection **non-ordonnée** de couples clé-valeur;\n",
    "* Prend comme clé un objet **immuable**;\n",
    "* À pour valeur **n'importe quel objet**.\n",
    "</div>"
   ]
  },
  {
   "cell_type": "code",
   "execution_count": null,
   "metadata": {},
   "outputs": [],
   "source": [
    "#définition d'un dictionaire\n",
    "personnes={'joe':35,'jane':28,'théo':33}\n",
    "#ou en 2 étapes\n",
    "#une liste de tuples\n",
    "fruits=[('orange',3),('pommes',2),('poires',0)]\n",
    "dico_fruits=dict(fruits)"
   ]
  },
  {
   "cell_type": "markdown",
   "metadata": {},
   "source": [
    "**Quelques opérations sur les dictionnaires**"
   ]
  },
  {
   "cell_type": "code",
   "execution_count": null,
   "metadata": {},
   "outputs": [],
   "source": [
    "personnes={'joe':35,'jane':28,'théo':33}\n",
    "'jane'in personnes"
   ]
  },
  {
   "cell_type": "code",
   "execution_count": null,
   "metadata": {},
   "outputs": [],
   "source": [
    "d={'joe':35,'jane':28,'théo':33}\n",
    "'orange' not in d"
   ]
  },
  {
   "cell_type": "code",
   "execution_count": null,
   "metadata": {},
   "outputs": [],
   "source": [
    "d={'joe':35,'jane':28,'théo':33}\n",
    "len(d)"
   ]
  },
  {
   "cell_type": "markdown",
   "metadata": {},
   "source": [
    "<div class=\"alert alert-warning\">\n",
    "<img src=\"Images/CR.png\" alt=\"logo CR\" width=5% align=right>\n",
    "\n",
    "À partir du dictionnaire 'd' ci-dessous, exécutez les commandes suivantes et justifiez la réponse :\n",
    "* d['jane']\n",
    "* d.keys()\n",
    "* d.values()\n",
    "* d.items()\n",
    "* d.get('jo','inconnu !')\n",
    "* d.pop('théo')\n",
    "</div>"
   ]
  },
  {
   "cell_type": "code",
   "execution_count": null,
   "metadata": {},
   "outputs": [],
   "source": [
    "d={'joe':35,'jane':28,'théo':33,'bernard':22,'éric':54,'élise':18}\n"
   ]
  },
  {
   "cell_type": "code",
   "execution_count": null,
   "metadata": {},
   "outputs": [],
   "source": [
    "d"
   ]
  },
  {
   "cell_type": "code",
   "execution_count": null,
   "metadata": {},
   "outputs": [],
   "source": [
    "d={'joe':35,'jane':28,'théo':33}\n",
    "d['théo']= 55\n",
    "d.items()"
   ]
  },
  {
   "cell_type": "code",
   "execution_count": null,
   "metadata": {},
   "outputs": [],
   "source": [
    "d={'joe':35,'jane':28,'théo':33}\n",
    "del d['théo']\n",
    "d.items()"
   ]
  },
  {
   "cell_type": "code",
   "execution_count": null,
   "metadata": {},
   "outputs": [],
   "source": [
    "# comme indiqué plus haut, la valeur peut prendre n'importe quel objet, ici un n-uplet (tuple)\n",
    "personnel={'joe':('H',35),'jane':('F',28),'théo':('H',33)}\n",
    "for nom, genre in personnel.items():\n",
    "    sexe, age=genre # dépaquetage du tuple\n",
    "    print(f'sexe {sexe}, âge {age}')"
   ]
  },
  {
   "cell_type": "markdown",
   "metadata": {},
   "source": [
    "<div class=\"alert alert-warning\">\n",
    "<img src=\"Images/CR.png\" alt=\"logo CR\" width=5% align=right>\n",
    "    \n",
    "**Défi**\n",
    "\n",
    "Créez un dictionnaire qui prendra pour clés, le nom des spécialités des élèves de la classe, et pour valeurs le nombre d'élèves qui y sont inscrits.\n",
    "\n",
    "Votre programme doit donner la répartition des spécialités sous la forme d'un camembert. On utilisera avantageusement le programme ci-dessous et remarquant qu'il faut modifier la liste nb_eleves et le nombre d'éléments dans les listes correspondantes.\n",
    "\n",
    "\n",
    "* Écrivez l’algorithme puis le programme.\n",
    "</div>"
   ]
  },
  {
   "cell_type": "code",
   "execution_count": null,
   "metadata": {},
   "outputs": [],
   "source": [
    "from matplotlib import pyplot\n",
    "\n",
    "nb_eleves = [2, 2, 3, 4, 4]\n",
    "pyplot.figure(figsize = (5, 5))\n",
    "pyplot.pie(nb_eleves, labels = ['NSI', 'Math', 'C', 'D', 'E'],\n",
    "           colors = ['red', 'green', 'yellow','blue','grey'],\n",
    "           explode = [0.2, 0, 0, 0, 0],\n",
    "           autopct = lambda nb_eleves: str(round(nb_eleves, 2)) + '%',\n",
    "           pctdistance = 0.7, labeldistance = 1.2,\n",
    "           shadow = True)\n",
    "pyplot.legend()"
   ]
  },
  {
   "cell_type": "markdown",
   "metadata": {},
   "source": [
    "### 2- Les fichiers CSV"
   ]
  },
  {
   "cell_type": "markdown",
   "metadata": {},
   "source": [
    "<div class=\"alert alert-success\">\n",
    "Si l’on souhaite ordonner des données sous forme de tableau pour constituer une base de données élémentaire, il est intéressant d’utiliser le format CSV (Comma Separeted Values) : valeur séparée par une virgule. Bien que ce ne soit pas toujours ce séparateur !\n",
    "</div>"
   ]
  },
  {
   "cell_type": "markdown",
   "metadata": {},
   "source": [
    "<div class=\"alert alert-warning\">\n",
    "<img src=\"Images/CR.png\" alt=\"logo CR\" width=5% align=right>\n",
    "    \n",
    "* Ouvrez un nouveau \"Fichier texte\" et saisissez les données suivantes (pas d'espaces dans les champs):\n",
    "    \n",
    "    joe,H,35\n",
    "\n",
    "    jane,F,17\n",
    "\n",
    "    théo,H,12\n",
    "    \n",
    "\n",
    "* Sauvegardez votre fichier et renommer le « noms.csv » (votre fichier doit se trouver dans le même répertoire que ce document)\n",
    "\n",
    "* Exécutez le programme ci-dessous :\n",
    "</div>"
   ]
  },
  {
   "cell_type": "code",
   "execution_count": null,
   "metadata": {},
   "outputs": [],
   "source": [
    "#!/usr/bin/env python3\n",
    "# -*- coding: utf-8 -*-\n",
    "\"\"\"\n",
    "Lecture d'un fichier CSV\n",
    "\"\"\"\n",
    "\n",
    "import csv\n",
    "\n",
    "with open('noms.csv') as mon_fichier_csv:\n",
    "    lecteur_csv = csv.reader(mon_fichier_csv, delimiter=',')\n",
    "    table_amis = []\n",
    "    dico_amis = {}\n",
    "    for ligne in lecteur_csv:\n",
    "        sexe='un homme'\n",
    "        if ligne[1]=='F':\n",
    "            sexe='une femme'\n",
    "        print(f'{ligne[0]} est {sexe} dont l\\'âge est {ligne[2]} ans.')\n",
    "        table_amis.append(ligne)\n",
    "        dico_amis[ligne[0]]=(ligne[1],ligne[2])\n",
    "    print(table_amis)\n",
    "    print(dico_amis)"
   ]
  },
  {
   "cell_type": "markdown",
   "metadata": {},
   "source": [
    "<div class=\"alert alert-warning\">\n",
    "<img src=\"Images/CR.png\" alt=\"logo CR\" width=5% align=right>\n",
    "\n",
    "\n",
    "* De quel type est la variable \"table_amis\" ?\n",
    "* Comment récupérer séparément le sexe et l'âge de jane dans la table_amis ?\n",
    "* De quel type est la variable \"dico_amis\" ?\n",
    "* Comment récupérer séparément le sexe et l'âge de jane dans la dico_amis ?\n",
    "</div>"
   ]
  },
  {
   "cell_type": "code",
   "execution_count": null,
   "metadata": {},
   "outputs": [],
   "source": [
    "# Vos tests ici\n"
   ]
  },
  {
   "cell_type": "markdown",
   "metadata": {},
   "source": [
    "<div class=\"alert alert-warning\">\n",
    "<img src=\"Images/CR.png\" alt=\"logo CR\" width=5% align=right>\n",
    "    \n",
    "* Exécuter le programme suivant :\n",
    "</div>"
   ]
  },
  {
   "cell_type": "code",
   "execution_count": null,
   "metadata": {},
   "outputs": [],
   "source": [
    "#!/usr/bin/env python3\n",
    "# -*- coding: utf-8 -*-\n",
    "\"\"\"\n",
    "Écriture dans fichier CSV\n",
    "\"\"\"\n",
    "\n",
    "import csv\n",
    "\n",
    "\n",
    "Nom_fichier='noms.csv'\n",
    "enregistrement=['Thierry','H',15]\n",
    "\n",
    "with open(Nom_fichier, 'a') as contacts:\n",
    "    relation= csv.writer(contacts, delimiter=',')\n",
    "    relation.writerow(enregistrement)"
   ]
  },
  {
   "cell_type": "markdown",
   "metadata": {},
   "source": [
    "<div class=\"alert alert-warning\">\n",
    "<img src=\"Images/CR.png\" alt=\"logo CR\" width=5% align=right>\n",
    "    \n",
    "* Ouvrez le fichier « noms.csv » et constatez la modification.\n",
    "\n",
    "* Remplacez l'attribut \"a\" dans le programme ci-dessus par l'attribut \"w\" et constatez le changement.\n",
    "\n",
    "* Faites le bilan des attributs utilisés lors des travaux précédents.\n",
    "</div>"
   ]
  },
  {
   "cell_type": "markdown",
   "metadata": {},
   "source": [
    "<div class=\"alert alert-danger\" role=\"alert\">\n",
    "<img src=\"Images/warning.png\" alt=\"Warning\" width=5% align=left>\n",
    "\n",
    "*Remarque* : Il existe d'autres possibilités de manipuler les fichiers CSV, nous y reviendrons lors d'une autre séquence."
   ]
  },
  {
   "cell_type": "markdown",
   "metadata": {},
   "source": [
    "<div class=\"alert alert-warning\">\n",
    "<img src=\"Images/CR.png\" alt=\"logo CR\" width=5% align=right>\n",
    "    \n",
    "**Défi**\n",
    "\n",
    "Vous allez réutiliser le fichier « noms.csv » original pour définir dans la liste des personnes, combien d’entre elles sont majeures ?\n",
    "\n",
    "\n",
    "* Écrivez l’algorithme puis le programme.\n",
    "</div>"
   ]
  },
  {
   "cell_type": "markdown",
   "metadata": {},
   "source": [
    "### 3- L'interface graphique (GUI)"
   ]
  },
  {
   "cell_type": "markdown",
   "metadata": {},
   "source": [
    "<div class=\"alert alert-success\">\n",
    "<img src=\"Images/warning.png\" alt=\"Warning\" width=5% align=left>\n",
    "\n",
    "Les codes proposés ci-après ne sont pas exécutables sur le serveur JUPYTER distant. Il faut les copier et les exécuter en local avec l'IDE SPYDER.\n",
    "\n",
    "Je vous propose un rapide aperçu du **module tkinter**, libre à vous de compléter votre formation sur Internet, par exemple à l'adresse :\n",
    "\n",
    "https://fr.wikibooks.org/wiki/Programmation_Python/Tkinter\n",
    "</div>"
   ]
  },
  {
   "cell_type": "code",
   "execution_count": null,
   "metadata": {},
   "outputs": [],
   "source": [
    "from tkinter import *    # Module tkinter\n",
    "\n",
    "\n",
    "Demo = Tk()          # Création fenêtre \"Demo\"\n",
    "\n",
    "# Le code définissant le contenu de la fenêtre doit être placé\n",
    "# entre les 2 instructions Tk() et mainloop()\n",
    "\n",
    "Demo.mainloop()      # Boucle principale"
   ]
  },
  {
   "cell_type": "markdown",
   "metadata": {},
   "source": [
    "<div class=\"alert alert-success\">\n",
    "Pour éviter de fermer la fenètre avec la petite croix en haut à droite, on va placer un widget (windows gadget) bouton.\n",
    "\n",
    "Pour mettre des widgets, il faut définir un support pour les mettre : il s'agit par exemple d'une frame.\n",
    "\n",
    "On va profiter également pour :\n",
    "\n",
    "- Donner un nom à notre fenêtre ;\n",
    "- Définir la taille de la fenêtre et la figer ;\n",
    "- Colorer le fond de la fenêtre ;\n",
    "</div>"
   ]
  },
  {
   "cell_type": "code",
   "execution_count": null,
   "metadata": {},
   "outputs": [],
   "source": [
    "from tkinter import *\n",
    "\n",
    "\n",
    "Demo = Tk()\n",
    "\n",
    "monCadre = Frame(Demo,  bd=1, relief=RIDGE) # Cadre placé dans la fenêtre\n",
    "monCadre.pack(padx=5, pady=5) # Marges externes de la frame\n",
    "\n",
    "Demo.title('Démonstration') # Titre de la fenêtre\n",
    "Demo.geometry('300x200') # Dimensions de la fenêtre largeur x hauteur\n",
    "Demo.resizable(width=False, height=False) # Dimensions non modifiable\n",
    "Demo['bg'] = 'lightblue' # Couleur du fond\n",
    "\n",
    "monBoutonQuitter = Button(Demo, text='Quitter', command=Demo.destroy)\n",
    "monBoutonQuitter.pack(padx=5, pady=5, side=LEFT)\n",
    "\n",
    "\n",
    "Demo.mainloop()"
   ]
  },
  {
   "cell_type": "markdown",
   "metadata": {},
   "source": [
    "<div class=\"alert alert-success\">\n",
    "On a interagit avec le système grâce à un bouton.\n",
    "\n",
    "On peut aussi lui fournir un message avec une \"entry\" : on associe une variable \"saisie\" de type string pour récupérer le  texte entrée (pas encore fait ci-dessous).\n",
    "\n",
    "Le système peut nous informer par un message, il s'agit d'un \"label\".\n",
    "</div>"
   ]
  },
  {
   "cell_type": "code",
   "execution_count": null,
   "metadata": {},
   "outputs": [],
   "source": [
    "from tkinter import *\n",
    "\n",
    "Demo = Tk()\n",
    "\n",
    "monCadre = Frame(Demo,  bd=1, relief=RIDGE)\n",
    "monCadre.pack(padx=5, pady=5)\n",
    "\n",
    "Demo.title('Démonstration')\n",
    "Demo.geometry('300x200')\n",
    "Demo.resizable(width=False, height=False)\n",
    "Demo['bg'] = 'lightblue'\n",
    "\n",
    "\n",
    "message = Label(Demo, text = 'Hello') # affichage d'un texte\n",
    "message.pack(padx=5, pady=5)\n",
    "\n",
    "saisie = StringVar() # Variable de type chaîne\n",
    "entree = Entry(Demo, textvariable = saisie) # Définition d'une zone de saisie\n",
    "entree.pack(padx=5, pady=5, side=LEFT)\n",
    "\n",
    "monBoutonQuitter = Button(Demo, text='Quitter', command=Demo.destroy)\n",
    "monBoutonQuitter.pack(padx=5, pady=5, side=LEFT)\n",
    "\n",
    "Demo.mainloop()"
   ]
  },
  {
   "cell_type": "markdown",
   "metadata": {},
   "source": [
    "<div class=\"alert alert-success\">\n",
    "Nous allons ajouter un nouveau bouton. L'apui sur celui-ci doit provoquer l'affichage de ce qui aura été saisi dans la fenêtre à la place du Hello initial.\n",
    "Pour cela, l'appui sur ce second bouton va appeler une fonction qui fera le traitement souhaité.\n",
    "\n",
    "<img src=\"Images/warning.png\" alt=\"Warning\" width=5% align=left>\n",
    "\n",
    "Remarquez où est placée la fonction, comment se fait l'appel !\n",
    "</div>"
   ]
  },
  {
   "cell_type": "code",
   "execution_count": null,
   "metadata": {},
   "outputs": [],
   "source": [
    "from tkinter import *\n",
    "\n",
    "def affiche_zone_saisie():\n",
    "    global entree\n",
    "    zoneSaisie = entree.get()\n",
    "    affiche.set(zoneSaisie)\n",
    "\n",
    "\n",
    "Demo = Tk()\n",
    "\n",
    "monCadre = Frame(Demo,  bd=1, relief=RIDGE)\n",
    "monCadre.pack(padx=5, pady=5)\n",
    "\n",
    "Demo.title('Démonstration')\n",
    "Demo.geometry('300x200')\n",
    "Demo.resizable(width=False, height=False)\n",
    "Demo['bg'] = 'lightblue'\n",
    "\n",
    "affiche = StringVar()\n",
    "affiche.set('Hello') # Initialisation de la variable\n",
    "message = Label(Demo, textvariable = affiche)\n",
    "message.pack(padx=5, pady=5)\n",
    "\n",
    "saisie = StringVar()\n",
    "entree = Entry(Demo, textvariable = saisie)\n",
    "entree.pack(padx=5, pady=5)\n",
    "\n",
    "btnAffiche = Button(Demo, text='Affiche', command=affiche_zone_saisie) # Appel de la fonction si appui\n",
    "btnAffiche.pack(padx=5, pady=5, side=LEFT)\n",
    "\n",
    "monBoutonQuitter = Button(Demo, text='Quitter', command=Demo.destroy)\n",
    "monBoutonQuitter.pack(padx=5, pady=5, side=LEFT)\n",
    "\n",
    "Demo.mainloop()"
   ]
  },
  {
   "cell_type": "markdown",
   "metadata": {},
   "source": [
    "<div class=\"alert alert-success\">\n",
    "Comment placer une image ? Il faut :\n",
    "\n",
    "- Placer un canvas (zone de dessin) ;\n",
    "- Importer une image (celle-ci sera dans le répertoire courant pour le code fourni).\n",
    "</div>"
   ]
  },
  {
   "cell_type": "code",
   "execution_count": null,
   "metadata": {},
   "outputs": [],
   "source": [
    "from tkinter import *\n",
    "\n",
    "def affiche_zone_saisie():\n",
    "    global entree\n",
    "    zoneSaisie = entree.get()\n",
    "    affiche.set(zoneSaisie)\n",
    "\n",
    "\n",
    "Demo = Tk()\n",
    "\n",
    "monCadre = Frame(Demo,  bd=1, relief=RIDGE)\n",
    "monCadre.pack(padx=5, pady=5)\n",
    "\n",
    "Demo.title('Démonstration')\n",
    "Demo.geometry('300x300')\n",
    "Demo.resizable(width=False, height=False)\n",
    "Demo['bg'] = 'lightblue'\n",
    "\n",
    "affiche = StringVar()\n",
    "affiche.set('Hello')\n",
    "message = Label(Demo, textvariable = affiche)\n",
    "message.pack(padx=5, pady=5)\n",
    "\n",
    "saisie = StringVar()\n",
    "entree = Entry(Demo, textvariable = saisie)\n",
    "entree.pack(padx=5, pady=5)\n",
    "\n",
    "zone_dessin = Canvas(Demo, bg='white', height=150, width=150)\n",
    "zone_dessin.pack()\n",
    "\n",
    "bateau = PhotoImage(file='Images/warning.png') # Création d'une image Tkinter\n",
    "zone_dessin.create_image(75,75, image=bateau) # Coordonnées = centre du canvas \n",
    "\n",
    "btnAffiche = Button(Demo, text='Affiche', command=affiche_zone_saisie)\n",
    "btnAffiche.pack(padx=5, pady=5, side=LEFT)\n",
    "\n",
    "monBoutonQuitter = Button(Demo, text='Quitter', command=Demo.destroy)\n",
    "monBoutonQuitter.pack(padx=5, pady=5, side=LEFT)\n",
    "\n",
    "Demo.mainloop()"
   ]
  },
  {
   "cell_type": "markdown",
   "metadata": {},
   "source": [
    "<div class=\"alert alert-success\">\n",
    "D'autres widgets sont disponibles, concentrons nous sur l'un de ceux que l'on veut utiliser pour notre application : le radiobouton.\n",
    "</div>"
   ]
  },
  {
   "cell_type": "code",
   "execution_count": null,
   "metadata": {},
   "outputs": [],
   "source": [
    "from tkinter import *\n",
    "\n",
    "def affiche_zone_saisie():\n",
    "    global entree\n",
    "    zoneSaisie = entree.get()\n",
    "    affiche.set(zoneSaisie)\n",
    "\n",
    "def choix_item():\n",
    "    choix = selection.get()\n",
    "    affiche.set(choix)\n",
    "    \n",
    "    \n",
    "Demo = Tk()\n",
    "\n",
    "monCadre = Frame(Demo,  bd=1, relief=RIDGE)\n",
    "monCadre.pack(padx=5, pady=5)\n",
    "\n",
    "Demo.title('Démonstration')\n",
    "Demo.geometry('300x300')\n",
    "Demo.resizable(width=False, height=False)\n",
    "Demo['bg'] = 'lightblue'\n",
    "\n",
    "affiche = StringVar()\n",
    "affiche.set('Hello')\n",
    "message = Label(Demo, textvariable = affiche)\n",
    "message.pack(padx=5, pady=5)\n",
    "\n",
    "saisie = StringVar()\n",
    "entree = Entry(Demo, textvariable = saisie)\n",
    "entree.pack(padx=5, pady=5)\n",
    "\n",
    "zone_dessin = Canvas(Demo, bg='white', height=150, width=150)\n",
    "zone_dessin.pack()\n",
    "\n",
    "bateau = PhotoImage(file='warning.png', master=Demo)\n",
    "zone_dessin.create_image(75,75, image=bateau)\n",
    "\n",
    "selection = StringVar()\n",
    "selection.set('1') # Choix de la valeur par défaut (à l'ouverture de la fenêtre)\n",
    "Radiobutton(Demo, text='choix 1', variable=selection, value='1', command=choix_item).pack(padx=10, pady=2)\n",
    "Radiobutton(Demo, text='choix 2', variable=selection, value='2', command=choix_item).pack(padx=10, pady=2)\n",
    "\n",
    "btnAffiche = Button(Demo, text='Affiche', command=affiche_zone_saisie)\n",
    "btnAffiche.pack(padx=5, pady=5, side=LEFT)\n",
    "\n",
    "monBoutonQuitter = Button(Demo, text='Quitter', command=Demo.destroy)\n",
    "monBoutonQuitter.pack(padx=5, pady=5, side=LEFT)\n",
    "\n",
    "Demo.mainloop()"
   ]
  },
  {
   "cell_type": "markdown",
   "metadata": {},
   "source": [
    "<div class=\"alert alert-warning\">\n",
    "<img src=\"Images/CR.png\" alt=\"logo CR\" width=5% align=right>\n",
    "    \n",
    "**Défi**\n",
    "\n",
    "Voici un extrait d'articles vendus par un magasin.\n",
    "<img src=\"Images/CdCf.png\" alt=\"magasin\" width=50%/>\n",
    "La structure de données utilisée pour les articles, ainsi que leur nombre sera obligatoirement un **dictionnaire**. Ce dictionnaire sera créé à partir d'un fichier CSV dont les caractéristiques sont les suivantes (respecter le format article, nombre, prix):\n",
    "- Tentes : 11 en stock au prix de 23 €\n",
    "- Sacs de couchage : 17 en stock au prix de 130 €\n",
    "- Tables : 10 en stock au prix de 15 €\n",
    "- Chaises : 0  en stock au prix de 28 €\n",
    "- Gourdes : 35 en stock au prix de 13 €\n",
    "\n",
    "Votre programme devra répondre à un client qui sélectionne un article (radio bouton) si celui-ci est disponible (en stock) ou non. Si l'article est disponible, on donnera son prix au client. Bien sûr, si le client demande un article que ne propose pas le magasin (autres), il faudra le lui signaler.\n",
    "* Écrivez l’algorithme puis le programme.\n",
    "</div>"
   ]
  },
  {
   "cell_type": "code",
   "execution_count": null,
   "metadata": {},
   "outputs": [],
   "source": [
    "#Votre solution ici !"
   ]
  }
 ],
 "metadata": {
  "kernelspec": {
   "display_name": "Python 3",
   "language": "python",
   "name": "python3"
  },
  "language_info": {
   "codemirror_mode": {
    "name": "ipython",
    "version": 3
   },
   "file_extension": ".py",
   "mimetype": "text/x-python",
   "name": "python",
   "nbconvert_exporter": "python",
   "pygments_lexer": "ipython3",
   "version": "3.8.3"
  },
  "varInspector": {
   "cols": {
    "lenName": 16,
    "lenType": 16,
    "lenVar": 40
   },
   "kernels_config": {
    "python": {
     "delete_cmd_postfix": "",
     "delete_cmd_prefix": "del ",
     "library": "var_list.py",
     "varRefreshCmd": "print(var_dic_list())"
    },
    "r": {
     "delete_cmd_postfix": ") ",
     "delete_cmd_prefix": "rm(",
     "library": "var_list.r",
     "varRefreshCmd": "cat(var_dic_list()) "
    }
   },
   "types_to_exclude": [
    "module",
    "function",
    "builtin_function_or_method",
    "instance",
    "_Feature"
   ],
   "window_display": false
  }
 },
 "nbformat": 4,
 "nbformat_minor": 2
}
