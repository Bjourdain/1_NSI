{
 "cells": [
  {
   "cell_type": "markdown",
   "metadata": {},
   "source": [
    "# <center><font face=\"arial\" size=\"5\" color=#0101DF>NUMERIQUE ET SCIENCES INFORMATIQUES 1ère NSI</font></center>"
   ]
  },
  {
   "cell_type": "markdown",
   "metadata": {},
   "source": [
    "## <font color=#013ADF>Séquence N° 3 : réutilisons nos fonctions</font>"
   ]
  },
  {
   "cell_type": "markdown",
   "metadata": {},
   "source": [
    "<div class=\"alert alert-success\">\n",
    "    \n",
    "Vous venez de prendre du temps pour développer une fonction. L'idéal serait de pouvoir la réutiliser sans avoir à la recopier à la manière des imports de module.\n",
    "</div>"
   ]
  },
  {
   "cell_type": "code",
   "execution_count": null,
   "metadata": {},
   "outputs": [],
   "source": [
    "def test_parite(nb):\n",
    "    \"\"\"\n",
    "    Cette fonction reçoit en entrée un nombre entier.\n",
    "    Elle teste si ce nombre est pair\n",
    "    puis renvoit en sortie 1 ou 0.\n",
    "    Précondition : Le nombre doit être entier.\n",
    "    Postcondition : 0 si pair, 1 si impair\n",
    "    Tests :\n",
    "    >>> test_parite(8)\n",
    "    0\n",
    "    >>> test_parite(7)\n",
    "    1\n",
    "    \"\"\"\n",
    "    assert type(nb)==int,'Le nombre doit être un entier'\n",
    "    return nb%2"
   ]
  },
  {
   "cell_type": "markdown",
   "metadata": {},
   "source": [
    "<div class=\"alert alert-success\">\n",
    "Réutilisons cette fonction dans un autre programme. Pour cela, il faut la sauvegarder dans le répertoire du projet (ici le répertoire courant). Nous appelerons notre module (notre fonction): module_perso.py\n",
    "\n",
    "Avec l'environnement JUPYTER, il y a une étape en plus que la normale.\n",
    "\n",
    "- Copiez votre fonction dans un fichier texte et sauvegardez le;\n",
    "- Renommez le fichier module_perso.py.\n",
    "</div>"
   ]
  },
  {
   "cell_type": "markdown",
   "metadata": {},
   "source": [
    "<div class=\"alert alert-success\">\n",
    "Exécutez le petit morceau de code ci-dessous :\n",
    "</div>"
   ]
  },
  {
   "cell_type": "code",
   "execution_count": null,
   "metadata": {},
   "outputs": [],
   "source": [
    "import module_perso\n",
    "\n",
    "nombre=int(input(\"Saisir un nombre entier : \"))\n",
    "reponse=module_perso.test_parite(nombre)\n",
    "if reponse==0 :\n",
    "    print(\"Ce nombre est pair !\")\n",
    "else :\n",
    "    print(\"Ce nombre est impair !\")"
   ]
  },
  {
   "cell_type": "markdown",
   "metadata": {},
   "source": [
    "<div class=\"alert alert-success\">\n",
    "Il faut reconnaître que \"module_perso\", c'est un peu long à écrire. Essayez :\n",
    "<div>"
   ]
  },
  {
   "cell_type": "code",
   "execution_count": null,
   "metadata": {},
   "outputs": [],
   "source": [
    "import module_perso as perso\n",
    "# On importe le même module, mais on lui donne un autre nom\n",
    "\n",
    "nombre=int(input(\"Saisir un nombre entier : \"))\n",
    "reponse=perso.test_parite(nombre)\n",
    "if reponse==0 :\n",
    "    print(\"Ce nombre est pair !\")\n",
    "else :\n",
    "    print(\"Ce nombre est impair !\")"
   ]
  },
  {
   "cell_type": "markdown",
   "metadata": {},
   "source": [
    "<div class=\"alert alert-success\">\n",
    "J'aurais souhaité utiliser ma fonction \"test_parite\" comme fonction dans un programme principal (main) et pouvoir aussi l'importer comme module dans un autre programme. Pour cela, on va rajouter dans le fichier \"module_perso.py\" les lignes 16 à 24 (n'oubliez pas de sauvegarder !):\n",
    "</div>"
   ]
  },
  {
   "cell_type": "code",
   "execution_count": null,
   "metadata": {},
   "outputs": [],
   "source": [
    "def test_parite(nb):\n",
    "    \"\"\"\n",
    "    Cette fonction reçoit en entrée un nombre entier.\n",
    "    Elle teste si ce nombre est pair\n",
    "    puis renvoit en sortie 1 ou 0.\n",
    "    Précondition : Le nombre doit être entier.\n",
    "    Postcondition : 0 si pair, 1 si impair\n",
    "    Tests :\n",
    "    >>> test_parite(8)\n",
    "    0\n",
    "    >>> test_parite(7)\n",
    "    1\n",
    "    \"\"\"\n",
    "    assert type(nb)==int,'Le nombre doit être un entier'\n",
    "    return nb%2\n",
    "\n",
    "if __name__ == '__main__':\n",
    "    import doctest\n",
    "    doctest.testmod()\n",
    "    nombre=int(input(\"Saisir un nombre entier : \"))\n",
    "    reponse=test_parite(nombre)\n",
    "    if reponse==0 :\n",
    "        print(\"Ce nombre est pair !\")\n",
    "    else :\n",
    "        print(\"Ce nombre est impair !\")"
   ]
  },
  {
   "cell_type": "code",
   "execution_count": null,
   "metadata": {},
   "outputs": [],
   "source": [
    "import module_perso as perso\n",
    "# On importe le même module, mais on lui donne un autre nom\n",
    "\n",
    "nombre=int(input(\"Saisir un nombre entier : \"))\n",
    "reponse=perso.test_parite(nombre)\n",
    "if reponse==0 :\n",
    "    print(\"Ce nombre est pair !\")\n",
    "else :\n",
    "    print(\"Ce nombre est impair !\")"
   ]
  },
  {
   "cell_type": "markdown",
   "metadata": {},
   "source": [
    "<div class=\"alert alert-success\">\n",
    "    \n",
    "**Conclusion :**\n",
    "\n",
    "- Si la fonction fait partie d'un programme que je veux exécuter (main), alors les lignes en dessous \"if __name__ ...\" sont exécutées.\n",
    "\n",
    "- Si l'appel est fait après import du module, les lignes en dessous \"if __name__ ...\" ne sont pas exécutées.\n",
    "    \n",
    "Remarquons que dans le répertoire courant un répertoire `__pycache__` a été créé.\n",
    "</div>"
   ]
  }
 ],
 "metadata": {
  "kernelspec": {
   "display_name": "Python 3",
   "language": "python",
   "name": "python3"
  },
  "language_info": {
   "codemirror_mode": {
    "name": "ipython",
    "version": 3
   },
   "file_extension": ".py",
   "mimetype": "text/x-python",
   "name": "python",
   "nbconvert_exporter": "python",
   "pygments_lexer": "ipython3",
   "version": "3.8.3"
  },
  "varInspector": {
   "cols": {
    "lenName": 16,
    "lenType": 16,
    "lenVar": 40
   },
   "kernels_config": {
    "python": {
     "delete_cmd_postfix": "",
     "delete_cmd_prefix": "del ",
     "library": "var_list.py",
     "varRefreshCmd": "print(var_dic_list())"
    },
    "r": {
     "delete_cmd_postfix": ") ",
     "delete_cmd_prefix": "rm(",
     "library": "var_list.r",
     "varRefreshCmd": "cat(var_dic_list()) "
    }
   },
   "types_to_exclude": [
    "module",
    "function",
    "builtin_function_or_method",
    "instance",
    "_Feature"
   ],
   "window_display": false
  }
 },
 "nbformat": 4,
 "nbformat_minor": 2
}
