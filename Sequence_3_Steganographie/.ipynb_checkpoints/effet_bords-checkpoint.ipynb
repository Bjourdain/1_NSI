{
 "cells": [
  {
   "cell_type": "markdown",
   "metadata": {},
   "source": [
    "# <center><font face=\"arial\" size=\"5\" color=#0101DF>NUMERIQUE ET SCIENCES INFORMATIQUES 1ère NSI</font></center>"
   ]
  },
  {
   "cell_type": "markdown",
   "metadata": {},
   "source": [
    "\n",
    "## <font color=#013ADF>EFFET DE BORD</font>"
   ]
  },
  {
   "cell_type": "markdown",
   "metadata": {},
   "source": [
    "Lorsque l'on réalise l'affectation a= 2, il bien pratique de s'imaginer dans une première approche que python va réserver un espace dans la mémoire vive semblable à une boîte dans lequel le nombre 2 sera stocké. La variable \"a\" joue alors le rôle de symbole que l’on utilise à la place de la valeur 2.\n",
    "\n",
    "Cette représentation est bien pratique pour aborder les variables mais elle n’est pas vraiment correcte. Cela vient de ce que toutes les données sont considérées par Python comme des objets. Les objets sont des structures complexes qui sont bien plus que juste une valeur. Les objets possèdent également des méthodes. Les nombres entiers (objets de type int) « savent » ainsi comment s’additionner entre eux. "
   ]
  },
  {
   "cell_type": "code",
   "execution_count": 1,
   "metadata": {},
   "outputs": [
    {
     "data": {
      "text/plain": [
       "55"
      ]
     },
     "execution_count": 1,
     "metadata": {},
     "output_type": "execute_result"
    }
   ],
   "source": [
    "a=50\n",
    "a.__add__(5)"
   ]
  },
  {
   "cell_type": "markdown",
   "metadata": {},
   "source": [
    "Tout objet a un identifiant que l'on peut connaître en tapant :"
   ]
  },
  {
   "cell_type": "code",
   "execution_count": 2,
   "metadata": {},
   "outputs": [
    {
     "data": {
      "text/plain": [
       "93935972048832"
      ]
     },
     "execution_count": 2,
     "metadata": {},
     "output_type": "execute_result"
    }
   ],
   "source": [
    "id(a)"
   ]
  },
  {
   "cell_type": "markdown",
   "metadata": {},
   "source": [
    "Lorsque l’on définit la variable \"a\", ce nom \"a\" n’est rien d’autre qu’un nom qui fait référence à un objet de type int se trouvant à un emplacement mémoire (adresse). On dit parfois que \"a\" est un alias, on parle aussi de référence ou de pointeur.\n",
    "\n",
    "a= 3 \n",
    "\n",
    "1. Création de l'objet 3\n",
    "2. Création de la variable a\n",
    "3. Création de la référence entre a et 3\n",
    "\n",
    "a=\"toto\"\n",
    "\n",
    "1. Création de l'objet toto\n",
    "2. Déréférencement de l'objet 3\n",
    "3. Création de la référence entre a et toto\n",
    "\n",
    "b=a\n",
    "\n",
    "1. Création de la variable b \n",
    "2. Création de la référence entre b et toto : références partagées"
   ]
  },
  {
   "cell_type": "markdown",
   "metadata": {},
   "source": [
    "Ce modèle mémoire orienté objet est d’une très grande importance lorsque le programme ne se contente pas d’utiliser des nombres mais qu’il fait un usage de types de données structurées complexes telles que les listes.\n",
    "\n",
    "a=[1,2]\n",
    "\n",
    "1. Création de l'objet liste\n",
    "2. Création de l'objet 1\n",
    "3. Création de l'objet 2\n",
    "4. Création de la référence entre le premier élément de la liste et l'objet 1\n",
    "5. Création de la référence entre le second élément de la liste et l'objet 2\n",
    "6. Création de la variable a\n",
    "7. Création de la référence entre a et la liste\n",
    "\n",
    "b=a\n",
    "\n",
    "a[0]=\"toto\"\n",
    "\n",
    "a\n",
    "\n",
    "b"
   ]
  },
  {
   "cell_type": "markdown",
   "metadata": {},
   "source": [
    "Tentons cette petite expérience :"
   ]
  },
  {
   "cell_type": "code",
   "execution_count": 3,
   "metadata": {},
   "outputs": [
    {
     "name": "stdout",
     "output_type": "stream",
     "text": [
      "[1, 2, 3, 'toto']\n",
      "[1, 2, 3, 'toto']\n"
     ]
    }
   ],
   "source": [
    "liste1 = [1,2,3,\"toto\"]\n",
    "liste2 = liste1\n",
    "print(liste1)\n",
    "print(liste2)"
   ]
  },
  {
   "cell_type": "code",
   "execution_count": 4,
   "metadata": {},
   "outputs": [],
   "source": [
    "liste1[3]=\"titi\"\n",
    "liste2.append(10)"
   ]
  },
  {
   "cell_type": "code",
   "execution_count": 5,
   "metadata": {},
   "outputs": [
    {
     "name": "stdout",
     "output_type": "stream",
     "text": [
      "[1, 2, 3, 'titi', 10]\n",
      "[1, 2, 3, 'titi', 10]\n"
     ]
    }
   ],
   "source": [
    "print(liste1)\n",
    "print(liste2)"
   ]
  },
  {
   "cell_type": "code",
   "execution_count": null,
   "metadata": {},
   "outputs": [],
   "source": [
    "id(liste1)"
   ]
  },
  {
   "cell_type": "code",
   "execution_count": null,
   "metadata": {},
   "outputs": [],
   "source": [
    "id(liste2)"
   ]
  },
  {
   "cell_type": "markdown",
   "metadata": {},
   "source": [
    "Solutions partielles : \n",
    "\n",
    "- Créer une nouvelle liste identique sans utiliser l’opérateur d’affectation (non montré ici)\n",
    "- Faire une copie superficielle : copie du premier niveau (shallow copy)\n",
    "\n",
    "a=[1,2]\n",
    "\n",
    "1. Création de l'objet liste\n",
    "2. Création de l'objet 1\n",
    "3. Création de l'objet 2\n",
    "4. Création de la référence entre le premier élément de la liste et l'objet 1\n",
    "5. Création de la référence entre le second élément de la liste et l'objet 2\n",
    "6. Création de la variable a\n",
    "7. Création de la référence entre a et la liste\n",
    "\n",
    "b=a[:]\n",
    "\n",
    "a[0]=\"toto\"\n",
    "\n",
    "a\n",
    "\n",
    "b"
   ]
  },
  {
   "cell_type": "code",
   "execution_count": null,
   "metadata": {},
   "outputs": [],
   "source": [
    "liste=[\"a\",\"z\",\"e\",\"r\",\"t\",\"y\"]\n",
    "new_liste=liste[:]\n",
    "new_liste[0]=\"q\""
   ]
  },
  {
   "cell_type": "code",
   "execution_count": null,
   "metadata": {},
   "outputs": [],
   "source": [
    "print(liste)\n",
    "print(new_liste)"
   ]
  },
  {
   "cell_type": "markdown",
   "metadata": {},
   "source": [
    "Retour du problème !"
   ]
  },
  {
   "cell_type": "code",
   "execution_count": null,
   "metadata": {},
   "outputs": [],
   "source": [
    "liste=[\"a\",[1,2]]\n",
    "new_liste=liste[:]"
   ]
  },
  {
   "cell_type": "code",
   "execution_count": null,
   "metadata": {},
   "outputs": [],
   "source": [
    "print(liste)\n",
    "print(new_liste)"
   ]
  },
  {
   "cell_type": "code",
   "execution_count": null,
   "metadata": {},
   "outputs": [],
   "source": [
    "liste[1][0]=20"
   ]
  },
  {
   "cell_type": "code",
   "execution_count": null,
   "metadata": {},
   "outputs": [],
   "source": [
    "print(liste)\n",
    "print(id(liste))\n",
    "print(new_liste)\n",
    "print(id(new_liste))"
   ]
  },
  {
   "cell_type": "markdown",
   "metadata": {},
   "source": [
    "a=[1,[2]]\n",
    "\n",
    "b=a[:]\n",
    "\n",
    "a[0][1]=\"toto\"\n",
    "\n",
    "Python fait une copie des éléments de la liste, mais c'est l'adresse mémoire des objets qui est copiée. Aussi, si l'un des éléments de la liste est aussi une liste, on retombe sur le même problème"
   ]
  },
  {
   "cell_type": "markdown",
   "metadata": {},
   "source": [
    "Pour ne pas trop rentrer dans les détails et contourner totalement le problème, sans avoir à recréer manuellement une nouvelle liste identique, l'import du module standart \"copy\" et l'utilisation de la méthode deepcopy() effectuera une « copie profonde » : un clone."
   ]
  },
  {
   "cell_type": "code",
   "execution_count": null,
   "metadata": {},
   "outputs": [],
   "source": [
    "import copy\n",
    "\n",
    "liste=[\"a\",[1,2]]\n",
    "new_liste=copy.deepcopy(liste)\n",
    "liste[1][0]=20\n",
    "print(liste)\n",
    "print(new_liste)"
   ]
  },
  {
   "cell_type": "markdown",
   "metadata": {},
   "source": [
    "Lors de l’appel d'une fonction, le contenu d'une liste est modifié par la fonction durant son exécution. On appelle ce phénomène un effet de bord."
   ]
  }
 ],
 "metadata": {
  "kernelspec": {
   "display_name": "Python 3",
   "language": "python",
   "name": "python3"
  },
  "language_info": {
   "codemirror_mode": {
    "name": "ipython",
    "version": 3
   },
   "file_extension": ".py",
   "mimetype": "text/x-python",
   "name": "python",
   "nbconvert_exporter": "python",
   "pygments_lexer": "ipython3",
   "version": "3.8.3"
  },
  "varInspector": {
   "cols": {
    "lenName": 16,
    "lenType": 16,
    "lenVar": 40
   },
   "kernels_config": {
    "python": {
     "delete_cmd_postfix": "",
     "delete_cmd_prefix": "del ",
     "library": "var_list.py",
     "varRefreshCmd": "print(var_dic_list())"
    },
    "r": {
     "delete_cmd_postfix": ") ",
     "delete_cmd_prefix": "rm(",
     "library": "var_list.r",
     "varRefreshCmd": "cat(var_dic_list()) "
    }
   },
   "types_to_exclude": [
    "module",
    "function",
    "builtin_function_or_method",
    "instance",
    "_Feature"
   ],
   "window_display": false
  }
 },
 "nbformat": 4,
 "nbformat_minor": 2
}
