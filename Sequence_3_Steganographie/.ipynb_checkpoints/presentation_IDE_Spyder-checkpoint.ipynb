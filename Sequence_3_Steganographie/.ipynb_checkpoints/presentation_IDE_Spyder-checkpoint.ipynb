{
 "cells": [
  {
   "cell_type": "markdown",
   "metadata": {},
   "source": [
    "# <center><font face=\"arial\" size=\"5\" color=#0101DF>NUMERIQUE ET SCIENCES INFORMATIQUES 1ère NSI</font></center>"
   ]
  },
  {
   "cell_type": "markdown",
   "metadata": {},
   "source": [
    "## <font color=#013ADF>Séquence N° 3 : l'IDE Spyder</font>"
   ]
  },
  {
   "cell_type": "markdown",
   "metadata": {},
   "source": [
    "<div class=\"alert alert-success\">\n",
    "     \n",
    "L'utilisation des notebooks est très commode, puisque l'on peut méler sur le même document, du texte, du code et ensuite exécuter ce code.\n",
    "Ces notebooks possèdent des extensions permettant de visualiser les variables ...\n",
    "    \n",
    "On peut leur reprocher 2 choses :\n",
    "- Il n'y a pas de correcteur orthographique ;\n",
    "- Il n'y a pas de débogueur.\n",
    "    \n",
    "\n",
    "Pour résoudre le second point, on peut utiliser un IDE (Integrated Development Environment) comme Spyder, Thonny ...\n",
    "\n",
    "L'IDE présenté ici est Spyder qui est disponible sur les ordinateurs en réseaux de l'école dans le répertoire Winpython 3.8 présent sur le disque C. Il est également présent sur les ordinateurs portables.\n",
    "    \n",
    "Le seul inconvénient est qu'il ne faut pas oublier de copier/coller le programme dans un notebook sur le serveur pour être sûr d'en garder une trace.\n",
    "                                                                                     \n",
    "</div>"
   ]
  },
  {
   "cell_type": "markdown",
   "metadata": {},
   "source": [
    "<div class=\"alert alert-success\">\n",
    "    \n",
    "<img src=\"Images/present_spyder.png\" alt=\"logo CR\" width=100% align=center>\n",
    "    \n",
    ">- Zone 1 : éditeur. Il permet d'écrire son code. Possibilité de faire un zoom (CTRL +) ;\n",
    "- Zone 2 : console. Saisie de valeurs par l'utilisateur, affichage de résultats, affichage des messages d'erreur, exécution de commande directe ;\n",
    "- Zone 3 : variables. Donne le nom, type et valeur des variables.\n",
    "    \n",
    "    \n",
    "- La flèche verte pour lancer l'exécution du programme ;\n",
    "    \n",
    "Pour faire un débogage :\n",
    "    \n",
    "- Placer un ou plusieurs points d'arrêt du programme où vous le souhaitez en cliquant à droite du numéro de ligne ;\n",
    "- Dans la zone débogage, cliquer sur l'icone \"start/pause\" bleue : Le programme s'arrêtera au premier point d'arrêt (vous pourrez visualiser l'état des variables pour faire un diagnostic) ;\n",
    "- Poursuivre l'exécution en cliquant sur l'icône \"Exécute la ligne courante\" ou si vous avez trouver l'erreur sur l'icône \"stop debogage\".\n",
    "    \n",
    "Si le thème d'affichage ne vous plait pas : Outils, Préférences, Apparences.\n",
    "    \n",
    "</div>"
   ]
  }
 ],
 "metadata": {
  "kernelspec": {
   "display_name": "Python 3",
   "language": "python",
   "name": "python3"
  },
  "language_info": {
   "codemirror_mode": {
    "name": "ipython",
    "version": 3
   },
   "file_extension": ".py",
   "mimetype": "text/x-python",
   "name": "python",
   "nbconvert_exporter": "python",
   "pygments_lexer": "ipython3",
   "version": "3.8.3"
  },
  "varInspector": {
   "cols": {
    "lenName": 16,
    "lenType": 16,
    "lenVar": 40
   },
   "kernels_config": {
    "python": {
     "delete_cmd_postfix": "",
     "delete_cmd_prefix": "del ",
     "library": "var_list.py",
     "varRefreshCmd": "print(var_dic_list())"
    },
    "r": {
     "delete_cmd_postfix": ") ",
     "delete_cmd_prefix": "rm(",
     "library": "var_list.r",
     "varRefreshCmd": "cat(var_dic_list()) "
    }
   },
   "types_to_exclude": [
    "module",
    "function",
    "builtin_function_or_method",
    "instance",
    "_Feature"
   ],
   "window_display": false
  }
 },
 "nbformat": 4,
 "nbformat_minor": 2
}
