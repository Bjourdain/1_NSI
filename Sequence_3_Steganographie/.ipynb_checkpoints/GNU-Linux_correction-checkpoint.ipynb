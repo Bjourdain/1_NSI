{
 "cells": [
  {
   "cell_type": "markdown",
   "metadata": {},
   "source": [
    "# <center><font face=\"arial\" size=\"5\" color=#0101DF>NUMERIQUE ET SCIENCES INFORMATIQUES 1ère NSI</font></center>"
   ]
  },
  {
   "cell_type": "markdown",
   "metadata": {},
   "source": [
    "\n",
    "## <font color=#013ADF>PRISE EN MAIN D'UN SYSTÈME GNU/LINUX</font>"
   ]
  },
  {
   "cell_type": "markdown",
   "metadata": {},
   "source": [
    "## 1-Historique GNU/LINUX\n",
    "\n",
    "\n",
    "**1964** : MIT (Massachusetts Institute of Technology, Bell Labs de AT&T, General Electric → Développement du projet MULTICS (MULTiplexed Information and Computing Service) qui devra permettre de :\n",
    "\n",
    "\t- Pouvoir être utilisé par plusieurs personnes à la fois ;\n",
    "\t- Pouvoir lancer des traitements en tâche de fond ;\n",
    "\t- Accroitre la sécurité.\n",
    "\n",
    "**1969** : Résultats du projet décevant → retrait de AT&T\n",
    "\n",
    "- Poursuite du projet par Ken THOMPSON, Dennis RITCHIE, Rudd CANADAY du laboratoire Bell Labs sans soutien financier : renommage du projet UNICS (Uniplexed Information and Computing Service), puis UNIX.\n",
    "- Retour de AT&T pour le financement\n",
    "\n",
    "<img src=\"Images/Ritchie_thompson.png\" alt=\"Ritchie Thompson\" style=\"zoom:50%;\" />\n",
    "\n",
    "**1970** : Première utilisation officielle de la dénomination UNIX OS (Operating System).\n",
    "\n",
    "**1973** : Réécriture d'UNIX en langage C pour améliorer sa portablilité.\n",
    "\n",
    "**1974** : Diffusion sous license peu restrictive. Les universités américaines contribuent fortement à la diffusion et son amélioration.\n",
    "\n",
    "**1978** : \n",
    "\n",
    "- UNIX V7\n",
    "- AT&T rend la licence d'UNIX plus restrictive.\n",
    "- Les universités dont celle de Californie BERKELEY poursuivent leurs développements avec des versions antérieures → (BSD : Berkley Software Distribution) et publie sous licence Open Source.\n",
    "\n",
    "**1980-1994** : C'est la guerre ... des versions d'UNIX (commerciale AT&T, Open Source BSD)\n",
    "\n",
    "**1983** : Création du projet GNU (GNU is Not Unix) par Richard STALLMAN\n",
    "\n",
    "**1985** : Création de la Free Software Foundation par Richard STALLMAN\n",
    "\n",
    "<img src=\"Images/Stallman.png\" alt=\"Stallman\" style=\"zoom:50%;\" />\n",
    "Un logiciel est libre si et seulement si sa licence garantit les quatre libertés fondamentales :\n",
    "\n",
    "- la liberté d'utiliser le logiciel\n",
    "- la liberté de copier le logiciel\n",
    "- la liberté d'étudier le logiciel\n",
    "- la liberté de modifier le logiciel et de redistribuer les versions modifiées\n",
    "\n",
    "**1988** : \n",
    "\n",
    "- Standardisation de UNIX (tout ce que UNIX doit contenir : commandes de base, interpréteur de commandes, interfaces utilisateur, ...).\n",
    "- Norme IEEE 1003 aussi appelée POSIX (Portable Operating System Interface et le X ... pour UNIX !) .\n",
    "- Tout éditeur de système UNIX (commercial ou gratuit) désirant assurer une compatibilité avec l'ensemble des UNIX doit implémenter ce standart (la programmation restant libre)\n",
    "\n",
    "**1991** : Création du noyau LINUX par Linus TORVALDS. Les autres outils nécessaires ont déjà été développés par le projet GNU\n",
    "\n",
    "<img src=\"Images/Torvalds.png\" alt=\"Torvalds\" style=\"zoom:50%;\" />\n",
    "\n",
    "**1992** : Fonctionnement de l'interface graphique X11\n",
    "\n",
    "**1994-1997** : Apparition  des grandes distributions de LINUX (Red Hat, Debian, SuSE ...)\n",
    "\n",
    "**1996** : Création de la mascotte Tux <img src=\"Images/tux.png\" alt=\"Tux\" style=\"zoom:50%;\" />\n",
    "\n",
    "**2011** : noyau 3.0. Linux à 20 ans\n"
   ]
  },
  {
   "cell_type": "markdown",
   "metadata": {},
   "source": [
    "## 2- Arborescence du système (exemple)\n",
    "\n",
    "![TREE](Images/arborescence.png)\n",
    "\n",
    "*Quelles remarques sur l'image ci-dessus :*\n",
    "\n",
    "- */ désigne le répertoire racine*\n",
    "- */home/user est le répertoire personnel de l'utilisateur \"user\" : \"user\" n'a pas accès à \"alix\"*\n",
    "- *Les fichiers n'ont pas forcement une extension (biberon)*\n",
    "- *Les fichiers commençant par un . sont des fichiers cachés*\n",
    "\n",
    "Le nom d'un chemin (path) d'un fichier est la concaténation depuis la racine de tous les répertoires qu'il est nécessaire de travaerser pour y accéder, chacun étant séparé par le caractère /. C'est un `chemin absolu`.\n",
    "\n",
    "Exemple de chemin absolu au fichier \"cours.pdf\" : /home/alix/Documents/cours.pdf\n",
    "\n",
    "Un chemin absolu :\n",
    "\n",
    "- démarre à la racine → commence par /\n",
    "- ne contient pas de . ni de ..\n",
    "\n",
    "Le nom de chemin peut aussi être `relatif` à sa position courante dans un répertoire. Vous pouvez accéder à un autre répertoire en spécifiant le chemin le plus court relatif à à la situation actuelle de l'arborescence. On utilise souvent 2 entrées particulières de répertoire :\n",
    "\n",
    "- . qui désigne le répertoire courant (actuel)\n",
    "- .. qui désigne le répertoire parent au répertoire actuel\n",
    "\n",
    "Exemple de chemin relatif  au fichier \"cours.pdf\" : \n",
    "\n",
    "- si le répertoire courant est **alix** : \n",
    "\n",
    "  - ./Documents/cours.pdf\n",
    "\n",
    "    ou\n",
    "    \n",
    "\n",
    "  - Documents/cours.pdf *(Documents étant considéré existant dans le répertoire courant)*\n",
    "\n",
    "- si le répertoire courant est **Musique** : \n",
    "\n",
    "  - ../Documents/cours.pdf"
   ]
  },
  {
   "cell_type": "markdown",
   "metadata": {},
   "source": [
    "<div class=\"alert alert-warning\">\n",
    "<img src=\"Images/CR.png\" alt=\"logo CR\" width=5% align=right>\n",
    "\n",
    "**Exercices**\n",
    "\n",
    "- Quel est le chemin absolu pour référencer le fichier `« girafe.png »` ?\n",
    "\n",
    "  **/home/user/Images/Vacances/girafe.png**\n",
    "  \n",
    "\n",
    "- Si le répertoire courant est `/home/user` quel est le chemin relatif vers « index.html » ?\n",
    "\n",
    "  **./Document/index.html ou Documents/index.html**\n",
    "  \n",
    "\n",
    "- Si le répertoire courant est ` /home/user/Images`, quel est le chemin relatif vers « Jjkel.mp4 »?\n",
    "\n",
    "  **../Musique/Jjikel.mp4**\n",
    "  \n",
    "\n",
    "- Si le répertoire courant est `/home/user/Images/Vacances`, quel est le chemin relatif vers «rapport.pdf » ?\n",
    "\n",
    "  **../../Documents/rapport.pdf**\n",
    "  \n"
   ]
  },
  {
   "cell_type": "markdown",
   "metadata": {},
   "source": [
    "## 3- La console ou terminal\n",
    "\n",
    "![console](Images/console.png)\n",
    "\n",
    "- Le nom de l'utilisateur : user\n",
    "- Le nom de la machine : debian\n",
    "- Le nom du répertoire courant : ~ (tilde équivalent ici à /home/user)\n",
    "- L'invite de commande : $\n",
    "\n",
    "Certaines commandes sont fastidieuses à taper, il faut bien le reconnaître. Pour vous aider :\n",
    "\n",
    "- La touche`Tab`active l'autocomplétion\n",
    "- Les flèches `↑ ` et `↓ ` rappellent les commandes précédentes qui sont mémorisées (même après arrêt de la machine)\n",
    "\n",
    "## 4- Les commandes de base\n",
    "\n",
    "**Objectif** : Créer l'arborescence décrite par l'image ci-dessous en ligne de commande. On va plus ou moins volontairement commettre quelques erreurs pour apprendre comment les rectifier ...\n",
    "\n",
    "![travail_demande](Images/travail_demande.png)\n",
    "\n",
    "*Remarques  :*\n",
    "\n",
    "- *Les répertoires en noir ont déjà été créés à l'installation.*\n",
    "\n",
    "- *Seules sont décrites ici les commandes les plus courantes*\n",
    "- *Les commandes peuvent recevoir des options (-a, l, ...). Pour avoir la documentation complète, tapez en ligne de commande : man commande. Exemple : man ls*\n",
    "- (*) est un caractère joker (wildcard). Il représente n'importe quel nombre de caractère y compris 0 caractère.\n",
    "\n",
    "**C'est parti !**\n",
    "\n",
    "### 4-1 Ouvrir un terminal à partir du bureau et vérifions où nous sommes.\n",
    "\n",
    "- Tapez la commande `pwd ` "
   ]
  },
  {
   "cell_type": "markdown",
   "metadata": {},
   "source": [
    "<div class=\"alert alert-warning\">\n",
    "<img src=\"Images/CR.png\" alt=\"logo CR\" width=5% align=right>\n",
    "\n",
    "Réponse du système : **/home/user (chemin absolu du répertoire courant)**"
   ]
  },
  {
   "cell_type": "markdown",
   "metadata": {},
   "source": [
    "### 4-2 Que contient ce répertoire ?\n",
    "\n",
    "- Tapez la commande `ls ` "
   ]
  },
  {
   "cell_type": "markdown",
   "metadata": {},
   "source": [
    "<div class=\"alert alert-warning\">\n",
    "<img src=\"Images/CR.png\" alt=\"logo CR\" width=5% align=right>\n",
    "\n",
    "Réponse du système : **liste des répertoires et fichiers du répertoire courant**"
   ]
  },
  {
   "cell_type": "markdown",
   "metadata": {},
   "source": [
    "- N'y aurait-il pas des fichiers câchés ? Tapez la commande `ls -a` "
   ]
  },
  {
   "cell_type": "markdown",
   "metadata": {},
   "source": [
    "<div class=\"alert alert-warning\">\n",
    "<img src=\"Images/CR.png\" alt=\"logo CR\" width=5% align=right>\n",
    "\n",
    "Réponse du système : **idem mais avec les répertoires et fichiers câchés**"
   ]
  },
  {
   "cell_type": "markdown",
   "metadata": {},
   "source": [
    "- Tous ces répertoires et fichiers ont-ils le même statut ? Tapez la commande `ls -al` "
   ]
  },
  {
   "cell_type": "markdown",
   "metadata": {},
   "source": [
    "<div class=\"alert alert-warning\">\n",
    "<img src=\"Images/CR.png\" alt=\"logo CR\" width=5% align=right>\n",
    "\n",
    "Réponse du système : **idem avec les droits + autres informations**"
   ]
  },
  {
   "cell_type": "markdown",
   "metadata": {},
   "source": [
    "On arrête là avec les options !"
   ]
  },
  {
   "cell_type": "markdown",
   "metadata": {},
   "source": [
    "### 4-3 Changer de répertoire courant\n",
    "\n",
    "Pour ce déplacer dans une répertoire particulier, il faut taper la commande `cd ` suivie du chemin absolu ou relatif du répertoire où l'on veut aller.\n",
    "\n",
    "- Déplacez vous dans le répertoire Documents\n",
    "\n",
    "- À tester :\n",
    "\n",
    "  cd ~  ou cd : allez au répertoire home de l'utilisateur\n",
    "\n",
    "  cd - : retourne au répertoire précédent\n",
    "\n",
    "  cd .. : retourne au répertoire parent du répertoire courant\n",
    "  \n",
    "  cd / : retour au répertoire racine"
   ]
  },
  {
   "cell_type": "markdown",
   "metadata": {},
   "source": [
    "### 4-4 Créer un répertoire\n",
    "\n",
    "Pour créer un répertoire, on utilise la commande `mkdir ` suivi du chemin absolu ou relatif du répertoire que l'on veut créer."
   ]
  },
  {
   "cell_type": "markdown",
   "metadata": {},
   "source": [
    "<div class=\"alert alert-warning\">\n",
    "<img src=\"Images/CR.png\" alt=\"logo CR\" width=5% align=right>\n",
    "\n",
    "- Créez **à partir du répertoire courant** (/home/user/Documents), les répertoires Doc_prof, Doc_élèves, Exercices, Cours.\n",
    "\n",
    "(souvenez vous des flèches `↑ ` et `↓ `)\n",
    "\n",
    "Quelles sont les syntaxes possibles ?\n",
    "\n",
    "**mkdir ./Doc_prof**\n",
    "\n",
    "**mkdir Doc_prof**\n",
    "\n",
    "**mkdir /home/user/Documents/Doc_prof**\n",
    "\n",
    "**idem pour Doc_élèves**\n",
    "\n",
    "**mkdir Doc_prof/Cours Doc_prof/Exercices** : uniquement si Doc_prof et doc_élèves ont été créés avant !\n",
    "\n",
    "**mkdir -p Doc_prof/Cours Doc_prof/Exercices Doc_élèves**\n",
    "\n",
    "-p : création arborescence répertoire/sous répertoire\n",
    "\n",
    "-v : verbose (bla bla)\n"
   ]
  },
  {
   "cell_type": "markdown",
   "metadata": {},
   "source": [
    "J'aurais souhaité ne pas mettre l'underscore dans le nom du répertoire Doc_prof, mais plutôt l'écrire sous la forme Doc prof."
   ]
  },
  {
   "cell_type": "markdown",
   "metadata": {},
   "source": [
    "<div class=\"alert alert-warning\">\n",
    "<img src=\"Images/CR.png\" alt=\"logo CR\" width=5% align=right>\n",
    "\n",
    "- Créez ce répertoire. Que constatez-vous ?\n",
    "\n",
    "**Création de 2 répertoires Doc et prof.**\n",
    "\n",
    "**Contournement possible : mkdir \"Doc prof\" ou mkdir 'Doc prof' (trouvée par un élève !)**"
   ]
  },
  {
   "cell_type": "markdown",
   "metadata": {},
   "source": [
    "Nous ferons le ménage plus tard !"
   ]
  },
  {
   "cell_type": "markdown",
   "metadata": {},
   "source": [
    "### 4-5 Créer des fichiers\n",
    "\n",
    "On va créer les fichiers \"exercices 1 et 2\" avec l'extension \".txt\"\n",
    "\n",
    "- Placez vous dans le répertoire `Exercices`\n",
    "\n",
    "- Tapez la commande `touch exercice1.txt`\n",
    "\n",
    "- Vérifiez la création\n",
    "\n",
    "  Le fichier est vide. Nous allons écrire dans le fichier le message suivant : exercice sur Linux\n",
    "\n",
    "- Tapez la commande `echo \"exercice sur Linux\" > exercice1.txt`\n",
    "\n",
    "- Éditez son contenu avec la commande `cat exercice1.txt`\n",
    "\n",
    "- Faites de même pour le fichier \"exercice2.txt\" avec un message quelconque\n",
    "\n",
    "On va utiliser un éditeur de texte disponible dans la distribution \"nano\" pour créer \"cours1.txt\"\n",
    "\n",
    "- Placez vous dans le répertoire `Cours`\n",
    "- Tapez la commande `nano cours1.txt`, écrire un message quelconque et sauvegardez"
   ]
  },
  {
   "cell_type": "markdown",
   "metadata": {},
   "source": [
    "### 4-6 Copier répertoire et fichier\n",
    "\n",
    "Compte tenu de la qualité du contenu des cours et exercices que vous venez de produire, on va se contenter de copier les fichiers en les renommant éventuellement.\n",
    "\n",
    "Nous allons faire une copie du fichier \"cours1.txt\" en le renommant \"cours2.txt\"\n",
    "\n",
    "- Tapez la commande `cp cours1.txt cours2.txt`\n",
    "- Vérifiez le contenu du répertoire\n",
    "\n",
    "La syntaxe globale de cp est la suivante : cp option chemin origine chemin destination\n",
    "\n",
    "options :\n",
    "\n",
    "-i : contrôle de la copie (pas d'écrasement si existence du même fichier)\n",
    "\n",
    "-r : récursif (répertoire et fichier)\n",
    "\n",
    "On veut copier tous les documents produits dans le répertoire Doc_élèves\n",
    "\n",
    "- Imaginez une commande en une seule ligne pour faire toutes les copies et indiquez dans quel répertoire elle est lancée (pas de nécéssité d'option)"
   ]
  },
  {
   "cell_type": "markdown",
   "metadata": {},
   "source": [
    "<div class=\"alert alert-warning\">\n",
    "<img src=\"Images/CR.png\" alt=\"logo CR\" width=5% align=right>\n",
    "\n",
    "Répertoire : **~/Documents**\n",
    "\n",
    "Commande : **cp Doc_prof/Cours/* Doc_prof/Exercices/* Doc_élèves** ou **cp Doc_prof/* /* Doc_élèves**\n",
    "\n",
    "Répertoire : **~/Documents/Doc_élèves**\n",
    "\n",
    "Commande : **cp Doc_prof/Cours/* Doc_prof/Exercices/* .**"
   ]
  },
  {
   "cell_type": "markdown",
   "metadata": {},
   "source": [
    "- Après vous êtes assuré que la copie a bien eu lieu, relancer la commande en rajoutant l'option -i\n",
    "\n",
    "On va maintenant procéder à un archivage de vos documents (création du répertoire \"Archives\", de son arborescence et copie de tous les documents.\n",
    "\n",
    "- Faites au mieux, c'est à dire au plus rapide !"
   ]
  },
  {
   "cell_type": "markdown",
   "metadata": {},
   "source": [
    "<div class=\"alert alert-warning\">\n",
    "<img src=\"Images/CR.png\" alt=\"logo CR\" width=5% align=right>\n",
    "\n",
    "Répertoire : /home/user\n",
    "\n",
    "Commande(s) : **cp -r Documents Archives**"
   ]
  },
  {
   "cell_type": "markdown",
   "metadata": {},
   "source": [
    "Hélas, on a copié également les répertoires \"Doc\" et \"prof\". On va s'en servir pour quelques expériences.\n"
   ]
  },
  {
   "cell_type": "markdown",
   "metadata": {},
   "source": [
    "### 4-7 Renommer et/ou déplacer répertoire et fichier\n",
    "\n",
    "La commande `mv` permet de faire les 2 traitements. La structure de la commande est similiaire à cp\n",
    "\n",
    "Dans le répertoire Archives, renommer le répertoire \"Doc\" en \"document\"\n",
    "\n",
    "- Tapez la commande `mv Doc document`\n",
    "- Déplacez maintenant document dans prof"
   ]
  },
  {
   "cell_type": "markdown",
   "metadata": {},
   "source": [
    "<div class=\"alert alert-warning\">\n",
    "<img src=\"Images/CR.png\" alt=\"logo CR\" width=5% align=right>\n",
    "\n",
    "Répertoire : Archives\n",
    "\n",
    "Commande : **mv document prof**"
   ]
  },
  {
   "cell_type": "markdown",
   "metadata": {},
   "source": [
    "- Créez un fichier dans le répertoire `prof` que vous appelerez \"essai\"\n",
    "\n",
    "- Renommez le fichier \"essai\" en \"test\" et le déplacez dans \"Archives\""
   ]
  },
  {
   "cell_type": "markdown",
   "metadata": {},
   "source": [
    "<div class=\"alert alert-warning\">\n",
    "<img src=\"Images/CR.png\" alt=\"logo CR\" width=5% align=right>\n",
    "\n",
    "Répertoire : Archives\n",
    "\n",
    "Commande : **touch prof/essai puis mv prof/essai test**"
   ]
  },
  {
   "cell_type": "markdown",
   "metadata": {},
   "source": [
    "### 4-8 Supprimer répertoire et fichier\n",
    "\n",
    "On peut supprimer un répertoire vide avec la commande `rmdir` suivie du nom du répertoire\n",
    "\n",
    "- Supprimez les répertoires Doc et prof présents dans le répertoire \"Documents\""
   ]
  },
  {
   "cell_type": "markdown",
   "metadata": {},
   "source": [
    "<div class=\"alert alert-warning\">\n",
    "<img src=\"Images/CR.png\" alt=\"logo CR\" width=5% align=right>\n",
    "\n",
    "Répertoire : Archives\n",
    "\n",
    "Commande : **rmdir ../Documents/Doc ../Documents/prof**"
   ]
  },
  {
   "cell_type": "markdown",
   "metadata": {},
   "source": [
    "On peut supprimer un fichier ou un répertoire avec la commande `rm ` suivie du nom du répertoire ou fichier\n",
    "\n",
    "- Supprimez le fichier \"test\" présent dans le répertoire \"Archives\""
   ]
  },
  {
   "cell_type": "markdown",
   "metadata": {},
   "source": [
    "<div class=\"alert alert-warning\">\n",
    "<img src=\"Images/CR.png\" alt=\"logo CR\" width=5% align=right>\n",
    "\n",
    "Répertoire : Archives\n",
    "\n",
    "Commande : **rm test**"
   ]
  },
  {
   "cell_type": "markdown",
   "metadata": {},
   "source": [
    "- Tentons de supprimer le répertoire \"prof\", mais il n'est pas vide"
   ]
  },
  {
   "cell_type": "markdown",
   "metadata": {},
   "source": [
    "<div class=\"alert alert-warning\">\n",
    "<img src=\"Images/CR.png\" alt=\"logo CR\" width=5% align=right>\n",
    "\n",
    "Répertoire : Archives\n",
    "\n",
    "Commande : **rmdir prof**\n",
    "\n",
    "Réponse du système : **rmdir : impossible de supprimer  'prof' : Le dossier n'est pas vide**"
   ]
  },
  {
   "cell_type": "markdown",
   "metadata": {},
   "source": [
    "- Utilisez l'arme de destruction massive : `rm -r prof` (r pour récursif)\n",
    "\n",
    "Encore mieux : `rm -fr prof`(suppression sans confirmation des fichiers protégés en écriture)"
   ]
  },
  {
   "cell_type": "markdown",
   "metadata": {},
   "source": [
    "## 5- Gestion des droits des utilisateurs\n",
    "\n",
    "Le rôle d'un système d'exploitation est aussi d'assurer la sécurité et l'accès aux données, ce qui est possible avec le mécanisme de droits.\n",
    "\n",
    "Voilà ce que l'on peut apercevoir lors que l'on tape la commande `ls -al`\n",
    "\n",
    "![droits](Images/droits.png)\n",
    "\n",
    "Linux est un système d'exploitation multi-utilisateurs où le propriétaire d'un fichier peut partager \n",
    "l'accès à son fichier avec d'autre utilisateurs, membres d'un groupe, et en définir les types d'accès possibles.\n",
    "Lors de la création d'un compte utilisateur, un groupe du même nom est créé, et l'utilisateur créé fait partie de la liste des utilisateurs de ce groupe. Sur un système debian, chaque utilisateur appartient au moins à un groupe. Quand un utilisateur créé un fichier, il a tous les droits sur ce fichier.\n",
    "Afin de permettre le partage de fichiers et faciliter le travail en équipe, Linux définit la notion de\n",
    "groupe d'utilisateurs.\n",
    "Le propriétaire d'un fichier pourra définir les différents types d'accès à son fichier pour lui même, et/ou les utilisateurs membres d'un groupe et/ou tous les autres utilisateurs (other).\n",
    "\n",
    "Les différents **types de fichiers** sont définis en fonction des méthodes d'accès possibles pour les\n",
    "utiliser :\n",
    "\n",
    "(-) fichier ordinaire\n",
    "\n",
    "(d) répertoire (directory)\n",
    "\n",
    "...\n",
    "\n",
    "**Il existe trois types d'utilisateurs** :\n",
    "u : user Le propriétaire du fichier\n",
    "g : group les membres du groupe propriétaire du fichier\n",
    "o : other les autres utilisateurs du système\n",
    "\n",
    "Pour chaque fichier et pour chaque type d'utilisateur **il y a trois autorisations d'accès** :\n",
    "r : Autorisation de lecture (read)\n",
    "w : Autorisation d'écriture (write)\n",
    "x : Autorisation d'exécution (execute)\n",
    "\n",
    "**Analyse de la liste des fichiers de la figure ci-dessus**\n",
    "\n",
    "Pour les 2 premières lignes, il s'agit de répertoires, les autres lignes des fichiers.\n",
    "\n",
    "En ce qui concerne le fichier \"exercice2.txt\" :\n",
    "\n",
    "- Le propriétaire (user) a les droits de lecture et d'écriture (pas d'exécution, mais ce n'est pas une fichier exécutable)\n",
    "\n",
    "- Les membres du groupe (user) ont le droit de lecture\n",
    "\n",
    "- Les autres utilisateurs ont le droit de lecture\n",
    "\n",
    "| Correspondances de représentation des droits     |                       |               |\n",
    "| ------------------------------------------------ | --------------------- | ------------- |\n",
    "| Droit                                            | Valeur alphanumérique | Valeur octale |\n",
    "| aucun droit                                      | ---                   | 0             |\n",
    "| exécution seulement                              | --x                   | 1             |\n",
    "| écriture seulement                               | -w-                   | 2             |\n",
    "| ecriture et exécution                            | -wx                   | 3             |\n",
    "| lecture seulement                                | r--                   | 4             |\n",
    "| lecture et exécution                             | r-x                   | 5             |\n",
    "| lecture et écriture                              | rw-                   | 6             |\n",
    "| tous les droits (lecture, écriture et exécution) | rwx                   | 7             |\n",
    "\n",
    "Exemples de commande\n",
    "\n",
    "`chmod u+w fichier` Ajouter les droits d'écriture au propriétaire (user, write)\n",
    "\n",
    "`chmod g+r fichier` Ajouter les droits de lecture au groupe du fichier (group, read)\n",
    "\n",
    "`chmod o-x fichier` Supprimer les droits d'exécution aux autres utilisateurs (other, execution)\n",
    "\n",
    "`chmod a+rw dossier` Ajouter les droits de lecture / écriture à tous (all)\n",
    "\n",
    "`chmod -R a+rx dossier` Ajouter les droits de lecture et d'exécution à tout ce que contient le repertoire dossier (récursif).\n",
    "\n",
    "`chmod 764 dossier` Tous les droits pour le  propriétaire (7xx), lecture et ecriture pour le groupe (x6x) et lecture  uniquement pour les autres (xx4).\n",
    "\n",
    "`chmod -R 755 dossier` Donner au propriétaire tous les droits (7xx), alors que seuls les droits de lecture et d'accès seront  donnés aux autres (x55). Grace à l'option -R ces droits seront appliqués à tous les fichiers et dossiers contenus dans ce répertoire.\n",
    "\n",
    "\n",
    "**Problématique** : toto et user travaillent ensemble. Alice ne veut pas se joindre à eux. On va créer un répertoire où toto et user vont déposer leurs contributions. Ils pourront ajouter et supprimer des documents, ainsi que les modifier. Alice ne doit avoir accès à ce dossier.\n",
    "\n",
    "Pour pouvoir être accessible par 2 utilisateurs différents, le répertoire ne peut pas se trouver dans le `home ` de l'un d'entre-eux . Il doit se situer plus haut dans l'arborescence.\n",
    "\n",
    "Nous allons créer :\n",
    "\n",
    "- un groupe constitué de toto et user appelé `boulot`\n",
    "- 2 nouveaux utilisateurs toto et alice\n",
    "- un répertoire que nous nommerons `Documents_partagés` à la racine du sytème\n",
    "- des droits d'utilisation du répertoire `Documents_partagés`au groupe\n",
    "\n",
    "Tout ce que nous voulons faire nécessite d'être le super-utilisateur. Il faut \"passer\" en `root`\n",
    "\n",
    "**Vous allez posseder les pleins pouvoirs sur la machine, une erreur peut être problématique pour l'intégrité du système. Donc, retour dès que possible au mode utilisateur \"basique\" en tapant exit.**\n",
    "\n",
    "- Tapez la commande `su`, puis `Valider` et enfin donnez le mot de passe du super-utilisateur.\n",
    "\n",
    "*Notez que le mot de passe ne s'affiche pas !*\n",
    "\n",
    "Commençons par créer le groupe de travail \"boulot\"\n",
    "\n",
    "- Tapez la commande `addgroup boulot`\n",
    "\n",
    "- Les commandes addgroup et adduser se trouve dans le répertoire /usr/sbin. Pour afficher les chemins de recherche, tapez la commande ` echo $PATH`\n",
    "\n",
    "- Si le chemin n'est pas présent dans le PATH, on va le rajouter : (à vous de choisir l'une des 2 solutions ci-dessous)\n",
    "\n",
    "- Si vous tapez la commande `export PATH=$PATH:/usr/sbin` : le chemin sera mémorisé pour la session du terminal\n",
    "\n",
    "- Si vous tapez la commande `echo 'export PATH=$PATH:/usr/sbin' >> /home/user/.bashrc` : vous modifiez en l'écrasant le fichier .bashrc, la modification est alors permanente.\n",
    "\n",
    "- Créez le groupe, cela devrait fonctionner à présent !\n",
    "- Visualiser les groupes avec la commande : `cat /etc/group | awk -F:  '{print $1}'`\n",
    "- Créez l'utilisateur `toto ` avec un mot de passe `toto` en tapant la commande `adduser toto` (remplir ou non le pédigrée de toto), faire de même pour `alice`\n",
    "\n",
    "- Visualiser les groupes avec la commande : `cat /etc/passwd | awk -F:  '{print $1}'`\n",
    "\n",
    "Le symbole | (pipe) permet de rediriger le résultat d'une première commande vers une seconde. `awk ` est un utilitaire qui permet d'extraire des informations d'un fichier, ici la première colonne c'est à dire le nom\n",
    "\n",
    "Comme \"toto\" et \"user\" travaillent ensemble, on va les mettre dans le groupe \"boulot\" !\n",
    "\n",
    "- Tapez la commande : `adduser toto boulot`, idem pour user\n",
    "\n",
    "- Vérifiez les membres du groupe en tapant : `cat /etc/group` ou plus sélectif : `cat /etc/group | grep boulot`\n",
    "\n",
    "La commande `grep` permet de rechercher une chaîne de caractères dans un fichier\n",
    "\n",
    "Pour créer le nouveau répertoire, on ne va pas s'embêter. On va copier le répertoire Documents de l'utilisateur \"user\" ainsi que son contenu, en le renommant `Documents_partagés` :"
   ]
  },
  {
   "cell_type": "markdown",
   "metadata": {},
   "source": [
    "<div class=\"alert alert-warning\">\n",
    "<img src=\"Images/CR.png\" alt=\"logo CR\" width=5% align=right>\n",
    "\n",
    "Répertoire : Documents de l'utilisateur\n",
    "\n",
    "Commande : **cp -r Documents /Documents_partagés**"
   ]
  },
  {
   "cell_type": "markdown",
   "metadata": {},
   "source": [
    "Comme nous sommes en mode administrateur, la copie à attribuée aux répertoires et fichiers la propriété à `root`\n",
    "\n",
    "Nous allons rendre à \"user\" la paternité de ses oeuvres mais avant pour appréhender la commande, nous allons réaliser ces 2 manipulations :\n",
    "\n",
    "La commande `chown` permet de changer le propriétaire d'un fichier ou d'un répertoire.\n",
    "\n",
    "Changez le propriétaire du fichier \"cours1.txt\" (user) pour l'attribuer à toto. Pour cela, à partir du répertoire `Documents` de \"user\":\n",
    "\n",
    "- Tapez la commande : `chown toto ./Doc_prof/Cours/cours1.txt` \n",
    "\n",
    "Attribuer l’utilisateur toto et le groupe boulot au fichier exercice1.txt\n",
    "\n",
    "- Tapez la commande : `chown toto:boulot ./Doc_prof/Exercices/exercice1.txt` \n",
    "\n",
    "Attribuer à user la paternité de ses oeuvres qui se trouvent dans le répertoire `Documents_partagés`"
   ]
  },
  {
   "cell_type": "markdown",
   "metadata": {},
   "source": [
    "<div class=\"alert alert-warning\">\n",
    "<img src=\"Images/CR.png\" alt=\"logo CR\" width=5% align=right>\n",
    "\n",
    "Répertoire : /\n",
    "\n",
    "Commande : **chown -R user Documents_partagés**"
   ]
  },
  {
   "cell_type": "markdown",
   "metadata": {},
   "source": [
    "Attibuer l'accès au répertoire `Documents_partagés`au groupe `boulot`"
   ]
  },
  {
   "cell_type": "markdown",
   "metadata": {},
   "source": [
    "<div class=\"alert alert-warning\">\n",
    "<img src=\"Images/CR.png\" alt=\"logo CR\" width=5% align=right>\n",
    "\n",
    "Répertoire : /\n",
    "\n",
    "Commande : **chown -R :boulot Documents_partagés**\n"
   ]
  },
  {
   "cell_type": "markdown",
   "metadata": {},
   "source": [
    "Afin changeons les droits sur tous les fichiers et répertoires du répertoire `Documents_partagés`pour que tous les membres du groupe puissent lire et écrire.\n",
    "\n",
    "- Inspirez vous des exemples cités plus haut pour résoudre le problème"
   ]
  },
  {
   "cell_type": "markdown",
   "metadata": {},
   "source": [
    "<div class=\"alert alert-warning\">\n",
    "<img src=\"Images/CR.png\" alt=\"logo CR\" width=5% align=right>\n",
    "\n",
    "Répertoire : /\n",
    "\n",
    "Commande : **chmod -R 770 Documents_partagés**"
   ]
  },
  {
   "cell_type": "markdown",
   "metadata": {},
   "source": [
    "<div class=\"alert alert-warning\">\n",
    "<img src=\"Images/CR.png\" alt=\"logo CR\" width=5% align=right>\n",
    "\n",
    "Testez les droits en changeant d'utilisateur (user, toto, alice) : su alice (par exemple).\n",
    "L'accès au répertoire partagé est-il possible quel que soit l'utilisateur ?\n",
    "\n",
    "**su alice**\n",
    "\n",
    "**Mot de passe : (alice)**\n",
    "\n",
    "**cd Documents_partagés**\n",
    "\n",
    "**Accès impossible**"
   ]
  },
  {
   "cell_type": "markdown",
   "metadata": {},
   "source": [
    "## 6- Installer/désinstaller une application\n",
    "\n",
    "### 6-1 Les sources de logiciels\n",
    "\n",
    "Debian GNU/Linux utilise le principe des dépôts en ligne pour fournir les applications. Ce principe permet de centraliser les logiciels et vous permet d'utiliser des interfaces simples pour administrer et/ou faire évoluer votre système : vous n'avez pas besoin de visiter les sites de logiciels.\n",
    "\n",
    "**Le fichier sources.list**\n",
    "\n",
    "Les adresses internet des dépôts Debian sont inscrites dans le fichier **/etc/apt/sources.list** et les fichiers du type **/etc/apt/sources.list.d/xxx.list**.\n",
    "\n",
    "- Allons jeter un coup d'oeil au fichier\n",
    "\n",
    "### 6-2 Apt dans un terminal\n",
    "\n",
    " Le logiciel de gestion de paquets **APT** (**A**dvanced **P**ackage **T**ool) est disponible directement depuis la ligne de commande, vous permettant l'administration fine de votre système.\n",
    "\n",
    "**Les commandes 'utilisateur' de recherche et d'information**\n",
    "\n",
    "Ces commandes peuvent être lancées en tant que simple utilisateur car elles n'affectent pas votre système.\n",
    "\n",
    "| **commande**            | **description**                                   |\n",
    "| ----------------------- | ------------------------------------------------- |\n",
    "| apt show *toto*         | Afficher les informations du paquet *toto*        |\n",
    "| apt search *toto*       | Rechercher les paquets qui correspondent à *toto* |\n",
    "| apt-cache policy *toto* | Affiche les versions disponibles de *toto*        |\n",
    "\n",
    "**Les commandes 'administrateur' de maintenance**\n",
    "\n",
    "Ces commandes nécessitent les droits de l'administrateur \"root\" car elles affectent votre système.\n",
    "\n",
    "| **commande**       | **description**                                              |\n",
    "| ------------------ | :----------------------------------------------------------- |\n",
    "| apt update         | Mise à jour des métadonnées des dépôts.                      |\n",
    "| apt install *toto* | Installation du paquet *toto* avec ses dépendances.          |\n",
    "| apt upgrade        | Mise à jour sécurisée des paquets installés.                 |\n",
    "| apt dist-upgrade   | Mise à jour des paquets installés en installant ou supprimant d'autres paquets sinécessaire. |\n",
    "| apt remove *toto*  | Supprimer le paquet *toto* en laissant ses fichiers de configuration. |\n",
    "| apt autoremove     | Supprimer les paquets installés automatiquement lorsqu'ils ne sont plus nécessaires. |\n",
    "| apt purge *toto*   | Purger le paquet *toto* ainsi que ses fichiers de configuration. |\n",
    "| apt clean          | Nettoyer le cache local des paquets installés.               |\n",
    "| apt autoclean      | Nettoyer le cache des fichiers des paquets périmés.          |"
   ]
  },
  {
   "cell_type": "markdown",
   "metadata": {},
   "source": [
    "<div class=\"alert alert-warning\">\n",
    "<img src=\"Images/CR.png\" alt=\"logo CR\" width=5% align=right>\n",
    "\n",
    "- Installez le paquet geany (éditeur de texte).\n",
    "\n",
    "**apt update**\n",
    "\n",
    "**apt install geany**\n",
    "\n",
    "**confirmez**"
   ]
  },
  {
   "cell_type": "markdown",
   "metadata": {},
   "source": [
    "Vous remarquerez que le gestionnaire propose d'installer d'autre paquets nécessaires à celui que vous souhaitez.\n",
    "\n",
    "### 6-3 Les packages DEB\n",
    "\n",
    "La distribution Debian propose un outil de gestion de package permettant d'automatiser l'installation, la configuration et la mise à jour des logiciels installés par ce biais. Les packages Debian sont ainsi des fichiers portant l'extension *.deb* et pouvant être installés manuellement grâce à la commande suivante : \n",
    "\n",
    "```\n",
    "dpkg -i nom_du_package.deb\n",
    "```\n",
    "\n",
    "Pour désinstaller\n",
    "\n",
    "```\n",
    "dpkg -r nom_du_package.deb\n",
    "```\n",
    "\n",
    "Une commande pour supprimer aussi les fichiers de configuration du logiciel :\n",
    "\n",
    "```\n",
    "dpkg -P nom_du_package.deb\n",
    "```"
   ]
  },
  {
   "cell_type": "markdown",
   "metadata": {},
   "source": [
    "<div class=\"alert alert-warning\">\n",
    "<img src=\"Images/CR.png\" alt=\"logo CR\" width=5% align=right>\n",
    "\n",
    "- Récuperez sur Internet , le package filius_1.7.4_all.deb et l'installer\n",
    "\n",
    "**dpkg -i filius_1.7.4_all.deb**"
   ]
  },
  {
   "cell_type": "markdown",
   "metadata": {},
   "source": [
    "## 7- Ressources utilisées\n",
    "\n",
    "Site : https://debian-facile.org/\n",
    "\n",
    "Livre : Linux - Maîtrisez l'administration du sytème Sévastien ROHAUT Éditions eni"
   ]
  }
 ],
 "metadata": {
  "kernelspec": {
   "display_name": "Python 3",
   "language": "python",
   "name": "python3"
  },
  "language_info": {
   "codemirror_mode": {
    "name": "ipython",
    "version": 3
   },
   "file_extension": ".py",
   "mimetype": "text/x-python",
   "name": "python",
   "nbconvert_exporter": "python",
   "pygments_lexer": "ipython3",
   "version": "3.7.3"
  },
  "varInspector": {
   "cols": {
    "lenName": 16,
    "lenType": 16,
    "lenVar": 40
   },
   "kernels_config": {
    "python": {
     "delete_cmd_postfix": "",
     "delete_cmd_prefix": "del ",
     "library": "var_list.py",
     "varRefreshCmd": "print(var_dic_list())"
    },
    "r": {
     "delete_cmd_postfix": ") ",
     "delete_cmd_prefix": "rm(",
     "library": "var_list.r",
     "varRefreshCmd": "cat(var_dic_list()) "
    }
   },
   "types_to_exclude": [
    "module",
    "function",
    "builtin_function_or_method",
    "instance",
    "_Feature"
   ],
   "window_display": false
  }
 },
 "nbformat": 4,
 "nbformat_minor": 2
}
