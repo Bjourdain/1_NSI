{
 "cells": [
  {
   "cell_type": "markdown",
   "metadata": {},
   "source": [
    "# <center><font face=\"arial\" size=\"5\" color=#0101DF>NUMERIQUE ET SCIENCES INFORMATIQUES 1ère NSI</font></center>"
   ]
  },
  {
   "cell_type": "markdown",
   "metadata": {},
   "source": [
    "## <font color=#013ADF>Séquence N° 3 : document de formation préalable au projet : STÉGANOGRAPHIE</font>"
   ]
  },
  {
   "cell_type": "markdown",
   "metadata": {},
   "source": [
    "### 1) Rappels sur les tableaux"
   ]
  },
  {
   "cell_type": "markdown",
   "metadata": {},
   "source": [
    "<div class=\"alert alert-success\">\n",
    "     \n",
    "Les tableaux en python diffèrent des tableaux que l'on trouve dans d'autres langages sur plusieurs aspects :\n",
    "- Le nom, python nomme ses tableaux : **listes** ;\n",
    "- Il s'agit de tableaux dynamiques, c'est à dire qu'ils peuvent être agrandis ou retrécis avec des instructions comme append(), extend() ou pop() ... dont certaines méthodes ont été abordées lors du TD sur les séquences. Dans d'autres langages, la taille du tableau est définie à la déclaration ;\n",
    "- Un tableau ne contient que des éléments du même type (entier ...) ;\n",
    "\n",
    "L'intérêt d'un tableau, c'est qu'il permet de stocker plusieurs valeurs dans une seule variable. Celles-ci sont rangées consécutivement dans la mémoire de l'ordinateur.\n",
    "\n",
    "On se souviendra que le premier élément du tableau à l'indice 0, le dernier à donc l'indice de la longueur du tableau -1.\n",
    "                                                                                     \n",
    "</div>"
   ]
  },
  {
   "cell_type": "code",
   "execution_count": null,
   "metadata": {},
   "outputs": [],
   "source": [
    "# Création d'un tableau de 3 valeurs\n",
    "tableau=[2,5,7]\n",
    "# Lecture des éléments du tableau\n",
    "for i in range(len(tableau)):# range exclus la borne supérieure\n",
    "    print(tableau[i], end=' ')"
   ]
  },
  {
   "cell_type": "markdown",
   "metadata": {},
   "source": [
    "<div class=\"alert alert-success\">\n",
    "<b>Variante</b> : On peut faire une itération directe sur les éléments du tableau sans passer par l'indice. Le tableau est vu comme une collection d'éléments dont on ne tient pas compte de l'indice.\n",
    "</div>"
   ]
  },
  {
   "cell_type": "code",
   "execution_count": null,
   "metadata": {},
   "outputs": [],
   "source": [
    "# Variante\n",
    "# Création d'un tableau de 3 valeurs\n",
    "tableau=[2,5,7]\n",
    "# Lecture des éléments du tableau\n",
    "for elt in tableau:\n",
    "    print(elt, end=' ')"
   ]
  },
  {
   "cell_type": "markdown",
   "metadata": {},
   "source": [
    "### 2) Création de grands tableaux"
   ]
  },
  {
   "cell_type": "code",
   "execution_count": null,
   "metadata": {},
   "outputs": [],
   "source": [
    "# Création d'un tableau de 100 éléments tous initialisés à 0\n",
    "tab=[0]*100\n",
    "# Pour vérifier demandons la taille du tableau\n",
    "len(tab)"
   ]
  },
  {
   "cell_type": "markdown",
   "metadata": {},
   "source": [
    "<div class=\"alert alert-success\">\n",
    "Il ne faut pas voir le signe \"*\" comme le fait de multiplier par 100, il s'agit d'une opération spécifique au tableaux, à l'instar du signe \"+\" pour les chaînes de caractères qui réalise une concaténation (\"an\" + \"na\" = \"anna\").\n",
    "    \n",
    "D'ailleurs, il est aussi possible de concaténer des tableaux [1,2,3] + [4,5] = [1,2,3,4,5].\n",
    "    \n",
    "<b>Existe-t-il une différence entre une variable \"simple\" et un tableau ?</b>\n",
    "\n",
    "</div>"
   ]
  },
  {
   "cell_type": "markdown",
   "metadata": {},
   "source": [
    "<div class=\"alert alert-warning\">\n",
    "<img src=\"Images/CR.png\" alt=\"logo CR\" width=5% align=right>\n",
    "    \n",
    "En utilisant pythontutor http://pythontutor.com/composingprograms.html#mode=edit :\n",
    "- Créer une variable a = 1 ;\n",
    "- Incrémenter celle-ci de 1 ;\n",
    "- Affecter une nouvelle variable b  à la valeur de a en faisant b = a ;\n",
    "- Incrémenter la variable b de 1 ;\n",
    "- Y-a-t-il un effet de cette incrémentation sur a ? Les 2 variables sont-elles indépendantes ?\n",
    "<br><br>   \n",
    "- Créer le tableau tab1=[5,8,3];\n",
    "- Modifier l'élément d'indice 1 à la valeur 9 ;\n",
    "- Créer un second tableau tab2 identique au précédent en faisant tab2=tab1 ;\n",
    "- Modifier le tableau 2, en changeant l'élément d'indice 2 à la valeur 12 ;\n",
    "- Y-a-t-il un effet de ce changement sur tab1 ? Les 2 tableaux sont-ils indépendants ?    \n",
    "    \n",
    "    \n",
    "</div>"
   ]
  },
  {
   "cell_type": "code",
   "execution_count": null,
   "metadata": {},
   "outputs": [],
   "source": [
    "a=1\n",
    "a+=1\n",
    "b=a\n",
    "b+=1\n",
    "\n",
    "tab1=[5,8,3]\n",
    "tab1[1]=9\n",
    "tab2=tab1\n",
    "tab2[2]=12"
   ]
  },
  {
   "cell_type": "markdown",
   "metadata": {},
   "source": [
    "<div class=\"alert alert-success\">\n",
    "Pour vérifier par exemple si nous avons 2 tableaux distincts ou un seul pointé par 2 variables (identifiants), on peut demander l'id de l'objet. S'ils ont le même id, ce sont les mêmes objets.   \n",
    "</div>"
   ]
  },
  {
   "cell_type": "code",
   "execution_count": null,
   "metadata": {},
   "outputs": [],
   "source": [
    "print(id(a))\n",
    "print(id(b))"
   ]
  },
  {
   "cell_type": "code",
   "execution_count": null,
   "metadata": {},
   "outputs": [],
   "source": [
    "print(id(tab1))\n",
    "print(id(tab2))"
   ]
  },
  {
   "cell_type": "markdown",
   "metadata": {},
   "source": [
    "### 3) Manipulation d'un tableau dans les fonctions"
   ]
  },
  {
   "cell_type": "code",
   "execution_count": null,
   "metadata": {},
   "outputs": [],
   "source": [
    "# Exemple de code\n",
    "def fonction(tab:list,n:int)->list:\n",
    "    n+=1\n",
    "    tab[n]=1\n",
    "    return tab\n",
    "\n",
    "a=1\n",
    "tableau=[5,8,7]\n",
    "fonction(tableau,a)\n"
   ]
  },
  {
   "cell_type": "markdown",
   "metadata": {},
   "source": [
    "### 4) Construction d'un tableau en compréhension"
   ]
  },
  {
   "cell_type": "markdown",
   "metadata": {},
   "source": [
    "<div class=\"alert alert-success\">\n",
    "\n",
    "On veut construire un tableau \"t\" de 100 éléments (nombres) contenant l'entier \"3 * index + 2\" dans sa case d'indice \"index\".\n",
    "\n",
    "On pourrait écrire :\n",
    "\n",
    "- t=[2,5,8,11, ....] mais bon ... Je laisse les courageux continuer\n",
    "- Ou alors faire quelque chose qui ressemblerait à cela :\n",
    "</div>"
   ]
  },
  {
   "cell_type": "code",
   "execution_count": null,
   "metadata": {},
   "outputs": [],
   "source": [
    "t=[0]*100\n",
    "for index in range (100):\n",
    "    t[index]=3*index+2\n",
    "print(t) # Pour s'en convaincre"
   ]
  },
  {
   "cell_type": "markdown",
   "metadata": {},
   "source": [
    "<div class=\"alert alert-success\">\n",
    "\n",
    "Reprenons ce qu'il y a à faire :\n",
    "- En sortie, je veux une **tableau**. Je vais mettre **t=[ ... ]** pour représenter ce tableau ;\n",
    "- Quel est le traitement à réaliser ? **3 x index + 2**. Je vais mettre dans mes crochets, le traitement à réaliser en premier : t=[**3*index+2** ...]\n",
    "- Dans quelle gamme de valeurs, ce traitement doit-il est réalisé ? Pour toutes les **valeurs de 0 à 99**.\n",
    "\n",
    "Je vais mettre après le traitement, la gamme de valeurs. Ce qui devient :\n",
    "</div>"
   ]
  },
  {
   "cell_type": "code",
   "execution_count": null,
   "metadata": {},
   "outputs": [],
   "source": [
    "t=[3*index+2 for index in range(100)]\n",
    "print(t)"
   ]
  },
  {
   "cell_type": "markdown",
   "metadata": {},
   "source": [
    "<div class=\"alert alert-success\"> \n",
    "\n",
    "Laissons de côté le nombre d'éléments. Je souhaite faire un filtrage et mettre dans mon tableau \"t\", uniquement les nombres **pairs** répondant à l'équation \" 3 + index + 2\".\n",
    "- Ajoutons entre les crochets à la fin, la condition. Le nombre est pair si le restant de la division euclidienne est nul que nous pouvons écrire : (3*index+2)%2==0\n",
    "</div>"
   ]
  },
  {
   "cell_type": "code",
   "execution_count": null,
   "metadata": {},
   "outputs": [],
   "source": [
    "t=[3*index+2 for index in range(100) if (3*index+2)%2==0]\n",
    "print(t)"
   ]
  },
  {
   "cell_type": "markdown",
   "metadata": {},
   "source": [
    "<div class=\"alert alert-success\"> \n",
    "\n",
    "Et **Else** ?\n",
    "\n",
    "Dans une gamme de 0 à 99, les nombres pairs sont élevés au carré, les nombres impairs au cube.\n",
    "\n",
    "Notez l'inversion condition gamme !\n",
    "</div>"
   ]
  },
  {
   "cell_type": "code",
   "execution_count": null,
   "metadata": {},
   "outputs": [],
   "source": [
    "carres_cubes = [n**2 if n%2 == 0 else n**3 for n in range(0,100)]\n",
    "print(carres_cubes)"
   ]
  },
  {
   "cell_type": "markdown",
   "metadata": {},
   "source": [
    "<div class=\"alert alert-success\">\n",
    "\n",
    "Et peut-on faire un compréhension de liste pour un cas comme celui-ci (2 boucles imbriquées)?\n",
    "</div>"
   ]
  },
  {
   "cell_type": "code",
   "execution_count": null,
   "metadata": {},
   "outputs": [],
   "source": [
    "tables_multiplication = []\n",
    " \n",
    "for i in range(1, 10):\n",
    "    for j in range(1, 10):\n",
    "        tables_multiplication.append(i*j)\n",
    "print(tables_multiplication)"
   ]
  },
  {
   "cell_type": "code",
   "execution_count": null,
   "metadata": {},
   "outputs": [],
   "source": [
    "tables_multiplication = [i*j for i in range(1,10) for j in range(1,10)]\n",
    "print(tables_multiplication)"
   ]
  },
  {
   "cell_type": "markdown",
   "metadata": {},
   "source": [
    "<div class=\"alert alert-warning\">\n",
    "<img src=\"Images/CR.png\" alt=\"logo CR\" width=5% align=right>\n",
    "\n",
    "## Exercices d'application\n",
    "\n",
    "**1. Convertir une liste de caractères en une liste d'entiers.**\n",
    "\n",
    "En entrée :\n",
    "\n",
    "liste_caracteres = ['0','1','2','3','4','5']\n",
    "\n",
    "En sortie :\n",
    "\n",
    "liste_entiers = [0,1,2,3,4,5]\n",
    "\n",
    "**2. Création de tuples à partir de 2 listes :**\n",
    "\n",
    "En entrée :\n",
    "\n",
    "ma_liste1 =[0,1]\n",
    "\n",
    "ma_liste2 =['zero','un']\n",
    "                \n",
    "En sortie : [(0, 'zero'), (0, 'un'), (1, 'zero'), (1, 'un')]\n",
    "\n",
    "\n",
    "**3. Que construit l'expression [i%3 for i in range(100)] ?**\n",
    "\n",
    "Tentez une réponse avant de tester l'expression.\n",
    "<div>"
   ]
  },
  {
   "cell_type": "markdown",
   "metadata": {},
   "source": [
    "### 5) Copier un tableau"
   ]
  },
  {
   "cell_type": "code",
   "execution_count": null,
   "metadata": {},
   "outputs": [],
   "source": [
    "# solution déduite de l'activité précedente\n",
    "tab1=[45,21,33]\n",
    "tab2=[v for v in tab1]\n",
    "print(tab1, tab2)\n",
    "tab2[1]=23\n",
    "print(tab1, tab2)"
   ]
  },
  {
   "cell_type": "code",
   "execution_count": null,
   "metadata": {},
   "outputs": [],
   "source": [
    "tab3=[\"a\",\"z\",\"e\",\"r\",\"t\",\"y\"]\n",
    "new_tab=tab3[:] # shallow copy (copie superficielle)\n",
    "new_tab[0]=\"q\"\n",
    "print(tab3)\n",
    "print(new_tab)"
   ]
  },
  {
   "cell_type": "code",
   "execution_count": null,
   "metadata": {},
   "outputs": [],
   "source": [
    "tab4=[\"H\",\"e\",\"l\",\"l\",\"o\"]\n",
    "new_tab=tab4.copy() # shallow copy (copie superficielle)\n",
    "new_tab[0]=\"T\"\n",
    "print(tab4)\n",
    "print(new_tab)"
   ]
  },
  {
   "cell_type": "markdown",
   "metadata": {},
   "source": [
    "<div class=\"alert alert-success\">\n",
    "Retour du problème !\n",
    "</div>"
   ]
  },
  {
   "cell_type": "code",
   "execution_count": null,
   "metadata": {},
   "outputs": [],
   "source": [
    "tab5=[\"a\",[1,2]]\n",
    "new_tab5=tab5[:]\n",
    "print(tab5)\n",
    "print(new_tab5)\n",
    "tab5[1][0]=20\n",
    "print(tab5)\n",
    "print(id(tab5[1]))\n",
    "print(new_tab5)\n",
    "print(id(new_tab5[1]))"
   ]
  },
  {
   "cell_type": "markdown",
   "metadata": {},
   "source": [
    "<div class=\"alert alert-success\">\n",
    "Pour ne pas trop rentrer dans les détails et contourner totalement le problème, sans avoir à recréer manuellement une nouvelle liste identique, l'import du module standart \"copy\" et l'utilisation de la méthode deepcopy() effectuera une « copie profonde » : un clone.\n",
    "</div>"
   ]
  },
  {
   "cell_type": "code",
   "execution_count": null,
   "metadata": {},
   "outputs": [],
   "source": [
    "import copy\n",
    "\n",
    "tab5=[\"a\",[1,2]]\n",
    "new_tab5=copy.deepcopy(tab5) # deep copy (copie profonde)\n",
    "tab5[1][0]=20\n",
    "print(tab5)\n",
    "print(new_tab5)"
   ]
  },
  {
   "cell_type": "markdown",
   "metadata": {},
   "source": [
    "### 6) Tableaux  à plusieurs dimensions"
   ]
  },
  {
   "cell_type": "markdown",
   "metadata": {},
   "source": [
    "<div class=\"alert alert-success\">\n",
    "Je voudrais réaliser un tableau qui aurait cette allure : Ce pourrait être pour un jeu de morpion où le dernier joueur vient de placer son signe :\n",
    "\n",
    "0 pour O et 1 pour X\n",
    "\n",
    "Notre problématique ici n'est pas de réaliser le jeu, mais de :\n",
    "\n",
    "- Réaliser le tableau ;\n",
    "- Lire le contenu d'une case du tableau.\n",
    "\n",
    "|   |  0  | 1  |  2  |\n",
    "|:---:|:---:|:---:|:---:|\n",
    "|  0  |  0  |  0   |0\n",
    "|  1  |  1  |   1  |0\n",
    "|  2  |  0  |    0 |1\n",
    "</div>"
   ]
  },
  {
   "cell_type": "markdown",
   "metadata": {},
   "source": [
    "<div class=\"alert alert-success\">\n",
    "\n",
    "Le tableau souhaité est un tableau à plusieurs dimensions (ici 3). La première est le nombre de lignes (3), la seconde le nombre de colonnes (3). Sa taille est de 3 x 3. Comme nous avons autant de lignes que de colonnes, en mathématiques, on appelle cela une **matrice**.\n",
    "\n",
    "Les indices de la première dimension sont indiqués verticalement (à gauche sur le tableau ci-dessus) et les indices de la seconde dimension horizontalement (en haut).\n",
    "</div>"
   ]
  },
  {
   "cell_type": "markdown",
   "metadata": {},
   "source": [
    "<div class=\"alert alert-warning\">\n",
    "    \n",
    "Pour réaliser le tableau de départ du jeu (initialisation avec des \"2\", je propose plusieurs solutions, lesquelles sont correctes ?\n",
    "</div>"
   ]
  },
  {
   "cell_type": "code",
   "execution_count": null,
   "metadata": {},
   "outputs": [],
   "source": [
    "t1=[[2,2,2],[2,2,2],[2,2,2]]\n",
    "print(t1)\n",
    "t2=[[2]*3,[2]*3,[2]*3]\n",
    "print(t2)\n",
    "t3=[[2,2,2]]*3\n",
    "print(t3)\n",
    "t4=[[2]*3 for i in range(3)] # <- Solution la plus élégante\n",
    "print(t4)\n",
    "t5=[[2 for j in range(3)] for i in range(3)]\n",
    "print(t5)"
   ]
  },
  {
   "cell_type": "markdown",
   "metadata": {},
   "source": [
    "<div class=\"alert alert-success\">\n",
    "    \n",
    "<b>Méfiez vous des apparences !</b>\n",
    "\n",
    "Lors du jeu, un joueur vient placer un \"O\" au milieu de la ligne du bas du tableau. Pour accéder à un élément du tableau, on va affecter \"O\" au tableau d'indice 2 (verticalement) et d'indice 1 (horizontalement).\n",
    "</div>"
   ]
  },
  {
   "cell_type": "code",
   "execution_count": null,
   "metadata": {},
   "outputs": [],
   "source": [
    "t1[2][1]=0\n",
    "t2[2][1]=0\n",
    "t3[2][1]=0\n",
    "t4[2][1]=0\n",
    "t5[2][1]=0\n",
    "print(t1)\n",
    "print(t2)\n",
    "print(t3)\n",
    "print(t4)\n",
    "print(t5)"
   ]
  },
  {
   "cell_type": "markdown",
   "metadata": {},
   "source": [
    "<div class=\"alert alert-warning\">\n",
    "<img src=\"Images/CR.png\" alt=\"logo CR\" width=5% align=right>\n",
    "\n",
    "Votre réponse définitive, justifiez !\n",
    "</div>"
   ]
  },
  {
   "cell_type": "markdown",
   "metadata": {},
   "source": [
    "<div class=\"alert alert-success\">\n",
    "\n",
    "Pour conclure, avant quelques exercices, il faut noter qu'il est tout à fait possible de réaliser des sous-tableaux de tailles différentes.\n",
    "\n",
    "Ex. : t=[[12,14,16],[22,26], [34,31,37,38]]\n",
    "</div>"
   ]
  },
  {
   "cell_type": "markdown",
   "metadata": {},
   "source": [
    "<div class=\"alert alert-warning\">\n",
    "<img src=\"Images/CR.png\" alt=\"logo CR\" width=5% align=right>\n",
    "\n",
    "## Exercices d'application\n",
    "\n",
    "### Tous ces exercices nécessitent de poser d'abord le problème (algorithme) pour n'avoir qu'un seul soucis lors de la programmation, celui de la syntaxe python.###\n",
    "\n",
    "*Remarque : les fonctions built-in de python (sum, max, min ...) ne seront pas utilisées.*\n",
    "\n",
    "**1. Créer en compréhension, un tableau \"groupe\" de 2 x 5, initialisé à 0.**\n",
    "\n",
    "prenom=[\"Alain\",\"Julie\",\"Alice\",\"Bob\",\"Gwendal\"]\n",
    "\n",
    "age=[16,17,18,16,17]\n",
    "\n",
    "**2. Itérez sur les éléments du tableau pour le remplir avec les données précédentes.**\n",
    "\n",
    "**3. Recherchez le nombre de personnes ayant 17 ans.**\n",
    "\n",
    "**3. Recherchez et nommez la personne la plus jeune, la plus agée ?**\n",
    "\n",
    "**4. Calculez l'âge moyen du groupe de personnes.**\n",
    "</div>"
   ]
  }
 ],
 "metadata": {
  "kernelspec": {
   "display_name": "Python 3",
   "language": "python",
   "name": "python3"
  },
  "language_info": {
   "codemirror_mode": {
    "name": "ipython",
    "version": 3
   },
   "file_extension": ".py",
   "mimetype": "text/x-python",
   "name": "python",
   "nbconvert_exporter": "python",
   "pygments_lexer": "ipython3",
   "version": "3.8.3"
  },
  "varInspector": {
   "cols": {
    "lenName": 16,
    "lenType": 16,
    "lenVar": 40
   },
   "kernels_config": {
    "python": {
     "delete_cmd_postfix": "",
     "delete_cmd_prefix": "del ",
     "library": "var_list.py",
     "varRefreshCmd": "print(var_dic_list())"
    },
    "r": {
     "delete_cmd_postfix": ") ",
     "delete_cmd_prefix": "rm(",
     "library": "var_list.r",
     "varRefreshCmd": "cat(var_dic_list()) "
    }
   },
   "types_to_exclude": [
    "module",
    "function",
    "builtin_function_or_method",
    "instance",
    "_Feature"
   ],
   "window_display": false
  }
 },
 "nbformat": 4,
 "nbformat_minor": 2
}
