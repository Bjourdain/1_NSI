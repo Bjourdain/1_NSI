{
 "cells": [
  {
   "cell_type": "markdown",
   "metadata": {},
   "source": [
    "# <center><font face=\"arial\" size=\"5\" color=#0101DF>NUMERIQUE ET SCIENCES INFORMATIQUES 1ère NSI</font></center>"
   ]
  },
  {
   "cell_type": "markdown",
   "metadata": {},
   "source": [
    "## <font color=#013ADF>Séquence N° 3 : projet STEGANOGRAPHIE</font>"
   ]
  },
  {
   "cell_type": "markdown",
   "metadata": {},
   "source": [
    "L'ensemble du projet doit être réalisé en 5 heures classe. Le dossier informatisé est à rendre à l'issue de ces séances. Le fond et la forme du dossier est la même que lors du projet précédent.\n",
    "\n",
    "L'organisation et la notation est également la même. Seuls les rôles changent !\n",
    "<div class=\"alert alert-danger\" role=\"alert\">\n",
    "<img src=\"Images/warning.png\" alt=\"Attention\" width=5% align=left>\n",
    "\n",
    "**Le travail individuel hors classe est interdit, à l'exception de la rédaction du dossier. Par contre, il n'est pas interdit aux développeurs de se former ;-)**"
   ]
  },
  {
   "cell_type": "markdown",
   "metadata": {},
   "source": [
    "**Problématique** :\n",
    "\n",
    "La répression sévit en République Démocratique du KIRPUSTI. La censure fait rage, peu d'informations sortent du pays. Vous décidez avec votre ami kirpustian Gaspieux d'utiliser la technique de stéganographie."
   ]
  },
  {
   "cell_type": "markdown",
   "metadata": {},
   "source": [
    ">Voyez-vous une différence entre les 2 images ci-dessous ?"
   ]
  },
  {
   "cell_type": "markdown",
   "metadata": {},
   "source": [
    "<table>\n",
    "    <style type=\"text/css\">\n",
    "                td {\n",
    "              text-align:center;\n",
    "                   }\n",
    "    </style>\n",
    "    <tbody>\n",
    "        <tr>\n",
    "            <td><img src=\"Images/riviere.png\"></td>\n",
    "            <td><img src=\"Images/riviere_modifie.png\"></td>\n",
    "        </tr>\n",
    "    </tbody>\n",
    "</table>"
   ]
  },
  {
   "cell_type": "markdown",
   "metadata": {},
   "source": [
    "Pourtant un message est inscrit dans la photo de droite.\n",
    "\n",
    "Qu'est ce que la sténographie ? Quelle différence avec la cryptologie ?\n",
    "\n",
    "- La stéganographie, c'est l'art de dissimuler des données dans d'autres données.\n",
    "\n",
    "- La cryptologie est la science des messages secrets. Cette discipline se décompose en cryptographie et cryptanalyse.\n",
    "\n",
    "    - cryptographie : ensemble des techniques et méthodes utilisées pour transformer un message clair en un message inintelligible.\n",
    "\n",
    "    - cryptanalyse : ensemble des techniques et méthodes utilisées pour retrouver le texte en clair à partir du texte crypté.\n"
   ]
  },
  {
   "cell_type": "markdown",
   "metadata": {},
   "source": [
    "## **Problème** :\n",
    "\n",
    "Gaspieux a tenté de vous faire parvenir les programmes de codage et de décodage des images qu'il a mis au point pour que vous puissez échanger des informations. Hélas, le programme de codage (écriture du message dans l'image) a été partiellement détruit lors d'une altercation avec la police. Un nouvel échange est impossible, la police d'état surveille étroitement votre ami.\n",
    "\n",
    "Le programme de décodage (lecture du message dans l'image) a pu être récupéré, il est présenté ci-dessous. Ce qui a pu être sauvé du programme de codage est présenté à la fin du document."
   ]
  },
  {
   "cell_type": "markdown",
   "metadata": {},
   "source": [
    "**Programme de décodage (lecture du message dans l'image)**"
   ]
  },
  {
   "cell_type": "code",
   "execution_count": null,
   "metadata": {},
   "outputs": [],
   "source": [
    "#!/usr/bin/env python3\n",
    "# -*- coding: utf-8 -*-\n",
    "\"\"\"\n",
    "@author: Gaspieux\n",
    "\n",
    "Stéganographie : on cache une message se terminant par le caractère #\n",
    "dans une image.\n",
    "Le principe est le suivant : Comme l'oeil humain est peu sensible à une légère\n",
    "nuance de couleur, on modifie éventuellement un bit de couleurs pour coder\n",
    "le message.\n",
    "Pour coder un 0, la composante de couleur qui le code doit avoir une valeur paire\n",
    "Pour coder un 1, la composante de couleur qui la code doit avoir une valeur impaire\n",
    "On vient ajuster la valeur si besoin.\n",
    "Ici le programme de lecture du message dans l'image\n",
    "\"\"\"\n",
    "\n",
    "# importation de librairie\n",
    "import sys\n",
    "from PIL import Image\n",
    "\n",
    "\n",
    "def ecriture_fichier(nom_fichier:str,message:str)->None:\n",
    "    \"\"\"\n",
    "    Procédure d'écriture du message\n",
    "    sur le disque, dans le répertoire courant\n",
    "    \"\"\"\n",
    "    with open(nom_fichier, 'w', encoding=\"utf-8\") as fichier_texte:\n",
    "        fichier_texte.write(message)\n",
    "\n",
    "def recup_couleurs_image(image_file)->list:\n",
    "    \"\"\"\n",
    "    Cette fonction prend en entrée le nom de l'image \n",
    "    et renvoie une liste qui contient la valeur des \n",
    "    composantes rouge, vert et bleu de chaque pixel\n",
    "    de l'image en décimal.\n",
    "    \"\"\"\n",
    "    try:\n",
    "        nom_image= Image.open(image_file)\n",
    "    except :\n",
    "        print ('Erreur sur ouverture du fichier ',image_file)\n",
    "        sys.exit(1)\n",
    "    largeur,hauteur=nom_image.size\n",
    "    # balayage de l'image colonne par colonne de gauche à droite\n",
    "    liste=[]\n",
    "    for i in range(0,largeur):\n",
    "        for j in range(0,hauteur):\n",
    "            r,g,b = nom_image.getpixel((i,j))\n",
    "            liste.append(r)\n",
    "            liste.append(g)\n",
    "            liste.append(b)\n",
    "    nom_image.close()\n",
    "    return liste\n",
    "\n",
    "def decode_message(couleurs:list)->str:\n",
    "    \"\"\"\n",
    "    lire les pixels de l'image si pair 0 sinon impair 1\n",
    "    et renvoie le texte sans le caractère final #\n",
    "    \"\"\"\n",
    "    text=\"\"\n",
    "    chaine=\"\"\n",
    "    cpt=0\n",
    "    for i in couleurs:\n",
    "        if i%2==0:\n",
    "            chaine+='0'\n",
    "        else:\n",
    "            chaine+='1'\n",
    "        cpt+=1\n",
    "        if cpt==8:\n",
    "            cpt=0\n",
    "            nb_dec=0\n",
    "            for power, digit in enumerate(chaine[::-1]):\n",
    "                nb_dec+=int(digit)*(2**power)\n",
    "            caractere=chr(nb_dec)\n",
    "            if caractere=='#':\n",
    "                return text\n",
    "            text+=caractere\n",
    "            chaine=\"\"\n",
    "\n",
    "#ouverture du fichier image\n",
    "fichier_image = input('Indiquer le nom de l\\'image dans laquelle le message est caché (nom + extension) : ')\n",
    "fichier_texte=input('Indiquer le nom du fichier dans lequel écrire le message (nom + extension) : ')\n",
    "# création d'une liste des couleurs des pixels de l'image\n",
    "couleurs=recup_couleurs_image(fichier_image)\n",
    "message_decode=decode_message(couleurs)\n",
    "ecriture_fichier(fichier_texte,message_decode)\n",
    "print(\"Traitement terminé !\")"
   ]
  },
  {
   "cell_type": "markdown",
   "metadata": {},
   "source": [
    "Un algorithme \" gros grain\" du programme ci-dessus serait de la forme :\n",
    "\n",
    "- Ouvrir le fichier image qui contient le message ;\n",
    "\n",
    "- Lire les composantes de couleurs des pixels de l'image ;\n",
    "\n",
    "- En déduire la succession des bits (0 ou 1) ;\n",
    "\n",
    "- Regrouper les bits par octet pour retrouver le caractère codé ;\n",
    "\n",
    "- Arrêter le traitement si le caractère reconnu est \"#\" ;\n",
    "\n",
    "- Écrire le message dans un fichier texte."
   ]
  },
  {
   "cell_type": "markdown",
   "metadata": {},
   "source": [
    "<div class=\"alert alert-warning\">\n",
    "<img src=\"Images/CR.png\" alt=\"logo CR\" width=5% align=right>\n",
    "\n",
    "On vous demande d'étudier le programme pour comprendre comment le message est reconstitué. On détaillera plus particulièrement la fonction \"decode_message\" en traçant son algorithme. (**voir remarque en bas du document**)"
   ]
  },
  {
   "cell_type": "markdown",
   "metadata": {},
   "source": [
    "**Voilà ce qui a pu être sauvé du programme de codage.**"
   ]
  },
  {
   "cell_type": "code",
   "execution_count": null,
   "metadata": {},
   "outputs": [],
   "source": [
    "#Programme principal\n",
    "fichier_image = input('Indiquer le nom de l\\'image dans laquelle on cache le message (nom + extension) : ')\n",
    "fichier_texte=input('Indiquer le nom du fichier dans lequel lire le message (nom + extension) : ')\n",
    "\n",
    "# Récupère les caractéristiques de l'image originale\n",
    "carac_image=infos_image(fichier_image)\n",
    "# Création du nom de fichier de sauvegarde\n",
    "fichier_sauvegarde=creer_nom_sauvegarde(fichier_image, carac_image)\n",
    "# création d'une liste des couleurs des pixels de l'image\n",
    "couleurs=recup_couleurs_image(fichier_image)\n",
    "# Texte à cacher dans l'image. le caractère # indique que le message est terminé\n",
    "# Ce message est dans un fichier texte appelé message.txt\n",
    "texte=lecture_fichier(fichier_texte)\n",
    "# création d'un chaine de bits à écrire sur l'image\n",
    "chaine_binaire=conv_message_vers_binaire(texte)\n",
    "\n",
    "if len(chaine_binaire)>len(couleurs):\n",
    "    print(\"Le message est trop long pour l'image utilisée\")\n",
    "else:\n",
    "    couleurs_mod=encode_message(chaine_binaire,couleurs)\n",
    "    creation_image(carac_image, couleurs_mod, fichier_sauvegarde)\n",
    "    print(\"Traitement terminé !\")"
   ]
  },
  {
   "cell_type": "markdown",
   "metadata": {},
   "source": [
    "À la lecture du programme partiel de codage et d'après ce que nous connaissons de l'algorithme de décodage, nous pouvons déduire qu'il faut :\n",
    "\n",
    "Écrire le message à cacher dans un fichier texte avec un éditeur de texte. Finir son écriture par le caractère # ;\n",
    "\n",
    "Nous voyons également des appels à des fonctions qui d'après leurs noms, devraient réaliser les tâches précitées."
   ]
  },
  {
   "cell_type": "code",
   "execution_count": null,
   "metadata": {},
   "outputs": [],
   "source": [
    "def infos_image(image_file)->tuple:\n",
    "    \"\"\"\n",
    "    Renvoie les dimensions, le format (e.g. PNG)\n",
    "    et le mode (e.g. RGB) de l'image\n",
    "    originale si elle est trouvée !\n",
    "    \"\"\"\n",
    "    try:\n",
    "        mon_image = Image.open(image_file)\n",
    "        largeur, hauteur = mon_image.size\n",
    "        extension=mon_image.format\n",
    "        mode= mon_image.mode\n",
    "    except :\n",
    "        print ('Erreur sur ouverture du fichier ',image_file)\n",
    "        sys.exit(1)\n",
    "    return largeur, hauteur, mode, extension"
   ]
  },
  {
   "cell_type": "code",
   "execution_count": null,
   "metadata": {},
   "outputs": [],
   "source": [
    "def recup_couleurs_image(image_file)->list:\n",
    "    \"\"\"\n",
    "    Cette fonction prend en entrée le nom de l'image et\n",
    "    renvoie une liste qui contient la valeur des composantes\n",
    "    rouge, verte et bleue de chaque pixel de l'image en décimal.\n",
    "    \"\"\"\n",
    "    try:\n",
    "        mon_image = Image.open(image_file)\n",
    "        largeur, hauteur = mon_image.size\n",
    "        # balayage de l'image colonne par colonne de gauche à droite\n",
    "        liste=[]\n",
    "        for i in range(0,largeur):\n",
    "            for j in range(0,hauteur):\n",
    "                r,g,b = mon_image.getpixel((i,j))\n",
    "                liste.append(r)\n",
    "                liste.append(g)\n",
    "                liste.append(b)\n",
    "        return liste\n",
    "    except :\n",
    "        print ('Erreur sur ouverture du fichier ',image_file)\n",
    "        sys.exit(1)"
   ]
  },
  {
   "cell_type": "code",
   "execution_count": null,
   "metadata": {},
   "outputs": [],
   "source": [
    "def lecture_fichier(nom_fichier)->str:\n",
    "    \"\"\"\n",
    "    Fonction réalisant la lecture du fichier\n",
    "    texte à écrire sur une image\n",
    "    \"\"\"\n",
    "    with open(nom_fichier, 'r', encoding=\"utf-8\") as fichier_texte:\n",
    "        lignes_texte=fichier_texte.read()\n",
    "    return(lignes_texte)"
   ]
  },
  {
   "cell_type": "code",
   "execution_count": null,
   "metadata": {},
   "outputs": [],
   "source": [
    "def conv_message_vers_binaire(texte:str)->str:\n",
    "    \"\"\"\n",
    "    Cette fonction prend en entrée, le texte qui doit être caché dans l'image\n",
    "    et renvoie une chaine de caractère qui contient le code binaire représentant\n",
    "    chaque caractère du message à cacher sur 8 bits.\n",
    "    \"\"\"\n",
    "    # création d'un chaine de bits à écrire sur l'image\n",
    "    texte_binaire=\"\"\n",
    "    for lettre in texte:\n",
    "        code_binaire_lettre=str(bin(ord(lettre)))[2:].zfill(8)\n",
    "        texte_binaire+=code_binaire_lettre\n",
    "    return texte_binaire"
   ]
  },
  {
   "cell_type": "code",
   "execution_count": null,
   "metadata": {},
   "outputs": [],
   "source": [
    "def encode_message(msg:str, coul:list)->list:\n",
    "    \"\"\"\n",
    "    Cette fonction modifie les valeurs (couleurs) de\n",
    "    la liste passée en paramètre selon le procédé suivant :\n",
    "    si le nombre représentant la couleur est pair et le code binaire\n",
    "    à écrire est 1, on doit rendre le nombre représentant la couleur impair.\n",
    "    De même si le code binaire à écrire est 0 et que le nombre représentant\n",
    "    la couleur est impair, on doit rendre le nombre représentant la couleur pair.\n",
    "    \"\"\"\n",
    "    lst=[]\n",
    "    for i in range(len(msg)):\n",
    "        if (msg[i]=='1' and (coul[i]%2)==0) or (msg[i]=='0' and (coul[i]%2)==1):\n",
    "            lst[i]=coul[i]-1\n",
    "    return lst"
   ]
  },
  {
   "cell_type": "code",
   "execution_count": null,
   "metadata": {},
   "outputs": [],
   "source": [
    "def creation_image(caract:tuple, coul:list, image_file)->None:\n",
    "    \"\"\"\n",
    "    Cette procédure crée une image ayant les mêmes\n",
    "    caractéristiques que l'orignal mais avec les\n",
    "    nouvelles couleurs, puis la sauvegarde avec\n",
    "    un nom passé en argument\n",
    "    \"\"\"\n",
    "    largeur, hauteur, mode, extension=caract\n",
    "    nom_image = Image.new(mode, (largeur,hauteur))\n",
    "    x=0\n",
    "    y=1\n",
    "    z=2\n",
    "    # balayage de l'image colonne par colonne de gauche à droite\n",
    "    for i in range(0,largeur):\n",
    "        for j in range(0,hauteur):\n",
    "                # composition de la nouvelle image\n",
    "                nom_image.putpixel((i,j), (couleurs[x],couleurs[y],couleurs[z]))\n",
    "                x+=3\n",
    "                y=x+1\n",
    "                z=x+2\n",
    "    # sauvegarde de l'image modifiée\n",
    "    nom_image.save(image_file, extension)\n",
    "    nom_image.close()"
   ]
  },
  {
   "cell_type": "code",
   "execution_count": null,
   "metadata": {},
   "outputs": [],
   "source": [
    "def creer_nom_sauvegarde(nom:str, caract:tuple)->str:\n",
    "    \"\"\"\n",
    "    Fonction qui génère un nom pour la future image\n",
    "    à sauvegarder, en relation avec le nom initial\n",
    "    \"\"\"\n",
    "    largeur, hauteur, mode, extension=caract\n",
    "    nom=nom.replace('.png','_modifie.png')\n",
    "    return nom"
   ]
  },
  {
   "cell_type": "markdown",
   "metadata": {},
   "source": [
    "<div class=\"alert alert-danger\" role=\"alert\">\n",
    "<img src=\"Images/warning.png\" alt=\"Attention\" width=5% align=left>\n",
    "\n",
    "Vous devez élaborer le document de vision, les users-stories, le document de recette pour réaliser votre application en mode projet et élaborer votre dossier.\n",
    "\n",
    "Remarques :\n",
    "- Dans un soucis d'organisation, les développeurs peuvent tracer l'algorithme du programme fourni pendant que le product owner et le scrum master organise les users-stories.\n",
    "- Il est fortement recommandé de s'inspirer et de réutiliser les documents élaborés lors du projet précédent.\n",
    "- Les fonctions doivent comporter nécessairement un test sur les pré-conditions, sur les post-conditions, des test unitaires et des annotations de typage.\n"
   ]
  },
  {
   "cell_type": "code",
   "execution_count": null,
   "metadata": {},
   "outputs": [],
   "source": []
  }
 ],
 "metadata": {
  "celltoolbar": "Visualize",
  "kernelspec": {
   "display_name": "Python 3",
   "language": "python",
   "name": "python3"
  },
  "language_info": {
   "codemirror_mode": {
    "name": "ipython",
    "version": 3
   },
   "file_extension": ".py",
   "mimetype": "text/x-python",
   "name": "python",
   "nbconvert_exporter": "python",
   "pygments_lexer": "ipython3",
   "version": "3.8.3"
  },
  "varInspector": {
   "cols": {
    "lenName": 16,
    "lenType": 16,
    "lenVar": 40
   },
   "kernels_config": {
    "python": {
     "delete_cmd_postfix": "",
     "delete_cmd_prefix": "del ",
     "library": "var_list.py",
     "varRefreshCmd": "print(var_dic_list())"
    },
    "r": {
     "delete_cmd_postfix": ") ",
     "delete_cmd_prefix": "rm(",
     "library": "var_list.r",
     "varRefreshCmd": "cat(var_dic_list()) "
    }
   },
   "types_to_exclude": [
    "module",
    "function",
    "builtin_function_or_method",
    "instance",
    "_Feature"
   ],
   "window_display": false
  }
 },
 "nbformat": 4,
 "nbformat_minor": 2
}
