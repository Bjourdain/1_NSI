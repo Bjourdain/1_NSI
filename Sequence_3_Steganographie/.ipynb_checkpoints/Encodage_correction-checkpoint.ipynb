{
 "cells": [
  {
   "cell_type": "markdown",
   "metadata": {},
   "source": [
    "# NUMÉRIQUE ET SCIENCES INFORMATIQUES"
   ]
  },
  {
   "cell_type": "markdown",
   "metadata": {},
   "source": [
    "### Problématique"
   ]
  },
  {
   "cell_type": "markdown",
   "metadata": {},
   "source": [
    "#### Vous préparez chez vous un compte-rendu d'activité en NSI. Vous vous êtes partagé la tâche avec votre binôme. Vous faites la première partie, lui la deuxième. Vous n'avez pas prêté attention à la configuration de votre éditeur de texte, le votre est configuré avec un encodage de caractères UTF-8, le sien en ISO8859-1."
   ]
  },
  {
   "cell_type": "markdown",
   "metadata": {},
   "source": [
    "### Travail demandé"
   ]
  },
  {
   "cell_type": "markdown",
   "metadata": {},
   "source": [
    "####  **5)** quelques expériences\n",
    "\n",
    "- Ouvrir l'éditeur de texte : NOTEPAD++ ;\n",
    "- Sélectionner l'encodage UTF-8 ;\n",
    "- Saisir ce texte : \"Depuis le passage à l'euro (€), le coût de La vie a augmenté.\"\n",
    "- Modifier l'encodage en sélectionnant ISO8859-1 ; (ce que va voir votre camarade à la réception du fichier)\n",
    "- Que constatez-vous ?\n",
    "- Modifier le texte pour le rendre à nouveau lisible ;\n",
    "- Modifier l'encodage en repassant en UTF-8 ; (ce que vous allez voir à la réception du fichier)\n",
    "- Que constatez-vous ?\n",
    "- Modifier le texte pour le rendre à nouveau lisible ;\n",
    "- Sauvegarder le fichier. (Nous en aurons besoin ultérieurement)"
   ]
  },
  {
   "cell_type": "markdown",
   "metadata": {},
   "source": [
    "![ISO-UTF8.png](Images/ISO-UTF8.png)"
   ]
  },
  {
   "cell_type": "markdown",
   "metadata": {},
   "source": [
    "![UTF8-ISO.png](Images/UTF8-ISO.png)"
   ]
  },
  {
   "cell_type": "markdown",
   "metadata": {},
   "source": [
    "Un éditeur de texte ne pouvant « deviner » l’encodage du fichier texte, il faut donc que la configuration de l’éditeur corresponde à l’encodage du fichier !"
   ]
  },
  {
   "cell_type": "markdown",
   "metadata": {},
   "source": [
    "**6)** Visiblement, ces 2 encodages sont compatibles pour un nombre limité de caractères du texte saisi. Avec quel type d’encodage sont-ils tous deux compatibles ?"
   ]
  },
  {
   "cell_type": "markdown",
   "metadata": {},
   "source": [
    "### Recherche sur Internet"
   ]
  },
  {
   "cell_type": "markdown",
   "metadata": {},
   "source": [
    "**7)** Quelle différence y a-t-il entre UNICODE, UTF-8, UTF-16 et UTF-32 ?\n",
    "Dans l'éditeur de texte utilisé précédemment, vous avez peut-être aperçu \"encodage avec BOM,UTF-16BE, UTF-16LE\". Que veulent dire ces acronymes BOM, LE, BE ? Quel est leur rôle ?"
   ]
  },
  {
   "cell_type": "markdown",
   "metadata": {},
   "source": [
    "##### Unicode se contente de recenser, nommer les caractères et leur attribuer un numéro. Mais il ne dit pas comment ils doivent être codés en informatique. <https://unicode-table.com/fr/>\n",
    "\n",
    "Depuis sa version 3, Python utilise Unicode pour le codage des caractères.\n",
    "\n",
    "Plusieurs codages des caractères Unicode existent :\n",
    "\n",
    "**Nombre d'octet(s) utilisé(s) selon le format d'encodage**\n",
    "\n",
    "| Numéro UNICODE | UTF-8 | UTF-16 | UTF-32|\n",
    "|---|---|---|---|\n",
    "|U+0000 à U+007F|1|2|4|\n",
    "|U+0080 à U+07FF|2|2|4|\n",
    "|U+0800 à U+FFFF|3|2|4|\n",
    "|U+10000 à U+10FFFF|4|4|4|\n",
    "\n",
    "Le plus couramment utilisé, notamment pour les pages Web, est UTF-8.\n",
    "\n",
    "**UTF-8** (UCS ( Universal Character Set) Transformation Format 8 bits) est un format de longueur variable, défini pour les caractères Unicode. Chaque caractère est codé sur une suite de un à quatre octets. UTF-8 a été conçu pour assurer une bonne compatibilité avec les logiciels prévus pour traiter des caractères d’un seul octet. Les protocoles de communication d’Internet échangeant du texte doivent supporter UTF-8.\n",
    "Description\n",
    "\n",
    "Unicode attribue un numéro à chaque caractère. Les caractères de numéro 0 à 127 sont codés sur un octet dont le bit de poids fort est toujours nul. Les caractères de numéro supérieur à 127 sont codés sur plusieurs octets. Dans ce cas, les bits de poids fort du premier octet forment une suite de 1 de longueur égale au nombre d’octets utilisés pour coder le caractère, les octets suivants ayant 10 comme bits de poids fort.\n",
    "\n",
    "Ce principe pourrait être étendu jusqu’à six octets pour un caractère, mais UTF-8 pose la limite à quatre. Ce principe permet également d’utiliser plus d’octets que nécessaire pour coder un caractère, mais UTF-8 l’interdit.\n",
    "\n",
    "|Définition du nombre d’octet utilisé - Représentation binaire |Signification |\n",
    "|---|---|\n",
    "|0xxxxxxx |\t1 octet codant 1 à 7 bits\n",
    "|110xxxxx 10xxxxxx \t|2 octets codant 8 à 11 bits\n",
    "|1110xxxx 10xxxxxx 10xxxxxx |\t3 octets codant 12 à 16 bits\n",
    "|11110xxx 10xxxxxx 10xxxxxx 10xxxxxx |\t4 octets codant 17 à 21 bits\n",
    "\n",
    "Dans toute chaîne de caractères UTF-8, on remarque que :\n",
    "\n",
    "    tout octet de bit de poids fort nul code un caractère US-ASCII sur un octet ;\n",
    "    tout octet de bits de poids fort valant 11 est le premier octet d’un caractère codé sur plusieurs octets ;\n",
    "    tout octet de bits de poids fort valant 10 est à l’intérieur d’un caractère codé sur plusieurs octets.\n"
   ]
  },
  {
   "cell_type": "markdown",
   "metadata": {},
   "source": [
    "### Travail demandé"
   ]
  },
  {
   "cell_type": "markdown",
   "metadata": {},
   "source": [
    "#### **8)** Défi 1 :"
   ]
  },
  {
   "cell_type": "markdown",
   "metadata": {},
   "source": [
    "Représenter en binaire le point de code des caractères \"a, à, α et ☯\" encodé en UTF-8."
   ]
  },
  {
   "cell_type": "markdown",
   "metadata": {},
   "source": [
    "| Caractère| Point de code (hexa) | Codage binaire UTF-8  |\n",
    "| :--- |---:| ---:|\n",
    "|a| 0x61  |      0110 0001           |\n",
    "|à| 0xE0       |    1100 0011  1010 0000             |\n",
    "|α| 0x03B1       |     1100 1110  1011 0001                 |\n",
    "|☯| 0x262F       |     1110 0010  1001 1000  1010 1111                |"
   ]
  },
  {
   "cell_type": "markdown",
   "metadata": {},
   "source": [
    "#### **9)** Défi 2 :"
   ]
  },
  {
   "cell_type": "markdown",
   "metadata": {},
   "source": [
    "Nous allons faire une radioscopie du fichier réalisé en début de séquence. Ouvrir le fichier sauvegardé précédemment avec un éditeur hexadécimal (<https://hexed.it/>) et visualiser l’encodage des caractères. Quel est le point de code du caractère € ?"
   ]
  },
  {
   "cell_type": "markdown",
   "metadata": {},
   "source": [
    "![Dump du fichier](Dump_fichier.png)\n",
    "\n",
    ">*Le point de code € est codé sur 3 octets : 0xE2, 0x82 et 0xAC qui selon le format de l'encodage UTF-8 donne le point de code 0x20AC qui est bien le point de code du caractère €.*"
   ]
  },
  {
   "cell_type": "markdown",
   "metadata": {},
   "source": [
    "![Dump_fichier.png](Images/Dump_fichier.png)"
   ]
  },
  {
   "cell_type": "markdown",
   "metadata": {},
   "source": [
    "#### **10)** Défi 3 :"
   ]
  },
  {
   "cell_type": "markdown",
   "metadata": {},
   "source": [
    "Concevez un éditeur hexadécimal qui affiche les valeurs hexadécimales des caractères contenus dans une variable de type \"String\" par ligne de 10 octets. On donne ci-dessous la chaine de caractères."
   ]
  },
  {
   "cell_type": "code",
   "execution_count": 14,
   "metadata": {},
   "outputs": [
    {
     "name": "stdout",
     "output_type": "stream",
     "text": [
      "44  65  70  75  69  73  20  6c  65  20  \n",
      "70  61  73  73  61  67  65  20  e0  20  \n",
      "6c  27  65  75  72  6f  20  28  20  ac  \n",
      "29  2c  20  6c  65  20  63  6f  fb  74  \n",
      "20  64  65  20  4c  61  20  76  69  65  \n",
      "20  61  20  61  75  67  6d  65  6e  74  \n",
      "e9  2e  "
     ]
    }
   ],
   "source": [
    "#!/usr/bin/env python3\n",
    "# -*- coding: utf-8 -*-\n",
    "\"\"\"\n",
    "Created on Mon Apr 29 15:08:18 2019\n",
    "\n",
    "\"\"\"\n",
    "\n",
    "texte=\"Depuis le passage à l'euro (€), le coût de La vie a augmenté.\"\n",
    "compteur=0\n",
    "#[print(hex(ord(x))[2:], end=\"\") for x in texte]\n",
    "\n",
    "for x in texte:\n",
    "    if ord(x)<=0xFF:\n",
    "        print(hex(ord(x))[2:], \" \", end=\"\")\n",
    "        compteur+=1\n",
    "    else:\n",
    "        print(hex(ord(x))[2:4], \" \", end=\"\")\n",
    "        print(hex(ord(x))[4:6], \" \", end=\"\")\n",
    "        compteur+=2      \n",
    "    if compteur == 10:\n",
    "        print()\n",
    "        compteur=0"
   ]
  },
  {
   "cell_type": "markdown",
   "metadata": {},
   "source": [
    "#### **11)** Défi 4 :"
   ]
  },
  {
   "cell_type": "markdown",
   "metadata": {},
   "source": [
    "Concevez un éditeur de texte qui interprète un fichier hexadécimal représentant un texte encodé en UTF-8. On fournit ci-dessous le contenu de la variable \"memoire\"."
   ]
  },
  {
   "cell_type": "code",
   "execution_count": 2,
   "metadata": {},
   "outputs": [
    {
     "name": "stdout",
     "output_type": "stream",
     "text": [
      "Depuis le passage à l'euro (€), le coût de la vie a augmenté.☯"
     ]
    }
   ],
   "source": [
    "#!/usr/bin/env python3\n",
    "# -*- coding: utf-8 -*-\n",
    "\"\"\"\n",
    "Created on Mon Apr 29 15:13:12 2019\n",
    "\n",
    "\"\"\"\n",
    "\n",
    "memoire= 0x44,0x65,0x70,0x75,0x69,0x73,0x20,0x6c,0x65,0x20,0x70,0x61,0x73,0x73,0x61,0x67,0x65,0x20,0xe0,0x20,0x6c,0x27,0x65,0x75,0x72,0x6f,0x20,0x28,0x20ac,0x29,0x2c,0x20,0x6c,0x65,0x20,0x63,0x6f,0xfb,0x74,0x20,0x64,0x65,0x20,0x6c,0x61,0x20,0x76,0x69,0x65,0x20,0x61,0x20,0x61,0x75,0x67,0x6d,0x65,0x6e,0x74,0xe9,0x2e,0x262f\n",
    "\n",
    "#[print(chr(x), end=\"\") for x in memoire]\n",
    "\n",
    "for x in memoire:\n",
    "    print(chr(x), end=\"\")"
   ]
  },
  {
   "cell_type": "markdown",
   "metadata": {},
   "source": [
    "#### **12)** Défi 5 :"
   ]
  },
  {
   "cell_type": "markdown",
   "metadata": {},
   "source": [
    "Une fois votre programme réalisé, faites une recherche sur Internet concernant les compréhensions de liste en python. Reprendre votre programme et réaliser le traitement en une seule ligne de code."
   ]
  }
 ],
 "metadata": {
  "kernelspec": {
   "display_name": "Python 3",
   "language": "python",
   "name": "python3"
  },
  "language_info": {
   "codemirror_mode": {
    "name": "ipython",
    "version": 3
   },
   "file_extension": ".py",
   "mimetype": "text/x-python",
   "name": "python",
   "nbconvert_exporter": "python",
   "pygments_lexer": "ipython3",
   "version": "3.7.3"
  },
  "varInspector": {
   "cols": {
    "lenName": 16,
    "lenType": 16,
    "lenVar": 40
   },
   "kernels_config": {
    "python": {
     "delete_cmd_postfix": "",
     "delete_cmd_prefix": "del ",
     "library": "var_list.py",
     "varRefreshCmd": "print(var_dic_list())"
    },
    "r": {
     "delete_cmd_postfix": ") ",
     "delete_cmd_prefix": "rm(",
     "library": "var_list.r",
     "varRefreshCmd": "cat(var_dic_list()) "
    }
   },
   "types_to_exclude": [
    "module",
    "function",
    "builtin_function_or_method",
    "instance",
    "_Feature"
   ],
   "window_display": false
  }
 },
 "nbformat": 4,
 "nbformat_minor": 2
}
