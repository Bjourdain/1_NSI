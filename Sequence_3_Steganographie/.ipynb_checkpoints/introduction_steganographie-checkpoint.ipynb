{
 "cells": [
  {
   "cell_type": "markdown",
   "metadata": {},
   "source": [
    "# <center><font face=\"arial\" size=\"5\" color=#0101DF>NUMERIQUE ET SCIENCES INFORMATIQUES 1ère NSI</font></center>"
   ]
  },
  {
   "cell_type": "markdown",
   "metadata": {},
   "source": [
    "## <font color=#013ADF>Séquence N° 3 : document de formation préalable au projet : STÉGANOGRAPHIE</font>"
   ]
  },
  {
   "cell_type": "markdown",
   "metadata": {},
   "source": [
    "## 1) Opérations sur les fichiers de type texte"
   ]
  },
  {
   "cell_type": "markdown",
   "metadata": {},
   "source": [
    "<div class=\"alert alert-warning\">\n",
    "<img src=\"Images/CR.png\" alt=\"logo CR\" width=5% align=right>\n",
    "\n",
    "* Rédigez un petit texte de 4 à 5 lignes avec un éditeur de texte (Nouveau, Editeur de texte sur le serveur), puis sauvegardez le sous le nom « texte.txt » dans le répertoire où se trouve le notebook.\n",
    "* Exécuter le programme suivant :\n",
    "</div>"
   ]
  },
  {
   "cell_type": "code",
   "execution_count": null,
   "metadata": {},
   "outputs": [],
   "source": [
    "# -*- coding: utf-8 -*-\n",
    "\"\"\"\n",
    "Lecture d'un fichier texte\n",
    "\"\"\"\n",
    "Nom_fichier='texte.txt'\n",
    "\n",
    "with open(Nom_fichier, 'r', encoding=\"utf-8\") as fichier_texte:\n",
    "    lignes_texte=fichier_texte.read()\n",
    "    print(lignes_texte)"
   ]
  },
  {
   "cell_type": "markdown",
   "metadata": {},
   "source": [
    "<div class=\"alert alert-warning\">\n",
    "<img src=\"Images/CR.png\" alt=\"logo CR\" width=5% align=right>\n",
    "\n",
    "* Autres méthodes à tester : .readlines(), .readline()\n",
    "* Justifiez les résultats des exécutions.\n",
    "</div>"
   ]
  },
  {
   "cell_type": "markdown",
   "metadata": {},
   "source": [
    "Nous allons à présent modifier votre fichier texte."
   ]
  },
  {
   "cell_type": "code",
   "execution_count": null,
   "metadata": {},
   "outputs": [],
   "source": [
    "# -*- coding: utf-8 -*-\n",
    "\"\"\"\n",
    "Ecriture d'un fichier texte\n",
    "\"\"\"\n",
    "Nom_fichier='texte.txt'\n",
    "\n",
    "with open(Nom_fichier, 'a', encoding=\"utf-8\") as fichier_texte:\n",
    "    fichier_texte.write('Ceci sera écrit à la fin de mon fichier !')"
   ]
  },
  {
   "cell_type": "markdown",
   "metadata": {},
   "source": [
    "<div class=\"alert alert-warning\">\n",
    "<img src=\"Images/CR.png\" alt=\"logo CR\" width=5% align=right>\n",
    "\n",
    "* Ouvrez le fichier « texte.txt » avec un éditeur de texte et constatez le résultat.\n",
    "* Remplacez l'attribut 'a' par 'w'. Quelle est la différence ?\n",
    "</div>"
   ]
  },
  {
   "cell_type": "markdown",
   "metadata": {},
   "source": [
    "## 2) Opérations sur les images"
   ]
  },
  {
   "cell_type": "markdown",
   "metadata": {},
   "source": [
    "<div class=\"alert alert-success\">\n",
    "    \n",
    "Pour manipuler les images, nous allons à nouveau utiliser le module pillow de python (voir documentation pillow.pdf).\n",
    "</div>"
   ]
  },
  {
   "cell_type": "markdown",
   "metadata": {},
   "source": [
    "<div class=\"alert alert-success\">\n",
    "    \n",
    "Les images ci-dessous sont des images matricielles. Elles sont composées de pixels (picture element). Un pixel est un petit carré visible sur l'image de droite.\n",
    "\n",
    "<table>\n",
    "    <style type=\"text/css\">\n",
    "                td {\n",
    "              text-align:center;\n",
    "                    }\n",
    "    </style>\n",
    "    <tbody>\n",
    "        <tr>\n",
    "            <td><img src=\"Images/riviere.png\"></td>\n",
    "            <td><img src=\"Images/image_matricielle.png\"></td>\n",
    "        </tr>\n",
    "    </tbody>\n",
    "</table>\n",
    "\n",
    "Chaque pixel est composé de 3 composantes rouge, verte, bleue. L'addition de ces couleurs permet de recréer toutes les couleurs (synthèse additive).\n",
    "\n",
    "<img src=\"Images/additive.png\">\n",
    "\n",
    "La valeur de chaque composante r, v et b est codée sur 8 bits. En conséquence, la valeur décimale pourra varier entre 0 et 255, soit d'une teinte la plus foncée à celle la plus claire.\n",
    "</div>"
   ]
  },
  {
   "cell_type": "markdown",
   "metadata": {},
   "source": [
    "<div class=\"alert alert-warning\">\n",
    "<img src=\"Images/CR.png\" alt=\"logo CR\" width=5% align=right>\n",
    "\n",
    "**Questions :**\n",
    "\n",
    "Imaginons un dispositif dans lequel 3 lampes de couleurs rouge, verte, bleue sont dirigées vers le même endroit (cf. figure ci-dessus) et peuvent être allumées ou éteintes.\n",
    "\n",
    "- Justifiez que l'on ne peut pas créer plus de 8 couleurs différentes dont les noms et les codes binaires sont donnés dans la table de vérité ci-après.\n",
    "\n",
    "Le complément d'une couleur est obtenu en allumant les lampes éteintes et en éteignant les lampes allumées.\n",
    "\n",
    "- Déterminez les couleurs complémentaires des huits couleurs précédentes.\n",
    "\n",
    "Quelle est la couleur obtenue en effectuant les opérations suivantes ?\n",
    "\n",
    "- Bleu | Rouge\n",
    "- Magenta & Cyan\n",
    "- Vert ^ Blanc\n",
    "\n",
    "|  Couleur |  R  |  V  | B  |\n",
    "|:---:|:---:|:---:|:---:|\n",
    "|  Noir |  0  |  0  |   0  |\n",
    "|  Bleu  |  0  |  0  |   1  |\n",
    "|  Vert  |  0  |  1  |   0  |\n",
    "|  Cyan  |  0  |  1  |   1  |\n",
    "| Rouge  |  1  |  0  |    0 |\n",
    "| Magenta  |  1  |  0  |  1   |\n",
    "| Jaune |  1  |  1  |   0  |\n",
    "| Blanc  |  1  |  1  |   1  |\n",
    "\n",
    "\n",
    "<p style=\"text-align:right;\">source : prépabac NSI Hatier</p>\n",
    "</div>"
   ]
  },
  {
   "cell_type": "markdown",
   "metadata": {},
   "source": [
    "<div class=\"alert alert-success\">\n",
    "Ci-dessous, un programme qui permet de récupérer les caractéristiques d'une image.\n",
    "</div>"
   ]
  },
  {
   "cell_type": "code",
   "execution_count": null,
   "metadata": {},
   "outputs": [],
   "source": [
    "# -*- coding: utf-8 -*-\n",
    "# Programme d'affichage des caractéristiques d'une image\n",
    "# avec la librairie PIL\n",
    "\n",
    "\n",
    "# importation des librairies\n",
    "import sys\n",
    "from PIL import Image\n",
    "\n",
    "# ouverture du fichier image\n",
    "ImageFile = 'Images/riviere.png'\n",
    "try:\n",
    "    mon_image = Image.open(ImageFile)\n",
    "    largeur, hauteur = mon_image.size\n",
    "except :\n",
    "    print ('Erreur sur ouverture du fichier ',ImageFile)\n",
    "    sys.exit(1)\n",
    "\n",
    "\n",
    "\n",
    "#affichage des caracteristiques de l'image\n",
    "print(largeur,hauteur)\n",
    "print(mon_image.format,mon_image.size, mon_image.mode)"
   ]
  },
  {
   "cell_type": "markdown",
   "metadata": {},
   "source": [
    "<div class=\"alert alert-warning\">\n",
    "<img src=\"Images/CR.png\" alt=\"logo CR\" width=5% align=right>\n",
    "\n",
    "**Questions :**\n",
    "\n",
    "- Recherchez sur Internet une justification des instructions try et except. Pourquoi sont-elles utilisées ici ?\n",
    "- Combien de pixels composent l'image ?\n",
    "</div>"
   ]
  },
  {
   "cell_type": "markdown",
   "metadata": {},
   "source": [
    "<div class=\"alert alert-success\">\n",
    "    \n",
    "Intéressons nous maintenant à la manière de lire et d'écrire les composantes de couleurs des pixels de l'image. Le programme ci-dessous génère une image en niveau de gris à partir d'une image couleur.\n",
    "</div>"
   ]
  },
  {
   "cell_type": "code",
   "execution_count": null,
   "metadata": {},
   "outputs": [],
   "source": [
    "# -*- coding: utf-8 -*-\n",
    "\n",
    "from PIL import Image\n",
    "\n",
    "image_source = 'Images/riviere.png'\n",
    "image_cible = 'Images/riviere_niv_gris.png' \n",
    "mon_image = Image.open(image_source)\n",
    "\n",
    "\n",
    "(largeur, hauteur)= mon_image.size\n",
    "for x in range(largeur):\n",
    "    for y in range(hauteur):\n",
    "        # Ici on traite le pixel (x,y) du fichier photo\n",
    "        (rouge,vert,bleu) = mon_image.getpixel((x,y)) \n",
    "        mix = int ((rouge+vert+bleu)/3)\n",
    "        (rouge,vert,bleu) = (mix,mix,mix)\n",
    "        mon_image.putpixel((x,y),(mix,mix,mix))\n",
    "mon_image.save(image_cible)"
   ]
  },
  {
   "cell_type": "markdown",
   "metadata": {},
   "source": [
    "<div class=\"alert alert-warning\">\n",
    "<img src=\"Images/CR.png\" alt=\"logo CR\" width=5% align=right>\n",
    "\n",
    "**Questions :**\n",
    "\n",
    "- Pourquoi y-a-t-il 2 boucles imbriquées ? Expliquez le rôle de chacune.\n",
    "- Comment est obtenu le niveau de gris ?\n",
    "- Modifiez ce programme pour qu'une exception soit levée si le fichier source n'existe pas.\n",
    "</div>"
   ]
  },
  {
   "cell_type": "markdown",
   "metadata": {},
   "source": [
    "## 3) La fonction enumerate"
   ]
  },
  {
   "cell_type": "markdown",
   "metadata": {},
   "source": [
    "<div class=\"alert alert-warning\">\n",
    "    \n",
    "Exécutez ce programme.\n",
    "</div>"
   ]
  },
  {
   "cell_type": "code",
   "execution_count": null,
   "metadata": {},
   "outputs": [],
   "source": [
    "# Que produit la fonction enumerate ?\n",
    "\n",
    "fruits = [\"pomme\",\"poire\",\"orange\"] \n",
    "texte = \"message\"\n",
    "  \n",
    "# Création d'un tuple (index, élément)\n",
    "for element in enumerate(fruits): \n",
    "    print (element) \n",
    "\n",
    "# Idem, mais insertion dans une liste\n",
    "print (list(enumerate(fruits))) \n",
    "    \n",
    "# Séparer index et valeur \n",
    "for index,element in enumerate(fruits): \n",
    "    print (index,element)\n",
    "    \n",
    "# Si l'on souhaite commencer à la valeur 2\n",
    "# (0 est la valeur par défaut)\n",
    "# et mettre le résultat dans une liste\n",
    "print (list(enumerate(texte,2)))"
   ]
  },
  {
   "cell_type": "markdown",
   "metadata": {},
   "source": [
    "<div class=\"alert alert-warning\">\n",
    "<img src=\"Images/CR.png\" alt=\"logo CR\" width=5% align=right>\n",
    "\n",
    "**Questions :**\n",
    "\n",
    "- Expliquez ce que produit l'utilisation de la fonction  built-in \"enumerate."
   ]
  },
  {
   "cell_type": "markdown",
   "metadata": {},
   "source": [
    "## 4) Les tests unitaires"
   ]
  },
  {
   "cell_type": "markdown",
   "metadata": {},
   "source": [
    "<div class=\"alert alert-success\">\n",
    "\n",
    "    \n",
    "</div>"
   ]
  },
  {
   "cell_type": "code",
   "execution_count": 3,
   "metadata": {},
   "outputs": [
    {
     "name": "stdout",
     "output_type": "stream",
     "text": [
      "(7, 1)\n"
     ]
    }
   ],
   "source": [
    "def division_euclidienne(a:int, b:int)->tuple:\n",
    "    \"\"\"\n",
    "    Réalise la division euclidienne et\n",
    "    renvoie le \n",
    "    >>> division_euclidienne(30,2)\n",
    "    (15, 0)\n",
    "    \"\"\"\n",
    "    # Vérification sur les préconditions\n",
    "    assert b>0,'Le diviseur ne peut être nul'\n",
    "\n",
    "    return a//b,a%b\n",
    "\n",
    "if __name__=='__main__':\n",
    "    from doctest import testmod\n",
    "    testmod()\n",
    "    print(division_euclidienne(15,2))"
   ]
  },
  {
   "cell_type": "code",
   "execution_count": null,
   "metadata": {},
   "outputs": [],
   "source": []
  },
  {
   "cell_type": "markdown",
   "metadata": {},
   "source": [
    "<div class=\"alert alert-warning\">\n",
    "<img src=\"Images/CR.png\" alt=\"logo CR\" width=5% align=right>\n",
    "\n",
    "**Questions :**\n",
    "\n",
    "- Exécuter ce code, puis modifier la valeur attendue de la somme à une autre valeur. Que se passe-t-il ?\n",
    "- Essayer de réaliser une concaténation en passant 2 valeurs de type chaîne de caractères (str). Que se passe-t-il ?"
   ]
  },
  {
   "cell_type": "markdown",
   "metadata": {},
   "source": [
    "## 5) La stéganographie"
   ]
  },
  {
   "cell_type": "markdown",
   "metadata": {},
   "source": [
    "<div class=\"alert alert-success\">\n",
    "    \n",
    ">Voyez-vous une différence entre les 2 images ci-dessous ?\n",
    "</div>"
   ]
  },
  {
   "cell_type": "markdown",
   "metadata": {},
   "source": [
    "<table>\n",
    "    <style type=\"text/css\">\n",
    "                td {\n",
    "              text-align:center;\n",
    "                   }\n",
    "    </style>\n",
    "    <tbody>\n",
    "        <tr>\n",
    "            <td><img src=\"Images/riviere.png\"></td>\n",
    "            <td><img src=\"Images/riviere_modifie.png\"></td>\n",
    "        </tr>\n",
    "    </tbody>\n",
    "</table>"
   ]
  },
  {
   "cell_type": "markdown",
   "metadata": {},
   "source": [
    "<div class=\"alert alert-success\">\n",
    "    \n",
    "Pourtant un message est inscrit dans la photo de droite.\n",
    "\n",
    "Qu'est ce que la sténographie ? Quelle différence avec la cryptologie ?\n",
    "\n",
    "- La stéganographie, c'est l'art de dissimuler des données dans d'autres données.\n",
    "\n",
    "- La cryptologie est la science des messages secrets. Cette discipline se décompose en cryptographie et cryptanalyse.\n",
    "\n",
    "    - cryptographie : ensemble des techniques et méthodes utilisées pour transformer un message clair en un message inintelligible.\n",
    "\n",
    "    - cryptanalyse : ensemble des techniques et méthodes utilisées pour retrouver le texte en clair à partir du texte crypté.\n",
    "</div>"
   ]
  }
 ],
 "metadata": {
  "kernelspec": {
   "display_name": "Python 3",
   "language": "python",
   "name": "python3"
  },
  "language_info": {
   "codemirror_mode": {
    "name": "ipython",
    "version": 3
   },
   "file_extension": ".py",
   "mimetype": "text/x-python",
   "name": "python",
   "nbconvert_exporter": "python",
   "pygments_lexer": "ipython3",
   "version": "3.8.3"
  },
  "varInspector": {
   "cols": {
    "lenName": 16,
    "lenType": 16,
    "lenVar": 40
   },
   "kernels_config": {
    "python": {
     "delete_cmd_postfix": "",
     "delete_cmd_prefix": "del ",
     "library": "var_list.py",
     "varRefreshCmd": "print(var_dic_list())"
    },
    "r": {
     "delete_cmd_postfix": ") ",
     "delete_cmd_prefix": "rm(",
     "library": "var_list.r",
     "varRefreshCmd": "cat(var_dic_list()) "
    }
   },
   "types_to_exclude": [
    "module",
    "function",
    "builtin_function_or_method",
    "instance",
    "_Feature"
   ],
   "window_display": false
  }
 },
 "nbformat": 4,
 "nbformat_minor": 2
}
