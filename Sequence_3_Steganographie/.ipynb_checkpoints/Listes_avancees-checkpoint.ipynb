{
 "cells": [
  {
   "cell_type": "markdown",
   "metadata": {},
   "source": [
    "# Listes avancées"
   ]
  },
  {
   "cell_type": "markdown",
   "metadata": {},
   "source": [
    "## Compréhension de liste"
   ]
  },
  {
   "cell_type": "code",
   "execution_count": null,
   "metadata": {},
   "outputs": [],
   "source": [
    "ma_liste = [0,1,2,3,4,5]\n",
    "[str(x) for x in ma_liste]"
   ]
  },
  {
   "cell_type": "markdown",
   "metadata": {},
   "source": [
    "## Création de tuples à partir de 2 listes en compréhension"
   ]
  },
  {
   "cell_type": "code",
   "execution_count": null,
   "metadata": {},
   "outputs": [],
   "source": [
    "ma_liste1 =[0,1]\n",
    "ma_liste2 =['zero','un']\n",
    "[(x,y) for x in ma_liste1 for y in ma_liste2]"
   ]
  },
  {
   "cell_type": "markdown",
   "metadata": {},
   "source": [
    "## Index de chaque élément en compréhension et enumerate"
   ]
  },
  {
   "cell_type": "code",
   "execution_count": null,
   "metadata": {},
   "outputs": [],
   "source": [
    "ma_liste= ['a','b','c','d','e']\n",
    "[(i,j) for (i,j) in enumerate(ma_liste, start=0)] #start = 0 est optionnel, par défaut =0"
   ]
  },
  {
   "cell_type": "markdown",
   "metadata": {},
   "source": [
    "## Sélection d'élément particulier avec \"if\""
   ]
  },
  {
   "cell_type": "code",
   "execution_count": null,
   "metadata": {},
   "outputs": [],
   "source": [
    "[i for (i,j) in enumerate(ma_liste) if j=='c']"
   ]
  },
  {
   "cell_type": "markdown",
   "metadata": {},
   "source": [
    "## \"If - else\" dans une compréhension"
   ]
  },
  {
   "cell_type": "code",
   "execution_count": null,
   "metadata": {},
   "outputs": [],
   "source": [
    "my_list = range(10)\n",
    "['pair' if i%2==0 else 'impair' for i in my_list]"
   ]
  },
  {
   "cell_type": "markdown",
   "metadata": {},
   "source": [
    "## La fonction enumerate"
   ]
  },
  {
   "cell_type": "code",
   "execution_count": null,
   "metadata": {},
   "outputs": [],
   "source": [
    "# Que produit la fonction enumerate ?\n",
    "\n",
    "fruits = [\"pomme\",\"poire\",\"orange\"] \n",
    "texte = \"message\"\n",
    "  \n",
    "# Création d'un tuple (index, élément)\n",
    "for element in enumerate(fruits): \n",
    "    print (element) \n",
    "\n",
    "# Idem, mais insertion dans une liste\n",
    "print (list(enumerate(fruits))) \n",
    "    \n",
    "# Séparer index et valeur \n",
    "for index,element in enumerate(fruits): \n",
    "    print (index,element)\n",
    "    \n",
    "# Si l'on souhaite commencer à la valeur 2\n",
    "# (0 est la valeur par défaut)\n",
    "# et mettre le résultat dans une liste\n",
    "print (list(enumerate(texte,2)))"
   ]
  }
 ],
 "metadata": {
  "kernelspec": {
   "display_name": "Python 3",
   "language": "python",
   "name": "python3"
  },
  "language_info": {
   "codemirror_mode": {
    "name": "ipython",
    "version": 3
   },
   "file_extension": ".py",
   "mimetype": "text/x-python",
   "name": "python",
   "nbconvert_exporter": "python",
   "pygments_lexer": "ipython3",
   "version": "3.7.3"
  },
  "varInspector": {
   "cols": {
    "lenName": 16,
    "lenType": 16,
    "lenVar": 40
   },
   "kernels_config": {
    "python": {
     "delete_cmd_postfix": "",
     "delete_cmd_prefix": "del ",
     "library": "var_list.py",
     "varRefreshCmd": "print(var_dic_list())"
    },
    "r": {
     "delete_cmd_postfix": ") ",
     "delete_cmd_prefix": "rm(",
     "library": "var_list.r",
     "varRefreshCmd": "cat(var_dic_list()) "
    }
   },
   "types_to_exclude": [
    "module",
    "function",
    "builtin_function_or_method",
    "instance",
    "_Feature"
   ],
   "window_display": false
  }
 },
 "nbformat": 4,
 "nbformat_minor": 2
}
