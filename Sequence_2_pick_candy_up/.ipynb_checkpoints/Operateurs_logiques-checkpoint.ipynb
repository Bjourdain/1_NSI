{
 "cells": [
  {
   "cell_type": "markdown",
   "metadata": {},
   "source": [
    "Opérateurs Booléens: and, or, not\n",
    "\n",
    "Vous pouvez combiner des expressions booléennes en utilisant \"and\", \"or\", and \"not\" (\"et\", \"ou\" et \"non\").\n",
    "\n",
    "    L'expression A and B est vraie si à la fois A et B sont vrais et fausse si un des deux ou les deux sont faux. (Par exemple, vous serez mouillé s'il pleut et que vous avez oublié votre parapluie.)\n",
    "    L'expression A or B est vraie si soit A est vraie soit B est vrai et fausse si les deux sont faux. (Par exemple l'école est fermée pendant les vacances ou c'est le weekend.)\n",
    "    L'expression not A est vraie si A est faux et fausse si A est vrai. (Par exemple, vous avez faim si vous n'avez pas mangé votre diner.)\n",
    "\n",
    "Voici un programme qui affiche automatiquement toutes les possibilités. Comme les tables de multiplication que vous connaissez de l'école promaire, ceci s'appelle des tables de vérité."
   ]
  },
  {
   "cell_type": "code",
   "execution_count": 1,
   "metadata": {},
   "outputs": [
    {
     "name": "stdout",
     "output_type": "stream",
     "text": [
      "  A      B       not A  not B  A and B  A or B\n",
      "----------------------------------------------\n",
      "False   False     True   True   False   False\n",
      "False   True     True   False   False   True\n",
      "True   False     False   True   False   True\n",
      "True   True     False   False   True   True\n"
     ]
    }
   ],
   "source": [
    "print(\"  A      B       not A  not B  A and B  A or B\")\n",
    "print(\"----------------------------------------------\")\n",
    "for A in [False, True]:               # (boucle \"for\" avec liste\n",
    "    for B in [False, True]:           #  sera expliquée plus tard)\n",
    "        print(A, \" \", B, \"   \", not A, \" \", not B, \" \", A and B, \" \", A or B)"
   ]
  },
  {
   "cell_type": "markdown",
   "metadata": {},
   "source": [
    "Ordre des Opérations\n",
    "\n",
    "Les opérateurs booléens ont un \"ordre d'opérations\" tout comme les opérateurs mathématiques. L'ordre est\n",
    "\n",
    "NAO: not (précédence haute), and, or (précédence basse)\n",
    "\n",
    "donc par exemple,\n",
    "\n",
    "not x or y and z signifie (not x) or (y and z)"
   ]
  },
  {
   "cell_type": "markdown",
   "metadata": {},
   "source": [
    "Quelle est la valeur de\n",
    "\n",
    "A or not B and C\n",
    "\n",
    "Si (A, B, C) = (False, True, True)?\n",
    "A or ((not B) and C)\n",
    "\n",
    "en remplaçant les valeurs, nous avons\n",
    "\n",
    "False or ((not True) and True)\n",
    "\n",
    "et maintenant, simplifiant une étape à la fois donne\n",
    "\n",
    "False or ((not True) and True)\n",
    "= False or (False and True)\n",
    "= False or False\n",
    "= False"
   ]
  }
 ],
 "metadata": {
  "kernelspec": {
   "display_name": "Python 3",
   "language": "python",
   "name": "python3"
  },
  "language_info": {
   "codemirror_mode": {
    "name": "ipython",
    "version": 3
   },
   "file_extension": ".py",
   "mimetype": "text/x-python",
   "name": "python",
   "nbconvert_exporter": "python",
   "pygments_lexer": "ipython3",
   "version": "3.7.3"
  },
  "varInspector": {
   "cols": {
    "lenName": 16,
    "lenType": 16,
    "lenVar": 40
   },
   "kernels_config": {
    "python": {
     "delete_cmd_postfix": "",
     "delete_cmd_prefix": "del ",
     "library": "var_list.py",
     "varRefreshCmd": "print(var_dic_list())"
    },
    "r": {
     "delete_cmd_postfix": ") ",
     "delete_cmd_prefix": "rm(",
     "library": "var_list.r",
     "varRefreshCmd": "cat(var_dic_list()) "
    }
   },
   "types_to_exclude": [
    "module",
    "function",
    "builtin_function_or_method",
    "instance",
    "_Feature"
   ],
   "window_display": false
  }
 },
 "nbformat": 4,
 "nbformat_minor": 2
}
