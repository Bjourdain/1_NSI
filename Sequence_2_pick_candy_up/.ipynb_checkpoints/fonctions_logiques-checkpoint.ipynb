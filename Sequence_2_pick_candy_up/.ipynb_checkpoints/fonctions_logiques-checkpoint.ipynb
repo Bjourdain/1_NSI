{
 "cells": [
  {
   "cell_type": "markdown",
   "metadata": {},
   "source": [
    "# <center><font face=\"arial\" size=\"5\" color=#0101DF>NUMERIQUE ET SCIENCES INFORMATIQUES 1ère NSI</font></center>"
   ]
  },
  {
   "cell_type": "markdown",
   "metadata": {},
   "source": [
    "## <font color=#013ADF>Séquence N° 2 : complément de formation au projet : PICK_CANDY_UP</font>"
   ]
  },
  {
   "cell_type": "markdown",
   "metadata": {},
   "source": [
    "**Vous devez réaliser un compte rendu avec CE notebook.**\n",
    "\n",
    "<img src=\"Images/CR.png\" alt=\"logo CR\" width=5% align=middle>\n",
    "\n",
    "Chaque fois que vous voyez ce logo, votre réponse doit apparaître dans votre compte-rendu."
   ]
  },
  {
   "cell_type": "markdown",
   "metadata": {},
   "source": [
    "Nous allons profiter de la carte micro:bit pour confirmer et renforcer ce qui a été dit lors de la séquence précédente sur les opérateurs booléens."
   ]
  },
  {
   "cell_type": "markdown",
   "metadata": {},
   "source": [
    "Avec les deux entrées TOR (Tout Ou Rien), le bouton A, le bouton B, qui ne peuvent prendre chacun que deux valeurs booléennes `False = 0` `True = 1` nous pouvons programmer et tester des fonctions de logique booléenne."
   ]
  },
  {
   "cell_type": "markdown",
   "metadata": {},
   "source": [
    "## Fontion ET :\n",
    "Testez le programme ci-dessous dont la condition de test serait l'[expression booléenne](https://fr.wikipedia.org/wiki/Expression_bool%C3%A9enne_(programmation_informatique)) `A et B` :\n",
    "> En Python l'opérateur booléen pour le ET est le mot clé `and`. Le symbole est :\n",
    "<img src=\"Images/AND.png\" alt=\"AND\" width=10%>"
   ]
  },
  {
   "cell_type": "code",
   "execution_count": null,
   "metadata": {},
   "outputs": [],
   "source": [
    "while True:\n",
    "    if (button_a.is_pressed() and button_b.is_pressed()):\n",
    "        display.show(Image.YES)\n",
    "    else:\n",
    "        display.show(Image.NO)"
   ]
  },
  {
   "cell_type": "markdown",
   "metadata": {},
   "source": [
    "<img src=\"Images/CR.png\" alt=\"logo CR\" width=5% align=right>\n",
    "\n",
    "Complétez alors la table de vérité de la fonction logique **ET**, d'équation $A\\cdot B$ :\n",
    "\n",
    "|  A  |  B  | ET  |\n",
    "|:---:|:---:|:---:|\n",
    "|  0  |  0  |     |\n",
    "|  0  |  1  |     |\n",
    "|  1  |  0  |     |\n",
    "|  1  |  1  |     |"
   ]
  },
  {
   "cell_type": "markdown",
   "metadata": {},
   "source": [
    "## Fontion OU :\n",
    "Testez le programme ci-dessous dont l'expression booléenne serait `A ou B`:\n",
    "> En Python l'opérateur booléen pour le OU est le mot clé `or`\n",
    "<img src=\"Images/OR.png\" alt=\"OR\" width=10%>"
   ]
  },
  {
   "cell_type": "code",
   "execution_count": null,
   "metadata": {},
   "outputs": [],
   "source": [
    "while True:\n",
    "    if (button_a.is_pressed() or button_b.is_pressed()):\n",
    "        display.show(Image.YES)\n",
    "    else:\n",
    "        display.show(Image.NO)"
   ]
  },
  {
   "cell_type": "markdown",
   "metadata": {},
   "source": [
    "<img src=\"Images/CR.png\" alt=\"logo CR\" width=5% align=right>\n",
    "\n",
    "Complétez alors la table de véritée de la fonction logique **OU**, d'équation $A + B$ :\n",
    "\n",
    "|  A  |  B  | OU  |\n",
    "|:---:|:---:|:---:|\n",
    "|  0  |  0  |     |\n",
    "|  0  |  1  |     |\n",
    "|  1  |  0  |     |\n",
    "|  1  |  1  |     |"
   ]
  },
  {
   "cell_type": "markdown",
   "metadata": {},
   "source": [
    "## Fontion NON :\n",
    "Testez le programme ci-dessous dont l'expression booléenne serait `non A`,   :\n",
    "> En Python l'opérateur booléen pour le NON est le mot clé `not`\n",
    "<img src=\"Images/NOT.png\" alt=\"NOT\" width=10%>"
   ]
  },
  {
   "cell_type": "code",
   "execution_count": null,
   "metadata": {},
   "outputs": [],
   "source": [
    "while True:\n",
    "    if not(button_a.is_pressed()):\n",
    "        display.show(Image.YES)\n",
    "    else:\n",
    "        display.show(Image.NO)"
   ]
  },
  {
   "cell_type": "markdown",
   "metadata": {},
   "source": [
    "<img src=\"Images/CR.png\" alt=\"logo CR\" width=5% align=right>\n",
    "\n",
    "Complétez alors la table de véritée de la fonction logique **NON**, d'équation $\\bar{A}$ :\n",
    "\n",
    "|  A  | NON |\n",
    "|:---:|:---:|\n",
    "|  0  |     |\n",
    "|  1  |     |"
   ]
  },
  {
   "cell_type": "markdown",
   "metadata": {},
   "source": [
    "#### Applications :"
   ]
  },
  {
   "cell_type": "markdown",
   "metadata": {},
   "source": [
    "<img src=\"Images/CR.png\" alt=\"logo CR\" width=5% align=right>\n",
    "\n",
    "Programmez chacune à leur tour les expressions booléennes suivantes et complétez leur table de vérité respective :\n",
    "- `non (A et B)`\n",
    "\n",
    "|  A  |  B  |  ?  |\n",
    "|:---:|:---:|:---:|\n",
    "|  0  |  0  |     |\n",
    "|  0  |  1  |     |\n",
    "|  1  |  0  |     |\n",
    "|  1  |  1  |     |\n",
    "\n",
    "- `non (A ou B)`\n",
    "\n",
    "|  A  |  B  |  ?  |\n",
    "|:---:|:---:|:---:|\n",
    "|  0  |  0  |     |\n",
    "|  0  |  1  |     |\n",
    "|  1  |  0  |     |\n",
    "|  1  |  1  |     |\n",
    "\n",
    "\n",
    "- `non A et non B`\n",
    "\n",
    "|  A  |  B  |  ?  |\n",
    "|:---:|:---:|:---:|\n",
    "|  0  |  0  |     |\n",
    "|  0  |  1  |     |\n",
    "|  1  |  0  |     |\n",
    "|  1  |  1  |     |\n",
    "\n",
    "\n",
    "- `non A ou non B`\n",
    "\n",
    "|  A  |  B  |  ?  |\n",
    "|:---:|:---:|:---:|\n",
    "|  0  |  0  |     |\n",
    "|  0  |  1  |     |\n",
    "|  1  |  0  |     |\n",
    "|  1  |  1  |     |\n",
    "\n",
    "\n",
    "Tel [De Morgan](https://fr.wikipedia.org/wiki/Lois_de_De_Morgan), que concluez-vous ? Proposez alors un nom pour ces fonctions, un symbole ...\n",
    "\n",
    "Complétez la table de vérité et programmer le fonctionnement d'un système dont l'équation serait :\n",
    "\n",
    "$$ L =\\bar{A}\\cdot B+A\\cdot\\bar{B}$$\n",
    "\n",
    "|  A  |  B  |  ?  |\n",
    "|:---:|:---:|:---:|\n",
    "|  0  |  0  |     |\n",
    "|  0  |  1  |     |\n",
    "|  1  |  0  |     |\n",
    "|  1  |  1  |     |\n",
    "\n",
    "Comment nommerait-on une telle fonction booléenne ? En voyez-vous un usage quelonque ?"
   ]
  }
 ],
 "metadata": {
  "kernelspec": {
   "display_name": "Python 3",
   "language": "python",
   "name": "python3"
  },
  "language_info": {
   "codemirror_mode": {
    "name": "ipython",
    "version": 3
   },
   "file_extension": ".py",
   "mimetype": "text/x-python",
   "name": "python",
   "nbconvert_exporter": "python",
   "pygments_lexer": "ipython3",
   "version": "3.7.3"
  },
  "varInspector": {
   "cols": {
    "lenName": 16,
    "lenType": 16,
    "lenVar": 40
   },
   "kernels_config": {
    "python": {
     "delete_cmd_postfix": "",
     "delete_cmd_prefix": "del ",
     "library": "var_list.py",
     "varRefreshCmd": "print(var_dic_list())"
    },
    "r": {
     "delete_cmd_postfix": ") ",
     "delete_cmd_prefix": "rm(",
     "library": "var_list.r",
     "varRefreshCmd": "cat(var_dic_list()) "
    }
   },
   "types_to_exclude": [
    "module",
    "function",
    "builtin_function_or_method",
    "instance",
    "_Feature"
   ],
   "window_display": false
  }
 },
 "nbformat": 4,
 "nbformat_minor": 2
}
