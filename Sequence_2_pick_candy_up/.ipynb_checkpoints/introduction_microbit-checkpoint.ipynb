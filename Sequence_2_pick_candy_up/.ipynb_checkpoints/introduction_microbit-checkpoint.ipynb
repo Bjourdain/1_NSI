{
 "cells": [
  {
   "cell_type": "markdown",
   "metadata": {},
   "source": [
    "# <center><font face=\"arial\" size=\"5\" color=#0101DF>NUMERIQUE ET SCIENCES INFORMATIQUES 1ère NSI</font></center>"
   ]
  },
  {
   "cell_type": "markdown",
   "metadata": {},
   "source": [
    "## <font color=#013ADF>Séquence N° 2 : document de formation préalable au projet : PICK_CANDY_UP</font>"
   ]
  },
  {
   "cell_type": "markdown",
   "metadata": {},
   "source": [
    "**Vous devez réaliser un compte rendu sous la forme d'un NOUVEAU notebook.**\n",
    "\n",
    "<img src=\"Images/CR.png\" alt=\"logo CR\" width=5% align=middle>\n",
    "\n",
    "Chaque fois que vous voyez ce logo, la question et votre réponse doit apparaître dans votre compte-rendu."
   ]
  },
  {
   "cell_type": "markdown",
   "metadata": {},
   "source": [
    "## 1) Présentation de la carte"
   ]
  },
  {
   "cell_type": "markdown",
   "metadata": {},
   "source": [
    "La carte micro:bit est un ordinateur à processeur ARM conçu par la BBC pour l'éducation informatique au Royaume-Uni. Cette carte peut se programmer en utilisant plusieurs langages. Nous nous intéresserons ici uniquement à la programmation de la carte sous MicroPython.\n",
    "\n",
    "Ce petit ordinateur possède la dernière technologie qui équipe les appareils modernes : téléphones mobiles, réfrigérateurs, montres intelligentes, alarmes antivol, robots, etc...\n",
    "\n",
    "Ainsi, il s'apparente à ce que l'on nomme l'Internet des objets : Internet of Things, abrégé IoT.\n",
    "\n",
    "Un micro:bit est à la fois autonome et extensible. En plus d'utiliser ses LED intégrées, boutons et capteurs, nous pouvons élargir sa gamme de fonctions en l'insérant dans un connecteur.\n",
    "\n",
    "MicroPython est une implémentation simple du langage de programmation Python 3 qui inclut un petit sous-ensemble de la bibliothèque standard Python et est optimisé pour fonctionner sur des microcontrôleurs.\n",
    "\n",
    "<img src=\"Images/microbit-faces.jpg\" alt=\"recto/verso microbit\" width=50%>\n",
    "\n",
    "Caractéristiques principales de la carte micro:bit (version: Rev. 1.3 B):\n",
    "    - alimentation:\n",
    "         via port micro-USB ou\n",
    "         connecteur JST (3 V) ou\n",
    "         broches 3 V et GND\n",
    "    - microprocesseur: CPU ARM Cortex M0 32 bits\n",
    "    - cadencement: 16 MHz\n",
    "    - mémoire flash: 256 kB\n",
    "    - mémoire RAM: 16 kB\n",
    "    - 23 broches d'E/S dont 6 entrées analogiques\n",
    "    - matrice 5x5 leds rouges\n",
    "    - 2 boutons-poussoirs\n",
    "    - Bluetooth Low Energy 4.0\n",
    "    - accéléromètre 3 axes MMA8652​\n",
    "    - magnétomètre 3 axes MAG3110\n",
    "    - bus série, I2C et SPI\n",
    "    - dimensions: 40 x 50 mm\n",
    "\n",
    "<img src=\"Images/microbit-pins.jpg\" alt=\"brochage microbit\" width=30%>"
   ]
  },
  {
   "cell_type": "markdown",
   "metadata": {},
   "source": [
    "<img src=\"Images/CR.png\" alt=\"logo CR\" width=5% align=right>\n",
    "\n",
    "**Question :**\n",
    "\n",
    "De la liste des caractéristiques précédentes, identifiez sous la forme d'un tableau (Ajoutez les lignes nécessaires), quels sont les dispositifs d'entrées et de sorties natifs à la carte.\n",
    "\n",
    "|  Entrées  |  Sorties  |\n",
    "|:---:|:---:|\n",
    "|     |     |\n",
    "|     |     |\n",
    "|     |     |\n",
    "|     |     |"
   ]
  },
  {
   "cell_type": "markdown",
   "metadata": {},
   "source": [
    "## 2) Présentation des éditeurs"
   ]
  },
  {
   "cell_type": "markdown",
   "metadata": {},
   "source": [
    "Pour réaliser la programmation de la carte, nous utiliserons :\n",
    "- chez vous l'éditeur en ligne qui se trouve à l'adresse : https://create.withcode.uk/ (carte virtuelle)\n",
    "- en classe l'éditeur Mu disponible sur les ordinateurs sous Linux (carte réelle)\n",
    "- d'un poste quelconque ne disposant pas de Mu : https://python.microbit.org/v/1.1 (carte réelle)"
   ]
  },
  {
   "cell_type": "markdown",
   "metadata": {},
   "source": [
    "### 2-1) Éditeur en ligne"
   ]
  },
  {
   "cell_type": "markdown",
   "metadata": {},
   "source": [
    "Rendez-vous sur l'éditeur en ligne pré-cité, copier-coller le programme ci-dessous et lancer l'exécution"
   ]
  },
  {
   "cell_type": "code",
   "execution_count": null,
   "metadata": {},
   "outputs": [],
   "source": [
    "from microbit import *\n",
    "while True:\n",
    "  if button_a.is_pressed() :\n",
    "      display.show(Image.HAPPY)"
   ]
  },
  {
   "cell_type": "markdown",
   "metadata": {},
   "source": [
    "### 2-2) Éditeur Mu\n",
    "\n",
    "La  documentation détaillée de l'éditeur Mu ici : https://codewith.mu/en/tutorials/1.0/microbit\n",
    "- Raccordez une extrémité du cordon USB à la carte ;\n",
    "- Raccordez l'autre extrémité du cordon USB à l'ordinateur.\n",
    "> Une icône translucide MICROBIT doit apparaître. Il faut la monter, comme on le ferait pour une clé USB. Il suffit pour cela de cliquer dessus avec le bouton gauche de la souris. Une fenêtre s'ouvre, on peut la refermer. La carte est maintenant reconnue.\n",
    "- Ouvrez l'éditeur Mu à partir du menu des applications ou de l'icône sur le bureau si elle existe ;\n",
    "- Copiez le même programme que précédemment dans l'éditeur, puis flasher le programme sur la carte ;\n",
    "- Exécutez le.\n",
    "- Ceci étant réalisé, fermer l'éditeur Mu, nul besoin de sauvegarder le programme."
   ]
  },
  {
   "cell_type": "markdown",
   "metadata": {},
   "source": [
    "### 2-3) Python éditeur en ligne\n",
    "\n",
    "Save : sauvegarde du programme source sur le poste de travail ;\n",
    "\n",
    "Download : téléchargement du programme exécutable (.hex) qui sera à transférer dans la carte micro:bit."
   ]
  },
  {
   "cell_type": "markdown",
   "metadata": {},
   "source": [
    "## 3) Découverte de quelques fonctionnalités de la carte\n",
    "\n",
    "La documentation détaillée ici : https://microbit-micropython.readthedocs.io/en/v1.0.1/, nous allons aborder ci-dessous, les premières fonctionnalités de la carte, celles-ci concernent la matrice de LED et les boutons poussoirs A et B."
   ]
  },
  {
   "cell_type": "markdown",
   "metadata": {},
   "source": [
    "### 3-1) La matrice DEL (ou LED en anglais)"
   ]
  },
  {
   "cell_type": "markdown",
   "metadata": {},
   "source": [
    "**Copier-coller les programmes ci-dessous en interprétant le comportement de la carte au regard du programme.**\n",
    "\n",
    "<img src=\"Images/warning.png\" alt=\"Attention\" width=5% align=left>\n",
    "\n",
    "**Pour relancer un programme en mémoire FLASH de la carte, appuyer sur le bouton RESET.**"
   ]
  },
  {
   "cell_type": "code",
   "execution_count": null,
   "metadata": {},
   "outputs": [],
   "source": [
    "from microbit import *\n",
    "# affiche un caractère\n",
    "display.show('2')"
   ]
  },
  {
   "cell_type": "code",
   "execution_count": null,
   "metadata": {},
   "outputs": [],
   "source": [
    "from microbit import *\n",
    "# affiche un texte déroulant\n",
    "display.scroll('Hello World!')"
   ]
  },
  {
   "cell_type": "code",
   "execution_count": null,
   "metadata": {},
   "outputs": [],
   "source": [
    "from microbit import *\n",
    "# affiche une image pré-définie (voir liste dans la documentation officielle)\n",
    "display.show (Image.HAPPY)\n",
    "# pause de 1 seconde\n",
    "sleep(1000)\n",
    "display.show (Image.SAD)"
   ]
  },
  {
   "cell_type": "code",
   "execution_count": null,
   "metadata": {},
   "outputs": [],
   "source": [
    "from microbit import *\n",
    "# affiche votre propre image\n",
    "monImage = Image(\"00500:\"\n",
    "                 \"00500:\"\n",
    "                 \"00500:\"\n",
    "                 \"99999:\"\n",
    "                 \"09990\")\n",
    "\n",
    "display.show(monImage)"
   ]
  },
  {
   "cell_type": "code",
   "execution_count": null,
   "metadata": {},
   "outputs": [],
   "source": [
    "from microbit import *\n",
    "# affiche votre propre image (seconde possibilité)\n",
    "monImage = Image(\"00500:00500:00500:99999:09990\")\n",
    "display.show(monImage)"
   ]
  },
  {
   "cell_type": "code",
   "execution_count": null,
   "metadata": {},
   "outputs": [],
   "source": [
    "from microbit import *\n",
    "for x in range(2,5):\n",
    "    for y in range(3,5):\n",
    "        display.set_pixel(x,y,9)\n",
    "# Où se situe la DEL de coordonées (0,0) ? (haut, bas, gauche, droite)"
   ]
  },
  {
   "cell_type": "markdown",
   "metadata": {},
   "source": [
    "<img src=\"Images/CR.png\" alt=\"logo CR\" width=5% align=right>\n",
    "\n",
    "**Questions :**\n",
    "- Où se situe la DEL de coordonnées (0,0) ? (haut, bas, gauche, droite)\n",
    "- Réalisez un programme qui réalise un compte à rebours de 5 secondes à 0 secondes, puis affiche votre image personnelle. L'affichage donnera : 5, 4, 3, 2, 1, votre image personnelle\n"
   ]
  },
  {
   "cell_type": "markdown",
   "metadata": {},
   "source": [
    "## 3-2) Les boutons poussoirs A et B"
   ]
  },
  {
   "cell_type": "markdown",
   "metadata": {},
   "source": [
    "**Copier-coller les programmes ci-dessous en interprétant le comportement de la carte au regard du programme.**"
   ]
  },
  {
   "cell_type": "code",
   "execution_count": null,
   "metadata": {},
   "outputs": [],
   "source": [
    "from microbit import *\n",
    "\n",
    "while True:\n",
    "    if button_a.is_pressed():\n",
    "        display.show(Image.HAPPY)\n",
    "    elif button_b.is_pressed():\n",
    "        break\n",
    "    else:\n",
    "        display.show(Image.SAD)"
   ]
  },
  {
   "cell_type": "markdown",
   "metadata": {},
   "source": [
    "##### Vous voyez ici un exemple d'utilisation de is_pressed() qui renvoie True si le bouton est pressé au moment ou la méthode est invoquée.\n",
    "\n",
    "<img src=\"Images/warning.png\" alt=\"Attention\" width=5% align=left>\n",
    "\n",
    "L'exemple montre aussi l'utilisation d'une boucle infinie while True et l'utilisation du bouton B pour mettre fin au programme, par appel de l'instruction \"break\" qui permet de sortir de la boucle prématurément.\n",
    "\n",
    "Sur les systèmes embarqués, la plus part des programmes tournent en boucle infinie, attendant un événement quelconque.\n",
    "\n",
    "Exemple : Le portail automatique qui délimite une propriété attend patiemment le retour du propriétaire, comme le chien attend le retour de son maître. Lorsque vous appuyez sur le bouton de la télécommande, l'ouverture se produit car le programme attendait cela depuis un moment (depuis la dernière fermeture) ! Le chien lui, remue la queue parce qu'il est toujours content de voir son maître !"
   ]
  },
  {
   "cell_type": "code",
   "execution_count": null,
   "metadata": {},
   "outputs": [],
   "source": [
    "from microbit import *\n",
    "\n",
    "display.scroll(\"Appuyez sur le bouton A\", delay=200, wait=True)\n",
    "    \n",
    "if button_a.was_pressed():\n",
    "    display.show(Image.HAPPY)\n",
    "else:\n",
    "    display.show(Image.SAD)"
   ]
  },
  {
   "cell_type": "markdown",
   "metadata": {},
   "source": [
    "On utilise ici la commande scroll en mode bloquant (avec wait=True). De ce fait, on ne peut pas détecter l'appui du bouton pendant l'affichage du message avec is_pressed(). was_pressed() permet de savoir si le bouton a bien été appuyé."
   ]
  },
  {
   "cell_type": "code",
   "execution_count": null,
   "metadata": {},
   "outputs": [],
   "source": [
    "help(display)"
   ]
  },
  {
   "cell_type": "markdown",
   "metadata": {},
   "source": [
    "<img src=\"Images/CR.png\" alt=\"logo CR\" width=5% align=right>\n",
    "\n",
    "**Questions :**\n",
    "\n",
    "- Quels sont les rôles des arguments \"delay\" et \"wait\" de la méthode .scroll() ?\n",
    "- Réalisez un programme qui compte le nombre d'appuis sur le bouton poussoir A, et affiche ce nopmbre en scrolling. L'appui sur le bouton poussoir B permet de sortir du programme en affichant au préalable \"Bye-bye\".\n",
    "- Réalisez un second programme qui simule un lancer de dé. L'appui sur le bouton A provoque la génération aléatoire d'un chiffre compris entre 1 et 6. L'opération est très rapide, aussi pour faire durer le suspence, une animation personnelle s'affichera durant 2 à 3 secondes, puis le chiffre généré aléatoirement s'affichera."
   ]
  }
 ],
 "metadata": {
  "kernelspec": {
   "display_name": "Python 3",
   "language": "python",
   "name": "python3"
  },
  "language_info": {
   "codemirror_mode": {
    "name": "ipython",
    "version": 3
   },
   "file_extension": ".py",
   "mimetype": "text/x-python",
   "name": "python",
   "nbconvert_exporter": "python",
   "pygments_lexer": "ipython3",
   "version": "3.7.3"
  },
  "varInspector": {
   "cols": {
    "lenName": 16,
    "lenType": 16,
    "lenVar": 40
   },
   "kernels_config": {
    "python": {
     "delete_cmd_postfix": "",
     "delete_cmd_prefix": "del ",
     "library": "var_list.py",
     "varRefreshCmd": "print(var_dic_list())"
    },
    "r": {
     "delete_cmd_postfix": ") ",
     "delete_cmd_prefix": "rm(",
     "library": "var_list.r",
     "varRefreshCmd": "cat(var_dic_list()) "
    }
   },
   "types_to_exclude": [
    "module",
    "function",
    "builtin_function_or_method",
    "instance",
    "_Feature"
   ],
   "window_display": false
  }
 },
 "nbformat": 4,
 "nbformat_minor": 2
}
