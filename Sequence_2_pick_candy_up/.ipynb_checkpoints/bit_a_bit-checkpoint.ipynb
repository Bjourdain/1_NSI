{
 "cells": [
  {
   "cell_type": "markdown",
   "metadata": {},
   "source": [
    "Les opérations binaires modifient les chaînes binaires au niveau des bits. Ces opérations sont incroyablement simples et sont directement prises en charge par le processeur. Ces quelques opérations sont nécessaires pour travailler avec des pilotes de périphériques, des graphiques bas niveau, la cryptographie et les communications réseau. Cette section fournit des connaissances et des exemples utiles des opérateurs de bits de Python."
   ]
  },
  {
   "cell_type": "markdown",
   "metadata": {},
   "source": [
    "Syntaxe\n",
    "\n",
    "    x << y # Décalage bit à gauche\n",
    "\n",
    "    x >> y # Changement binaire droit\n",
    "\n",
    "    x & y # bit à bit ET\n",
    "\n",
    "    x | y # bit à bit OU\n",
    "\n",
    "    ~ x # bitwise non\n",
    "\n",
    "    x ^ y # bit à bit "
   ]
  },
  {
   "cell_type": "markdown",
   "metadata": {},
   "source": [
    "L'opérateur & exécutera un AND binaire, où un bit est copié s'il existe dans les deux opérandes. Cela signifie: "
   ]
  },
  {
   "cell_type": "code",
   "execution_count": null,
   "metadata": {},
   "outputs": [],
   "source": [
    "# 0 & 0 = 0\n",
    "# 0 & 1 = 0\n",
    "# 1 & 0 = 0\n",
    "# 1 & 1 = 1\n",
    "\n",
    "# 60 = 0b111100\n",
    "# 30 = 0b011110\n",
    "60 & 30\n",
    "# Out: 28\n",
    "# 28 = 0b11100\n",
    "\n",
    "bin(60 & 30)\n",
    "# Out: 0b11100"
   ]
  },
  {
   "cell_type": "markdown",
   "metadata": {},
   "source": [
    "L'opérateur << effectuera un \"décalage vers la gauche\" au niveau du bit, la valeur de l'opérande gauche étant déplacée par le nombre de bits fournis par l'opérande droit. "
   ]
  },
  {
   "cell_type": "code",
   "execution_count": null,
   "metadata": {},
   "outputs": [],
   "source": [
    "# 2 = 0b10\n",
    "2 << 2\n",
    "# Out: 8\n",
    "# 8 = 0b1000\n",
    "\n",
    "bin(2 << 2)\n",
    "# Out: 0b1000"
   ]
  },
  {
   "cell_type": "markdown",
   "metadata": {},
   "source": [
    "L'exécution d'un décalage de 1 gauche équivaut à une multiplication par 2 : "
   ]
  },
  {
   "cell_type": "code",
   "execution_count": null,
   "metadata": {},
   "outputs": [],
   "source": [
    "7 << 1\n",
    "# Out: 14"
   ]
  },
  {
   "cell_type": "markdown",
   "metadata": {},
   "source": [
    "Effectuer un décalage de n de gauche équivaut à une multiplication par 2**n : "
   ]
  },
  {
   "cell_type": "code",
   "execution_count": null,
   "metadata": {},
   "outputs": [],
   "source": [
    "3 << 4\n",
    "# Out: 48"
   ]
  },
  {
   "cell_type": "markdown",
   "metadata": {},
   "source": [
    "Le | l'opérateur effectuera un \"ou\" binaire où un bit est copié s'il existe dans l'un des opérandes. Cela signifie: "
   ]
  },
  {
   "cell_type": "code",
   "execution_count": null,
   "metadata": {},
   "outputs": [],
   "source": [
    "# 0 | 0 = 0\n",
    "# 0 | 1 = 1 \n",
    "# 1 | 0 = 1\n",
    "# 1 | 1 = 1\n",
    "\n",
    "# 60 = 0b111100 \n",
    "# 30 = 0b011110\n",
    "60 | 30\n",
    "# Out: 62\n",
    "# 62 = 0b111110\n",
    "\n",
    "bin(60 | 30)\n",
    "# Out: 0b111110"
   ]
  },
  {
   "cell_type": "markdown",
   "metadata": {},
   "source": [
    "L'opérateur >> effectuera un \"décalage à droite\" au niveau du bit, où la valeur de l'opérande gauche est déplacée vers la droite par le nombre de bits fournis par l'opérande droit. "
   ]
  },
  {
   "cell_type": "code",
   "execution_count": null,
   "metadata": {},
   "outputs": [],
   "source": [
    "# 8 = 0b1000\n",
    "8 >> 2\n",
    "# Out: 2\n",
    "# 2 = 0b10\n",
    "\n",
    "bin(8 >> 2)\n",
    "# Out: 0b10"
   ]
  },
  {
   "cell_type": "markdown",
   "metadata": {},
   "source": [
    "L'exécution d'un décalage de 1 droite équivaut à une division entière par 2 : "
   ]
  },
  {
   "cell_type": "code",
   "execution_count": null,
   "metadata": {},
   "outputs": [],
   "source": [
    "36 >> 1\n",
    "# Out: 18\n",
    "\n",
    "15 >> 1\n",
    "# Out: 7"
   ]
  },
  {
   "cell_type": "markdown",
   "metadata": {},
   "source": [
    "Effectuer un décalage de bit droit de n est équivalent à une division entière de 2**n : "
   ]
  },
  {
   "cell_type": "code",
   "execution_count": null,
   "metadata": {},
   "outputs": [],
   "source": [
    "48 >> 4\n",
    "# Out: 3\n",
    "\n",
    "59 >> 3\n",
    "# Out: 7"
   ]
  },
  {
   "cell_type": "markdown",
   "metadata": {},
   "source": [
    "L'opérateur ^ exécutera un XOR binaire dans lequel un binaire 1 est copié si et seulement si c'est la valeur de exactement un opérande. Une autre manière de dire ceci est que le résultat est 1 seulement si les opérandes sont différents. Les exemples comprennent: "
   ]
  },
  {
   "cell_type": "code",
   "execution_count": null,
   "metadata": {},
   "outputs": [],
   "source": [
    "# 0 ^ 0 = 0\n",
    "# 0 ^ 1 = 1\n",
    "# 1 ^ 0 = 1\n",
    "# 1 ^ 1 = 0\n",
    "\n",
    "# 60 = 0b111100\n",
    "# 30 = 0b011110\n",
    "60 ^ 30\n",
    "# Out: 34\n",
    "# 34 = 0b100010\n",
    "\n",
    "bin(60 ^ 30)\n",
    "# Out: 0b100010"
   ]
  },
  {
   "cell_type": "markdown",
   "metadata": {},
   "source": [
    " L'opérateur ~ retournera tous les bits du numéro. Puisque les ordinateurs utilisent des représentations de nombres signés - plus particulièrement, la notation de complément à deux pour encoder des nombres binaires négatifs où les nombres négatifs sont écrits avec un premier (1) au lieu d'un zéro initial (0).\n",
    "\n",
    "Cela signifie que si vous utilisiez 8 bits pour représenter vos deux nombres complémentaires, vous traiteriez les modèles de 0000 0000 à 0111 1111 pour représenter les nombres de 0 à 127 et réserver 1xxx xxxx pour représenter les nombres négatifs. "
   ]
  },
  {
   "cell_type": "markdown",
   "metadata": {},
   "source": [
    " Essentiellement, cela signifie que 1010 0110 a une valeur non signée de 166 (obtenue en ajoutant (128 * 1) + (64 * 0) + (32 * 1) + (16 * 0) + (8 * 0) + (4 * 1) + (2 * 1) + (1 * 0) ), il a une valeur de complément à deux de -90 (obtenue en ajoutant (128 * 1) - (64 * 0) - (32 * 1) - (16 * 0) - (8 * 0) - (4 * 1) - (2 * 1) - (1 * 0) , et en complément de la valeur).\n",
    "\n",
    "De cette manière, les nombres négatifs sont réduits à -128 ( 1000 0000 ). Zéro (0) est représenté par 0000 0000 et moins un (-1) que 1111 1111 .\n",
    "\n",
    "En général, cependant, cela signifie ~n = -n - 1 . "
   ]
  },
  {
   "cell_type": "code",
   "execution_count": null,
   "metadata": {},
   "outputs": [],
   "source": [
    "# 0 = 0b0000 0000\n",
    "~0\n",
    "# Out: -1\n",
    "# -1 = 0b1111 1111\n",
    "    \n",
    "# 1 = 0b0000 0001\n",
    "~1\n",
    "# Out: -2\n",
    "# -2 = 1111 1110\n",
    "\n",
    "# 2 = 0b0000 0010\n",
    "~2\n",
    "# Out: -3\n",
    "# -3 = 0b1111 1101\n",
    "\n",
    "# 123 = 0b0111 1011\n",
    "~123\n",
    "# Out: -124\n",
    "# -124 = 0b1000 0100"
   ]
  },
  {
   "cell_type": "markdown",
   "metadata": {},
   "source": [
    " Notez que l'effet global de cette opération, appliqué aux nombres positifs, peut être résumé:\n",
    "\n",
    "    ~n -> -|n+1|\n",
    "\n",
    "Et puis, appliqué aux nombres négatifs, l'effet correspondant est:\n",
    "\n",
    "    ~-n -> |n-1|\n",
    "\n",
    "Les exemples suivants illustrent cette dernière règle ... "
   ]
  },
  {
   "cell_type": "code",
   "execution_count": null,
   "metadata": {},
   "outputs": [],
   "source": [
    "# -0 = 0b0000 0000\n",
    "~-0\n",
    "# Out: -1 \n",
    "# -1 = 0b1111 1111\n",
    "# 0 is the obvious exception to this rule, as -0 == 0 always\n",
    "    \n",
    "# -1 = 0b1000 0001\n",
    "~-1\n",
    "# Out: 0\n",
    "# 0 = 0b0000 0000\n",
    "\n",
    "# -2 = 0b1111 1110\n",
    "~-2\n",
    "# Out: 1\n",
    "# 1 = 0b0000 0001\n",
    "\n",
    "# -123 = 0b1111 1011\n",
    "~-123\n",
    "# Out: 122\n",
    "# 122 = 0b0111 1010"
   ]
  },
  {
   "cell_type": "markdown",
   "metadata": {},
   "source": [
    "Opérations bit à bit\n",
    "\n",
    "Les langages de haut niveau (dont Python) permettent d'aller travailler au niveau du bit grâce aux opérations bit à bit (bitwise).\n",
    "\n",
    "En règle générale, ces opérations sont plutôt utilisées dans la programmation bas niveau ou embarquée (c'est notre cas). Pour des langages proches de la machine, ce sont des opérations très rapides."
   ]
  },
  {
   "cell_type": "markdown",
   "metadata": {},
   "source": [
    "Opérateurs binaires\n",
    "\n",
    "Deux catégories d'opérations permettent de travailler au niveau des bits : les instructions logiques et de décalage.\n",
    "\n",
    "Instructions logiques\n",
    "\n",
    "Les instructions logiques sont basées sur l'algèbre de Boole et ses tables de vérité :\n",
    "Variables \tOR \tXOR \tAND \tNOT\n",
    "x \ty \tx | y \tx ^ y \tx & y \t~x\n",
    "0 \t0 \t  0 \t  0 \t  0 \t 1\n",
    "0 \t1 \t  1 \t  1       0 \t 1\n",
    "1 \t0 \t  1 \t  1 \t  0 \t 0\n",
    "1 \t1 \t  1       0       1 \t 0\n",
    "\n",
    "OR (|) est le OU inclusif qui signifie que l'une ou l'autre des affirmations, ou toutes, sont vraies.\n",
    "\n",
    "XOR (^) est le OU exclusif, c'est à dire fromage ou dessert mais pas les deux à la fois.\n",
    "\n",
    "AND (&), OR (|) et XOR (^) prennent deux opérandes et font une comparaison bit par bit à chacun des emplacements (comme une opération manuelle).\n",
    "\n",
    "NOT (~) inverse les bits et c'est le seul opérateur qui prend un seul opérande, on parle d'opérateur unaire.\n",
    "\n",
    "Instructions de décalage\n",
    "\n",
    "Les instructions de décalage de bits déplacent littéralement les bits vers la gauche x << n ou vers la droite x >> n d'un nombre n de rangs.\n",
    "\n",
    "Pendant ces déplacements, certains bits sont inconnus, ce qui laisse des places vides qu'il faut combler : ils sont remplis avec des zéros par décalage arithmétique en préservant le signe.\n",
    "\n",
    "Le décalage à gauche est équivalent à une multiplication par une puissance de 2, exactement comme si en base 10 on décalait tout à gauche en ajoutant deux 0 à la fin : ça reviendrait à multiplier par 102.\n",
    "\n",
    "Le décalage à droite est équivalent à une division par une puissance de 2."
   ]
  },
  {
   "cell_type": "markdown",
   "metadata": {},
   "source": [
    "Opérations usuelles sur les bits\n",
    "\n",
    "Les opérations suivantes sont une bonne introduction pour voir ce que l'on peut faire avec les instructions bit à bit.\n",
    "\n",
    "Elles ont pour point commun d'utiliser des masques binaires.\n",
    "\n",
    "Masques binaires\n",
    "Les plus simples sont composés :\n",
    "\n",
    "    d'une série de bits à 0 et d'un seul bit à 1 à une position spécifique : 10000\n",
    "    d'une série de bits à 1 et d'un seul bit à 0 à une position spécifique : 01111 (masque inversé)\n",
    "\n",
    "Pour créer un masque on se sert de l'opérateur de décalage vers la gauche qui va pousser notre 1 en remplissant avec des 0."
   ]
  },
  {
   "cell_type": "markdown",
   "metadata": {},
   "source": [
    "Forcer le nième bit à 1\n",
    "\n",
    "On utilise un masque qui indique la position du bit à mettre à 1.\n",
    "\n",
    "On fait un OR (|) entre le nombre et le masque pour que le bit indiqué par le masque devienne 1 quelle que soit sa valeur initiale (c.f. table de vérité) :"
   ]
  },
  {
   "cell_type": "markdown",
   "metadata": {},
   "source": [
    "Forcer le nième bit à 0\n",
    "\n",
    "On utilise un masque inversé qui indique la position du bit à mettre à 0.\n",
    "\n",
    "On fait un AND (&) entre le nombre et le masque pour que le bit indiqué par le masque devienne 0 quelle que soit sa valeur initiale (c.f. table de vérité) :Trouver la valeur du nième bit\n",
    "\n",
    "On utilise un masque qui indique la position du bit dont on veut trouver la valeur.\n",
    "\n",
    "On fait un AND (&) entre le nombre et le masque.\n",
    "\n",
    "D'après la table de vérité, si le résultat de l'opération n'est pas 0, alors c'est que le bit à la position donnée vaut 1 :"
   ]
  },
  {
   "cell_type": "markdown",
   "metadata": {},
   "source": [
    "Trouver la valeur du nième bit\n",
    "\n",
    "On utilise un masque qui indique la position du bit dont on veut trouver la valeur.\n",
    "\n",
    "On fait un AND (&) entre le nombre et le masque.\n",
    "\n",
    "D'après la table de vérité, si le résultat de l'opération n'est pas 0, alors c'est que le bit à la position donnée vaut 1 :"
   ]
  },
  {
   "cell_type": "markdown",
   "metadata": {},
   "source": [
    "Mettre à jour le nième bit\n",
    "\n",
    "On commence par forcer le nième bit à 0 (c.f. technique précédente).\n",
    "\n",
    "Ensuite on se sert d'un autre masque dont le nième bit est 1 ou 0 en fonction de la valeur que l'on souhaite mettre à jour.\n",
    "\n",
    "Il ne reste plus qu'à faire un OR (|) entre le nombre avec le nième bit forcé à 0 et le masque de la nouvelle valeur (c.f. table de vérité) :"
   ]
  },
  {
   "cell_type": "markdown",
   "metadata": {},
   "source": [
    "https://fr.wikibooks.org/wiki/Les_op%C3%A9rations_bit_%C3%A0_bit"
   ]
  }
 ],
 "metadata": {
  "kernelspec": {
   "display_name": "Python 3",
   "language": "python",
   "name": "python3"
  },
  "language_info": {
   "codemirror_mode": {
    "name": "ipython",
    "version": 3
   },
   "file_extension": ".py",
   "mimetype": "text/x-python",
   "name": "python",
   "nbconvert_exporter": "python",
   "pygments_lexer": "ipython3",
   "version": "3.7.3"
  },
  "varInspector": {
   "cols": {
    "lenName": 16,
    "lenType": 16,
    "lenVar": 40
   },
   "kernels_config": {
    "python": {
     "delete_cmd_postfix": "",
     "delete_cmd_prefix": "del ",
     "library": "var_list.py",
     "varRefreshCmd": "print(var_dic_list())"
    },
    "r": {
     "delete_cmd_postfix": ") ",
     "delete_cmd_prefix": "rm(",
     "library": "var_list.r",
     "varRefreshCmd": "cat(var_dic_list()) "
    }
   },
   "types_to_exclude": [
    "module",
    "function",
    "builtin_function_or_method",
    "instance",
    "_Feature"
   ],
   "window_display": false
  }
 },
 "nbformat": 4,
 "nbformat_minor": 2
}
