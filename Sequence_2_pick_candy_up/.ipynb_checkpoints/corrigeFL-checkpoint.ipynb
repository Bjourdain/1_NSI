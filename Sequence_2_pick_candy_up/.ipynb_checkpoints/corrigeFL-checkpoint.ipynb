{
 "cells": [
  {
   "cell_type": "code",
   "execution_count": null,
   "metadata": {},
   "outputs": [],
   "source": [
    "from microbit import *\n",
    "while True:\n",
    "    if not(button_a.is_pressed() and button_b.is_pressed()):\n",
    "        display.show(Image.YES)\n",
    "    else:\n",
    "        display.show(Image.NO)"
   ]
  },
  {
   "cell_type": "code",
   "execution_count": null,
   "metadata": {},
   "outputs": [],
   "source": [
    "from microbit import *\n",
    "while True:\n",
    "    if not(button_a.is_pressed() or button_b.is_pressed()):\n",
    "        display.show(Image.YES)\n",
    "    else:\n",
    "        display.show(Image.NO)"
   ]
  },
  {
   "cell_type": "code",
   "execution_count": null,
   "metadata": {},
   "outputs": [],
   "source": [
    "from microbit import *\n",
    "while True:\n",
    "    if not(button_a.is_pressed()) and not(button_b.is_pressed()):\n",
    "        display.show(Image.YES)\n",
    "    else:\n",
    "        display.show(Image.NO)"
   ]
  },
  {
   "cell_type": "code",
   "execution_count": null,
   "metadata": {},
   "outputs": [],
   "source": [
    "from microbit import *\n",
    "while True:\n",
    "    if not(button_a.is_pressed()) or not(button_b.is_pressed()):\n",
    "        display.show(Image.YES)\n",
    "    else:\n",
    "        display.show(Image.NO)"
   ]
  },
  {
   "cell_type": "markdown",
   "metadata": {},
   "source": [
    "**1er cas** : Je veux mettre à 0 le bit 4 pour éteindre la DEL\n",
    "\n",
    "|    |     |    |\n",
    "|:---:|:---:|:---:|\n",
    "|  Donnée  |  XXXX XXXX |\n",
    "|  Fonc. ET  |    |\n",
    "|  Masque  |  1110 1111 |\n",
    "|  Résultat  |XXX0 XXXX    |\n",
    "\n",
    "|  Masque  |  Donnée  |  Résultat  | |\n",
    "|:---:|:---:|:---:|:---:|\n",
    "|  0  |  0  |  0   |0\n",
    "|  0  |  1  |  0   |0\n",
    "|  1  |  0  |  0   |X\n",
    "|  1  |  1  |  1   |X"
   ]
  },
  {
   "cell_type": "markdown",
   "metadata": {},
   "source": [
    "**2ème cas** : Je veux mettre à 1 le bit 4 pour allumer la DEL\n",
    "\n",
    "|    |     |    |\n",
    "|:---:|:---:|:---:|\n",
    "|  Donnée  |  XXXX XXXX |\n",
    "|  Fonc. OU  |    |\n",
    "|  Masque  |  0001 0000 |\n",
    "|  Résultat  | XXX1 XXXX    |\n",
    "\n",
    "|  Masque  |  Donnée  |  Résultat  | |\n",
    "|:---:|:---:|:---:|:---:|\n",
    "|  0  |  0  |  0   |X\n",
    "|  0  |  1  |  1   |X\n",
    "|  1  |  0  |  1   |1\n",
    "|  1  |  1  |  1   |1"
   ]
  },
  {
   "cell_type": "markdown",
   "metadata": {},
   "source": [
    "**3ème cas** : Je veux inverser l'état du bit 4 pour éteindre la DEL si allumée, l'allumer si elle est éteinte\n",
    "\n",
    "|    |     |    |\n",
    "|:---:|:---:|:---:|\n",
    "|  Donnée  |  XXXX XXXX |\n",
    "|  Fonc. XOR  |    |\n",
    "|  Masque  |  0001 0000 |\n",
    "|  Résultat  |$$XXX\\bar{X}  XXXX   $$ |\n",
    "\n",
    "|  Masque  |  Donnée  |  Résultat  | |\n",
    "|:---:|:---:|:---:|:---:|\n",
    "|  0  |  0  |  0   |X\n",
    "|  0  |  1  |  1   |X\n",
    "|  1  |  0  |  1   |$$\\bar{X}$$\n",
    "|  1  |  1  |  0   |$$\\bar{X}$$"
   ]
  },
  {
   "cell_type": "code",
   "execution_count": null,
   "metadata": {},
   "outputs": [],
   "source": []
  }
 ],
 "metadata": {
  "kernelspec": {
   "display_name": "Python 3",
   "language": "python",
   "name": "python3"
  },
  "language_info": {
   "codemirror_mode": {
    "name": "ipython",
    "version": 3
   },
   "file_extension": ".py",
   "mimetype": "text/x-python",
   "name": "python",
   "nbconvert_exporter": "python",
   "pygments_lexer": "ipython3",
   "version": "3.7.3"
  },
  "varInspector": {
   "cols": {
    "lenName": 16,
    "lenType": 16,
    "lenVar": 40
   },
   "kernels_config": {
    "python": {
     "delete_cmd_postfix": "",
     "delete_cmd_prefix": "del ",
     "library": "var_list.py",
     "varRefreshCmd": "print(var_dic_list())"
    },
    "r": {
     "delete_cmd_postfix": ") ",
     "delete_cmd_prefix": "rm(",
     "library": "var_list.r",
     "varRefreshCmd": "cat(var_dic_list()) "
    }
   },
   "types_to_exclude": [
    "module",
    "function",
    "builtin_function_or_method",
    "instance",
    "_Feature"
   ],
   "window_display": false
  }
 },
 "nbformat": 4,
 "nbformat_minor": 2
}
