{
 "cells": [
  {
   "cell_type": "markdown",
   "metadata": {},
   "source": [
    "# <center><font face=\"arial\" size=\"5\" color=#0101DF>NUMERIQUE ET SCIENCES INFORMATIQUES 1ère NSI</font></center>"
   ]
  },
  {
   "cell_type": "markdown",
   "metadata": {},
   "source": [
    "## <font color=#013ADF>Séquence N° 8 : document de formation pour le traitement de données en table</font>"
   ]
  },
  {
   "cell_type": "markdown",
   "metadata": {},
   "source": [
    "<div class=\"alert alert-danger\" role=\"alert\">\n",
    "    \n",
    "Vous allez découvrir ici quelques fonctions built-in de python qui peuvent vous être utiles pour réaliser les traitements sur les données en table.\n"
   ]
  },
  {
   "cell_type": "markdown",
   "metadata": {},
   "source": [
    "### 1- La fonction zip"
   ]
  },
  {
   "cell_type": "code",
   "execution_count": null,
   "metadata": {},
   "outputs": [],
   "source": [
    "l1 = [4,7,1,9]\n",
    "l2 = ['a','b','c','d']\n",
    "for i,j in zip(l1,l2):\n",
    "    print (i,j)"
   ]
  },
  {
   "cell_type": "code",
   "execution_count": null,
   "metadata": {},
   "outputs": [],
   "source": [
    "l1 = [4,7,1,9]\n",
    "l2 = ['a','b']\n",
    "for i,j in zip(l1,l2):\n",
    "    print (i,j)"
   ]
  },
  {
   "cell_type": "code",
   "execution_count": null,
   "metadata": {},
   "outputs": [],
   "source": [
    "l1 = [4,7,1,9]\n",
    "l2 = [6,2,3,1]\n",
    "for i,j in zip(l1,l2):\n",
    "    print (i+j)"
   ]
  },
  {
   "cell_type": "code",
   "execution_count": null,
   "metadata": {},
   "outputs": [],
   "source": [
    "l1 = [4,7,1,9]\n",
    "l2 = ['a','b','c','d']\n",
    "dico={j:i for i,j in zip(l1,l2)}\n",
    "print(dico)"
   ]
  },
  {
   "cell_type": "markdown",
   "metadata": {},
   "source": [
    "<div class=\"alert alert-warning\">\n",
    "<img src=\"Images/CR.png\" alt=\"logo CR\" width=5% align=right>\n",
    "\n",
    "Expliquez ici ce que réalise cette fonction ?\n"
   ]
  },
  {
   "cell_type": "markdown",
   "metadata": {},
   "source": [
    "### 2- La fonction filter"
   ]
  },
  {
   "cell_type": "code",
   "execution_count": null,
   "metadata": {},
   "outputs": [],
   "source": [
    "def pair(x):\n",
    "    return x%2==0\n",
    "\n",
    "ma_liste = range(10)\n",
    "new_liste=filter(pair, ma_liste)\n",
    "for x in new_liste:\n",
    "    print(x,end=\" \")\n",
    "\n",
    "# Notons que l'on pourrez faire :\n",
    "new_liste=[x for x in range(10) if x%2==0]"
   ]
  },
  {
   "cell_type": "code",
   "execution_count": null,
   "metadata": {},
   "outputs": [],
   "source": [
    "def sup50(x):\n",
    "    return x>50\n",
    "\n",
    "ma_liste=[12,51,66,25,4]\n",
    "new_liste=filter(sup50,ma_liste)\n",
    "for x in new_liste:\n",
    "    print(x,end=\" \")\n",
    "\n",
    "# De même\n",
    "new_liste=[x for x in ma_liste if x>50]\n",
    "print(new_liste)"
   ]
  },
  {
   "cell_type": "markdown",
   "metadata": {},
   "source": [
    "<div class=\"alert alert-warning\">\n",
    "<img src=\"Images/CR.png\" alt=\"logo CR\" width=5% align=right>\n",
    "\n",
    "Expliquez ici ce que réalise cette fonction ?\n"
   ]
  },
  {
   "cell_type": "markdown",
   "metadata": {},
   "source": [
    "### 3- La fonction sorted"
   ]
  },
  {
   "cell_type": "markdown",
   "metadata": {},
   "source": [
    "La syntaxe de sorted est la suivante :\n",
    "\n",
    "sorted(iterable, key=None, reverse=False)\n",
    "\n",
    "L'argument \"iterable\" est obligatoire, c'est celui qu'il faut trier. Ce peut être une chaîne de caractères, une liste, un dictionnaire, un tuple ...\n",
    "\n",
    "L'argument \"key\" est optionnel. C'est un critère qui permet de personnaliser le tri.\n",
    "\n",
    "L'argument \"reverse\" est également optionnel, il permet d'inverser l'ordre du tri (croissant, décroissant).\n"
   ]
  },
  {
   "cell_type": "code",
   "execution_count": null,
   "metadata": {},
   "outputs": [],
   "source": [
    "l1 = [4,7,1,9]\n",
    "l2 = ['a','b','c','d']\n",
    "\n",
    "print(sorted(l2, reverse=True))\n",
    "print(sorted(l1))"
   ]
  },
  {
   "cell_type": "code",
   "execution_count": null,
   "metadata": {},
   "outputs": [],
   "source": [
    "dico={'a': 4, 'ab': 7, 'abc': 1, 'abcd': 9}\n",
    "\n",
    "print(sorted(dico, key=len, reverse=True))\n",
    "print(sorted(dico))\n"
   ]
  },
  {
   "cell_type": "code",
   "execution_count": null,
   "metadata": {},
   "outputs": [],
   "source": [
    "# Trie une liste d'entiers en fonction\n",
    "# du reste de la division  par 7 \n",
    "  \n",
    "def function(x): \n",
    "    return x % 7\n",
    "  \n",
    "liste = [15, 3, 11, 7] \n",
    "  \n",
    "print (\"Tri par defaut :\", sorted(liste) )\n",
    "print (\"Tri avec pour critère la clé:\", sorted(liste, key = function) )\n"
   ]
  },
  {
   "cell_type": "markdown",
   "metadata": {},
   "source": [
    "### 4- La fonction eval"
   ]
  },
  {
   "cell_type": "code",
   "execution_count": null,
   "metadata": {},
   "outputs": [],
   "source": [
    "\"\"\"\n",
    "La fonction eval() nous permet d’exécuter des chaînes de\n",
    "caractères en tant qu' instruction Python. Elle accepte\n",
    "une chaîne de caractère et retourne un objet.\n",
    "\"\"\"\n",
    "eval(\"2 > 1\")"
   ]
  },
  {
   "cell_type": "code",
   "execution_count": null,
   "metadata": {},
   "outputs": [],
   "source": [
    "eval(\"sum([1,2,3])\")"
   ]
  },
  {
   "cell_type": "code",
   "execution_count": null,
   "metadata": {},
   "outputs": [],
   "source": [
    "eval('\"bonjour\".upper()')"
   ]
  },
  {
   "cell_type": "markdown",
   "metadata": {},
   "source": [
    "### 5- Les fonctions lambda"
   ]
  },
  {
   "cell_type": "markdown",
   "metadata": {},
   "source": [
    "Les lambdas Python sont de petites fonctions anonymes, soumises à une syntaxe plus restrictive mais plus concise que les fonctions Python classiques. La syntaxe est la suivante :\n",
    "\n",
    "**lambda arguments:expression**"
   ]
  },
  {
   "cell_type": "code",
   "execution_count": null,
   "metadata": {},
   "outputs": [],
   "source": [
    "# Ce que nous savons faire :\n",
    "def additionne(a,b,c):\n",
    "    return a+b+c\n",
    "\n",
    "resultat = additionne(10, 10, 10)\n",
    "print(result)"
   ]
  },
  {
   "cell_type": "code",
   "execution_count": null,
   "metadata": {},
   "outputs": [],
   "source": [
    "# Ce que nous pourrions faire\n",
    "additionne = lambda a, b, c: a + b + c\n",
    "print(additionne(10, 10, 10))"
   ]
  }
 ],
 "metadata": {
  "kernelspec": {
   "display_name": "Python 3",
   "language": "python",
   "name": "python3"
  },
  "language_info": {
   "codemirror_mode": {
    "name": "ipython",
    "version": 3
   },
   "file_extension": ".py",
   "mimetype": "text/x-python",
   "name": "python",
   "nbconvert_exporter": "python",
   "pygments_lexer": "ipython3",
   "version": "3.7.3"
  },
  "varInspector": {
   "cols": {
    "lenName": 16,
    "lenType": 16,
    "lenVar": 40
   },
   "kernels_config": {
    "python": {
     "delete_cmd_postfix": "",
     "delete_cmd_prefix": "del ",
     "library": "var_list.py",
     "varRefreshCmd": "print(var_dic_list())"
    },
    "r": {
     "delete_cmd_postfix": ") ",
     "delete_cmd_prefix": "rm(",
     "library": "var_list.r",
     "varRefreshCmd": "cat(var_dic_list()) "
    }
   },
   "types_to_exclude": [
    "module",
    "function",
    "builtin_function_or_method",
    "instance",
    "_Feature"
   ],
   "window_display": false
  }
 },
 "nbformat": 4,
 "nbformat_minor": 2
}
