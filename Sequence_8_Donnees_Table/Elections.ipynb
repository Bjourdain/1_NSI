{
 "cells": [
  {
   "cell_type": "markdown",
   "metadata": {},
   "source": [
    "# <center><font face=\"arial\" size=\"5\" color=#0101DF>NUMERIQUE ET SCIENCES INFORMATIQUES 1ère NSI</font></center>"
   ]
  },
  {
   "cell_type": "markdown",
   "metadata": {},
   "source": [
    "## <font color=#013ADF>Séquence N° 8 : Traitement de données en table</font>"
   ]
  },
  {
   "cell_type": "markdown",
   "metadata": {},
   "source": [
    "<div class=\"alert alert-danger\" role=\"alert\">\n",
    "    \n",
    "Les objectifs de cette séquence sont :\n",
    "- d'importer une table depuis un fichier CSV ;\n",
    "- rechercher des enregistrements vérifiants des critères ;\n",
    "- trier une table selon un attribut ;\n",
    "- construire une nouvelle table en combinant les données de 2 tables.\n",
    "<div>"
   ]
  },
  {
   "cell_type": "markdown",
   "metadata": {},
   "source": [
    "### 1- L'OpenData"
   ]
  },
  {
   "cell_type": "markdown",
   "metadata": {},
   "source": [
    "<div class=\"alert alert-success\" role=\"alert\">\n",
    "\n",
    "Les données que nous allons utilisées sont disponibles sur Internet sans aucune condition d'accès : c'est l'OpenData.\n",
    "\n",
    "Pour en savoir un peu plus : https://youtu.be/aHxv_2BMJfw\n",
    "\n",
    "Quelques sites plus ou moins prôche de nous :\n",
    "\n",
    "https://www.data.gouv.fr/fr/organizations/brest-metropole-oceane/\n",
    "\n",
    "https://opendata.finistere.fr/explore/?sort=modified\n",
    "\n",
    "https://www.data.gouv.fr/fr/posts/les-donnees-des-elections/\n",
    "\n",
    "Les données sur lesquelles nous allons travailler, sont issues de ce dernier site. Elles concernent les résultats du premier tour des élections présidentielles 2017.\n",
    "<div>"
   ]
  },
  {
   "cell_type": "markdown",
   "metadata": {},
   "source": [
    "### 2- L'étude"
   ]
  },
  {
   "cell_type": "markdown",
   "metadata": {},
   "source": [
    "**Problématique** : Les conditions de remboursement des frais de campagne électorale dépendent du score du candidat. Trois cas de figure sont possibles :\n",
    "\n",
    "- Le candidat est éliminé à l’issue du premier tour et obtient **moins de 5 % des suffrages exprimés** : ce dernier peut alors prétendre à un remboursement de ses frais de campagne à hauteur de 4,75 % du montant du plafond de dépenses autorisé, soit une somme de 800 423 euros.\n",
    "- Le candidat est éliminé à l’issue du premier tour, mais obtient **plus de 5 % des suffrages exprimés** : le candidat peut prétendre à un remboursement de ses frais de campagne à hauteur de 47,5 % du montant du plafond de dépenses autorisé, soit une somme de 8 004 225 euros.\n",
    "- Le candidat est qualifié pour le second tour de l’élection : le candidat peut alors prétendre à un remboursement de ses frais de campagne à hauteur de 47,5 % du montant du plafond spécifique aux candidats du second tour, soit une somme de 10 691 775 euros.\n",
    "\n",
    "**On souhaite connaître la somme à rembourser à chaque candidat non-qualifé au second tour de l'élection présidentielle de 2017.**\n",
    "\n",
    "Pour plus de détails : https://www.interieur.gouv.fr/Archives/Archives-elections/Election-presidentielle-2017/Election-presidentielle-2017-le-financement-de-la-campagne\n",
    "\n",
    "On dispose pour ce travail, de **3 tables (relations)**.\n",
    "\n",
    "### Répartition des votes (repartition_votes.csv)\n",
    "\n",
    "![](Images/table_def.png)\n",
    "Exprimés = Votants - (Blanc + Nuls)\n",
    "\n",
    "### Répartition pour la Métropole (Presidentielle_metropole.csv)\n",
    "\n",
    "| **Candidat**             | **Voix** | **%_ins** | **%_exp** |\n",
    "| ------------------------ | -------- | --------- | --------- |\n",
    "| M. DUPONT-AIGNAN Nicolas | 1665507  | 3,75      | 4,8       |\n",
    "| Mme LE PEN Marine        | 7465123  | 16,8      | 21,52     |\n",
    "| M. MACRON Emmanuel       | 8267074  | 18,6      | 23,83     |\n",
    "| M. HAMON Benoît          | 2189394  | 4,93      | 6,31      |\n",
    "| Mme ARTHAUD Nathalie     | 219219   | 0,49      | 0,63      |\n",
    "| M. POUTOU Philippe       | 376935   | 0,85      | 1,09      |\n",
    "| M. CHEMINADE Jacques     | 62166    | 0,14      | 0,18      |\n",
    "| M. LASSALLE Jean         | 427564   | 0,96      | 1,23      |\n",
    "| M. MÉLENCHON Jean-Luc    | 6803933  | 15,31     | 19,61     |\n",
    "| M. ASSELINEAU François   | 313831   | 0,71      | 0,9       |\n",
    "| M. FILLON François       | 6899161  | 15,52     | 19,89     |\n",
    "\n",
    "### Répartition pour les départements d'Outre-mer (Presidentielle_outre-mer.csv)\n",
    "\n",
    "| **Candidat**             | **Voix** | **%_ins** | **%_exp** |\n",
    "| ------------------------ | -------- | --------- | --------- |\n",
    "| M. DUPONT-AIGNAN Nicolas | 20656    | 1,1       | 2,55      |\n",
    "| Mme LE PEN Marine        | 177442   | 9,46      | 21,9      |\n",
    "| M. MACRON Emmanuel       | 165393   | 8,82      | 20,41     |\n",
    "| M. HAMON Benoît          | 63802    | 3,4       | 7,87      |\n",
    "| Mme ARTHAUD Nathalie     | 11853    | 0,63      | 1,46      |\n",
    "| M. POUTOU Philippe       | 14156    | 0,76      | 1,75      |\n",
    "| M. CHEMINADE Jacques     | 2390     | 0,13      | 0,29      |\n",
    "| M. LASSALLE Jean         | 5207     | 0,28      | 0,64      |\n",
    "| M. MÉLENCHON Jean-Luc    | 168326   | 8,98      | 20,77     |\n",
    "| M. ASSELINEAU François   | 13138    | 0,7       | 1,62      |\n",
    "| M. FILLON François       | 168005   | 8,96      | 20,73     |"
   ]
  },
  {
   "cell_type": "markdown",
   "metadata": {},
   "source": [
    "<div class=\"alert alert-warning\">\n",
    "<img src=\"Images/CR.png\" alt=\"logo CR\" width=5% align=right>\n",
    "\n",
    "> Si vous deviez répondre à la problématique sans utiliser l'informatique, quelle serait votre démarche ?\n",
    "<div>"
   ]
  },
  {
   "cell_type": "markdown",
   "metadata": {},
   "source": [
    "#### 2-1- Chargement des données"
   ]
  },
  {
   "cell_type": "markdown",
   "metadata": {},
   "source": [
    "Les données à manipuler sont dans 3 fichiers de type CSV. Nous allons les traiter de **2 manières différentes** :\n",
    "\n",
    "- En ce qui concerne les fichiers \"Presidentielle_metropole\" et \"Presidentielle_outre-mer\", la fonction doit renvoyer une liste de dictionnaires non ordonnés."
   ]
  },
  {
   "cell_type": "code",
   "execution_count": null,
   "metadata": {},
   "outputs": [],
   "source": [
    "import csv\n",
    "\n",
    "def lecture_fichier(fichier):\n",
    "    \"\"\"\n",
    "    La fonction lit un fichier CSV et génère un dictionnaire\n",
    "    dont les clés sont extraites de la première ligne du fichier\n",
    "    \n",
    "    Entrée :    Un fichier texte. Chaque ligne comporte les valeurs\n",
    "                séparée par des virgules.\n",
    "                La première ligne contient le nom des attributs\n",
    "    Sortie :    une liste de dictionnaires non ordonnés\n",
    "    \"\"\"\n",
    "    with open(fichier) as csv_file:\n",
    "        lecteur= csv.DictReader(csv_file, delimiter=',')\n",
    "        return [dict(ligne) for ligne in lecteur] # conversion des dictionnaires ordonnés en dictionnaires"
   ]
  },
  {
   "cell_type": "code",
   "execution_count": null,
   "metadata": {},
   "outputs": [],
   "source": [
    "print(lecture_fichier('Presidentielle_metropole.csv'))"
   ]
  },
  {
   "cell_type": "markdown",
   "metadata": {},
   "source": [
    "- En ce qui concerne le fichier \"Repartition_votes\", la fonction est un peu particulière car après avoir lut le fichier, elle renvoie le nombre de suffrages exprimés. En effet, les autres informations ne nous sont pas utiles."
   ]
  },
  {
   "cell_type": "code",
   "execution_count": null,
   "metadata": {},
   "outputs": [],
   "source": [
    "import csv\n",
    "\n",
    "def lecture_repartition(fichier) :\n",
    "    \"\"\"\n",
    "    La fonction lit le fichier csv et calcule le nombre d'inscrits\n",
    "    Entrée : fichier csv\n",
    "    Sortie : nombre de suffrages exprimés de type entier\n",
    "    \"\"\"\n",
    "    with open(fichier) as csv_file:\n",
    "        liste= list(csv.reader(csv_file, delimiter=',')) # Récupération d'une liste de liste\n",
    "        exprimes=liste.pop(-1) # Récupération de la dernière liste\n",
    "    return (int(exprimes[1])+int(exprimes[2])) # Renvoi du nombre de suffrages exprimés"
   ]
  },
  {
   "cell_type": "code",
   "execution_count": null,
   "metadata": {},
   "outputs": [],
   "source": [
    "print(lecture_repartition('Repartition_votes.csv'))"
   ]
  },
  {
   "cell_type": "markdown",
   "metadata": {},
   "source": [
    "#### 2-2- Projection : sélectionne un ou plusieurs attributs (colonne) d'une table "
   ]
  },
  {
   "cell_type": "markdown",
   "metadata": {},
   "source": [
    "<div class=\"alert alert-warning\">\n",
    "<img src=\"Images/CR.png\" alt=\"logo CR\" width=5% align=right>\n",
    "\n",
    "Les 2 tables \"Presidentielle_metropole\" et \"Presidentielle_outre-mer\" possèdent 4 attributs : Candidat, Voix, %_ins et %_exp. Les 2 derniers ne nous intéressent pas, il faut donc les éliminer des deux tables.\n",
    "\n",
    "- Compléter la fonction ci-dessous qui doit réaliser cette tâche.\n",
    "<div>"
   ]
  },
  {
   "cell_type": "code",
   "execution_count": null,
   "metadata": {},
   "outputs": [],
   "source": [
    "import csv\n",
    "\n",
    "def lecture_fichier(fichier):\n",
    "    \"\"\"\n",
    "    La fonction lit un fichier CSV et génère un dictionnaire\n",
    "    dont les clés sont extraites de la première ligne du fichier\n",
    "    \n",
    "    Entrée :    Un fichier texte. Chaque ligne comporte les valeurs\n",
    "                séparée par des virgules.\n",
    "                La première ligne contient le nom des attributs\n",
    "    Sortie :    une liste de dictionnaires non ordonnés\n",
    "    \"\"\"\n",
    "    with open(fichier) as csv_file:\n",
    "        lecteur= csv.DictReader(csv_file, delimiter=',')\n",
    "        return [dict(ligne) for ligne in lecteur] # conversion des dictionnaires ordonnés en dictionnaires\n",
    "    \n",
    "def projection(table, liste_attributs):\n",
    "    \"\"\"\n",
    "    La fonction sélectionne un ou plusieurs attributs (colonne)d'une table\n",
    "    Entrée : une liste de dictionnaires et une liste d'attributs à retenir\n",
    "    Sortie : une liste de dictionnaires contenant uniquement les attributs\n",
    "    \"\"\"\n",
    "   \n",
    "    \n",
    "data=lecture_fichier('Presidentielle_metropole.csv')\n",
    "#print(data)\n",
    "new_data=projection(data,['Candidat','Voix'])\n",
    "print(new_data)"
   ]
  },
  {
   "cell_type": "markdown",
   "metadata": {},
   "source": [
    "<div class=\"alert alert-warning\">\n",
    "<img src=\"Images/CR.png\" alt=\"logo CR\" width=5% align=right>\n",
    "\n",
    "Les 2 tables \"Presidentielle_metropole\" et \"Presidentielle_outre-mer\" possèdent maintenant 2 attributs : Candidat et Voix. Cependant le type de 'Voix' ne permet pas de réaliser des calculs.\n",
    "\n",
    "- Compléter la fonction ci-dessous qui doit réaliser cette tâche.\n",
    "<div>"
   ]
  },
  {
   "cell_type": "code",
   "execution_count": null,
   "metadata": {},
   "outputs": [],
   "source": [
    "def conversion_type(table):\n",
    "    \"\"\"\n",
    "    La fonction reçoit une table et convertit\n",
    "    la valeur de la clé 'Voix' en type entier\n",
    "    Entrée : liste de dictionnaires dont les valeurs sont de type str\n",
    "    Sortie : liste de dictionnaires dont les valeurs sont de type entier\n",
    "    \"\"\""
   ]
  },
  {
   "cell_type": "markdown",
   "metadata": {},
   "source": [
    "#### 2-3- Jointure de 2 tables (nombre voix métrôpole + outre-mer)"
   ]
  },
  {
   "cell_type": "markdown",
   "metadata": {},
   "source": [
    "<div class=\"alert alert-warning\">\n",
    "<img src=\"Images/CR.png\" alt=\"logo CR\" width=5% align=right>\n",
    "    \n",
    "Il nous faut à présent connaître le nombre de voix total des candidats. On va fusionner les 2 tables métropole et outre-mer. L'attribut commun sera le nom du candidat.\n",
    "\n",
    "- Compléter la fonction ci-dessous qui doit réaliser cette tâche. C'est ici que l'on va tirer avantage de la fonction built-in \"zip\" aperçue sur le document de formation précédent.\n",
    "<div>"
   ]
  },
  {
   "cell_type": "code",
   "execution_count": null,
   "metadata": {},
   "outputs": [],
   "source": [
    "def jointure(table_om, table_m):\n",
    "    \"\"\"\n",
    "    La fonction reçoit les deux tables et additionne\n",
    "    le nombre de voix du candidat en métropole et outre-mer\n",
    "    Entrée : 2 listes de dictionnaires ayant pour clés 'Candidat' et 'Voix'\n",
    "    Sortie : 1 liste de listes ayant pour valeurs le nom du candidat et\n",
    "            son total de voix (metropole + outre-mer)\n",
    "    \"\"\"\n",
    "    "
   ]
  },
  {
   "cell_type": "markdown",
   "metadata": {},
   "source": [
    "#### 2-3- Tri selon critères (classement selon le nombre de voix)"
   ]
  },
  {
   "cell_type": "markdown",
   "metadata": {},
   "source": [
    "<div class=\"alert alert-warning\">\n",
    "<img src=\"Images/CR.png\" alt=\"logo CR\" width=5% align=right>\n",
    "  \n",
    "\n",
    "On va maintenant classer les candidats dans l'ordre décroissant du nombre de suffrages exprimés.\n",
    "\n",
    "- Compléter la fonction ci-dessous qui doit réaliser cette tâche. C'est ici que l'on va tirer avantage de la fonction built-in \"sorted\" aperçue sur le document de formation précédent.\n",
    "<div>"
   ]
  },
  {
   "cell_type": "code",
   "execution_count": null,
   "metadata": {},
   "outputs": [],
   "source": [
    "def tri(table, indice, mode):\n",
    "    \"\"\"\n",
    "    La fonction trie la table fournie selon le nombre de voix\n",
    "    des candidats dans le sens décroissant.\n",
    "    Entrées : une liste de liste, le critère de tri : entier\n",
    "            et le mode de tri booléen True ou False\n",
    "    Sortie une liste triée\n",
    "    \"\"\"\n"
   ]
  },
  {
   "cell_type": "markdown",
   "metadata": {},
   "source": [
    "#### 2-4- Sélection dans une table (>= 5% exprimé)"
   ]
  },
  {
   "cell_type": "markdown",
   "metadata": {},
   "source": [
    "<div class=\"alert alert-warning\">\n",
    "<img src=\"Images/CR.png\" alt=\"logo CR\" width=5% align=right>\n",
    "  \n",
    "- Calculer le nombre de voix correspondant à 5% des suffrages exprimés ;\n",
    "- Éliminer de la liste triée précédemment les candidats allant au second tour de l'élections, c'est à dire les 2 candidats qui ont le plus de voix ;\n",
    "- Créer une fonction qui génère une liste des candidats recalés au premier tour ayant obtenus au moins 5% des suffrages exprimés. Pour cela, compléter la fonction ci-dessous qui doit réaliser cette tâche.\n",
    "<div>"
   ]
  },
  {
   "cell_type": "code",
   "execution_count": null,
   "metadata": {},
   "outputs": [],
   "source": [
    "def select(table,critere):\n",
    "    \"\"\"\n",
    "    La fonction sélectionne des lignes de la table passée\n",
    "    en paramètre vérifiant un critère également passé\n",
    "    en paramètre\n",
    "    Entrée : une liste de listes\n",
    "    Sortie : une liste de listes répondant au critère\n",
    "    \"\"\"\n"
   ]
  },
  {
   "cell_type": "markdown",
   "metadata": {},
   "source": [
    "#### 2-5- Algorithme -Affichage - Sauvegarde du traitement"
   ]
  },
  {
   "cell_type": "markdown",
   "metadata": {},
   "source": [
    "<div class=\"alert alert-warning\">\n",
    "<img src=\"Images/CR.png\" alt=\"logo CR\" width=5% align=right>\n",
    "  \n",
    "- Tracer l'algorithme d'appel des fonctions réalisées ;\n",
    "- Afficher les résultats du traitement : \n",
    "    - Nom des candidats dont le nombre de voix ≥ 5% des suffrages exprimés\n",
    "    - Nom des candidats dont le nombre de voix est < 5%\n",
    "- Sauvegarder les résultats du traitement dans 2 fichiers csv.\n",
    "<div>"
   ]
  }
 ],
 "metadata": {
  "kernelspec": {
   "display_name": "Python 3",
   "language": "python",
   "name": "python3"
  },
  "language_info": {
   "codemirror_mode": {
    "name": "ipython",
    "version": 3
   },
   "file_extension": ".py",
   "mimetype": "text/x-python",
   "name": "python",
   "nbconvert_exporter": "python",
   "pygments_lexer": "ipython3",
   "version": "3.6.10"
  },
  "varInspector": {
   "cols": {
    "lenName": 16,
    "lenType": 16,
    "lenVar": 40
   },
   "kernels_config": {
    "python": {
     "delete_cmd_postfix": "",
     "delete_cmd_prefix": "del ",
     "library": "var_list.py",
     "varRefreshCmd": "print(var_dic_list())"
    },
    "r": {
     "delete_cmd_postfix": ") ",
     "delete_cmd_prefix": "rm(",
     "library": "var_list.r",
     "varRefreshCmd": "cat(var_dic_list()) "
    }
   },
   "types_to_exclude": [
    "module",
    "function",
    "builtin_function_or_method",
    "instance",
    "_Feature"
   ],
   "window_display": false
  }
 },
 "nbformat": 4,
 "nbformat_minor": 2
}
