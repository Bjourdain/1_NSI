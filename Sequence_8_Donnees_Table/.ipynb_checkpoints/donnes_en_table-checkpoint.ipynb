{
 "cells": [
  {
   "cell_type": "markdown",
   "metadata": {},
   "source": [
    "## 1- Chargement des données et conversion##"
   ]
  },
  {
   "cell_type": "markdown",
   "metadata": {},
   "source": [
    "Les données à manipuler sont dans 2 fichiers de type CSV. Nous avons déjà utilisés ce type de fichier, observons ici quelques variantes : \n",
    "\n",
    "1. Chargement du fichier et création d'un tableau à 2 dimensions (relation = table) : c'est à dire une liste de liste.\n",
    "2. Chargement du fichier et création d'un dictionnaire"
   ]
  },
  {
   "cell_type": "code",
   "execution_count": null,
   "metadata": {},
   "outputs": [],
   "source": [
    "import csv\n",
    "# Création d'un tableau à 2 dimensions\n",
    "with open('Presidentielle_2017_Resultats_Tour_1_metropole.csv') as fichier_csv:\n",
    "    tableau2D = list(csv.reader(fichier_csv, delimiter=','))\n",
    "print(tableau2D)"
   ]
  },
  {
   "cell_type": "markdown",
   "metadata": {},
   "source": [
    "On peut constater que la première liste contient le nom des attributs (attribut = colonne d'une table)"
   ]
  },
  {
   "cell_type": "code",
   "execution_count": null,
   "metadata": {},
   "outputs": [],
   "source": [
    "import csv\n",
    "# Création d'un tableau à 2 dimensions\n",
    "with open('Presidentielle_2017_Resultats_Tour_1_metropole.csv') as fichier_csv:\n",
    "    tableauDico = list(csv.DictReader(fichier_csv, delimiter=','))\n",
    "print(tableauDico)"
   ]
  },
  {
   "cell_type": "markdown",
   "metadata": {},
   "source": [
    "On peut constater que nous obtenons une liste de dictionnaires ordonnés ayant pour clé le nom des attributs de la table et pour valeur les enregistrements (ligne de la table).\n",
    "Quelque soit la solution utilisée, les champs \"voix\", \"%_ins\", \"%_exp\" sont de type sting. Il convient donc de faire une conversion de ces valeurs soit en entiers ou réels.\n",
    "\n",
    "Je préfère pas utiliser cette solution et aussi, je vous propose la mienne qui est une liste de dictionnaires comme nous les avons abordés précédemment :"
   ]
  },
  {
   "cell_type": "code",
   "execution_count": null,
   "metadata": {},
   "outputs": [],
   "source": [
    "import csv\n",
    "\n",
    "\n",
    "with open('Presidentielle_2017_Resultats_Tour_1_metropole.csv') as csv_file:\n",
    "    liste_valeurs= list(csv.reader(csv_file, delimiter=','))\n",
    "    liste_cles=liste_valeurs.pop(0)\n",
    "    \n",
    "liste_candidats=[]\n",
    "[liste_candidats.append({liste_cles[i]:candidat[i] for i in range(len(liste_cles))}) for candidat in liste_valeurs]\n",
    "print(liste_candidats)"
   ]
  },
  {
   "cell_type": "markdown",
   "metadata": {},
   "source": [
    "Quelque soit la solution adoptée, les valeurs sont sous forme de chaîne de caractères, il convient dans un premier temps de les convertir soit en entiers, soit en réels.\n",
    "Proposez ci-dessous votre solution."
   ]
  },
  {
   "cell_type": "code",
   "execution_count": null,
   "metadata": {},
   "outputs": [],
   "source": [
    "#Votre solution ici\n",
    "for element in liste_candidats:\n",
    "    element['Voix']=int(element['Voix'])\n",
    "    element['%_ins']=float(element['%_ins'])\n",
    "    element['%_exp']=float(element['%_exp'])\n",
    "print(liste_candidats)"
   ]
  },
  {
   "cell_type": "markdown",
   "metadata": {},
   "source": [
    "## 2- Tri selon critères"
   ]
  },
  {
   "cell_type": "markdown",
   "metadata": {},
   "source": [
    "On veut classer les candidats selon le nombre de voix du plus grand au plus petit, en utilisant la fonction \"sorted\". Créez une fonction qui trie selon ce critère."
   ]
  },
  {
   "cell_type": "code",
   "execution_count": null,
   "metadata": {},
   "outputs": [],
   "source": [
    "#Votre solution ici\n",
    "\n",
    "def nb_voix(enregistrement):\n",
    "    return enregistrement['Voix']\n",
    "\n",
    "nombre_voix=sorted(liste_candidats, key=nb_voix, reverse=True)\n",
    "\n",
    "#ou\n",
    "\n",
    "nombre_voix=sorted(liste_candidats, key=lambda enregistrement:enregistrement['Voix'], reverse=True)"
   ]
  },
  {
   "cell_type": "markdown",
   "metadata": {},
   "source": [
    "## 3- Recherche dans la table"
   ]
  },
  {
   "cell_type": "markdown",
   "metadata": {},
   "source": [
    "Pour le remboursement des frais de campagne, le candidat doit dépasser 5% des votes exprimés. Créez une liste de candidats qui seront remboursés."
   ]
  },
  {
   "cell_type": "code",
   "execution_count": null,
   "metadata": {},
   "outputs": [],
   "source": [
    "#Votre solution ici\n",
    "def conditions(enregistrement):\n",
    "    return enregistrement['%_exp']>=5\n",
    "\n",
    "remboursement=list(filter(conditions,liste_candidats))\n",
    "\n",
    "#ou\n",
    "\n",
    "remboursement=list(filter(lambda enregistrement:enregistrement['%_exp']>=5, liste_candidats))"
   ]
  }
 ],
 "metadata": {
  "kernelspec": {
   "display_name": "Python 3",
   "language": "python",
   "name": "python3"
  },
  "language_info": {
   "codemirror_mode": {
    "name": "ipython",
    "version": 3
   },
   "file_extension": ".py",
   "mimetype": "text/x-python",
   "name": "python",
   "nbconvert_exporter": "python",
   "pygments_lexer": "ipython3",
   "version": "3.7.3"
  },
  "varInspector": {
   "cols": {
    "lenName": 16,
    "lenType": 16,
    "lenVar": 40
   },
   "kernels_config": {
    "python": {
     "delete_cmd_postfix": "",
     "delete_cmd_prefix": "del ",
     "library": "var_list.py",
     "varRefreshCmd": "print(var_dic_list())"
    },
    "r": {
     "delete_cmd_postfix": ") ",
     "delete_cmd_prefix": "rm(",
     "library": "var_list.r",
     "varRefreshCmd": "cat(var_dic_list()) "
    }
   },
   "types_to_exclude": [
    "module",
    "function",
    "builtin_function_or_method",
    "instance",
    "_Feature"
   ],
   "window_display": false
  }
 },
 "nbformat": 4,
 "nbformat_minor": 2
}
