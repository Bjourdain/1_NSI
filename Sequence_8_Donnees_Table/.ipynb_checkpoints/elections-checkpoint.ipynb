{
 "cells": [
  {
   "cell_type": "markdown",
   "metadata": {},
   "source": [
    "# <center><font face=\"arial\" size=\"5\" color=#0101DF>NUMERIQUE ET SCIENCES INFORMATIQUES 1ère NSI</font></center>"
   ]
  },
  {
   "cell_type": "markdown",
   "metadata": {},
   "source": [
    "## <font color=#013ADF>Séquence N° 7 : Traitement de données en table</font>"
   ]
  },
  {
   "cell_type": "markdown",
   "metadata": {},
   "source": [
    "<div class=\"alert alert-danger\" role=\"alert\">\n",
    "    \n",
    "Les objectifs de cette séquence sont :\n",
    "- d'importer une table depuis un fichier CSV ;\n",
    "- rechercher des enregistrements vérifiants des critères ;\n",
    "- trier une table selon un attribut ;\n",
    "- construire une nouvelle table en combinant les données de 2 tables.\n"
   ]
  },
  {
   "cell_type": "markdown",
   "metadata": {},
   "source": [
    "### 1- L'OpenData"
   ]
  },
  {
   "cell_type": "markdown",
   "metadata": {},
   "source": [
    "<div class=\"alert alert-success\" role=\"alert\">\n",
    "\n",
    "Les données que nous allons utilisées sont disponibles sur Internet sans aucune condition d'accès : c'est l'OpenData.\n",
    "\n",
    "Pour en savoir un peu plus : https://youtu.be/aHxv_2BMJfw\n",
    "\n",
    "Quelques sites plus ou moins prôche de nous :\n",
    "\n",
    "https://www.data.gouv.fr/fr/organizations/brest-metropole-oceane/\n",
    "\n",
    "https://opendata.finistere.fr/explore/?sort=modified\n",
    "\n",
    "https://www.data.gouv.fr/fr/posts/les-donnees-des-elections/\n",
    "\n",
    "Les données sur lesquelles nous allons travailler, sont issues de ce dernier site. Elles concernent les résultats du premier tour des élections présidentielles 2017."
   ]
  },
  {
   "cell_type": "markdown",
   "metadata": {},
   "source": [
    "### 2- L'étude"
   ]
  },
  {
   "cell_type": "markdown",
   "metadata": {},
   "source": [
    "**Problématique** : Les conditions de remboursement des frais de campagne électorale dépendent du score du candidat. Trois cas de figure sont possibles :\n",
    "\n",
    "- Le candidat est éliminé à l’issue du premier tour et obtient **moins de 5 % des suffrages exprimés** : ce dernier peut alors prétendre à un remboursement de ses frais de campagne à hauteur de 4,75 % du montant du plafond de dépenses autorisé, soit une somme de 800 423 euros.\n",
    "- Le candidat est éliminé à l’issue du premier tour, mais obtient **plus de 5 % des suffrages exprimés** : le candidat peut prétendre à un remboursement de ses frais de campagne à hauteur de 47,5 % du montant du plafond de dépenses autorisé, soit une somme de 8 004 225 euros.\n",
    "- Le candidat est qualifié pour le second tour de l’élection : le candidat peut alors prétendre à un remboursement de ses frais de campagne à hauteur de 47,5 % du montant du plafond spécifique aux candidats du second tour, soit une somme de 10 691 775 euros.\n",
    "\n",
    "**On souhaite connaître la somme à rembourser à chaque candidat non-qualifé au second tour de l'élection présidentielle de 2017.**\n",
    "\n",
    "Pour plus de détails : https://www.interieur.gouv.fr/Archives/Archives-elections/Election-presidentielle-2017/Election-presidentielle-2017-le-financement-de-la-campagne\n",
    "\n",
    "On dispose pour ce travail, de **3 tables** légèrement retouchées (conversion de la virgule décimale en point, élimination des attributs \"%_ins\", \"%_exp\" qui ne représentaient que des valeurs pour la métropole ou l'outre-mer.\n",
    "\n",
    "### Répartition des votes (repartition_votes.csv)\n",
    "\n",
    "![](table_def.png)\n",
    "Exprimés = Votants - (Blanc + Nuls)\n",
    "\n",
    "### Répartition pour la Métropole (Presidentielle_2017_Resultats_Tour_1_metropole.csv)\n",
    "\n",
    "| Candidat                 |    Voix |\n",
    "| ------------------------ | ------: |\n",
    "| M. DUPONT-AIGNAN Nicolas | 1665507 |\n",
    "| Mme LE PEN Marine        | 7465123 |\n",
    "| M. MACRON Emmanuel       | 8267074 |\n",
    "| M. HAMON Benoît          | 2189394 |\n",
    "| Mme ARTHAUD Nathalie     |  219219 |\n",
    "| M. POUTOU Philippe       |  376935 |\n",
    "| M. CHEMINADE Jacques     |   62166 |\n",
    "| M. LASSALLE Jean         |  427564 |\n",
    "| M. MÉLENCHON Jean-Luc    | 6803933 |\n",
    "| M. ASSELINEAU François   |  313831 |\n",
    "| M. FILLON François       | 6899161 |\n",
    "\n",
    "### Répartition pour les départements d'Outre-mer (Presidentielle_2017_Resultats_Tour_1_outre-mer.csv)\n",
    "\n",
    "| Candidat                 |   Voix |\n",
    "| ------------------------ | -----: |\n",
    "| M. DUPONT-AIGNAN Nicolas |  20656 |\n",
    "| Mme LE PEN Marine        | 177442 |\n",
    "| M. MACRON Emmanuel       | 165393 |\n",
    "| M. HAMON Benoît          |  63802 |\n",
    "| Mme ARTHAUD Nathalie     |  11853 |\n",
    "| M. POUTOU Philippe       |  14156 |\n",
    "| M. CHEMINADE Jacques     |   2390 |\n",
    "| M. LASSALLE Jean         |   5207 |\n",
    "| M. MÉLENCHON Jean-Luc    | 168326 |\n",
    "| M. ASSELINEAU François   |  13138 |\n",
    "| M. FILLON François       | 168005 |"
   ]
  },
  {
   "cell_type": "markdown",
   "metadata": {},
   "source": [
    "<div class=\"alert alert-warning\">\n",
    "<img src=\"Images/CR.png\" alt=\"logo CR\" width=5% align=right>\n",
    "\n",
    "> Si vous deviez répondre à la problématique sans utiliser l'informatique, quelle serait votre démarche ?\n"
   ]
  },
  {
   "cell_type": "markdown",
   "metadata": {},
   "source": [
    "<div class=\"alert alert-danger\" role=\"alert\">\n",
    "\n",
    "- Il faut à minima additionner les bulletins exprimés pour la métropole et l'outre-mer ;\n",
    "- additionner les voix des candidats pour la métropole et l'outre-mer ;\n",
    "- vérifier pour les candidats non-qualifés au second tour s'ils dépassent ou non 5% des votes exprimés."
   ]
  },
  {
   "cell_type": "markdown",
   "metadata": {},
   "source": [
    "#### 2-1- Chargement des données"
   ]
  },
  {
   "cell_type": "markdown",
   "metadata": {},
   "source": [
    "Les données à manipuler sont dans 3 fichiers de type CSV. Nous avons déjà utilisés ce type de fichier, mais aujourd'hui, nous allons charger le fichier et créer un tableau à 2 dimensions : c'est à dire une liste de liste.\n",
    "\n",
    "Commençons par les résultats pour la métropole :"
   ]
  },
  {
   "cell_type": "code",
   "execution_count": null,
   "metadata": {},
   "outputs": [],
   "source": [
    "import csv\n",
    "# Création d'un tableau à 2 dimensions\n",
    "with open('Presidentielle_2017_Resultats_Tour_1_metropole.csv') as fichier_csv:\n",
    "    voix_metropole = list(csv.reader(fichier_csv, delimiter=','))\n",
    "print(voix_metropole)"
   ]
  },
  {
   "cell_type": "markdown",
   "metadata": {},
   "source": [
    "<div class=\"alert alert-warning\">\n",
    "<img src=\"Images/CR.png\" alt=\"logo CR\" width=5% align=right>\n",
    "    \n",
    "De ce tableau, il faut :\n",
    "- créer une liste de dictionnaires \"liste_candidatsM\" ayant pour clés \"Candidat\" et \"Voix\" et pour valeurs le nom du candidat et son nombre de voix ;\n",
    "- convertir le type de 'Voix' en entier pour pouvoir faire un calcul ultérieurement.\n",
    "\n",
    "On utilisera avantageusement les compréhensions de dictionnaires !\n",
    "\n",
    "Complétez le code ci-dessous :"
   ]
  },
  {
   "cell_type": "code",
   "execution_count": null,
   "metadata": {},
   "outputs": [],
   "source": [
    "import csv\n",
    "# Création d'un tableau à 2 dimensions\n",
    "with open('Presidentielle_2017_Resultats_Tour_1_metropole.csv') as fichier_csv:\n",
    "    voix_metropole = list(csv.reader(fichier_csv, delimiter=','))\n",
    "liste_cles=voix_metropole.pop(0) # Enleve le premier élément de la liste\n",
    "\n",
    "# ici votre code\n",
    "print(liste_candidatsM)"
   ]
  },
  {
   "cell_type": "code",
   "execution_count": null,
   "metadata": {},
   "outputs": [],
   "source": [
    "# Solution possible\n",
    "import csv\n",
    "# Création d'un tableau à 2 dimensions\n",
    "with open('Presidentielle_2017_Resultats_Tour_1_metropole.csv') as fichier_csv:\n",
    "    voix_metropole = list(csv.reader(fichier_csv, delimiter=','))\n",
    "liste_cles=voix_metropole.pop(0) # Enleve le premier élément de la liste\n",
    "liste_candidatsM=[]\n",
    "[liste_candidatsM.append({liste_cles[i]:candidat[i] for i in range(len(liste_cles))}) for candidat in voix_metropole]\n",
    "for attribut in liste_candidatsM:\n",
    "    attribut['Voix']=int(attribut['Voix'])\n",
    "print(liste_candidatsM)"
   ]
  },
  {
   "cell_type": "markdown",
   "metadata": {},
   "source": [
    "<div class=\"alert alert-warning\">\n",
    "<img src=\"Images/CR.png\" alt=\"logo CR\" width=5% align=right>\n",
    "\n",
    "Faire de même pour l'outre-mer : liste_candidatsOM"
   ]
  },
  {
   "cell_type": "code",
   "execution_count": null,
   "metadata": {},
   "outputs": [],
   "source": []
  },
  {
   "cell_type": "code",
   "execution_count": null,
   "metadata": {},
   "outputs": [],
   "source": [
    "# Solution possible\n",
    "import csv\n",
    "# Création d'un tableau à 2 dimensions\n",
    "with open('Presidentielle_2017_Resultats_Tour_1_outre-mer.csv') as fichier_csv:\n",
    "    voix_outremer = list(csv.reader(fichier_csv, delimiter=','))\n",
    "liste_cles=voix_outremer.pop(0) # Enleve le premier élément de la liste\n",
    "liste_candidatsOM=[]\n",
    "[liste_candidatsOM.append({liste_cles[i]:candidat[i] for i in range(len(liste_cles))}) for candidat in voix_outremer]\n",
    "for attribut in liste_candidatsOM:\n",
    "    attribut['Voix']=int(attribut['Voix'])\n",
    "print(liste_candidatsOM)"
   ]
  },
  {
   "cell_type": "markdown",
   "metadata": {},
   "source": [
    "<div class=\"alert alert-warning\">\n",
    "<img src=\"Images/CR.png\" alt=\"logo CR\" width=5% align=right>\n",
    "\n",
    "Puisque l'on est dans les chargements de données, finissons par le chargement de la table de répartition de votes.\n",
    "\n",
    "À partir de la liste chargée, on va générer un dictionnaire que nous nommerons \"repartition\", qui aura pour clé (Inscrits, Votants ...) et pour valeur la somme des 2 attributs \"métropole\" et \"outre-mer\" qui auront été convertis en entier au préalable."
   ]
  },
  {
   "cell_type": "code",
   "execution_count": null,
   "metadata": {},
   "outputs": [],
   "source": []
  },
  {
   "cell_type": "code",
   "execution_count": null,
   "metadata": {},
   "outputs": [],
   "source": [
    "# Solution possible\n",
    "import csv\n",
    "# Création d'un tableau à 2 dimensions\n",
    "with open('repartition_votes.csv') as fichier_csv:\n",
    "    repartition_voix = list(csv.reader(fichier_csv, delimiter=','))\n",
    "repartition_voix.pop(0) # Enleve le premier élément de la liste\n",
    "repartition={repartition_voix[i][0]:int(repartition_voix[i][1])+int(repartition_voix[i][2]) for i in range(len(repartition_voix))}\n",
    "print(repartition)\n",
    "print(repartition['Exprimés'])"
   ]
  },
  {
   "cell_type": "markdown",
   "metadata": {},
   "source": [
    "#### 2-2- Fusion de 2 tables (nombre voix métrôpole + outre-mer)"
   ]
  },
  {
   "cell_type": "markdown",
   "metadata": {},
   "source": [
    "<div class=\"alert alert-warning\">\n",
    "<img src=\"Images/CR.png\" alt=\"logo CR\" width=5% align=right>\n",
    "    \n",
    "Il nous faut à présent connaître le nombre de voix total des candidats. On va fusionner les 2 tables métropole et outre-mer.\n",
    "\n",
    "C'est ici que l'on va tirer avantage de la fonction built-in \"zip\" aperçue sur le document de formation précédent."
   ]
  },
  {
   "cell_type": "code",
   "execution_count": null,
   "metadata": {},
   "outputs": [],
   "source": [
    "resultats=[]\n",
    "for candidatOM, candidatM in zip(liste_candidatsOM, liste_candidatsM):\n",
    "    enregistrement={'Candidat':candidatOM['Candidat'], 'Voix':candidatOM['Voix']+candidatM['Voix']}\n",
    "    resultats.append(enregistrement)\n",
    "print(resultats)"
   ]
  },
  {
   "cell_type": "markdown",
   "metadata": {},
   "source": [
    "#### 2-3- Tri selon critères (classement selon le nombre de voix)"
   ]
  },
  {
   "cell_type": "markdown",
   "metadata": {},
   "source": [
    "<div class=\"alert alert-warning\">\n",
    "<img src=\"Images/CR.png\" alt=\"logo CR\" width=5% align=right>\n",
    "  \n",
    "\n",
    "On va maintenant classer les candidats dans l'ordre décroissant du nombre de suffrages exprimés.\n",
    "\n",
    "C'est ici que l'on va tirer avantage de la fonction built-in \"sorted\" aperçue sur le document de formation précédent."
   ]
  },
  {
   "cell_type": "code",
   "execution_count": null,
   "metadata": {},
   "outputs": [],
   "source": [
    "# Une solution\n",
    "def nb_voix(attribut):\n",
    "    return attribut['Voix']\n",
    "\n",
    "classement=sorted(resultats, key=nb_voix, reverse=True)\n",
    "print(classement)"
   ]
  },
  {
   "cell_type": "code",
   "execution_count": null,
   "metadata": {},
   "outputs": [],
   "source": [
    "# Autre possibilité\n",
    "classement=sorted(resultats, key=lambda attribut:attribut['Voix'], reverse=True)"
   ]
  },
  {
   "cell_type": "markdown",
   "metadata": {},
   "source": [
    "#### 2-4- Recherche dans la table (>= 5% exprimé)"
   ]
  },
  {
   "cell_type": "markdown",
   "metadata": {},
   "source": [
    "<div class=\"alert alert-warning\">\n",
    "<img src=\"Images/CR.png\" alt=\"logo CR\" width=5% align=right>\n",
    "  \n",
    "On va maintenant définir le montant du remboursement des candidats non-qualifiés au second tour.\n",
    "\n",
    "C'est ici que l'on va tirer avantage de la fonction built-in \"filter\" aperçue sur le document de formation précédent."
   ]
  },
  {
   "cell_type": "code",
   "execution_count": null,
   "metadata": {},
   "outputs": [],
   "source": [
    "def conditions(attribut):\n",
    "    return attribut['Voix']>=seuil5pc\n",
    "\n",
    "taux47=list(filter(conditions,classement))"
   ]
  },
  {
   "cell_type": "code",
   "execution_count": null,
   "metadata": {},
   "outputs": [],
   "source": [
    "# Calcul du nombre du nombre de suffrages correspondant à 5%\n",
    "seuil5pc=int((repartition['Exprimés']*0.05))\n",
    "#print(seuil5pc)\n",
    "\n",
    "taux4=list(filter(lambda attribut:attribut['Voix']<seuil5pc, classement))\n",
    "#print(taux4)\n",
    "taux47=list(filter(lambda attribut:attribut['Voix']>=seuil5pc, classement))\n",
    "#print(taux47)"
   ]
  },
  {
   "cell_type": "markdown",
   "metadata": {},
   "source": [
    "#### 2-5- Affichage - Sauvegarde du traitement"
   ]
  },
  {
   "cell_type": "code",
   "execution_count": null,
   "metadata": {},
   "outputs": [],
   "source": []
  },
  {
   "cell_type": "code",
   "execution_count": null,
   "metadata": {},
   "outputs": [],
   "source": []
  }
 ],
 "metadata": {
  "kernelspec": {
   "display_name": "Python 3",
   "language": "python",
   "name": "python3"
  },
  "language_info": {
   "codemirror_mode": {
    "name": "ipython",
    "version": 3
   },
   "file_extension": ".py",
   "mimetype": "text/x-python",
   "name": "python",
   "nbconvert_exporter": "python",
   "pygments_lexer": "ipython3",
   "version": "3.7.3"
  },
  "varInspector": {
   "cols": {
    "lenName": 16,
    "lenType": 16,
    "lenVar": 40
   },
   "kernels_config": {
    "python": {
     "delete_cmd_postfix": "",
     "delete_cmd_prefix": "del ",
     "library": "var_list.py",
     "varRefreshCmd": "print(var_dic_list())"
    },
    "r": {
     "delete_cmd_postfix": ") ",
     "delete_cmd_prefix": "rm(",
     "library": "var_list.r",
     "varRefreshCmd": "cat(var_dic_list()) "
    }
   },
   "types_to_exclude": [
    "module",
    "function",
    "builtin_function_or_method",
    "instance",
    "_Feature"
   ],
   "window_display": false
  }
 },
 "nbformat": 4,
 "nbformat_minor": 2
}
