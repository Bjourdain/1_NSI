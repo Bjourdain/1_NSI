{
 "cells": [
  {
   "cell_type": "markdown",
   "metadata": {},
   "source": [
    "# UNPACKING"
   ]
  },
  {
   "cell_type": "markdown",
   "metadata": {},
   "source": [
    "L’unpacking, littéralement traduit : “déballage” permet de prendre chaque élément d’un itérable (list, string, dict …) et de les assigner à des variables directement. Cela permet notamment de gagner en lisibilité et surtout en temps d’écriture."
   ]
  },
  {
   "cell_type": "markdown",
   "metadata": {},
   "source": [
    "## L’unpacking sans *"
   ]
  },
  {
   "cell_type": "markdown",
   "metadata": {},
   "source": [
    "Imaginons que vous ayez un tuple qui représente l’article d’un blog avec des informations, et vous voulez récupérer et stocker chacune de ces informations séparément pour les utiliser plus tard. Ce que vous feriez sans unpacking : \n",
    "un tuple représentant un article avec dans l'ordre : le titre, le contenu de l’article, le nombre de commentaires"
   ]
  },
  {
   "cell_type": "code",
   "execution_count": 17,
   "metadata": {},
   "outputs": [],
   "source": [
    "article = (\"Un super article\", \"Contenu de cet article\", 10000)\n",
    "titre = article[0]\n",
    "contenu = article[1]\n",
    "commentaires_nb = article[2]"
   ]
  },
  {
   "cell_type": "markdown",
   "metadata": {},
   "source": [
    "## En utilisant l’unpacking :"
   ]
  },
  {
   "cell_type": "code",
   "execution_count": 4,
   "metadata": {},
   "outputs": [],
   "source": [
    "titre, contenu, commentaires_nb = article"
   ]
  },
  {
   "cell_type": "markdown",
   "metadata": {},
   "source": [
    "**Attention** : Pour que ce genre de code fonctionne, il faut impérativement que le nombre de variables à gauche du signe égal (=) soit le même que le nombre d’informations qui vont être unpackées."
   ]
  },
  {
   "cell_type": "markdown",
   "metadata": {},
   "source": [
    "## L’unpacking avec *"
   ]
  },
  {
   "cell_type": "markdown",
   "metadata": {},
   "source": [
    "Cependant, il existe une solution pour répondre à ce dernier problème ! L’étoile * permet de dire de prendre un nombre inconnu de paramètres. \n",
    "Cela veut dire que nous pouvons assigner une variable qui stockera les informations supplémentaires **s’il y en a**."
   ]
  },
  {
   "cell_type": "markdown",
   "metadata": {},
   "source": [
    "Nous avons rajouté à la fin d'autres informations concernant l'auteur de l'article\n",
    "Nous stockons le reste des informations dans la variable infos_supp"
   ]
  },
  {
   "cell_type": "code",
   "execution_count": 8,
   "metadata": {},
   "outputs": [
    {
     "name": "stdout",
     "output_type": "stream",
     "text": [
      "['Dumbledore', 'Jus de citrouille', 'Hogwarts']\n"
     ]
    }
   ],
   "source": [
    "article = (\"Un super article\", \"Contenu de cet article\", 10000, \"Dumbledore\", \"Jus de citrouille\", \"Hogwarts\")\n",
    "titre, contenu, commentaires_nb , *infos_supp = article\n",
    "print(infos_supp)"
   ]
  },
  {
   "cell_type": "markdown",
   "metadata": {},
   "source": [
    "C’est donc très pratique pour résoudre ce genre de soucis lorsque vous savez que vous allez avoir un certain nombre d’informations plus un certain nombre inconnu.\n",
    "Vous avez dû remarquer que j’ai volontairement mis en gras le \"**s’il y en a**\". Car vous pouvez très bien faire la même chose de la manière suivante et ça fonctionnera :"
   ]
  },
  {
   "cell_type": "code",
   "execution_count": 9,
   "metadata": {},
   "outputs": [],
   "source": [
    "# nous avons seulement 3 informations\n",
    "article = (\"Un super article de Lafleche.io!\", \"Contenu de cet article\", 10000)"
   ]
  },
  {
   "cell_type": "code",
   "execution_count": 10,
   "metadata": {},
   "outputs": [],
   "source": [
    "# nous stockons le reste des informations dans la variable infos_supp\n",
    "titre, contenu, commentaires_nb , *infos_supp = article"
   ]
  },
  {
   "cell_type": "code",
   "execution_count": 11,
   "metadata": {},
   "outputs": [
    {
     "name": "stdout",
     "output_type": "stream",
     "text": [
      "[]\n"
     ]
    }
   ],
   "source": [
    "print(infos_supp)"
   ]
  },
  {
   "cell_type": "markdown",
   "metadata": {},
   "source": [
    "**Info** : Pour pouvoir utiliser l'opérateur splat (\\*), il faut impérativement que ce qui se trouve à gauche du signe égal soit une liste ou un tuple, donc a* = range(5) ne fonctionnera pas. Alors que a*, = range(5)\n",
    "\n",
    "*Ceci fonctionne car c'est un tuple*."
   ]
  },
  {
   "cell_type": "markdown",
   "metadata": {},
   "source": [
    "Encore plus fort ! L’utilisation de * n’est pas obligatoirement à la fin pour récupérer les paramètres restants. Par exemple, vous avez une variable qui contient des informations qui vous intéressent seulement au début et à la fin, mais ce qu’il y a au milieu ne vous interesse absolument pas. Grâce à l’unpacking vous pouvez faire : "
   ]
  },
  {
   "cell_type": "code",
   "execution_count": 18,
   "metadata": {},
   "outputs": [],
   "source": [
    "infos = [\"Infos importante !\", \"Deuxieme information importante !\",  \"Osef\", \"Osef\", \"Osef\", \"Troisieme informations importante !\"]\n",
    "info1, info2, *_, info3 = infos"
   ]
  },
  {
   "cell_type": "markdown",
   "metadata": {},
   "source": [
    "**Info** : En Python il y a une convention qui consiste à nommer les variables qui ne nous intéressent pas _. Néanmoins, malgré son nom spécial, cela reste une variable normale et vous pouvez donc l'afficher, la stocker ou ce que vous voulez."
   ]
  },
  {
   "cell_type": "markdown",
   "metadata": {},
   "source": [
    "**Attention** :Vous ne pouvez utiliser l'étoile (*) qu'une seule fois dans vos assignations. Sinon vous allez vous frapper une erreur. Ce qui est logique, vous ne pouvez pas dire de prendre le reste des arguments, puis le reste des arguments, ou alors ça voudrait dire de prendre la fin des arguments et de ne rien prendre par la suite, mais ça n'aurait aucun sens. \n",
    "Donc, retenez ceci : une seule étoile !"
   ]
  },
  {
   "cell_type": "markdown",
   "metadata": {},
   "source": [
    "## \\*args et **kwargs"
   ]
  },
  {
   "cell_type": "markdown",
   "metadata": {},
   "source": [
    "**\\*args et **kwargs** sont utilisés principalement pour passer un nombre variable d’arguments à une fonction. Tout simplement, cela veut dire que nous ne savons pas combien d’arguments seront passés à la fonction.\n",
    "\n",
    "**Info** : Le nom args et kwargs sont uniquement des conventions, vous pouvez les nommer \\*x et **y mais il est recommandé de suivre les conventions."
   ]
  },
  {
   "cell_type": "markdown",
   "metadata": {},
   "source": [
    "## Le cas de *args"
   ]
  },
  {
   "cell_type": "markdown",
   "metadata": {},
   "source": [
    "*args permet d’envoyer un nombre variable d’arguments à une fonction. Puis dans la fonction vous pourrez utiliser la variable args comme un itérable. C’est un peu flou ? Voici un exemple :"
   ]
  },
  {
   "cell_type": "code",
   "execution_count": 14,
   "metadata": {},
   "outputs": [
    {
     "name": "stdout",
     "output_type": "stream",
     "text": [
      "12\n",
      "33\n",
      "12\n"
     ]
    }
   ],
   "source": [
    "# permet de faire la somme des nombres passés en arguments\n",
    "def fonction_somme(*args):\n",
    "    print(sum(args))  # rappel : la fonction sum de Python prend en paramètre un une liste ou un tuple\n",
    "\n",
    "\n",
    "fonction_somme(3, 4, 5) # on passe les valeurs directement sans passer par une liste\n",
    "fonction_somme(3, 4, 5, 6, 7, 8) # on peut en rajouter\n",
    "fonction_somme(*[3, 4, 5]) # notez qu’on peut aussi unpacker une liste de cette façon "
   ]
  },
  {
   "cell_type": "markdown",
   "metadata": {},
   "source": [
    "Un deuxième exemple :"
   ]
  },
  {
   "cell_type": "code",
   "execution_count": 15,
   "metadata": {},
   "outputs": [
    {
     "name": "stdout",
     "output_type": "stream",
     "text": [
      "Addition, resultat = 7\n"
     ]
    }
   ],
   "source": [
    "def fonction_somme_amelioree(operation, *args):\n",
    "    print(f'{operation}, resultat = {sum(args)}')\n",
    "\n",
    "fonction_somme_amelioree(\"Addition\", 3,4)"
   ]
  },
  {
   "cell_type": "markdown",
   "metadata": {},
   "source": [
    "Le premier paramètre passé a été assigné à la variable “operation” et le reste des arguments ont été assignés à args. Donc le premier paramètre a été assigné et les autres ont été “packés” dans la variable *args qui n’est rien d’autre qu’un tuple.\n",
    "Notez que *[3, 4, 5] ne peut être utilisé qu'en tant qu'argument de la fonction. Vous ne pouvez pas faire *[3, 4, 5] directement dans votre code pour unpacker."
   ]
  },
  {
   "cell_type": "markdown",
   "metadata": {},
   "source": [
    "## Au tour de **kwargs"
   ]
  },
  {
   "cell_type": "markdown",
   "metadata": {},
   "source": [
    "Le principe de \\**kwargs est le même que celui de *args, sauf qu’il permet de passer un nombre variable d’arguments nommés. "
   ]
  },
  {
   "cell_type": "code",
   "execution_count": 16,
   "metadata": {},
   "outputs": [
    {
     "name": "stdout",
     "output_type": "stream",
     "text": [
      "Samsagace a pour surnom Sam\n",
      "x a pour surnom X\n",
      "Meriadoc a pour surnom Merry\n",
      "Peregrin a pour surnom Pippin\n"
     ]
    }
   ],
   "source": [
    "# fonction qui permet d'afficher le nom d’un personnage et son surnom à côté\n",
    "def print_dict_content(**kwargs):\n",
    "    for nom, surnom in kwargs.items():\n",
    "        print(f'{nom} a pour surnom {surnom}')\n",
    "\n",
    "# dict avec deux personnages dedans\n",
    "surnom_dict = {'Meriadoc': 'Merry','Peregrin': 'Pippin'}\n",
    "\n",
    "\n",
    "print_dict_content(Samsagace = 'Sam', x = 'X')  # on peut passer les arguments de cette façon\n",
    "print_dict_content(**surnom_dict) # ou alors unpacker un dictionnaire avec les **"
   ]
  },
  {
   "cell_type": "markdown",
   "metadata": {},
   "source": [
    "**Attention** : Pour utiliser \\*args et \\*\\*kwargs dans vos fonctions il faut respecter cet ordre : d'abord les arguments obligatoires, puis les arguments non nommés, puis les arguments nommés.\n",
    "\n",
    "def my_func(arguments, \\*args, \\*\\*kwargs): "
   ]
  },
  {
   "cell_type": "markdown",
   "metadata": {},
   "source": [
    "Pour résumer\n",
    "- L’étoile sert à faire des multiplications et des calculs de puissances;\n",
    "- \\*args va accueillir un nombre inconnu d’arguments non nommés \n",
    "- \\*\\* kwargs va accueillir un nombre inconnu d’arguments nommés \n",
    "- \\* permet d’unpacker une liste ou un tuple \n",
    "- \\*\\* permet d’unpacker un dict \n",
    "- first, *rest = seq revient à faire first, rest = seq[0], seq[1:] \n",
    "- \"args\" et \"kwargs\" sont justes des conventions de nommage \n",
    "- le symbole _ est une convention pour dire qu’on se moque de la variable "
   ]
  },
  {
   "cell_type": "markdown",
   "metadata": {},
   "source": [
    "## Le Défi"
   ]
  },
  {
   "cell_type": "markdown",
   "metadata": {},
   "source": [
    "C’est le moment de tenter de répondre à quelques questions ! "
   ]
  },
  {
   "cell_type": "code",
   "execution_count": null,
   "metadata": {},
   "outputs": [],
   "source": [
    "a, *b, c = range(5)\n",
    "\n",
    "# Que valent a, b et c ?"
   ]
  },
  {
   "cell_type": "code",
   "execution_count": null,
   "metadata": {},
   "outputs": [],
   "source": [
    "def func(**args, *kwargs):\n",
    "    pass\n",
    "\n",
    "# cette fonction est-elle valide ?"
   ]
  },
  {
   "cell_type": "code",
   "execution_count": null,
   "metadata": {},
   "outputs": [],
   "source": [
    "def func(*var, **vars):\n",
    "    pass\n",
    "\n",
    "# cette fonction est-elle valide ?"
   ]
  },
  {
   "cell_type": "code",
   "execution_count": null,
   "metadata": {},
   "outputs": [],
   "source": [
    "a, b = \"AB\"\n",
    "\n",
    "# cela fonctionne t-il ? Si oui, que valent a et b ? "
   ]
  },
  {
   "cell_type": "code",
   "execution_count": null,
   "metadata": {},
   "outputs": [],
   "source": [
    "a, *b, c, *d = 1,2,3,4,5  \n",
    "\n",
    "# que valent les variables ?"
   ]
  },
  {
   "cell_type": "code",
   "execution_count": null,
   "metadata": {},
   "outputs": [],
   "source": [
    "a* = range(5)\n",
    "\n",
    "# ce code est-il valide ?"
   ]
  },
  {
   "cell_type": "code",
   "execution_count": null,
   "metadata": {},
   "outputs": [],
   "source": [
    "*a, = range(5)\n",
    "\n",
    "# ce code est-il valide ?"
   ]
  }
 ],
 "metadata": {
  "kernelspec": {
   "display_name": "Python 3",
   "language": "python",
   "name": "python3"
  },
  "language_info": {
   "codemirror_mode": {
    "name": "ipython",
    "version": 3
   },
   "file_extension": ".py",
   "mimetype": "text/x-python",
   "name": "python",
   "nbconvert_exporter": "python",
   "pygments_lexer": "ipython3",
   "version": "3.7.3"
  },
  "varInspector": {
   "cols": {
    "lenName": 16,
    "lenType": 16,
    "lenVar": 40
   },
   "kernels_config": {
    "python": {
     "delete_cmd_postfix": "",
     "delete_cmd_prefix": "del ",
     "library": "var_list.py",
     "varRefreshCmd": "print(var_dic_list())"
    },
    "r": {
     "delete_cmd_postfix": ") ",
     "delete_cmd_prefix": "rm(",
     "library": "var_list.r",
     "varRefreshCmd": "cat(var_dic_list()) "
    }
   },
   "types_to_exclude": [
    "module",
    "function",
    "builtin_function_or_method",
    "instance",
    "_Feature"
   ],
   "window_display": false
  }
 },
 "nbformat": 4,
 "nbformat_minor": 2
}
