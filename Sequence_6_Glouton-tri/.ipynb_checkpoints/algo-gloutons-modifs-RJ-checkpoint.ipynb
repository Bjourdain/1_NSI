{
 "cells": [
  {
   "cell_type": "markdown",
   "metadata": {},
   "source": [
    "# LE RENDU DE MONNAIE"
   ]
  },
  {
   "cell_type": "markdown",
   "metadata": {},
   "source": [
    "Dans un distributeur de boissons, le monnayeur utilise des pièces de \n",
    "0,01 €, 0,02 €, 0,05 €, 0,10 €, 0,20 €, 0,50 €, 1 € et 2 €. \n",
    "\n",
    "La stratégie mise en oeuvre est la suivante :\n",
    "à chaque étape, on prend le plus de pièces possibles, les pièces ayant des valeurs décroissantes."
   ]
  },
  {
   "cell_type": "code",
   "execution_count": 1,
   "metadata": {},
   "outputs": [],
   "source": [
    "jeu_pieces = [200, 100, 50, 20, 10, 5, 2, 1]\n",
    "# valeurs des pièces dans l'ordre décroissant\n",
    "\n",
    "def rendu_monnaie(somme, jeu_pieces):\n",
    "    pieces = []\n",
    "    for piece in jeu_pieces:\n",
    "        nb_pieces = somme // piece\n",
    "        somme = somme % piece\n",
    "        pieces.extend([piece]*nb_pieces)       \n",
    "    return(pieces)"
   ]
  },
  {
   "cell_type": "code",
   "execution_count": 2,
   "metadata": {},
   "outputs": [
    {
     "name": "stdout",
     "output_type": "stream",
     "text": [
      "somme = 55 € => rendu monnaie : [50, 5]\n",
      "somme = 45 € => rendu monnaie : [20, 20, 5]\n",
      "somme = 73 € => rendu monnaie : [50, 20, 2, 1]\n"
     ]
    }
   ],
   "source": [
    "# tests\n",
    "sommes = [55, 45, 73]\n",
    "for somme in sommes:\n",
    "    print(f\"somme = {somme} € => rendu monnaie : {rendu_monnaie(somme, jeu_pieces)}\")"
   ]
  },
  {
   "cell_type": "markdown",
   "metadata": {},
   "source": [
    "Dans ce pays (Infoland), l'unité de monnaie est l'Ada (symbole $\\mathbb{A}$) et le système de monnaie ne comporte que des pièces de :\n",
    "1 $\\mathbb{A}$, 3 $\\mathbb{A}$, 4 $\\mathbb{A}$, 10 $\\mathbb{A}$, 30 $\\mathbb{A}$, 40 $\\mathbb{A}$, 100 \n",
    "$\\mathbb{A}$."
   ]
  },
  {
   "cell_type": "markdown",
   "metadata": {},
   "source": [
    "On peut remarquer qu'il n'y qu'à modifier la liste de pieces"
   ]
  },
  {
   "cell_type": "code",
   "execution_count": 3,
   "metadata": {},
   "outputs": [],
   "source": [
    "jeu_pieces_Ada = [100, 40, 30, 10, 4, 3, 1]"
   ]
  },
  {
   "cell_type": "code",
   "execution_count": 4,
   "metadata": {},
   "outputs": [
    {
     "name": "stdout",
     "output_type": "stream",
     "text": [
      "somme = 5 A => rendu monnaie : [4, 1]\n",
      "somme = 24 A => rendu monnaie : [10, 10, 4]\n",
      "somme = 6 A => rendu monnaie : [4, 1, 1]\n"
     ]
    }
   ],
   "source": [
    "# tests\n",
    "sommes = [5, 24, 6]\n",
    "for somme in sommes:\n",
    "    print(f\"somme = {somme} A => rendu monnaie : {rendu_monnaie(somme, jeu_pieces_Ada)}\")"
   ]
  },
  {
   "cell_type": "markdown",
   "metadata": {},
   "source": [
    "On peut obtenir 6 $\\mathbb{A}$ avec **deux pièces de 3 $\\mathbb{A}$** donc seulement deux pièces.\n",
    "**Cet algorithme de type glouton n'est pas optimal !**"
   ]
  },
  {
   "cell_type": "markdown",
   "metadata": {},
   "source": [
    "# LE PROBLEME DU SAC A DOS"
   ]
  },
  {
   "cell_type": "markdown",
   "metadata": {},
   "source": [
    "Étant donné plusieurs objets possédant chacun un poids et une valeur, et étant donné un poids maximum, quels objets faut-il mettre dans le sac à dos de manière à maximiser la valeur totale sans dépasser le poids maximum autorisé?\n",
    "\n"
   ]
  },
  {
   "cell_type": "markdown",
   "metadata": {},
   "source": [
    "On possède 4 objets. Les valeurs respectives en k€ sont : 7, 4, 3, 3 et les masses respectives en kg sont : 13, 12, 8, 10.\n",
    "<table>\n",
    "    <tr><td>Valeur (k€)</td><td>7</td><td>4</td><td>3</td><td>3</td></tr>\n",
    "    <tr><td>Poids (kg)</td><td>13</td><td>12</td><td>8</td><td>10</td></tr>\n",
    "</table>\n",
    "    "
   ]
  },
  {
   "cell_type": "markdown",
   "metadata": {},
   "source": [
    "## Première stratégie \n",
    "On choisit les objets dont la valeurs est la plus grande."
   ]
  },
  {
   "cell_type": "code",
   "execution_count": 5,
   "metadata": {},
   "outputs": [],
   "source": [
    "valeurs = [7, 4, 3, 3]\n",
    "poids = [13, 12, 8, 10]\n",
    "\n",
    "def sac_a_dos(valeurs, poids, poids_maxi):\n",
    "    objets = []\n",
    "    poids_total = 0\n",
    "    valeur_totale = 0\n",
    "    for valeur, poids_ in zip(valeurs, poids):\n",
    "        if poids_ < poids_maxi:\n",
    "            poids_maxi -= poids_\n",
    "            poids_total += poids_ \n",
    "            objets.append(valeur)  \n",
    "            valeur_totale += valeur\n",
    "            \n",
    "    return(objets, valeur_totale, poids_total)"
   ]
  },
  {
   "cell_type": "code",
   "execution_count": 6,
   "metadata": {},
   "outputs": [
    {
     "name": "stdout",
     "output_type": "stream",
     "text": [
      "poids_maxi = 15 kg => remplissage du sac : ([7], 7, 13)\n",
      "poids_maxi = 22 kg => remplissage du sac : ([7, 3], 10, 21)\n",
      "poids_maxi = 30 kg => remplissage du sac : ([7, 4], 11, 25)\n"
     ]
    }
   ],
   "source": [
    "# tests :\n",
    "poids_maxi = [15, 22, 30]\n",
    "for poids_max in poids_maxi:\n",
    "    print(f\"poids_maxi = {poids_max} kg => remplissage du sac : {sac_a_dos(valeurs, poids, poids_max)}\")"
   ]
  },
  {
   "cell_type": "markdown",
   "metadata": {},
   "source": [
    "## Deuxième stratégie\n",
    "On choisit les objets dont le rapport valeur/masse est le plus grand"
   ]
  },
  {
   "cell_type": "markdown",
   "metadata": {},
   "source": [
    "Ecrire une fonction qui prend en paramètres  Liste_valeurs et Liste_masses et renvoie une liste de tuples (valeur,masse)   triée selon l'ordre décroissant du rapport valeur/masse "
   ]
  },
  {
   "cell_type": "code",
   "execution_count": 7,
   "metadata": {},
   "outputs": [
    {
     "data": {
      "text/plain": [
       "[(7, 13), (3, 8), (4, 12), (3, 10)]"
      ]
     },
     "execution_count": 7,
     "metadata": {},
     "output_type": "execute_result"
    }
   ],
   "source": [
    "def tri_rapport(valeurs, poids):\n",
    "    tempo = sorted([(valeur/poids_, valeur, poids_) for valeur, poids_ in zip(valeurs, poids)], reverse=True)\n",
    "   # print(tempo) # à commenter après développement\n",
    "    return [(valeur, poids) for _, valeur, poids in tempo]\n",
    "\n",
    "# test \n",
    "tri_rapport(valeurs, poids)"
   ]
  },
  {
   "cell_type": "code",
   "execution_count": 8,
   "metadata": {},
   "outputs": [],
   "source": [
    "def sac_a_dos2(valeurs, poids, poids_maxi):\n",
    "    L = tri_rapport(valeurs, poids)\n",
    "    objets = []\n",
    "    poids_total = 0\n",
    "    valeur_totale = 0\n",
    "    for valeur, poids_ in L:\n",
    "        if poids_ < poids_maxi:\n",
    "            poids_maxi -= poids_ \n",
    "            poids_total += poids_  \n",
    "            objets.append(valeur) \n",
    "            valeur_totale += valeur\n",
    "            \n",
    "    return(objets, valeur_totale, poids_total)"
   ]
  },
  {
   "cell_type": "code",
   "execution_count": 9,
   "metadata": {},
   "outputs": [
    {
     "name": "stdout",
     "output_type": "stream",
     "text": [
      "Valeurs : [7, 4, 3, 3]\n",
      "Poids : [13, 12, 8, 10]\n",
      "\n",
      "poids_maxi = 15 kg => \n",
      "stratégie 1 : ([7], 7, 13), \n",
      "stratégie 2 : ([7], 7, 13)\n",
      "\n",
      "poids_maxi = 22 kg => \n",
      "stratégie 1 : ([7, 3], 10, 21), \n",
      "stratégie 2 : ([7, 3], 10, 21)\n",
      "\n",
      "poids_maxi = 30 kg => \n",
      "stratégie 1 : ([7, 4], 11, 25), \n",
      "stratégie 2 : ([7, 3], 10, 21)\n",
      "\n"
     ]
    }
   ],
   "source": [
    "# tests :\n",
    "poids_maxi = [15, 22, 30]\n",
    "print(f\"Valeurs : {valeurs}\")\n",
    "print(f\"Poids : {poids}\")\n",
    "print()\n",
    "for poids_max in poids_maxi:\n",
    "    print(f\"poids_maxi = {poids_max} kg => \\nstratégie 1 : {sac_a_dos(valeurs, poids, poids_max)}, \\nstratégie 2 : {sac_a_dos2(valeurs, poids, poids_max)}\\n\")"
   ]
  },
  {
   "cell_type": "markdown",
   "metadata": {},
   "source": [
    "Pour un sac de 30 kg maximum, la première stratégie est meilleure."
   ]
  },
  {
   "cell_type": "code",
   "execution_count": 10,
   "metadata": {},
   "outputs": [
    {
     "name": "stdout",
     "output_type": "stream",
     "text": [
      "stratégie 1 : ([6, 8, 14, 6, 13, 17, 10, 4, 5, 11, 26, 35, 2, 1, 2, 7, 3], 170, 518)\n",
      "stratégie 2 : ([30, 35, 4, 2, 26, 5, 10, 1, 13, 15, 11, 7, 6, 6, 2, 8], 181, 514)\n"
     ]
    }
   ],
   "source": [
    "# autre exemple\n",
    "\n",
    "poids = [20, 30, 50, 20, 40, 60, 30 ,10 , 14, 36, 72 , 86 , 5, 3, 7, 23, 49, 57, 69, 12]\n",
    "valeurs = [6, 8, 14, 6, 13, 17, 10, 4, 5, 11, 26, 35, 2, 1, 2, 7, 15, 17, 30, 3]\n",
    "poids_maxi = 520\n",
    "\n",
    "print(f\"stratégie 1 : {sac_a_dos(valeurs, poids, poids_maxi)}\")\n",
    "print(f\"stratégie 2 : {sac_a_dos2(valeurs, poids, poids_maxi)}\")"
   ]
  },
  {
   "cell_type": "markdown",
   "metadata": {},
   "source": [
    "Dans cet exemple, la deuxième stratégie est meilleure."
   ]
  },
  {
   "cell_type": "markdown",
   "metadata": {},
   "source": [
    "# Autre thème : pythontutor dans jupyter"
   ]
  },
  {
   "cell_type": "code",
   "execution_count": 1,
   "metadata": {},
   "outputs": [],
   "source": [
    "from metakernel import register_ipython_magics"
   ]
  },
  {
   "cell_type": "code",
   "execution_count": 12,
   "metadata": {},
   "outputs": [],
   "source": [
    "# si nécesaire, décommenter la ligne suivante et éxecuter la cellule :\n",
    "#!pip install metakernel"
   ]
  },
  {
   "cell_type": "code",
   "execution_count": 2,
   "metadata": {},
   "outputs": [],
   "source": [
    "from metakernel import register_ipython_magics\n",
    "register_ipython_magics()"
   ]
  },
  {
   "cell_type": "code",
   "execution_count": 14,
   "metadata": {},
   "outputs": [],
   "source": [
    "def f(x):\n",
    "    return(x**2)"
   ]
  },
  {
   "cell_type": "code",
   "execution_count": 3,
   "metadata": {},
   "outputs": [
    {
     "data": {
      "text/html": [
       "\n",
       "        <iframe\n",
       "            width=\"100%\"\n",
       "            height=\"500\"\n",
       "            src=\"https://pythontutor.com/iframe-embed.html#code=def%20tri_ins%28t%29%3A%0A%20%20%20%20%23version%20it%C3%A9rative%0A%20%20%20%20for%20k%20in%20range%281%2Clen%28t%29%29%3A%0A%20%20%20%20%20%20%20%20temp%3Dt%5Bk%5D%0A%20%20%20%20%20%20%20%20j%3Dk%0A%20%20%20%20%20%20%20%20while%20j%3E0%20and%20temp%3Ct%5Bj-1%5D%3A%0A%20%20%20%20%20%20%20%20%20%20%20%20t%5Bj%5D%3Dt%5Bj-1%5D%0A%20%20%20%20%20%20%20%20%20%20%20%20j-%3D1%0A%20%20%20%20%20%20%20%20t%5Bj%5D%3Dtemp%0A%20%20%20%20return%20t%0Atab%3D%20%5B3%2C5%2C7%2C2%2C4%2C1%5D%0Atri_ins%28tab%29%0A&origin=opt-frontend.js&cumulative=false&heapPrimitives=false&textReferences=false&py=3&rawInputLstJSON=%5B%5D&curInstr=0&codeDivWidth=350&codeDivHeight=400\"\n",
       "            frameborder=\"0\"\n",
       "            allowfullscreen\n",
       "        ></iframe>\n",
       "        "
      ],
      "text/plain": [
       "<IPython.lib.display.IFrame at 0x7f433c7c3cf8>"
      ]
     },
     "metadata": {},
     "output_type": "display_data"
    }
   ],
   "source": [
    "%%tutor\n",
    "def tri_ins(t):\n",
    "    #version itérative\n",
    "    for k in range(1,len(t)):\n",
    "        temp=t[k]\n",
    "        j=k\n",
    "        while j>0 and temp<t[j-1]:\n",
    "            t[j]=t[j-1]\n",
    "            j-=1\n",
    "        t[j]=temp\n",
    "    return t\n",
    "tab= [3,5,7,2,4,1]\n",
    "tri_ins(tab)"
   ]
  },
  {
   "cell_type": "code",
   "execution_count": 16,
   "metadata": {},
   "outputs": [
    {
     "data": {
      "text/html": [
       "\n",
       "        <iframe\n",
       "            width=\"100%\"\n",
       "            height=\"500\"\n",
       "            src=\"https://pythontutor.com/iframe-embed.html#code=def%20f%28x%29%3A%0A%20%20%20%20return%28x%2A%2A2%29%0Af%285%29%0A&origin=opt-frontend.js&cumulative=false&heapPrimitives=false&textReferences=false&py=3&rawInputLstJSON=%5B%5D&curInstr=0&codeDivWidth=350&codeDivHeight=400\"\n",
       "            frameborder=\"0\"\n",
       "            allowfullscreen\n",
       "        ></iframe>\n",
       "        "
      ],
      "text/plain": [
       "<IPython.lib.display.IFrame at 0x7f9761df1390>"
      ]
     },
     "metadata": {},
     "output_type": "display_data"
    }
   ],
   "source": [
    "%%tutor \n",
    "def f(x):\n",
    "    return(x**2)\n",
    "f(5)"
   ]
  }
 ],
 "metadata": {
  "celltoolbar": "Format de la Cellule Texte Brut",
  "kernelspec": {
   "display_name": "Python 3",
   "language": "python",
   "name": "python3"
  },
  "language_info": {
   "codemirror_mode": {
    "name": "ipython",
    "version": 3
   },
   "file_extension": ".py",
   "mimetype": "text/x-python",
   "name": "python",
   "nbconvert_exporter": "python",
   "pygments_lexer": "ipython3",
   "version": "3.7.3"
  },
  "varInspector": {
   "cols": {
    "lenName": 16,
    "lenType": 16,
    "lenVar": 40
   },
   "kernels_config": {
    "python": {
     "delete_cmd_postfix": "",
     "delete_cmd_prefix": "del ",
     "library": "var_list.py",
     "varRefreshCmd": "print(var_dic_list())"
    },
    "r": {
     "delete_cmd_postfix": ") ",
     "delete_cmd_prefix": "rm(",
     "library": "var_list.r",
     "varRefreshCmd": "cat(var_dic_list()) "
    }
   },
   "types_to_exclude": [
    "module",
    "function",
    "builtin_function_or_method",
    "instance",
    "_Feature"
   ],
   "window_display": false
  }
 },
 "nbformat": 4,
 "nbformat_minor": 2
}
