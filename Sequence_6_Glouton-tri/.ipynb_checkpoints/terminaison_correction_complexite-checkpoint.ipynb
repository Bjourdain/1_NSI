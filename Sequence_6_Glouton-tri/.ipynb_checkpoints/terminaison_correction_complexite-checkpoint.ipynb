{
 "cells": [
  {
   "cell_type": "markdown",
   "metadata": {},
   "source": [
    "Terminaison, correction et complexité d'un programme"
   ]
  },
  {
   "cell_type": "markdown",
   "metadata": {},
   "source": [
    "Lorsque l’on écrit un algorithme, on souhaite plusieurs choses :\n",
    "1. Que cet algorithme se termine (pas de boucle infinie)\n",
    "2. Qu’il produise le résultat attendu (résultat correct)\n",
    "3. Qu’il soit le plus rapide possible et nécessite le moins de mémoire possible.\n",
    "\n",
    "Lorsqu'on écrit un programme il est important de vérifier qu'il est correct, c'est à dire qu'il réalise bien ce qu'on attend de lui. Une erreur peut avoir un impact :\n",
    "\n",
    "- Sur des vies humaines (conduite des lignes de métro automatiques, secteur militaire ...) ;\n",
    "- économique (lancement d'engin spacial ...)\n"
   ]
  },
  {
   "cell_type": "markdown",
   "metadata": {},
   "source": [
    "Terminaison"
   ]
  },
  {
   "cell_type": "markdown",
   "metadata": {},
   "source": [
    "Un algorithme est un programme de calcul qui s'exécute en un nombre fini d'étapes. Si dans le cadre des **boucles bornées** (boucle **for** en python) on a la certitude que le calcul se finira effectivement, lors de l'exécution d'une boucle **non bornée** (boucle **while** en python), nous n'avons pas cette certitude. \n",
    "\n",
    "De manière plus détaillée, nous allons :\n",
    "- Montrer qu'une boucle se **termine bien**. On appelle ce problème la **terminaison**.\n",
    "- Montrer que si la boucle s'arrête, elle **calcule bien** ce qu'elle est supposée calculer. On appelle ce problème la **correction partielle**.\n",
    "\n",
    "La **correction totale** est la **terminaison** et la **correction partielle**."
   ]
  },
  {
   "cell_type": "markdown",
   "metadata": {},
   "source": [
    "*Prenons un exemple* : Ce programme calcule la valeur de $2^{exposant}$ au moyen d'une boucle (la méthode utilsée ne sera pas remise en cause). La valeur de l'exposant est saisi au clavier par l'utilisateur.\n",
    "\n",
    "- Après avoir analyser le fonctionnement de la fonction, testez la avec différentes valeurs de votre choix, mais aussi avec une valeur négative.\n",
    "\n",
    "**Help : Noyau, redémarrer et effacer les sorties**\n",
    "\n",
    "- Proposer 2 solutions permettant d'éviter le problème."
   ]
  },
  {
   "cell_type": "code",
   "execution_count": 6,
   "metadata": {},
   "outputs": [
    {
     "name": "stdout",
     "output_type": "stream",
     "text": [
      "Donnez la valeur de l'exposant :5\n",
      "le résultat est : 32\n"
     ]
    }
   ],
   "source": [
    "def puissance_2(exp):\n",
    "    \"\"\"\n",
    "    La fonction calcule la valeur de 2 élevé\n",
    "    à la puissance de l'exposant fourni en paramètre\n",
    "    et retourne le résultat\n",
    "    Entrée : exp valeur entier (int)\n",
    "    Sortie : valeur valeur entière (int)\n",
    "    \"\"\"\n",
    "    valeur=1\n",
    "    while exp != 0:\n",
    "        valeur = 2*valeur\n",
    "        exp = exp-1\n",
    "    return valeur\n",
    "exposant=int(input('Donnez la valeur de l\\'exposant :'))\n",
    "resultat = puissance_2(exposant)\n",
    "print(f'le résultat est : {resultat}')"
   ]
  },
  {
   "cell_type": "markdown",
   "metadata": {},
   "source": [
    "Propositions de solution : il reste le problème du retour de la valeur (faire des tests sur valeur : doctest)\n",
    "assertion sur postcondition, faire un test sur le type"
   ]
  },
  {
   "cell_type": "code",
   "execution_count": 11,
   "metadata": {},
   "outputs": [
    {
     "name": "stdout",
     "output_type": "stream",
     "text": [
      "Donnez la valeur de l'exposant :-1\n",
      "le résultat est : 1\n"
     ]
    }
   ],
   "source": [
    "def puissance_2(exp):\n",
    "    \"\"\"\n",
    "    La fonction calcule la valeur de 2 élevé\n",
    "    à la puissance de l'exposant fourni en paramètre\n",
    "    et retourne le résultat\n",
    "    Entrée : exp valeur entier (int)\n",
    "    Sortie : valeur valeur entière (int)\n",
    "    \"\"\"\n",
    "    #Précondition\n",
    "    assert exp>0,'La valeur de l\\'exposant doit être positif ou nul'\n",
    "    valeur=1\n",
    "    while exp > 0:\n",
    "        valeur = 2*valeur\n",
    "        exp = exp-1\n",
    "    #Postcondition\n",
    "    return valeur\n",
    "exposant=int(input('Donnez la valeur de l\\'exposant :'))\n",
    "resultat = puissance_2(exposant)\n",
    "print(f'le résultat est : {resultat}')"
   ]
  },
  {
   "cell_type": "markdown",
   "metadata": {},
   "source": [
    "## Variant de boucle"
   ]
  },
  {
   "cell_type": "markdown",
   "metadata": {},
   "source": [
    "Les variants de boucle sont un outil qui va permettre de montrer la terminaison d'algorithmes.\n",
    "\n",
    "Définition (variant de boucle)\n",
    "\n",
    "Un variant de boucle est une quantité entière définie en fonction des variables ($x_1$, . . . , $x_k$) constituant l’état de la machine, et de n, le nombre de passages effectués dans la boucle qui :\n",
    "\n",
    "1. est un entier strictement positif avant l'exécution de la boucle\n",
    "2. décroît strictement à chaque itération\n",
    "3. lorsqu'elle est inférieure à un certain nombre (en particulier lorsqu'elle arrête d'être strictement positive) rend la condition d'exécution de la boucle conditionnelle fausse\n",
    "\n",
    "Théorème (Terminaison d’une boucle, d’un algorithme)\n",
    "\n",
    "1. Si, pour une boucle donnée, on peut exhiber un variant de boucle, alors le nombre de passages dans la boucle est finie.\n",
    "2. Si, pour un algorithme donné, on peut exhiber, pour toute boucle de l’algorithme, un variant de boucle, alors l’algorithme s’arrête en temps fini"
   ]
  },
  {
   "cell_type": "markdown",
   "metadata": {},
   "source": [
    "Remarque :\n",
    "\n",
    "Dans le cas d’une boucle for, on peut toujours construire un variant simple. Si la boucle est donnée par la structure :\n",
    "    \n",
    "    Pour i ← a à b, un variant simple est b − i\n",
    "\n"
   ]
  },
  {
   "cell_type": "markdown",
   "metadata": {},
   "source": [
    "Quelques exercices"
   ]
  },
  {
   "cell_type": "markdown",
   "metadata": {},
   "source": [
    "## Invariant de boucle"
   ]
  },
  {
   "cell_type": "markdown",
   "metadata": {},
   "source": [
    "Les invariants de boucle sont un outil qui va permettre de montrer la correction partielle d'algorithmes.\n",
    "\n",
    "Définition (Invariant de boucle)\n",
    "\n",
    "On appelle invariant d’une boucle une propriété qui si elle est vraie avant l’exécution d’une itération le demeure après l’exécution de l’itération."
   ]
  },
  {
   "cell_type": "markdown",
   "metadata": {},
   "source": [
    "Quelques exercices"
   ]
  },
  {
   "cell_type": "markdown",
   "metadata": {},
   "source": []
  },
  {
   "cell_type": "code",
   "execution_count": null,
   "metadata": {},
   "outputs": [],
   "source": []
  },
  {
   "cell_type": "code",
   "execution_count": null,
   "metadata": {},
   "outputs": [],
   "source": []
  }
 ],
 "metadata": {
  "kernelspec": {
   "display_name": "Python 3",
   "language": "python",
   "name": "python3"
  },
  "language_info": {
   "codemirror_mode": {
    "name": "ipython",
    "version": 3
   },
   "file_extension": ".py",
   "mimetype": "text/x-python",
   "name": "python",
   "nbconvert_exporter": "python",
   "pygments_lexer": "ipython3",
   "version": "3.7.3"
  },
  "varInspector": {
   "cols": {
    "lenName": 16,
    "lenType": 16,
    "lenVar": 40
   },
   "kernels_config": {
    "python": {
     "delete_cmd_postfix": "",
     "delete_cmd_prefix": "del ",
     "library": "var_list.py",
     "varRefreshCmd": "print(var_dic_list())"
    },
    "r": {
     "delete_cmd_postfix": ") ",
     "delete_cmd_prefix": "rm(",
     "library": "var_list.r",
     "varRefreshCmd": "cat(var_dic_list()) "
    }
   },
   "types_to_exclude": [
    "module",
    "function",
    "builtin_function_or_method",
    "instance",
    "_Feature"
   ],
   "window_display": false
  }
 },
 "nbformat": 4,
 "nbformat_minor": 4
}
