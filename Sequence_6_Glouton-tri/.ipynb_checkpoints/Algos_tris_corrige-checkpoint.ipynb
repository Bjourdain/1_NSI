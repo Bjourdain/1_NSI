{
 "cells": [
  {
   "cell_type": "markdown",
   "metadata": {},
   "source": [
    "# <center><font face=\"arial\" size=\"5\" color=#0101DF>NUMERIQUE ET SCIENCES INFORMATIQUES 1ère NSI</font></center>"
   ]
  },
  {
   "cell_type": "markdown",
   "metadata": {},
   "source": [
    "## <font color=#013ADF>Séquence N° 6 : Les algorithmes de tri</font>"
   ]
  },
  {
   "cell_type": "markdown",
   "metadata": {},
   "source": [
    "### 1- Le tri par sélection"
   ]
  },
  {
   "cell_type": "markdown",
   "metadata": {},
   "source": [
    "<div class=\"alert alert-danger\" role=\"alert\">\n",
    "Démonstration avec le script en javascript"
   ]
  },
  {
   "cell_type": "markdown",
   "metadata": {},
   "source": [
    "<div class=\"alert alert-success\">\n",
    "<img src=\"Images/warning.png\" alt=\"logo CR\" width=5% align=left>\n",
    "\n",
    "\n",
    ">Principe\n",
    "\n",
    "Entrée :\tune liste d'éléments de même type\n",
    "\n",
    "Sortie :\tla liste triée en ordre croissant\n",
    "\n",
    "1. On colore en bleu tous les éléments.\n",
    "2. On repère un élément de valeur minimale (en vert) parmi les éléments bleus.\n",
    "3. On échange cet élément avec l'élément en tête des éléments bleus, puis on le colore en rouge.\n",
    "4. On reprend au point 2 tant qu'il reste des bleus.\n"
   ]
  },
  {
   "cell_type": "markdown",
   "metadata": {},
   "source": [
    "<img src=\"Images/tri_selection.png\" alt=\"selection\" width=50% align=center>"
   ]
  },
  {
   "cell_type": "markdown",
   "metadata": {},
   "source": [
    "<div class=\"alert alert-warning\">\n",
    "<img src=\"Images/CR.png\" alt=\"logo CR\" width=5% align=right>\n",
    "\n",
    "On fournit ci-dessous l'algorithme du tri par sélection.\n",
    "1. Écrire en python la fonction de tri.\n",
    "\n",
    "On utilisera les quelques lignes de code en python qui permettent de générer une liste. Ce code nous permettra de faire varier facilement, la gamme et le nombre d'éléments de la liste (tableau).\n",
    "\n",
    "2. Déterminez, en fonction de n = longueur de la liste donnée en entrée, le nombre d'itérations réalisées. En déduire sa complexité temporelle.\n",
    "3. Justifiez la terminaison du programme.\n"
   ]
  },
  {
   "cell_type": "raw",
   "metadata": {},
   "source": [
    "debut fonction tri_selection(liste L)\n",
    "   n ← taille de L\n",
    "   pour i allant de 0 à n-1\n",
    "      indice_min ← i\n",
    "      pour j allant de i+1 à n\n",
    "         si L[j] < L[indice_min]\n",
    "            alors indice_min ← j\n",
    "      fin pour\n",
    "      échanger L[i] et L[indice_min]\n",
    "   fin pour\n",
    "   retourner liste L triée\n",
    "fin fonction"
   ]
  },
  {
   "cell_type": "code",
   "execution_count": null,
   "metadata": {},
   "outputs": [],
   "source": [
    "from random import randint\n",
    "\n",
    "def tri_selection(L):\n",
    "    n=len(L) # on stocke le nombre des éléments de la liste L dans n   \n",
    "    for i in range(n-1) :\n",
    "        # on cherche l'indice de l'élément le plus petit de la liste L de à partir de l'indice i jusqu'à n-1\n",
    "        indice_min = i # on considére que l'indice i contient l'élément le plus petit entre tous les éléments de i jusqu'à n-1\n",
    "        for  j  in range( i+1,n) :\n",
    "            # on teste tous les éléments d'indice j\n",
    "            if L[j]<L[indice_min] :# Si on trouve un élément tel que L[j] < L[indice_min] on change l'indice indice_min\n",
    "                indice_min = j\n",
    "        L[i],L[indice_min]= L[indice_min], L[i]  # on permute L[i] avec L[indice_min]\n",
    "    return L\n",
    "\n",
    "liste_valeurs = [randint(1, 100) for i in range(10000)]\n",
    "new_liste=liste_valeurs[:]\n",
    "%timeit tri_selection(new_liste)\n",
    "print(new_liste)"
   ]
  },
  {
   "cell_type": "markdown",
   "metadata": {},
   "source": [
    "<div class=\"alert alert-danger\" role=\"alert\">\n",
    "\n",
    "La première boucle for s'exécute pour i allant de 0 à n-2\n",
    "\n",
    "La seconde boucle for s'exécute pour j allant de i+1 à n-1.  Elle s'exécute donc n-1 -i fois\n",
    "\n",
    "Les autres instructions s'exécute à temps constant indépendamment de n\n",
    "\n",
    "Si on imagine une liste ayant un nombre d'éléments importants (n très grand), les valeurs -1, -2 sont négligeables.\n",
    "\n",
    "On a une complexité temporelle de n<sup>2</sup> qui s'écrit : O(n<sup>2</sup> )"
   ]
  },
  {
   "cell_type": "markdown",
   "metadata": {},
   "source": [
    "### 2- Le tri par insertion"
   ]
  },
  {
   "cell_type": "markdown",
   "metadata": {},
   "source": [
    "<div class=\"alert alert-danger\" role=\"alert\">\n",
    "Démonstration avec le script en javascript"
   ]
  },
  {
   "cell_type": "markdown",
   "metadata": {},
   "source": [
    "<div class=\"alert alert-success\">\n",
    "<img src=\"Images/warning.png\" alt=\"logo CR\" width=5% align=left>\n",
    "\n",
    "\n",
    ">Principe\n",
    "\n",
    "Entrée :\tune liste d'éléments de même type\n",
    "\n",
    "Sortie :\tla liste triée en ordre croissant\n",
    "\n",
    "     \n",
    "\n",
    "Les éléments en rouge sont triés dans l'ordre croissant. Les éléments suivants sont bleus (non encore triés).\n",
    "\n",
    "1. On prend le premier élément non trié de la liste en bleue (en vert).\n",
    "2. On cherche le rang R du premier élément supérieur ou égal à l'élément vert dans la liste rouge.\n",
    "3. Chaque élément à partir de la tête bleue jusque l'élément d'indice R (en descendant) prend la valeur de son prédecesseur.\n",
    "4. On place au rang R la valeur de l'élément vert. Cet élément devient rouge également.\n",
    "5. Retour au point 1 tant qu'il y a des éléments bleus."
   ]
  },
  {
   "cell_type": "markdown",
   "metadata": {},
   "source": [
    "<img src=\"Images/tri_insertion.png\" alt=\"insertion\" width=50% align=center>"
   ]
  },
  {
   "cell_type": "markdown",
   "metadata": {},
   "source": [
    "<div class=\"alert alert-warning\">\n",
    "<img src=\"Images/CR.png\" alt=\"logo CR\" width=5% align=right>\n",
    "\n",
    "On fournit ci-dessous l'algorithme du tri par insertion.\n",
    "1. Écrire en python la fonction de tri.\n",
    "2. Déterminez, en fonction de n = longueur de la liste donnée en entrée, le nombre d'itérations réalisées. En déduire sa complexité temporelle.\n",
    "3. Justifiez la terminaison du programme."
   ]
  },
  {
   "cell_type": "code",
   "execution_count": null,
   "metadata": {},
   "outputs": [],
   "source": [
    "debut fonction tri_insertion(liste L)\n",
    "   n ← taille de L\n",
    "   pour i allant de 1 à n\n",
    "      temp ← L[i]\n",
    "      j ← i-1\n",
    "      tant que j > 0 et L[j] > temp faire\n",
    "         L[j+1] ← L[j]\n",
    "         j ← j - 1\n",
    "      fin tant que\n",
    "      L[j+1] ← temp\n",
    "   fin pour\n",
    "fin fonction"
   ]
  },
  {
   "cell_type": "code",
   "execution_count": null,
   "metadata": {},
   "outputs": [],
   "source": [
    "def tri_insertion(L):   \n",
    "    for i in range(1, len(L)):  \n",
    "        temp=L[i] # à l'itération i la liste L de l'indice 0 à j=i-1 est trié et on insert L[i]=temp\n",
    "        j = i - 1\n",
    "        while j >=0 and L[j] > temp: # on cherche l'indice de 0 à i-1 où il faut inserer L[i]=temp\n",
    "            L[j+1] = L[j]\n",
    "            j-= 1\n",
    "        L[j+1] = temp  # on insert L[i] à sa position     \n",
    "    return L\n",
    "\n",
    "liste_valeurs= [randint(1, 100) for i in range(10)]\n",
    "new_liste=liste_valeurs[:]\n",
    "%timeit tri_insertion(new_liste)\n",
    "print(new_liste)"
   ]
  },
  {
   "cell_type": "markdown",
   "metadata": {},
   "source": [
    "<div class=\"alert alert-danger\" role=\"alert\">\n",
    "\n",
    "La boucle for s'exécute pour i allant de 1 à n-1\n",
    "\n",
    "La boucle while s'exécute j fois dans le pire des cas (liste triée par ordre décroissant)\n",
    "\n",
    "Les autres instructions s'exécute à temps constant indépendamment de n\n",
    "\n",
    "\n",
    "On a une complexité temporelle de n<sup>2</sup> qui s'écrit : O(n<sup>2</sup> ) dans le pire des cas.\n",
    "\n",
    "Il est linéaire si la liste est déja triée"
   ]
  },
  {
   "cell_type": "markdown",
   "metadata": {},
   "source": [
    "### 3- Le tri sort (sorted)"
   ]
  },
  {
   "cell_type": "markdown",
   "metadata": {},
   "source": [
    "<div class=\"alert alert-success\">\n",
    "<img src=\"Images/warning.png\" alt=\"logo CR\" width=5% align=left>\n",
    "\n",
    "Les listes Python ont une méthode native .sort() qui modifie la liste elle-même. Il y a également une fonction native sorted() qui construit une nouvelle liste triée depuis un itérable.\n",
    "\n",
    "Ces méthodes ont-elles une complexité temporelle plus ou moins importante ?\n",
    "\n",
    "- Comparons les temps d'exécution par rapport aux tris par sélection et par insertion.\n",
    "- En suivant le lien, quelle est la complexité de la méthode Sort ? https://wiki.python.org/moin/TimeComplexity\n",
    "\n"
   ]
  },
  {
   "cell_type": "code",
   "execution_count": null,
   "metadata": {},
   "outputs": [],
   "source": [
    "liste_valeurs=[randint(1, 10) for i in range(100)]\n",
    "new_liste=liste_valeurs[:]\n",
    "%timeit sorted(new_liste)"
   ]
  },
  {
   "cell_type": "code",
   "execution_count": null,
   "metadata": {},
   "outputs": [],
   "source": [
    "liste_valeurs=[randint(1, 10) for i in range(100)]\n",
    "new_liste=liste_valeurs[:]\n",
    "%timeit new_liste.sort()"
   ]
  },
  {
   "cell_type": "markdown",
   "metadata": {},
   "source": [
    "<div class=\"alert alert-danger\" role=\"alert\">\n",
    "\n",
    "O(nlog(n))"
   ]
  },
  {
   "cell_type": "markdown",
   "metadata": {},
   "source": [
    "<div class=\"alert alert-success\">\n",
    "<img src=\"Images/warning.png\" alt=\"logo CR\" width=5% align=left>\n",
    "\n",
    "Pour se faire une idée plus précise des complexités en temps, exécutez le programme ci-dessous, qui compare une complexité quadratique avec une complexité logarithmique :"
   ]
  },
  {
   "cell_type": "code",
   "execution_count": 4,
   "metadata": {},
   "outputs": [
    {
     "data": {
      "image/png": "[encoded data removed]",
      "text/plain": [
       "<Figure size 432x288 with 1 Axes>"
      ]
     },
     "metadata": {
      "needs_background": "light"
     },
     "output_type": "display_data"
    }
   ],
   "source": [
    "import matplotlib.pyplot as plt\n",
    "import math\n",
    "\n",
    "n=[10,100,1000,10000,100000,1000000]\n",
    "\n",
    "plt.title(\"Complexité\")\n",
    "plt.plot(n, [nombre**2 for nombre in n],'b')\n",
    "plt.plot(n, [nombre*(math.log2(nombre)) for nombre in n],'r')\n",
    "#plt.xlabel('n')\n",
    "plt.ylabel('Temps')\n",
    "plt.show()"
   ]
  },
  {
   "cell_type": "code",
   "execution_count": null,
   "metadata": {},
   "outputs": [],
   "source": []
  }
 ],
 "metadata": {
  "kernelspec": {
   "display_name": "Python 3",
   "language": "python",
   "name": "python3"
  },
  "language_info": {
   "codemirror_mode": {
    "name": "ipython",
    "version": 3
   },
   "file_extension": ".py",
   "mimetype": "text/x-python",
   "name": "python",
   "nbconvert_exporter": "python",
   "pygments_lexer": "ipython3",
   "version": "3.6.10"
  },
  "varInspector": {
   "cols": {
    "lenName": 16,
    "lenType": 16,
    "lenVar": 40
   },
   "kernels_config": {
    "python": {
     "delete_cmd_postfix": "",
     "delete_cmd_prefix": "del ",
     "library": "var_list.py",
     "varRefreshCmd": "print(var_dic_list())"
    },
    "r": {
     "delete_cmd_postfix": ") ",
     "delete_cmd_prefix": "rm(",
     "library": "var_list.r",
     "varRefreshCmd": "cat(var_dic_list()) "
    }
   },
   "types_to_exclude": [
    "module",
    "function",
    "builtin_function_or_method",
    "instance",
    "_Feature"
   ],
   "window_display": false
  }
 },
 "nbformat": 4,
 "nbformat_minor": 2
}
