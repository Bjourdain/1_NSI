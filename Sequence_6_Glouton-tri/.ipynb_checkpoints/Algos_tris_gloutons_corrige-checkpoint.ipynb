{
 "cells": [
  {
   "cell_type": "markdown",
   "metadata": {},
   "source": [
    "# <center><font face=\"arial\" size=\"5\" color=#0101DF>NUMERIQUE ET SCIENCES INFORMATIQUES 1ère NSI</font></center>"
   ]
  },
  {
   "cell_type": "markdown",
   "metadata": {},
   "source": [
    "## <font color=#013ADF>Séquence N° 6 : Les algorithmes gloutons</font>"
   ]
  },
  {
   "cell_type": "markdown",
   "metadata": {},
   "source": [
    "<div class=\"alert alert-danger\" role=\"alert\">\n",
    "    \n",
    "Les objectifs de cette séquence sont :\n",
    "\n",
    "- Définir et résoudre un problème grâce à un algorithme glouton ;\n",
    "- Écrire un algorithme de tri ;\n",
    "- Décrire un invariant de boucle qui prouve la correction des tris par insertion et par sélection ;\n",
    "- Comparer le coût de différents algorithmes de tri.\n"
   ]
  },
  {
   "cell_type": "markdown",
   "metadata": {},
   "source": [
    "### 1- Les algorithmes gloutons"
   ]
  },
  {
   "cell_type": "markdown",
   "metadata": {},
   "source": [
    "**Problématique 1** :\n",
    "\n",
    "Nous disposons d'un distributeur automatique de sandwichs. L'appareil doit rendre la monnaie à l'usager."
   ]
  },
  {
   "cell_type": "markdown",
   "metadata": {},
   "source": [
    "<div class=\"alert alert-warning\">\n",
    "<img src=\"Images/CR.png\" alt=\"logo CR\" width=5% align=right>\n",
    "\n",
    "Si vous lisez ce document, vous devez avoir un répertoire nommé \"rendu_monnaie. Celui-ci qui contient les fichiers html, css et javascript (non finalisé), bien rangés dans des répertoires correspondants.\n",
    "\n",
    "Travail demandé :\n",
    "\n",
    "- Analysez le fonctionnement et le code fourni;\n",
    "- Tracez l'algorithme de la fonction \"renduMonnaie\" pour que l'appareil rendre la monnaie avec un **nombre minimal de pièces** (voir méthode ci-dessous). Celle-ci :\n",
    "    - Utilise les variables globales ci-dessous ;\n",
    "    - Calcule le montant à rendre ;\n",
    "    - Détermine le nombre et la valeur des pièces rendues ;\n",
    "    - Met à jour la page HTML ;\n",
    "    - Désactive les boutons \"Valider\" et \"Commander\", ainsi que l'action sur les pièces.\n",
    "\n",
    "- Complétez le script \"script_distributeur.js\" avec votre fonction. Vous pouvez tester le coeur de votre fonction dans une cellule ci-dessous.\n",
    "\n",
    "En complément de la formation sur le langage javascript, voici un lien utile : https://www.w3schools.com/js/\n"
   ]
  },
  {
   "cell_type": "markdown",
   "metadata": {},
   "source": [
    "<div class=\"alert alert-success\">\n",
    "<img src=\"Images/warning.png\" alt=\"logo CR\" width=5% align=left>\n",
    "\n",
    "Nous avons à résoudre un problème d'**optimisation**.\n",
    "\n",
    "\n",
    "1. **Solution naïve**\n",
    "\n",
    "La solution a laquelle on pense immédiatement est d'énumérer toutes les combinaisons de possibles, de sélectionner celles qui impliquent un minimum de pièces et de choisir la meilleure.\n",
    "\n",
    "Cette solution, dite de **force brute**, fonctionnera toujours mais est très loin d'être efficace.\n",
    "En effet, si elle est simple dans certains cas, elle implique en général un nombre très important de combinaisons différentes, ce qui nuit grandement à l'efficacité de notre solution.\n",
    "\n",
    "\n",
    "2. **Solution gloutonne**\n",
    "\n",
    "La méthode gloutonne vise donc à optimiser la résolution d'un problème en partant du principe suivant : des choix locaux optimaux, étape après étape, devraient produire un résultat global optimal.\n",
    "\n",
    "Les algorithmes gloutons présentent l'avantage d'une conception relativement aisée à mettre en oeuvre. Cependant, le prix à payer est qu'ils ne fourniront **pas toujours la solution optimale** au problème donné : on parle alors d'**heuristique gloutonne**.\n",
    "\n",
    "Dans le **système de pièces européen** (en centimes : 1, 2, 5, 10, 20, 50, 100, 200), on peut montrer que l'algorithme glouton donne toujours une **solution optimale**."
   ]
  },
  {
   "cell_type": "raw",
   "metadata": {},
   "source": [
    "ALGORITHME\n",
    "Tant que montantRendu > 0\n",
    "    si montantRendu >= piece[index]\n",
    "        alors montantRendu = montantRendu - piece[index]\n",
    "              mettre la pièce dans la liste piecesRendues\n",
    "        sinon incrémenter l'index\n",
    "Fin tant que"
   ]
  },
  {
   "cell_type": "code",
   "execution_count": 9,
   "metadata": {},
   "outputs": [
    {
     "data": {
      "application/javascript": [
       "var pieces=[200, 100, 50, 20, 10, 5]; // liste des pièces acceptées par la machine en centimes\n",
       "var piecesRendues=[]; // liste des pièces rendues à l'utilisateur\n",
       "var montantRecu=400; // montant reçu de l'utilisateur\n",
       "var montantAttendu=150; // prix du sandwich\n",
       "var montantRendu=0; // montant à rendre\n",
       "var index=0;\n",
       "montantRendu=montantRecu-montantAttendu;\n",
       "while (montantRendu > 0){\n",
       "\tif(montantRendu >= pieces[index]){\n",
       "\t\tmontantRendu-=pieces[index];\n",
       "\t\tpiecesRendues.push((pieces[index]/100)+\"€\");\n",
       "\t}\n",
       "\telse{\n",
       "\t\tindex+=1;\n",
       "\t}\n",
       "}\n",
       "var nbPieces=piecesRendues.length;\n",
       "alert(piecesRendues)\n"
      ],
      "text/plain": [
       "<IPython.core.display.Javascript object>"
      ]
     },
     "metadata": {},
     "output_type": "display_data"
    }
   ],
   "source": [
    "%%javascript //Déclare le type de script du notebook\n",
    "var pieces=[200, 100, 50, 20, 10, 5]; // liste des pièces acceptées par la machine en centimes\n",
    "var piecesRendues=[]; // liste des pièces rendues à l'utilisateur\n",
    "var montantRecu=400; // montant reçu de l'utilisateur\n",
    "var montantAttendu=150; // prix du sandwich\n",
    "var montantRendu=0; // montant à rendre\n",
    "var index=0;\n",
    "montantRendu=montantRecu-montantAttendu;\n",
    "while (montantRendu > 0){\n",
    "\tif(montantRendu >= pieces[index]){\n",
    "\t\tmontantRendu-=pieces[index];\n",
    "\t\tpiecesRendues.push((pieces[index]/100)+\"€\");\n",
    "\t}\n",
    "\telse{\n",
    "\t\tindex+=1;\n",
    "\t}\n",
    "}\n",
    "var nbPieces=piecesRendues.length;\n",
    "alert(piecesRendues)"
   ]
  },
  {
   "cell_type": "markdown",
   "metadata": {},
   "source": [
    "**Problématique 2** :\n",
    "\n",
    "Envoyer des objets dans l'espace est une action très coûteuse. Bien que ces objets échapperont à la pesanteur lorsqu'ils seront dans l'espace, il est nécessaire de les y envoyer en minimisant le coût de l'opération.\n",
    "\n",
    "Vous travaillez pour l'entreprise chargée du prochain ravitaillement de la Station Spatiale Internationale, votre rôle va être de préparer le contenu du prochain lanceur. Votre équipe a réuni N objets (cela peut être de la nourriture, du carburant, du nouveau matériel, des expériences scientifiques à mener, etc.), et possède à disposition un espace dans le lanceur pouvant contenir au maximum M kilos. Chaque objet sera décrit selon deux caractéristiques :\n",
    "\n",
    ">* Sa masse m en kilo (avec 0<m<=M)\n",
    "* Son importance i pour la mission (avec 0<i<100)\n",
    "\n",
    "Afin d'optimiser au mieux les coûts du lancement, vous devez trouver un arrangement d'objets tel que l'importance cumulée de ces derniers (notée I) soit maximale, tout en faisant attention à ne pas dépasser les M kilos supportés par votre espace dans le lanceur.\n",
    "\n",
    "Toutes les données fournies en entrée (N, M, m, i) sont des nombres entiers.\n",
    "\n",
    "Le problème est complexe, aussi pour commencer, on vous demande de réfléchir à la solution sur un exemple plus simple.\n",
    "\n",
    "| Objet  | Masse | Importance |\n",
    "|:------:|:-----:|:----------:|\n",
    "| objet1 |  140  |     65     |\n",
    "| objet2 |   60  |     25     |\n",
    "| objet3 |   65  |     25     |\n",
    "| objet4 |   20  |     30     |\n",
    "\n",
    "Avec N=4 et M=200 kg.\n",
    "<img src=\"Images\\fusee.png\" alt=\"ma fusée\" width=\"150\"/>"
   ]
  },
  {
   "cell_type": "markdown",
   "metadata": {},
   "source": [
    "<div class=\"alert alert-warning\">\n",
    "<img src=\"Images/CR.png\" alt=\"logo CR\" width=5% align=right>\n",
    "\n",
    "Proposez des stratégies pour résoudre le problème d'optimisation (la solution de force brute sera ignorée)."
   ]
  },
  {
   "cell_type": "markdown",
   "metadata": {},
   "source": [
    "<div class=\"alert alert-danger\" role=\"alert\">\n",
    "    \n",
    "1. On choisit les objets dont le poids est le plus faible (+ d'objets)\n",
    "2. On choisit les objets dont la valeur est la plus grande (+ de valeur)\n",
    "3. On choisit les objets dont le rapport valeur/masse est le plus grand"
   ]
  },
  {
   "cell_type": "markdown",
   "metadata": {},
   "source": [
    "<div class=\"alert alert-success\">\n",
    "<img src=\"Images/warning.png\" alt=\"logo CR\" width=5% align=left>\n",
    "\n",
    "Quelque soit la solution retenue, il y a nécessité de réaliser un tri."
   ]
  },
  {
   "cell_type": "raw",
   "metadata": {},
   "source": [
    "Entrée : \t3 listes d’objets, de masses et de valeurs ordonnées de la même manière\n",
    "            1 entier représentant la masse maximale\n",
    "\n",
    "Sortie : \tliste d’objets de valeur maximale de masse inférieure ou égale à la masse maximale\n",
    "\n",
    "Début\n",
    "\t\tCalculer le ratio valeur/masse pour chaque objet\n",
    "\t\tCréer une liste d’objets avec leurs caractéristiques\n",
    "\t\tTrier la liste d’objets selon le ratio valeur/masse dans l’ordre croissant\n",
    "\t\tTant qu’il y a des objets à traiter\n",
    "\t\t\tPrendre la masse de l’objet dont le ratio valeur/masse est le plus élevé\n",
    "\t\t\tSi la masse de l’objet ≤ masse maximale disponible\n",
    "\t\t\t\tAlors\tAjouter l’objet dans le container\n",
    "\t\t\t\t\t\tDéduire la masse de l’objet de la masse maximale disponible\n",
    "\t\t\tFin si\n",
    "\t\t\tÉliminer l’objet de la liste des objets à traiter\n",
    "\t\tFin tant que\n",
    "Fin"
   ]
  },
  {
   "cell_type": "markdown",
   "metadata": {},
   "source": [
    "Voir cas non optimal"
   ]
  },
  {
   "cell_type": "markdown",
   "metadata": {},
   "source": [
    "### 2- Titre de la partie"
   ]
  },
  {
   "cell_type": "markdown",
   "metadata": {},
   "source": [
    "https://wiki.python.org/moin/TimeComplexity"
   ]
  }
 ],
 "metadata": {
  "kernelspec": {
   "display_name": "Python 3",
   "language": "python",
   "name": "python3"
  },
  "language_info": {
   "codemirror_mode": {
    "name": "ipython",
    "version": 3
   },
   "file_extension": ".py",
   "mimetype": "text/x-python",
   "name": "python",
   "nbconvert_exporter": "python",
   "pygments_lexer": "ipython3",
   "version": "3.7.3"
  },
  "varInspector": {
   "cols": {
    "lenName": 16,
    "lenType": 16,
    "lenVar": 40
   },
   "kernels_config": {
    "python": {
     "delete_cmd_postfix": "",
     "delete_cmd_prefix": "del ",
     "library": "var_list.py",
     "varRefreshCmd": "print(var_dic_list())"
    },
    "r": {
     "delete_cmd_postfix": ") ",
     "delete_cmd_prefix": "rm(",
     "library": "var_list.r",
     "varRefreshCmd": "cat(var_dic_list()) "
    }
   },
   "types_to_exclude": [
    "module",
    "function",
    "builtin_function_or_method",
    "instance",
    "_Feature"
   ],
   "window_display": false
  }
 },
 "nbformat": 4,
 "nbformat_minor": 2
}
