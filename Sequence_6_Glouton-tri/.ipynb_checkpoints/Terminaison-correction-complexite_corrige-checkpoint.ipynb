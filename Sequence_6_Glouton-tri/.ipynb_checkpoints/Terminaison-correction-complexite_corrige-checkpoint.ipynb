{
 "cells": [
  {
   "cell_type": "markdown",
   "metadata": {},
   "source": [
    "# <center><font face=\"arial\" size=\"5\" color=#0101DF>NUMERIQUE ET SCIENCES INFORMATIQUES 1ère NSI</font></center>"
   ]
  },
  {
   "cell_type": "markdown",
   "metadata": {},
   "source": [
    "## <font color=#013ADF>Séquence N° 6 : Terminaison - Correction - Complexité</font>"
   ]
  },
  {
   "cell_type": "markdown",
   "metadata": {},
   "source": [
    "<div class=\"alert alert-danger\" role=\"alert\">\n",
    "    \n",
    "Les objectifs de cette séquence sont :\n",
    "\n",
    "- Monter la terminaison de quelques algorithmes ;\n",
    "- Monter qu'un algorithme produit bien le résultat escompté ;\n",
    "- Évaluer la complexité d'un algorithme\n",
    "\n",
    "</div>"
   ]
  },
  {
   "cell_type": "markdown",
   "metadata": {},
   "source": [
    "### 1- Introduction"
   ]
  },
  {
   "cell_type": "markdown",
   "metadata": {},
   "source": [
    "Lorsque l’on écrit un algorithme, on souhaite plusieurs choses :\n",
    "1. Qu'il se termine (pas de boucle infinie) ;\n",
    "2. Qu’il produise le résultat attendu (résultat correct) ;\n",
    "3. Qu’il soit le plus rapide possible et nécessite le moins de mémoire possible.\n",
    "\n",
    "Une erreur peut avoir un impact :\n",
    "\n",
    "- Sur des vies humaines (conduite des lignes de métro automatiques, secteur militaire ...) ;\n",
    "- économique (lancement d'engin spacial ...).\n"
   ]
  },
  {
   "cell_type": "markdown",
   "metadata": {},
   "source": [
    "Un algorithme est un programme de calcul qui s'exécute en un nombre fini d'étapes. Si dans le cadre des **boucles bornées** (boucle **for** en python) on a la certitude que le calcul se finira effectivement, lors de l'exécution d'une boucle **non bornée** (boucle **while** en python), nous n'avons pas cette certitude. \n",
    "\n",
    "De manière plus détaillée, nous allons :\n",
    "- Montrer qu'une boucle se **termine bien**. On appelle ce problème la **terminaison**.\n",
    "- Montrer que si la boucle s'arrête, elle **calcule bien** ce qu'elle est supposée calculer. On appelle ce problème la **correction partielle**.\n",
    "\n",
    "La **correction totale** est la **terminaison** et la **correction partielle**."
   ]
  },
  {
   "cell_type": "markdown",
   "metadata": {},
   "source": [
    "### 2- Terminaison d'un algorithme : variant de boucle"
   ]
  },
  {
   "cell_type": "markdown",
   "metadata": {},
   "source": [
    "*Prenons un exemple* : Le programme ci-dessous calcule la valeur de $2^{exposant}$ au moyen d'une boucle (la méthode utilsée ne sera pas remise en cause). La valeur de l'exposant est saisi au clavier par l'utilisateur."
   ]
  },
  {
   "cell_type": "code",
   "execution_count": null,
   "metadata": {},
   "outputs": [],
   "source": [
    "def puissance_2(exp):\n",
    "    \"\"\"\n",
    "    La fonction calcule la valeur de 2 élevé\n",
    "    à la puissance de l'exposant fourni en paramètre\n",
    "    et retourne le résultat\n",
    "    Entrée : exp valeur entier (int)\n",
    "    Sortie : valeur valeur entière (int)\n",
    "    \"\"\"\n",
    "    valeur=1\n",
    "    while exp != 0:\n",
    "        valeur = 2*valeur\n",
    "        exp = exp-1\n",
    "    return valeur\n",
    "exposant=int(input('Donnez la valeur de l\\'exposant :'))\n",
    "resultat = puissance_2(exposant)\n",
    "print(f'le résultat est : {resultat}')"
   ]
  },
  {
   "cell_type": "markdown",
   "metadata": {},
   "source": [
    "<div class=\"alert alert-warning\">\n",
    "<img src=\"Images/CR.png\" alt=\"logo CR\" width=5% align=right>\n",
    "\n",
    "Travail à faire\n",
    "\n",
    "- Après avoir analyser le fonctionnement de la fonction, testez la avec différentes valeurs de votre choix, mais aussi avec une valeur négative.\n",
    "\n",
    "Ne me planter le serveur ! : **→: Noyau, redémarrer et effacer les sorties**\n",
    "\n",
    "- Proposer des solutions permettant d'éviter le problème (je rappelle que la méthode utilisée ne sera pas remise en cause).\n",
    "<div>"
   ]
  },
  {
   "cell_type": "markdown",
   "metadata": {},
   "source": [
    "Propositions de solution : il reste le problème du retour de la valeur (faire des tests sur valeur : doctest)\n",
    "assertion sur postcondition, faire un test sur le type"
   ]
  },
  {
   "cell_type": "code",
   "execution_count": null,
   "metadata": {},
   "outputs": [],
   "source": [
    "import doctest\n",
    "\n",
    "def puissance_2(exp):\n",
    "    \"\"\"\n",
    "    La fonction calcule la valeur de 2 élevé\n",
    "    à la puissance de l'exposant fourni en paramètre\n",
    "    et retourne le résultat\n",
    "    Entrée : exp valeur entier (int)\n",
    "    Sortie : valeur valeur entière (int)\n",
    "    Tests :\n",
    "    >>> puissance_2(1)\n",
    "    2\n",
    "    \"\"\"\n",
    "    #Précondition\n",
    "    assert exp>=0,'La valeur de l\\'exposant doit être positif ou nul'\n",
    "    valeur=1\n",
    "    while exp > 0:\n",
    "        valeur = 2*valeur\n",
    "        exp = exp-1\n",
    "    #Postcondition\n",
    "    return valeur\n",
    "\n",
    "doctest.testmod()\n",
    "exposant=int(input('Donnez la valeur de l\\'exposant :'))\n",
    "resultat = puissance_2(exposant)\n",
    "print(f'le résultat est : {resultat}')"
   ]
  },
  {
   "cell_type": "markdown",
   "metadata": {},
   "source": [
    "<div class=\"alert alert-success\">\n",
    "<img src=\"Images/warning.png\" alt=\"logo warn\" width=5% align=left>\n",
    " \n",
    "#### Variant de boucle\n",
    " \n",
    "Les variants de boucle sont un outil qui va permettre de montrer la terminaison d'algorithmes.\n",
    "\n",
    "**Définition**\n",
    "\n",
    "Un variant de boucle est une quantité entière définie en fonction des variables ($x_1$, . . . , $x_k$) constituant l’état de la machine, et de n, le nombre de passages effectués dans la boucle qui :\n",
    "\n",
    "1. est un entier strictement positif avant l'exécution de la boucle\n",
    "2. décroît strictement à chaque itération\n",
    "3. lorsqu'elle est inférieure à un certain nombre (en particulier lorsqu'elle arrête d'être strictement positive) rend la condition d'exécution de la boucle conditionnelle fausse\n",
    "<div>"
   ]
  },
  {
   "cell_type": "markdown",
   "metadata": {},
   "source": [
    "*Remarque* :\n",
    "\n",
    "Dans le cas d’une boucle for, nous avons dit que nous avions la certitude de terminaison : on peut toujours construire un variant simple. Si la boucle est donnée par la structure :\n",
    "    \n",
    "    for i in range(n) : Pour i ← 0 à n-1, un variant simple est (n-1)-i"
   ]
  },
  {
   "cell_type": "markdown",
   "metadata": {},
   "source": [
    "<div class=\"alert alert-warning\">\n",
    "<img src=\"Images/CR.png\" alt=\"logo CR\" width=5% align=right>\n",
    "\n",
    "Travail à faire\n",
    "\n",
    "1. Dans le programme précédent, quel est le variant de boucle ?\n",
    "2. Déterminer quel est le variant de boucle du script et de l'algorithme suivants :\n",
    "\n",
    "<div>"
   ]
  },
  {
   "cell_type": "code",
   "execution_count": null,
   "metadata": {},
   "outputs": [],
   "source": [
    "# script 1\n",
    "def Mystere(x,n) : # x et n sont des entiers positifs\n",
    "    res=1\n",
    "    while n>0 :\n",
    "        if n%2==1 :\n",
    "            res=res*x\n",
    "        n=n//2\n",
    "        x=x*x\n",
    "    return res"
   ]
  },
  {
   "cell_type": "raw",
   "metadata": {},
   "source": [
    "Algorithme 1 : multiplication de 2 nombres a et b en n’effectuant que des additions !\n",
    "\n",
    "Entrées : 2 nombres a et b\n",
    "Sortie : le résultat z\n",
    "Variables : a, b, x, y ∈ ℕ\n",
    "Début\n",
    "\ta ← valeur saisie par l’utilisateur\n",
    "\tx← b\n",
    "\ty ← 0\n",
    "\tTant que x > 0\n",
    "\t\ty ← y + a\n",
    "\t\tx ← x – 1\n",
    "\tFin tant que\n",
    "Fin"
   ]
  },
  {
   "cell_type": "markdown",
   "metadata": {},
   "source": [
    "<div class=\"alert alert-danger\" role=\"alert\">\n",
    "    \n",
    "1. exp est le variant de boucle\n",
    "2. La variable n est de type entier positif, sa valeur décroît strictement après chaque passage dans la boucle (n//2) est atteint 0 donc c'est un variant de boucle.\n",
    "3. x est décrémenté de 1 à chaque itération, il deviendra nécessairement nul au bout de b itérations.\n",
    "\n",
    "<div>"
   ]
  },
  {
   "cell_type": "markdown",
   "metadata": {},
   "source": [
    "### 3- Correction d'un algorithme : invariant de boucle"
   ]
  },
  {
   "cell_type": "markdown",
   "metadata": {},
   "source": [
    "<div class=\"alert alert-success\">\n",
    "<img src=\"Images/warning.png\" alt=\"logo warn\" width=5% align=left>\n",
    "    \n",
    "Les invariants de boucle sont un outil qui va permettre de montrer la correction partielle d'algorithmes.\n",
    "\n",
    "Définition (Invariant de boucle)\n",
    "\n",
    "On appelle invariant d’une boucle une propriété qui si elle est vraie avant l’exécution d’une itération le demeure après l’exécution de l’itération.\n",
    "\n",
    " Trouver l'invariant de boucle est une chose peu aisée, mais il faut ensuite démontrer qu'il est correct (une fois de plus l'étude d'un cas particulier ne vaut pas démonstration). La démonstration doit se faire en 3 étapes.\n",
    "\n",
    "**En mathématiques, on appelle cela une démonstration par récurrence**.\n",
    "\n",
    "<div>"
   ]
  },
  {
   "cell_type": "markdown",
   "metadata": {},
   "source": [
    "<div class=\"alert alert-warning\">\n",
    "<img src=\"Images/CR.png\" alt=\"logo CR\" width=5% align=right>\n",
    "\n",
    "Travail à faire\n",
    "\n",
    "1. Reprenons l'algorithme 1 ci-dessus et Faites le « tourner » sur un exemple (a = 13, b = 3) en complétant le tableau.\n",
    "2. Compléter le texte à trous\n",
    "\n",
    "Si l'invariant de boucle est la propriété P : y + a.x = a.b, les valeurs trouvées dans le tableau sont-elles correctes ? ....\n",
    "\n",
    "Démonstration :\n",
    "\n",
    "**Initialisation** : y = 0, x = b donc a.b = a.b ⇒ la propriété P(n) est vraie.\n",
    "\n",
    "**Hérédité** : Supposons que P(n) soit vraie et montrons que P(n + 1)  est vraie.\n",
    "\n",
    "Au prochain tour (n+1), on ajoutera a à y et on enlèvera 1 à x.\n",
    "\n",
    "(y+a) + a.(x-1) = a.b\n",
    "\n",
    "développer y + a + a.x - a = a.b\n",
    "\n",
    "simplifier y + a.x = a.b\n",
    "\n",
    "**Conclusion** : À l’initialisation, la propriété est vraie et on a montré que la propriété était conservée après une itération, en conclusion, en vertu du principe de raisonnement par récurrence, la propriété est vraie.\n",
    "\n",
    "<div>"
   ]
  },
  {
   "cell_type": "markdown",
   "metadata": {},
   "source": [
    "<div class=\"alert alert-danger\" role=\"alert\">\n",
    "    \n",
    "| **a** | 13   | 13   | 13   | 13   | 13   | 13   | 13   | 13   | 13   |\n",
    "| ----- | ---- | ---- | ---- | ---- | ---- | ---- | ---- | ---- | ---- |\n",
    "| **b** | 3    | 3    | 3    | 3    | 3    | 3    | 3    | 3    | 3    |\n",
    "| **x** | 3    | 2    | 1    | 0    |      |      |      |      |      |\n",
    "| **y** | 0    | 13   | 26   | 39   |      |      |      |      |      |\n",
    "\n",
    "<div>"
   ]
  },
  {
   "cell_type": "markdown",
   "metadata": {},
   "source": [
    "### 4- Complexité d'un algorithme : complexité temporelle"
   ]
  },
  {
   "cell_type": "markdown",
   "metadata": {},
   "source": [
    "Nous avons maintenant un algorithme qui produit le résultat demandé et qui se termine . . . mais quand ? Avant que les données traitées soient périmées au moins !"
   ]
  },
  {
   "cell_type": "markdown",
   "metadata": {},
   "source": [
    "<div class=\"alert alert-success\">\n",
    "<img src=\"Images/warning.png\" alt=\"logo warn\" width=5% align=left>\n",
    "    \n",
    "On va maintenant s’intéresser à la durée d’exécution du programme ou plus précisément à la manière dont la durée d’exécution augmente lorsque la taille des données augmente.\n",
    "\n",
    "Le temps exact d’exécution dépend de beaucoup de choses :\n",
    "- Du langage dans lequel l’algorithme est implémenté (compilé ou interprété) ;\n",
    "- Du matériel informatique (microprocesseur ...) ;\n",
    "- Du nombre de processus qui s’exécutent en même temps ;\n",
    "\n",
    "On va donc essayer de caractériser l’efficacité d’un algorithme indépendamment de son implémentation en\n",
    "comptant le nombre d’opérations élémentaires nécessaires à son exécution. On va donc éviter d’utiliser les\n",
    "fonctions built-in de python comme \"len\" ou \"max\" qui peuvent cacher un nombre important d’opérations.\n",
    "\n",
    "Analysons la complexité de la fonction ci-dessous :\n",
    "<div>"
   ]
  },
  {
   "cell_type": "code",
   "execution_count": null,
   "metadata": {},
   "outputs": [],
   "source": [
    "#%%time\n",
    "\n",
    "# -*- coding: utf-8 -*-\n",
    "\"\"\"\n",
    "Programme ne servant à rien\n",
    "son but est d'évaluer\n",
    "une complexité !\n",
    "\"\"\"\n",
    "def complexe1():\n",
    "    # n : nombre de valeurs\n",
    "    n = 10000\n",
    "    sp = 0\n",
    "\n",
    "    for i in range(n):\n",
    "       sp = sp + i\n",
    "    return sp\n",
    "\n",
    "V=complexe1()\n",
    "print('La valeur trouvée pour V = ',V)"
   ]
  },
  {
   "cell_type": "code",
   "execution_count": null,
   "metadata": {},
   "outputs": [],
   "source": [
    "%timeit complexe1() # Temps d'exécution de la fonction complexe1"
   ]
  },
  {
   "cell_type": "markdown",
   "metadata": {},
   "source": [
    "<div class=\"alert alert-danger\" role=\"alert\">\n",
    "    \n",
    "2 affectations (n, sp) --> 2\n",
    "\n",
    "pour l'itération (boucle for) on a n fois : --> 5.n\n",
    "    2 affectations (i et sp)\n",
    "    2 opérations (+ sur i : incrémentation et + sur sp)\n",
    "    1 comparaison de i avec n\n",
    "\n",
    "return --> 1\n",
    "\n",
    "Au total : T(n)=5n+3\n",
    "<div>"
   ]
  },
  {
   "cell_type": "markdown",
   "metadata": {},
   "source": [
    "Prenons un second exemple :"
   ]
  },
  {
   "cell_type": "code",
   "execution_count": null,
   "metadata": {},
   "outputs": [],
   "source": [
    "#%%time\n",
    "# -*- coding: utf-8 -*-\n",
    "\"\"\"\n",
    "Programme ne servant à rien\n",
    "son but est d'évaluer\n",
    "une complexité !\n",
    "\"\"\"\n",
    "\n",
    "def complexe2():\n",
    "    # n : nombre de valeurs\n",
    "    n = 10000\n",
    "    sp = 0\n",
    "\n",
    "    for i in range(n):\n",
    "        for j in range(n-1):\n",
    "            sp = sp + (i*j)\n",
    "    return sp\n",
    "\n",
    "V=complexe2()\n",
    "print('La valeur trouvée pour V = ',V)"
   ]
  },
  {
   "cell_type": "code",
   "execution_count": null,
   "metadata": {},
   "outputs": [],
   "source": [
    "%timeit complexe2() # Temps d'exécution de la fonction complexe2"
   ]
  },
  {
   "cell_type": "markdown",
   "metadata": {},
   "source": [
    "<div class=\"alert alert-danger\" role=\"alert\">\n",
    "   \n",
    "2 affectations --> 2\n",
    "\n",
    "2 boucles imbriquées :\n",
    "     au coeur des 2 boucles : \n",
    "         2 opérations (*, +)\n",
    "         1 affectation (=)\n",
    "    la boucle interne (indice j) est exécutée (n-1) fois\n",
    "    la boucle externe (indice i) est exécutée n fois\n",
    "    \n",
    "return --> 1\n",
    "\n",
    "T(n) = n x (n-1) x 3 + 3 = 3n<sup>2</sup> - 3n + 2\n",
    "<div>"
   ]
  },
  {
   "cell_type": "markdown",
   "metadata": {},
   "source": [
    "<div class=\"alert alert-danger\" role=\"alert\">\n",
    " \n",
    "Des exemples précédents, on comprend bien que donner un résultat précis va vite devenir impossible\n",
    "et inutile.\n",
    "\n",
    "Comment par exemple ne pas oublier une opération élémentaire dans un algorithme de quelques centaines de ligne ?\n",
    "\n",
    "D'autre part, que la complexité d'un algorithme soit égale à 5n+3 ou 3n+5 ne change pas fondamentalement sa performance.\n",
    "\n",
    "\n",
    "<div>"
   ]
  },
  {
   "cell_type": "markdown",
   "metadata": {},
   "source": [
    "<div class=\"alert alert-success\">\n",
    "<img src=\"Images/warning.png\" alt=\"logo warn\" width=5% align=left>\n",
    "    \n",
    "Si l'on considère une taille de donnée importante, seul le terme de plus grand ordre n pour le premier exemple et n<sup>2</sup> pour le second est réellement significatif, aussi on se limite  à dire que l’algorithme a un temps d’exécution qui croit de la même façon que n ou n<sup>2</sup> et on parle de complexité en temps de O(n) et O(n<sup>2</sup>).\n",
    "<div>"
   ]
  },
  {
   "cell_type": "markdown",
   "metadata": {},
   "source": [
    "|      Complexité       |  Appellation  | Ordre de grandeur en temps pour n=10<sup>6</sup> |                    Observation - Exemple                     |\n",
    "| :-------------------: | :-----------: | :----------------------------------------------: | :----------------------------------------------------------: |\n",
    "|         O(1)          |   Constante   |                       1 ns                       | Le temps ne dépend pas de la taille des données. Rechercher les 3 premiers d'une liste par exemple pour connaître le podium d'une compétition. |\n",
    "| O(log<sub>2</sub>(n)) | Logarithmique |                      10 ns                       |         **Recherche dichotomique dans une liste triée**         |\n",
    "|         O(n)          |   Linéaire    |                       1 ms                       |            **Recherche d'un extrémum (min, max ...)**            |\n",
    "|   O(n<sup>2</sup>)    |  Quadratique  |                      15 min                      |               **Tri par sélection et insertion**                |\n",
    "|   O(n<sup>k</sup>)    |  Polynomiale  |                   30 ans (k=3)                   |           Optimisation par programmation dynamique           |\n",
    "|   O(2<sup>n</sup>)    | Exponentielle |     > 10<sup>300000</sup> milliards d'années     | Inutilisable à l'exception de très petite taille de données  |"
   ]
  },
  {
   "cell_type": "code",
   "execution_count": null,
   "metadata": {},
   "outputs": [],
   "source": [
    "from matplotlib.pylab import plot, arange, cos, sin, log2\n",
    "\n",
    "\"\"\"\n",
    "Commentez l'affichage des graphes\n",
    "en particulier pour Y4\n",
    "\"\"\"\n",
    "X = arange(1,10,0.01)\n",
    "Y1, Y2 , Y3, Y4 = X, X**2, log2(X), 2**X, \n",
    "plot(X,Y1,label=\"x\")\n",
    "plot(X,Y2,label=\"x^2\")\n",
    "plot(X,Y3,label=\"log2(x)\")\n",
    "plot(X,Y4,label=\"2^x\")\n",
    "plt.legend()"
   ]
  },
  {
   "cell_type": "markdown",
   "metadata": {},
   "source": [
    "<div class=\"alert alert-warning\">\n",
    "<img src=\"Images/CR.png\" alt=\"logo CR\" width=5% align=right>\n",
    "\n",
    "Travail à faire\n",
    "\n",
    "Déterminer la complexité des scripts python suivants :\n",
    "<div>"
   ]
  },
  {
   "cell_type": "code",
   "execution_count": null,
   "metadata": {},
   "outputs": [],
   "source": [
    "# script 1\n",
    "n = 100\n",
    "p = 0\n",
    "for i in range(n):\n",
    "    s = s + 3\n",
    "for j in range(n):\n",
    "    s = s + 3"
   ]
  },
  {
   "cell_type": "markdown",
   "metadata": {},
   "source": [
    "<div class=\"alert alert-danger\" role=\"alert\">\n",
    " O(n)\n",
    "<div>"
   ]
  },
  {
   "cell_type": "code",
   "execution_count": null,
   "metadata": {},
   "outputs": [],
   "source": [
    "# script 2\n",
    "n = 20\n",
    "s = 0\n",
    "for i in range(n):\n",
    "    for j in range(i,n):\n",
    "        s = s + j**2"
   ]
  },
  {
   "cell_type": "markdown",
   "metadata": {},
   "source": [
    "<div class=\"alert alert-danger\" role=\"alert\">\n",
    "O(n<sup>2</sup>)\n",
    "<div>"
   ]
  }
 ],
 "metadata": {
  "kernelspec": {
   "display_name": "Python 3",
   "language": "python",
   "name": "python3"
  },
  "language_info": {
   "codemirror_mode": {
    "name": "ipython",
    "version": 3
   },
   "file_extension": ".py",
   "mimetype": "text/x-python",
   "name": "python",
   "nbconvert_exporter": "python",
   "pygments_lexer": "ipython3",
   "version": "3.7.3"
  },
  "varInspector": {
   "cols": {
    "lenName": 16,
    "lenType": 16,
    "lenVar": 40
   },
   "kernels_config": {
    "python": {
     "delete_cmd_postfix": "",
     "delete_cmd_prefix": "del ",
     "library": "var_list.py",
     "varRefreshCmd": "print(var_dic_list())"
    },
    "r": {
     "delete_cmd_postfix": ") ",
     "delete_cmd_prefix": "rm(",
     "library": "var_list.r",
     "varRefreshCmd": "cat(var_dic_list()) "
    }
   },
   "types_to_exclude": [
    "module",
    "function",
    "builtin_function_or_method",
    "instance",
    "_Feature"
   ],
   "window_display": false
  }
 },
 "nbformat": 4,
 "nbformat_minor": 2
}
